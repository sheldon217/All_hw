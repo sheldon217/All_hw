{
 "cells": [
  {
   "cell_type": "code",
   "execution_count": 42,
   "metadata": {},
   "outputs": [],
   "source": [
    "import numpy as np\n",
    "import pandas as pd\n",
    "from pathlib import Path\n",
    "%matplotlib inline\n",
    "import hvplot.pandas as hv\n",
    "import matplotlib.pyplot as plt\n",
    "import panel as pn\n",
    "from sklearn.linear_model import LinearRegression\n",
    "from sklearn.metrics import mean_squared_error\n",
    "import statsmodels.api as sm\n",
    "from statsmodels.tsa.arima_model import ARMA\n",
    "from statsmodels.tsa.arima_model import ARIMA\n",
    "from arch import arch_model"
   ]
  },
  {
   "cell_type": "markdown",
   "metadata": {},
   "source": [
    "# Regression Analysis: Seasonal Effects with Sklearn Linear Regression¶"
   ]
  },
  {
   "cell_type": "code",
   "execution_count": 3,
   "metadata": {},
   "outputs": [
    {
     "data": {
      "text/html": [
       "<div>\n",
       "<style scoped>\n",
       "    .dataframe tbody tr th:only-of-type {\n",
       "        vertical-align: middle;\n",
       "    }\n",
       "\n",
       "    .dataframe tbody tr th {\n",
       "        vertical-align: top;\n",
       "    }\n",
       "\n",
       "    .dataframe thead th {\n",
       "        text-align: right;\n",
       "    }\n",
       "</style>\n",
       "<table border=\"1\" class=\"dataframe\">\n",
       "  <thead>\n",
       "    <tr style=\"text-align: right;\">\n",
       "      <th></th>\n",
       "      <th>Open</th>\n",
       "      <th>High</th>\n",
       "      <th>Low</th>\n",
       "      <th>Last</th>\n",
       "      <th>Change</th>\n",
       "      <th>Settle</th>\n",
       "      <th>Volume</th>\n",
       "      <th>Previous Day Open Interest</th>\n",
       "    </tr>\n",
       "    <tr>\n",
       "      <th>Date</th>\n",
       "      <th></th>\n",
       "      <th></th>\n",
       "      <th></th>\n",
       "      <th></th>\n",
       "      <th></th>\n",
       "      <th></th>\n",
       "      <th></th>\n",
       "      <th></th>\n",
       "    </tr>\n",
       "  </thead>\n",
       "  <tbody>\n",
       "    <tr>\n",
       "      <th>1976-08-02</th>\n",
       "      <td>3398.0</td>\n",
       "      <td>3401.0</td>\n",
       "      <td>3398.0</td>\n",
       "      <td>3401.0</td>\n",
       "      <td>NaN</td>\n",
       "      <td>3401.0</td>\n",
       "      <td>2.0</td>\n",
       "      <td>1.0</td>\n",
       "    </tr>\n",
       "    <tr>\n",
       "      <th>1976-08-03</th>\n",
       "      <td>3401.0</td>\n",
       "      <td>3401.0</td>\n",
       "      <td>3401.0</td>\n",
       "      <td>3401.0</td>\n",
       "      <td>NaN</td>\n",
       "      <td>3401.0</td>\n",
       "      <td>0.0</td>\n",
       "      <td>1.0</td>\n",
       "    </tr>\n",
       "    <tr>\n",
       "      <th>1976-08-04</th>\n",
       "      <td>3401.0</td>\n",
       "      <td>3401.0</td>\n",
       "      <td>3401.0</td>\n",
       "      <td>3401.0</td>\n",
       "      <td>NaN</td>\n",
       "      <td>3401.0</td>\n",
       "      <td>0.0</td>\n",
       "      <td>1.0</td>\n",
       "    </tr>\n",
       "    <tr>\n",
       "      <th>1976-08-05</th>\n",
       "      <td>3401.0</td>\n",
       "      <td>3401.0</td>\n",
       "      <td>3401.0</td>\n",
       "      <td>3401.0</td>\n",
       "      <td>NaN</td>\n",
       "      <td>3401.0</td>\n",
       "      <td>0.0</td>\n",
       "      <td>1.0</td>\n",
       "    </tr>\n",
       "    <tr>\n",
       "      <th>1976-08-06</th>\n",
       "      <td>3401.0</td>\n",
       "      <td>3401.0</td>\n",
       "      <td>3401.0</td>\n",
       "      <td>3401.0</td>\n",
       "      <td>NaN</td>\n",
       "      <td>3401.0</td>\n",
       "      <td>0.0</td>\n",
       "      <td>1.0</td>\n",
       "    </tr>\n",
       "  </tbody>\n",
       "</table>\n",
       "</div>"
      ],
      "text/plain": [
       "              Open    High     Low    Last  Change  Settle  Volume  \\\n",
       "Date                                                                 \n",
       "1976-08-02  3398.0  3401.0  3398.0  3401.0     NaN  3401.0     2.0   \n",
       "1976-08-03  3401.0  3401.0  3401.0  3401.0     NaN  3401.0     0.0   \n",
       "1976-08-04  3401.0  3401.0  3401.0  3401.0     NaN  3401.0     0.0   \n",
       "1976-08-05  3401.0  3401.0  3401.0  3401.0     NaN  3401.0     0.0   \n",
       "1976-08-06  3401.0  3401.0  3401.0  3401.0     NaN  3401.0     0.0   \n",
       "\n",
       "            Previous Day Open Interest  \n",
       "Date                                    \n",
       "1976-08-02                         1.0  \n",
       "1976-08-03                         1.0  \n",
       "1976-08-04                         1.0  \n",
       "1976-08-05                         1.0  \n",
       "1976-08-06                         1.0  "
      ]
     },
     "execution_count": 3,
     "metadata": {},
     "output_type": "execute_result"
    }
   ],
   "source": [
    "yen_futures = pd.read_csv(\n",
    "    Path(\"yen.csv\"), index_col=\"Date\", infer_datetime_format=True, parse_dates=True\n",
    ")\n",
    "yen_futures.head()"
   ]
  },
  {
   "cell_type": "markdown",
   "metadata": {},
   "source": [
    "### --------Trim the dataset to begin on January 1st, 1990-----"
   ]
  },
  {
   "cell_type": "code",
   "execution_count": 4,
   "metadata": {},
   "outputs": [
    {
     "data": {
      "text/html": [
       "<div>\n",
       "<style scoped>\n",
       "    .dataframe tbody tr th:only-of-type {\n",
       "        vertical-align: middle;\n",
       "    }\n",
       "\n",
       "    .dataframe tbody tr th {\n",
       "        vertical-align: top;\n",
       "    }\n",
       "\n",
       "    .dataframe thead th {\n",
       "        text-align: right;\n",
       "    }\n",
       "</style>\n",
       "<table border=\"1\" class=\"dataframe\">\n",
       "  <thead>\n",
       "    <tr style=\"text-align: right;\">\n",
       "      <th></th>\n",
       "      <th>Open</th>\n",
       "      <th>High</th>\n",
       "      <th>Low</th>\n",
       "      <th>Last</th>\n",
       "      <th>Change</th>\n",
       "      <th>Settle</th>\n",
       "      <th>Volume</th>\n",
       "      <th>Previous Day Open Interest</th>\n",
       "    </tr>\n",
       "    <tr>\n",
       "      <th>Date</th>\n",
       "      <th></th>\n",
       "      <th></th>\n",
       "      <th></th>\n",
       "      <th></th>\n",
       "      <th></th>\n",
       "      <th></th>\n",
       "      <th></th>\n",
       "      <th></th>\n",
       "    </tr>\n",
       "  </thead>\n",
       "  <tbody>\n",
       "    <tr>\n",
       "      <th>1990-01-02</th>\n",
       "      <td>6954.0</td>\n",
       "      <td>6954.0</td>\n",
       "      <td>6835.0</td>\n",
       "      <td>6847.0</td>\n",
       "      <td>NaN</td>\n",
       "      <td>6847.0</td>\n",
       "      <td>48336.0</td>\n",
       "      <td>51473.0</td>\n",
       "    </tr>\n",
       "    <tr>\n",
       "      <th>1990-01-03</th>\n",
       "      <td>6877.0</td>\n",
       "      <td>6910.0</td>\n",
       "      <td>6865.0</td>\n",
       "      <td>6887.0</td>\n",
       "      <td>NaN</td>\n",
       "      <td>6887.0</td>\n",
       "      <td>38206.0</td>\n",
       "      <td>53860.0</td>\n",
       "    </tr>\n",
       "    <tr>\n",
       "      <th>1990-01-04</th>\n",
       "      <td>6937.0</td>\n",
       "      <td>7030.0</td>\n",
       "      <td>6924.0</td>\n",
       "      <td>7008.0</td>\n",
       "      <td>NaN</td>\n",
       "      <td>7008.0</td>\n",
       "      <td>49649.0</td>\n",
       "      <td>55699.0</td>\n",
       "    </tr>\n",
       "    <tr>\n",
       "      <th>1990-01-05</th>\n",
       "      <td>6952.0</td>\n",
       "      <td>6985.0</td>\n",
       "      <td>6942.0</td>\n",
       "      <td>6950.0</td>\n",
       "      <td>NaN</td>\n",
       "      <td>6950.0</td>\n",
       "      <td>29944.0</td>\n",
       "      <td>53111.0</td>\n",
       "    </tr>\n",
       "    <tr>\n",
       "      <th>1990-01-08</th>\n",
       "      <td>6936.0</td>\n",
       "      <td>6972.0</td>\n",
       "      <td>6936.0</td>\n",
       "      <td>6959.0</td>\n",
       "      <td>NaN</td>\n",
       "      <td>6959.0</td>\n",
       "      <td>19763.0</td>\n",
       "      <td>52072.0</td>\n",
       "    </tr>\n",
       "  </tbody>\n",
       "</table>\n",
       "</div>"
      ],
      "text/plain": [
       "              Open    High     Low    Last  Change  Settle   Volume  \\\n",
       "Date                                                                  \n",
       "1990-01-02  6954.0  6954.0  6835.0  6847.0     NaN  6847.0  48336.0   \n",
       "1990-01-03  6877.0  6910.0  6865.0  6887.0     NaN  6887.0  38206.0   \n",
       "1990-01-04  6937.0  7030.0  6924.0  7008.0     NaN  7008.0  49649.0   \n",
       "1990-01-05  6952.0  6985.0  6942.0  6950.0     NaN  6950.0  29944.0   \n",
       "1990-01-08  6936.0  6972.0  6936.0  6959.0     NaN  6959.0  19763.0   \n",
       "\n",
       "            Previous Day Open Interest  \n",
       "Date                                    \n",
       "1990-01-02                     51473.0  \n",
       "1990-01-03                     53860.0  \n",
       "1990-01-04                     55699.0  \n",
       "1990-01-05                     53111.0  \n",
       "1990-01-08                     52072.0  "
      ]
     },
     "execution_count": 4,
     "metadata": {},
     "output_type": "execute_result"
    }
   ],
   "source": [
    "yen_futures = yen_futures.loc[\"1990-01-01\":, :]\n",
    "yen_futures.head()"
   ]
  },
  {
   "cell_type": "markdown",
   "metadata": {},
   "source": [
    "### ---------Create a series using \"Settle\" price percentage returns----------"
   ]
  },
  {
   "cell_type": "code",
   "execution_count": 5,
   "metadata": {},
   "outputs": [
    {
     "data": {
      "text/plain": [
       "Date\n",
       "1990-01-03    0.584197\n",
       "1990-01-04    1.756933\n",
       "1990-01-05   -0.827626\n",
       "1990-01-08    0.129496\n",
       "1990-01-09   -0.632275\n",
       "Name: Settle, dtype: float64"
      ]
     },
     "execution_count": 5,
     "metadata": {},
     "output_type": "execute_result"
    }
   ],
   "source": [
    "settle_price = (yen_futures[\"Settle\"].pct_change()*100)\n",
    "settle_price = settle_price.dropna()\n",
    "settle_price.head()"
   ]
  },
  {
   "cell_type": "markdown",
   "metadata": {},
   "source": [
    "### ----------Create a lagged return-------------"
   ]
  },
  {
   "cell_type": "code",
   "execution_count": 6,
   "metadata": {},
   "outputs": [
    {
     "data": {
      "text/html": [
       "<div>\n",
       "<style scoped>\n",
       "    .dataframe tbody tr th:only-of-type {\n",
       "        vertical-align: middle;\n",
       "    }\n",
       "\n",
       "    .dataframe tbody tr th {\n",
       "        vertical-align: top;\n",
       "    }\n",
       "\n",
       "    .dataframe thead th {\n",
       "        text-align: right;\n",
       "    }\n",
       "</style>\n",
       "<table border=\"1\" class=\"dataframe\">\n",
       "  <thead>\n",
       "    <tr style=\"text-align: right;\">\n",
       "      <th></th>\n",
       "      <th>Open</th>\n",
       "      <th>High</th>\n",
       "      <th>Low</th>\n",
       "      <th>Last</th>\n",
       "      <th>Change</th>\n",
       "      <th>Settle</th>\n",
       "      <th>Volume</th>\n",
       "      <th>Previous Day Open Interest</th>\n",
       "      <th>Return</th>\n",
       "      <th>Lag</th>\n",
       "    </tr>\n",
       "    <tr>\n",
       "      <th>Date</th>\n",
       "      <th></th>\n",
       "      <th></th>\n",
       "      <th></th>\n",
       "      <th></th>\n",
       "      <th></th>\n",
       "      <th></th>\n",
       "      <th></th>\n",
       "      <th></th>\n",
       "      <th></th>\n",
       "      <th></th>\n",
       "    </tr>\n",
       "  </thead>\n",
       "  <tbody>\n",
       "    <tr>\n",
       "      <th>2014-02-18</th>\n",
       "      <td>9831.0</td>\n",
       "      <td>9865.0</td>\n",
       "      <td>9734.0</td>\n",
       "      <td>9775.0</td>\n",
       "      <td>42.0</td>\n",
       "      <td>9775.0</td>\n",
       "      <td>203495.0</td>\n",
       "      <td>196924.0</td>\n",
       "      <td>-0.427829</td>\n",
       "      <td>0.409123</td>\n",
       "    </tr>\n",
       "    <tr>\n",
       "      <th>2014-02-19</th>\n",
       "      <td>9768.0</td>\n",
       "      <td>9825.0</td>\n",
       "      <td>9760.0</td>\n",
       "      <td>9773.0</td>\n",
       "      <td>2.0</td>\n",
       "      <td>9773.0</td>\n",
       "      <td>129508.0</td>\n",
       "      <td>197197.0</td>\n",
       "      <td>-0.020460</td>\n",
       "      <td>-0.427829</td>\n",
       "    </tr>\n",
       "    <tr>\n",
       "      <th>2014-02-20</th>\n",
       "      <td>9774.0</td>\n",
       "      <td>9837.0</td>\n",
       "      <td>9765.0</td>\n",
       "      <td>9775.0</td>\n",
       "      <td>2.0</td>\n",
       "      <td>9775.0</td>\n",
       "      <td>160202.0</td>\n",
       "      <td>198280.0</td>\n",
       "      <td>0.020465</td>\n",
       "      <td>-0.020460</td>\n",
       "    </tr>\n",
       "    <tr>\n",
       "      <th>2014-02-21</th>\n",
       "      <td>9772.0</td>\n",
       "      <td>9776.0</td>\n",
       "      <td>9725.0</td>\n",
       "      <td>9758.0</td>\n",
       "      <td>20.0</td>\n",
       "      <td>9755.0</td>\n",
       "      <td>103091.0</td>\n",
       "      <td>202990.0</td>\n",
       "      <td>-0.204604</td>\n",
       "      <td>0.020465</td>\n",
       "    </tr>\n",
       "    <tr>\n",
       "      <th>2014-02-24</th>\n",
       "      <td>9752.0</td>\n",
       "      <td>9789.0</td>\n",
       "      <td>9740.0</td>\n",
       "      <td>9757.0</td>\n",
       "      <td>2.0</td>\n",
       "      <td>9757.0</td>\n",
       "      <td>90654.0</td>\n",
       "      <td>203114.0</td>\n",
       "      <td>0.020502</td>\n",
       "      <td>-0.204604</td>\n",
       "    </tr>\n",
       "  </tbody>\n",
       "</table>\n",
       "</div>"
      ],
      "text/plain": [
       "              Open    High     Low    Last  Change  Settle    Volume  \\\n",
       "Date                                                                   \n",
       "2014-02-18  9831.0  9865.0  9734.0  9775.0    42.0  9775.0  203495.0   \n",
       "2014-02-19  9768.0  9825.0  9760.0  9773.0     2.0  9773.0  129508.0   \n",
       "2014-02-20  9774.0  9837.0  9765.0  9775.0     2.0  9775.0  160202.0   \n",
       "2014-02-21  9772.0  9776.0  9725.0  9758.0    20.0  9755.0  103091.0   \n",
       "2014-02-24  9752.0  9789.0  9740.0  9757.0     2.0  9757.0   90654.0   \n",
       "\n",
       "            Previous Day Open Interest    Return       Lag  \n",
       "Date                                                        \n",
       "2014-02-18                    196924.0 -0.427829  0.409123  \n",
       "2014-02-19                    197197.0 -0.020460 -0.427829  \n",
       "2014-02-20                    198280.0  0.020465 -0.020460  \n",
       "2014-02-21                    202990.0 -0.204604  0.020465  \n",
       "2014-02-24                    203114.0  0.020502 -0.204604  "
      ]
     },
     "execution_count": 6,
     "metadata": {},
     "output_type": "execute_result"
    }
   ],
   "source": [
    "yen_futures[\"Return\"] = (yen_futures[\"Settle\"].pct_change()*100)\n",
    "yen_futures[\"Lag\"] = yen_futures[\"Return\"].shift() \n",
    "yen_futures = yen_futures.dropna()\n",
    "yen_futures.head()"
   ]
  },
  {
   "cell_type": "markdown",
   "metadata": {},
   "source": [
    "### ------------Create a train/test split--------------"
   ]
  },
  {
   "cell_type": "code",
   "execution_count": 7,
   "metadata": {},
   "outputs": [
    {
     "data": {
      "text/html": [
       "<div>\n",
       "<style scoped>\n",
       "    .dataframe tbody tr th:only-of-type {\n",
       "        vertical-align: middle;\n",
       "    }\n",
       "\n",
       "    .dataframe tbody tr th {\n",
       "        vertical-align: top;\n",
       "    }\n",
       "\n",
       "    .dataframe thead th {\n",
       "        text-align: right;\n",
       "    }\n",
       "</style>\n",
       "<table border=\"1\" class=\"dataframe\">\n",
       "  <thead>\n",
       "    <tr style=\"text-align: right;\">\n",
       "      <th></th>\n",
       "      <th>Open</th>\n",
       "      <th>High</th>\n",
       "      <th>Low</th>\n",
       "      <th>Last</th>\n",
       "      <th>Change</th>\n",
       "      <th>Settle</th>\n",
       "      <th>Volume</th>\n",
       "      <th>Previous Day Open Interest</th>\n",
       "      <th>Return</th>\n",
       "      <th>Lag</th>\n",
       "    </tr>\n",
       "    <tr>\n",
       "      <th>Date</th>\n",
       "      <th></th>\n",
       "      <th></th>\n",
       "      <th></th>\n",
       "      <th></th>\n",
       "      <th></th>\n",
       "      <th></th>\n",
       "      <th></th>\n",
       "      <th></th>\n",
       "      <th></th>\n",
       "      <th></th>\n",
       "    </tr>\n",
       "  </thead>\n",
       "  <tbody>\n",
       "    <tr>\n",
       "      <th>2018-01-02</th>\n",
       "      <td>8909.5</td>\n",
       "      <td>8957.5</td>\n",
       "      <td>8898.5</td>\n",
       "      <td>8938.0</td>\n",
       "      <td>26.5</td>\n",
       "      <td>8940.5</td>\n",
       "      <td>96714.0</td>\n",
       "      <td>227884.0</td>\n",
       "      <td>0.297285</td>\n",
       "      <td>0.224871</td>\n",
       "    </tr>\n",
       "    <tr>\n",
       "      <th>2018-01-03</th>\n",
       "      <td>8943.0</td>\n",
       "      <td>8947.5</td>\n",
       "      <td>8913.0</td>\n",
       "      <td>8921.0</td>\n",
       "      <td>21.5</td>\n",
       "      <td>8919.0</td>\n",
       "      <td>93498.0</td>\n",
       "      <td>226582.0</td>\n",
       "      <td>-0.240479</td>\n",
       "      <td>0.297285</td>\n",
       "    </tr>\n",
       "    <tr>\n",
       "      <th>2018-01-04</th>\n",
       "      <td>8917.0</td>\n",
       "      <td>8920.5</td>\n",
       "      <td>8891.0</td>\n",
       "      <td>8901.0</td>\n",
       "      <td>19.0</td>\n",
       "      <td>8900.0</td>\n",
       "      <td>115434.0</td>\n",
       "      <td>224918.0</td>\n",
       "      <td>-0.213028</td>\n",
       "      <td>-0.240479</td>\n",
       "    </tr>\n",
       "    <tr>\n",
       "      <th>2018-01-05</th>\n",
       "      <td>8897.0</td>\n",
       "      <td>8902.0</td>\n",
       "      <td>8854.0</td>\n",
       "      <td>8878.0</td>\n",
       "      <td>31.5</td>\n",
       "      <td>8868.5</td>\n",
       "      <td>133023.0</td>\n",
       "      <td>229326.0</td>\n",
       "      <td>-0.353933</td>\n",
       "      <td>-0.213028</td>\n",
       "    </tr>\n",
       "    <tr>\n",
       "      <th>2018-01-08</th>\n",
       "      <td>8870.5</td>\n",
       "      <td>8889.0</td>\n",
       "      <td>8849.5</td>\n",
       "      <td>8872.5</td>\n",
       "      <td>5.5</td>\n",
       "      <td>8874.0</td>\n",
       "      <td>81647.0</td>\n",
       "      <td>237100.0</td>\n",
       "      <td>0.062017</td>\n",
       "      <td>-0.353933</td>\n",
       "    </tr>\n",
       "  </tbody>\n",
       "</table>\n",
       "</div>"
      ],
      "text/plain": [
       "              Open    High     Low    Last  Change  Settle    Volume  \\\n",
       "Date                                                                   \n",
       "2018-01-02  8909.5  8957.5  8898.5  8938.0    26.5  8940.5   96714.0   \n",
       "2018-01-03  8943.0  8947.5  8913.0  8921.0    21.5  8919.0   93498.0   \n",
       "2018-01-04  8917.0  8920.5  8891.0  8901.0    19.0  8900.0  115434.0   \n",
       "2018-01-05  8897.0  8902.0  8854.0  8878.0    31.5  8868.5  133023.0   \n",
       "2018-01-08  8870.5  8889.0  8849.5  8872.5     5.5  8874.0   81647.0   \n",
       "\n",
       "            Previous Day Open Interest    Return       Lag  \n",
       "Date                                                        \n",
       "2018-01-02                    227884.0  0.297285  0.224871  \n",
       "2018-01-03                    226582.0 -0.240479  0.297285  \n",
       "2018-01-04                    224918.0 -0.213028 -0.240479  \n",
       "2018-01-05                    229326.0 -0.353933 -0.213028  \n",
       "2018-01-08                    237100.0  0.062017 -0.353933  "
      ]
     },
     "execution_count": 7,
     "metadata": {},
     "output_type": "execute_result"
    }
   ],
   "source": [
    "train = yen_futures[:'2017']\n",
    "test = yen_futures['2018':]\n",
    "test.head()"
   ]
  },
  {
   "cell_type": "code",
   "execution_count": 8,
   "metadata": {},
   "outputs": [],
   "source": [
    "X_train = train[\"Lag\"].to_frame()\n",
    "X_test = test[\"Lag\"].to_frame()\n",
    "y_train = train[\"Return\"].to_frame()\n",
    "y_test = test[\"Return\"]"
   ]
  },
  {
   "cell_type": "markdown",
   "metadata": {},
   "source": [
    "# Linear Regression Model"
   ]
  },
  {
   "cell_type": "markdown",
   "metadata": {},
   "source": [
    "### -----------Create a Linear Regression model and fit it to the training data-----------"
   ]
  },
  {
   "cell_type": "code",
   "execution_count": 9,
   "metadata": {},
   "outputs": [
    {
     "data": {
      "text/plain": [
       "LinearRegression(copy_X=True, fit_intercept=True, n_jobs=None, normalize=False)"
      ]
     },
     "execution_count": 9,
     "metadata": {},
     "output_type": "execute_result"
    }
   ],
   "source": [
    "model_regression = LinearRegression()\n",
    "model_regression.fit(X_train, y_train)"
   ]
  },
  {
   "cell_type": "markdown",
   "metadata": {},
   "source": [
    "### -------------Make predictions using the Testing Data----------"
   ]
  },
  {
   "cell_type": "markdown",
   "metadata": {},
   "source": [
    "* Make a prediction of \"y\" values using just the test dataset"
   ]
  },
  {
   "cell_type": "code",
   "execution_count": 10,
   "metadata": {},
   "outputs": [],
   "source": [
    "y_predictions = model_regression.predict(X_test)"
   ]
  },
  {
   "cell_type": "markdown",
   "metadata": {},
   "source": [
    "* Assemble actual y data"
   ]
  },
  {
   "cell_type": "code",
   "execution_count": 11,
   "metadata": {},
   "outputs": [
    {
     "data": {
      "text/html": [
       "<div>\n",
       "<style scoped>\n",
       "    .dataframe tbody tr th:only-of-type {\n",
       "        vertical-align: middle;\n",
       "    }\n",
       "\n",
       "    .dataframe tbody tr th {\n",
       "        vertical-align: top;\n",
       "    }\n",
       "\n",
       "    .dataframe thead th {\n",
       "        text-align: right;\n",
       "    }\n",
       "</style>\n",
       "<table border=\"1\" class=\"dataframe\">\n",
       "  <thead>\n",
       "    <tr style=\"text-align: right;\">\n",
       "      <th></th>\n",
       "      <th>Return</th>\n",
       "      <th>Prediction</th>\n",
       "    </tr>\n",
       "    <tr>\n",
       "      <th>Date</th>\n",
       "      <th></th>\n",
       "      <th></th>\n",
       "    </tr>\n",
       "  </thead>\n",
       "  <tbody>\n",
       "    <tr>\n",
       "      <th>2018-01-02</th>\n",
       "      <td>0.297285</td>\n",
       "      <td>-0.009599</td>\n",
       "    </tr>\n",
       "    <tr>\n",
       "      <th>2018-01-03</th>\n",
       "      <td>-0.240479</td>\n",
       "      <td>-0.010033</td>\n",
       "    </tr>\n",
       "    <tr>\n",
       "      <th>2018-01-04</th>\n",
       "      <td>-0.213028</td>\n",
       "      <td>-0.006807</td>\n",
       "    </tr>\n",
       "    <tr>\n",
       "      <th>2018-01-05</th>\n",
       "      <td>-0.353933</td>\n",
       "      <td>-0.006971</td>\n",
       "    </tr>\n",
       "    <tr>\n",
       "      <th>2018-01-08</th>\n",
       "      <td>0.062017</td>\n",
       "      <td>-0.006126</td>\n",
       "    </tr>\n",
       "  </tbody>\n",
       "</table>\n",
       "</div>"
      ],
      "text/plain": [
       "              Return  Prediction\n",
       "Date                            \n",
       "2018-01-02  0.297285   -0.009599\n",
       "2018-01-03 -0.240479   -0.010033\n",
       "2018-01-04 -0.213028   -0.006807\n",
       "2018-01-05 -0.353933   -0.006971\n",
       "2018-01-08  0.062017   -0.006126"
      ]
     },
     "execution_count": 11,
     "metadata": {},
     "output_type": "execute_result"
    }
   ],
   "source": [
    "predictions = y_test.to_frame()\n",
    "predictions[\"Prediction\"]=y_predictions\n",
    "predictions.head()"
   ]
  },
  {
   "cell_type": "markdown",
   "metadata": {},
   "source": [
    "* Plot the first 20 predictions vs the true values"
   ]
  },
  {
   "cell_type": "code",
   "execution_count": 12,
   "metadata": {},
   "outputs": [
    {
     "data": {},
     "metadata": {},
     "output_type": "display_data"
    },
    {
     "data": {},
     "metadata": {},
     "output_type": "display_data"
    },
    {
     "data": {
      "application/vnd.holoviews_exec.v0+json": "",
      "text/html": [
       "<div id='1001'>\n",
       "\n",
       "\n",
       "\n",
       "\n",
       "\n",
       "  <div class=\"bk-root\" id=\"3e6636ae-1d85-4317-ad9e-747b899a34ec\" data-root-id=\"1001\"></div>\n",
       "</div>\n",
       "<script type=\"application/javascript\">\n",
       "    function msg_handler(msg) {\n",
       "      var metadata = msg.metadata;\n",
       "      var buffers = msg.buffers;\n",
       "      var msg = msg.content.data;\n",
       "      if ((metadata.msg_type == \"Ready\")) {\n",
       "        if (metadata.content) {\n",
       "          console.log(\"Python callback returned following output:\", metadata.content);\n",
       "        }\n",
       "      } else if (metadata.msg_type == \"Error\") {\n",
       "        console.log(\"Python failed with the following traceback:\", metadata.traceback)\n",
       "      } else {\n",
       "        \n",
       "var plot_id = \"1001\";\n",
       "\n",
       "if ((plot_id in window.PyViz.plot_index) && (window.PyViz.plot_index[plot_id] != null)) {\n",
       "  var plot = window.PyViz.plot_index[plot_id];\n",
       "} else if ((Bokeh !== undefined) && (plot_id in Bokeh.index)) {\n",
       "  var plot = Bokeh.index[plot_id];\n",
       "}\n",
       "\n",
       "if (plot == null) {\n",
       "  return\n",
       "}\n",
       "\n",
       "if (plot_id in window.PyViz.receivers) {\n",
       "  var receiver = window.PyViz.receivers[plot_id];\n",
       "} else {\n",
       "  var receiver = new Bokeh.protocol.Receiver();\n",
       "  window.PyViz.receivers[plot_id] = receiver;\n",
       "}\n",
       "\n",
       "if ((buffers != undefined) && (buffers.length > 0)) {\n",
       "  receiver.consume(buffers[0].buffer)\n",
       "} else {\n",
       "  receiver.consume(msg)\n",
       "}\n",
       "\n",
       "const comm_msg = receiver.message;\n",
       "if ((comm_msg != null) && (Object.keys(comm_msg.content).length > 0)) {\n",
       "  plot.model.document.apply_json_patch(comm_msg.content, comm_msg.buffers)\n",
       "}\n",
       "\n",
       "      }\n",
       "    }\n",
       "    if ((window.PyViz == undefined) || (!window.PyViz.comm_manager)) {\n",
       "      console.log(\"Could not find comm manager\")\n",
       "    } else {\n",
       "      window.PyViz.comm_manager.register_target('1001', 'd64dcfdc93bc42a69193deccd5119a27', msg_handler);\n",
       "    }\n",
       "    \n",
       "(function(root) {\n",
       "  function embed_document(root) {\n",
       "  var docs_json = {\"f8ef95f5-c37e-48bf-96d6-476130b160e9\":{\"roots\":{\"references\":[{\"attributes\":{\"source\":{\"id\":\"1037\",\"type\":\"ColumnDataSource\"}},\"id\":\"1044\",\"type\":\"CDSView\"},{\"attributes\":{\"line_alpha\":0.2,\"line_color\":\"#1f77b3\",\"line_width\":2,\"x\":{\"field\":\"Date\"},\"y\":{\"field\":\"Prediction\"}},\"id\":\"1108\",\"type\":\"Line\"},{\"attributes\":{},\"id\":\"1134\",\"type\":\"UnionRenderers\"},{\"attributes\":{\"callback\":null,\"end\":-0.0027267519166604814,\"reset_end\":-0.0027267519166604814,\"reset_start\":-0.016356404425126717,\"start\":-0.016356404425126717,\"tags\":[[[\"Prediction\",\"Prediction\",null]]]},\"id\":\"1070\",\"type\":\"Range1d\"},{\"attributes\":{\"axis_label\":\"Date\",\"axis_label_text_font_size\":{\"value\":\"10pt\"},\"bounds\":\"auto\",\"formatter\":{\"id\":\"1046\",\"type\":\"DatetimeTickFormatter\"},\"major_label_orientation\":\"horizontal\",\"ticker\":{\"id\":\"1016\",\"type\":\"DatetimeTicker\"}},\"id\":\"1015\",\"type\":\"DatetimeAxis\"},{\"attributes\":{\"num_minor_ticks\":5,\"tickers\":[{\"id\":\"1054\",\"type\":\"AdaptiveTicker\"},{\"id\":\"1055\",\"type\":\"AdaptiveTicker\"},{\"id\":\"1056\",\"type\":\"AdaptiveTicker\"},{\"id\":\"1057\",\"type\":\"DaysTicker\"},{\"id\":\"1058\",\"type\":\"DaysTicker\"},{\"id\":\"1059\",\"type\":\"DaysTicker\"},{\"id\":\"1060\",\"type\":\"DaysTicker\"},{\"id\":\"1061\",\"type\":\"MonthsTicker\"},{\"id\":\"1062\",\"type\":\"MonthsTicker\"},{\"id\":\"1063\",\"type\":\"MonthsTicker\"},{\"id\":\"1064\",\"type\":\"MonthsTicker\"},{\"id\":\"1065\",\"type\":\"YearsTicker\"}]},\"id\":\"1016\",\"type\":\"DatetimeTicker\"},{\"attributes\":{\"line_alpha\":0.2,\"line_color\":\"#1f77b3\",\"line_width\":2,\"x\":{\"field\":\"Date\"},\"y\":{\"field\":\"Return\"}},\"id\":\"1042\",\"type\":\"Line\"},{\"attributes\":{\"line_alpha\":0.1,\"line_color\":\"#1f77b3\",\"line_width\":2,\"x\":{\"field\":\"Date\"},\"y\":{\"field\":\"Prediction\"}},\"id\":\"1107\",\"type\":\"Line\"},{\"attributes\":{\"children\":[{\"id\":\"1006\",\"subtype\":\"Figure\",\"type\":\"Plot\"},{\"id\":\"1072\",\"subtype\":\"Figure\",\"type\":\"Plot\"}],\"margin\":[0,0,0,0],\"name\":\"Column01602\"},\"id\":\"1002\",\"type\":\"Column\"},{\"attributes\":{\"callback\":null,\"end\":1517270400000.0,\"reset_end\":1517270400000.0,\"reset_start\":1514851200000.0,\"start\":1514851200000.0,\"tags\":[[[\"Date\",\"Date\",null]]]},\"id\":\"1069\",\"type\":\"Range1d\"},{\"attributes\":{},\"id\":\"1104\",\"type\":\"Selection\"},{\"attributes\":{\"align\":null,\"below\":[{\"id\":\"1081\",\"type\":\"DatetimeAxis\"}],\"center\":[{\"id\":\"1085\",\"type\":\"Grid\"},{\"id\":\"1090\",\"type\":\"Grid\"}],\"left\":[{\"id\":\"1086\",\"type\":\"LinearAxis\"}],\"margin\":null,\"min_border_bottom\":10,\"min_border_left\":10,\"min_border_right\":10,\"min_border_top\":10,\"plot_height\":300,\"plot_width\":700,\"renderers\":[{\"id\":\"1109\",\"type\":\"GlyphRenderer\"}],\"sizing_mode\":\"fixed\",\"title\":{\"id\":\"1073\",\"type\":\"Title\"},\"toolbar\":{\"id\":\"1096\",\"type\":\"Toolbar\"},\"x_range\":{\"id\":\"1069\",\"type\":\"Range1d\"},\"x_scale\":{\"id\":\"1077\",\"type\":\"LinearScale\"},\"y_range\":{\"id\":\"1070\",\"type\":\"Range1d\"},\"y_scale\":{\"id\":\"1079\",\"type\":\"LinearScale\"}},\"id\":\"1072\",\"subtype\":\"Figure\",\"type\":\"Plot\"},{\"attributes\":{\"data_source\":{\"id\":\"1103\",\"type\":\"ColumnDataSource\"},\"glyph\":{\"id\":\"1106\",\"type\":\"Line\"},\"hover_glyph\":null,\"muted_glyph\":{\"id\":\"1108\",\"type\":\"Line\"},\"nonselection_glyph\":{\"id\":\"1107\",\"type\":\"Line\"},\"selection_glyph\":null,\"view\":{\"id\":\"1110\",\"type\":\"CDSView\"}},\"id\":\"1109\",\"type\":\"GlyphRenderer\"},{\"attributes\":{},\"id\":\"1091\",\"type\":\"SaveTool\"},{\"attributes\":{},\"id\":\"1131\",\"type\":\"YearsTicker\"},{\"attributes\":{\"callback\":null,\"data\":{\"Date\":{\"__ndarray__\":\"AADArkILdkIAAIAUlQt2QgAAQHrnC3ZCAAAA4DkMdkIAAEARMQ12QgAAAHeDDXZCAADA3NUNdkIAAIBCKA52QgAAQKh6DnZCAABAP8QPdkIAAAClFhB2QgAAwAppEHZCAACAcLsQdkIAAMChshF2QgAAgAcFEnZCAABAbVcSdkIAAADTqRJ2QgAAwDj8EnZCAAAAavMTdkIAAMDPRRR2Qg==\",\"dtype\":\"float64\",\"shape\":[20]},\"Return\":{\"__ndarray__\":\"4C8JYLgG0z+Qd9C3AcjOv/BKbHWDRMu/uFOb2tSm1r+AnN+qucCvP7DPQpK14dg/TIyn68eW8j+g9naNr9PNPwD3q/MaAZE/eFgbHieb5T9s9xZgbGXnvwBraTK2rrY/0BHkQZKp1j9gOvSEwknXvzDcroPyTOM/OICwNZ+R8j/YYUrsQkXWv2jQ3nIU0+U/wKHso3joz78gU4jaiXjDPw==\",\"dtype\":\"float64\",\"shape\":[20]}},\"selected\":{\"id\":\"1038\",\"type\":\"Selection\"},\"selection_policy\":{\"id\":\"1068\",\"type\":\"UnionRenderers\"}},\"id\":\"1037\",\"type\":\"ColumnDataSource\"},{\"attributes\":{},\"id\":\"1087\",\"type\":\"BasicTicker\"},{\"attributes\":{\"grid_line_color\":null,\"ticker\":{\"id\":\"1016\",\"type\":\"DatetimeTicker\"}},\"id\":\"1019\",\"type\":\"Grid\"},{\"attributes\":{\"days\":[1,2,3,4,5,6,7,8,9,10,11,12,13,14,15,16,17,18,19,20,21,22,23,24,25,26,27,28,29,30,31]},\"id\":\"1057\",\"type\":\"DaysTicker\"},{\"attributes\":{\"months\":[0,1,2,3,4,5,6,7,8,9,10,11]},\"id\":\"1061\",\"type\":\"MonthsTicker\"},{\"attributes\":{},\"id\":\"1011\",\"type\":\"LinearScale\"},{\"attributes\":{\"line_alpha\":0.1,\"line_color\":\"#1f77b3\",\"line_width\":2,\"x\":{\"field\":\"Date\"},\"y\":{\"field\":\"Return\"}},\"id\":\"1041\",\"type\":\"Line\"},{\"attributes\":{\"source\":{\"id\":\"1103\",\"type\":\"ColumnDataSource\"}},\"id\":\"1110\",\"type\":\"CDSView\"},{\"attributes\":{\"dimension\":1,\"grid_line_color\":null,\"ticker\":{\"id\":\"1087\",\"type\":\"BasicTicker\"}},\"id\":\"1090\",\"type\":\"Grid\"},{\"attributes\":{\"axis_label\":\"\",\"axis_label_text_font_size\":{\"value\":\"10pt\"},\"bounds\":\"auto\",\"formatter\":{\"id\":\"1048\",\"type\":\"BasicTickFormatter\"},\"major_label_orientation\":\"horizontal\",\"ticker\":{\"id\":\"1021\",\"type\":\"BasicTicker\"}},\"id\":\"1020\",\"type\":\"LinearAxis\"},{\"attributes\":{\"months\":[0,6]},\"id\":\"1130\",\"type\":\"MonthsTicker\"},{\"attributes\":{},\"id\":\"1013\",\"type\":\"LinearScale\"},{\"attributes\":{\"data_source\":{\"id\":\"1037\",\"type\":\"ColumnDataSource\"},\"glyph\":{\"id\":\"1040\",\"type\":\"Line\"},\"hover_glyph\":null,\"muted_glyph\":{\"id\":\"1042\",\"type\":\"Line\"},\"nonselection_glyph\":{\"id\":\"1041\",\"type\":\"Line\"},\"selection_glyph\":null,\"view\":{\"id\":\"1044\",\"type\":\"CDSView\"}},\"id\":\"1043\",\"type\":\"GlyphRenderer\"},{\"attributes\":{\"bottom_units\":\"screen\",\"fill_alpha\":{\"value\":0.5},\"fill_color\":{\"value\":\"lightgrey\"},\"left_units\":\"screen\",\"level\":\"overlay\",\"line_alpha\":{\"value\":1.0},\"line_color\":{\"value\":\"black\"},\"line_dash\":[4,4],\"line_width\":{\"value\":2},\"render_mode\":\"css\",\"right_units\":\"screen\",\"top_units\":\"screen\"},\"id\":\"1132\",\"type\":\"BoxAnnotation\"},{\"attributes\":{\"days\":[1,15]},\"id\":\"1126\",\"type\":\"DaysTicker\"},{\"attributes\":{\"months\":[0,6]},\"id\":\"1064\",\"type\":\"MonthsTicker\"},{\"attributes\":{\"align\":null,\"below\":[{\"id\":\"1015\",\"type\":\"DatetimeAxis\"}],\"center\":[{\"id\":\"1019\",\"type\":\"Grid\"},{\"id\":\"1024\",\"type\":\"Grid\"}],\"left\":[{\"id\":\"1020\",\"type\":\"LinearAxis\"}],\"margin\":null,\"min_border_bottom\":10,\"min_border_left\":10,\"min_border_right\":10,\"min_border_top\":10,\"plot_height\":300,\"plot_width\":700,\"renderers\":[{\"id\":\"1043\",\"type\":\"GlyphRenderer\"}],\"sizing_mode\":\"fixed\",\"title\":{\"id\":\"1007\",\"type\":\"Title\"},\"toolbar\":{\"id\":\"1030\",\"type\":\"Toolbar\"},\"x_range\":{\"id\":\"1003\",\"type\":\"Range1d\"},\"x_scale\":{\"id\":\"1011\",\"type\":\"LinearScale\"},\"y_range\":{\"id\":\"1004\",\"type\":\"Range1d\"},\"y_scale\":{\"id\":\"1013\",\"type\":\"LinearScale\"}},\"id\":\"1006\",\"subtype\":\"Figure\",\"type\":\"Plot\"},{\"attributes\":{\"months\":[0,2,4,6,8,10]},\"id\":\"1062\",\"type\":\"MonthsTicker\"},{\"attributes\":{\"mantissas\":[1,2,5],\"max_interval\":500.0,\"num_minor_ticks\":0},\"id\":\"1120\",\"type\":\"AdaptiveTicker\"},{\"attributes\":{\"months\":[0,4,8]},\"id\":\"1129\",\"type\":\"MonthsTicker\"},{\"attributes\":{\"callback\":null,\"formatters\":{\"@{Date}\":\"datetime\"},\"renderers\":[{\"id\":\"1043\",\"type\":\"GlyphRenderer\"}],\"tags\":[\"hv_created\"],\"tooltips\":[[\"Date\",\"@{Date}{%F %T}\"],[\"Return\",\"@{Return}\"]]},\"id\":\"1005\",\"type\":\"HoverTool\"},{\"attributes\":{\"overlay\":{\"id\":\"1066\",\"type\":\"BoxAnnotation\"}},\"id\":\"1028\",\"type\":\"BoxZoomTool\"},{\"attributes\":{\"text\":\"Actual Return\",\"text_color\":{\"value\":\"black\"},\"text_font_size\":{\"value\":\"12pt\"}},\"id\":\"1007\",\"type\":\"Title\"},{\"attributes\":{\"callback\":null,\"end\":1.351106005998025,\"reset_end\":1.351106005998025,\"reset_start\":-0.9204250321343188,\"start\":-0.9204250321343188,\"tags\":[[[\"Return\",\"Return\",null]]]},\"id\":\"1004\",\"type\":\"Range1d\"},{\"attributes\":{\"base\":24,\"mantissas\":[1,2,4,6,8,12],\"max_interval\":43200000.0,\"min_interval\":3600000.0,\"num_minor_ticks\":0},\"id\":\"1056\",\"type\":\"AdaptiveTicker\"},{\"attributes\":{\"callback\":null,\"end\":1517270400000.0,\"reset_end\":1517270400000.0,\"reset_start\":1514851200000.0,\"start\":1514851200000.0,\"tags\":[[[\"Date\",\"Date\",null]]]},\"id\":\"1003\",\"type\":\"Range1d\"},{\"attributes\":{\"months\":[0,4,8]},\"id\":\"1063\",\"type\":\"MonthsTicker\"},{\"attributes\":{\"days\":[1,8,15,22]},\"id\":\"1059\",\"type\":\"DaysTicker\"},{\"attributes\":{\"text\":\"Predicted Return\",\"text_color\":{\"value\":\"black\"},\"text_font_size\":{\"value\":\"12pt\"}},\"id\":\"1073\",\"type\":\"Title\"},{\"attributes\":{\"days\":[1,15]},\"id\":\"1060\",\"type\":\"DaysTicker\"},{\"attributes\":{\"callback\":null,\"data\":{\"Date\":{\"__ndarray__\":\"AADArkILdkIAAIAUlQt2QgAAQHrnC3ZCAAAA4DkMdkIAAEARMQ12QgAAAHeDDXZCAADA3NUNdkIAAIBCKA52QgAAQKh6DnZCAABAP8QPdkIAAAClFhB2QgAAwAppEHZCAACAcLsQdkIAAMChshF2QgAAgAcFEnZCAABAbVcSdkIAAADTqRJ2QgAAwDj8EnZCAAAAavMTdkIAAMDPRRR2Qg==\",\"dtype\":\"float64\",\"shape\":[20]},\"Prediction\":{\"__ndarray__\":\"lgpr8oOog785oqHGUYyEv8QjzYw04Xu/tnfO8+mNfL8kcncPZBd5vxMowoo0qIG/L80ymyKshb9TiIBb+iuPv+A+evoowoO/b3htJFkZgb+y1SD+JDGJvyyqjB5epG+/HvqKQtf7gb98UNuIDD+Fv6qqPQDT2Hi/H3K2cn9OiL+KNU8EBCiPv6Mp/unbPHm/KmwyCZ9Gib+VVrJ00al7vw==\",\"dtype\":\"float64\",\"shape\":[20]}},\"selected\":{\"id\":\"1104\",\"type\":\"Selection\"},\"selection_policy\":{\"id\":\"1134\",\"type\":\"UnionRenderers\"}},\"id\":\"1103\",\"type\":\"ColumnDataSource\"},{\"attributes\":{},\"id\":\"1029\",\"type\":\"ResetTool\"},{\"attributes\":{},\"id\":\"1027\",\"type\":\"WheelZoomTool\"},{\"attributes\":{\"base\":60,\"mantissas\":[1,2,5,10,15,20,30],\"max_interval\":1800000.0,\"min_interval\":1000.0,\"num_minor_ticks\":0},\"id\":\"1055\",\"type\":\"AdaptiveTicker\"},{\"attributes\":{},\"id\":\"1112\",\"type\":\"DatetimeTickFormatter\"},{\"attributes\":{\"callback\":null,\"js_property_callbacks\":{\"change:active\":[{\"id\":\"1136\",\"type\":\"CustomJS\"}],\"change:tabs\":[{\"id\":\"1137\",\"type\":\"CustomJS\"}]},\"margin\":[0,0,0,0],\"tabs\":[{\"id\":\"1135\",\"type\":\"Panel\"}]},\"id\":\"1001\",\"type\":\"Tabs\"},{\"attributes\":{\"code\":\"\\nif (!window.PyViz) {\\n  return;\\n}\\nvar events = [];\\nvar receiver = window.PyViz.receivers['1001'];\\nif (receiver &&\\n        receiver._partial &&\\n        receiver._partial.content &&\\n        receiver._partial.content.events) {\\n    events = receiver._partial.content.events;\\n}\\n\\nvar value = cb_obj['tabs'];\\n\\n\\n    var ids = [];\\n    for (t of value) {{ ids.push(t.id) }};\\n    value = ids;\\n    \\n\\nfor (var event of events) {\\n  if ((event.kind === 'ModelChanged') && (event.attr === 'tabs') &&\\n      (cb_obj.id === event.model.id) &&\\n      (JSON.stringify(value) === JSON.stringify(event.new))) {\\n    return;\\n  }\\n}\\n\\ndata = {tabs: value, 'id': cb_obj.id}; cb_obj.event_name = 'tabs';\\n\\nfunction unique_events(events) {\\n  // Processes the event queue ignoring duplicate events\\n  // of the same type\\n  var unique = [];\\n  var unique_events = [];\\n  for (var i=0; i<events.length; i++) {\\n    var _tmpevent = events[i];\\n    event = _tmpevent[0];\\n    data = _tmpevent[1];\\n    if (unique_events.indexOf(event)===-1) {\\n      unique.unshift(data);\\n      unique_events.push(event);\\n      }\\n  }\\n  return unique;\\n}\\n\\nfunction process_events(comm_status) {\\n  // Iterates over event queue and sends events via Comm\\n  var events = unique_events(comm_status.event_buffer);\\n  for (var i=0; i<events.length; i++) {\\n    var data = events[i];\\n    var comm = window.PyViz.comms[data[\\\"comm_id\\\"]];\\n    comm.send(data);\\n  }\\n  comm_status.event_buffer = [];\\n}\\n\\nfunction on_msg(msg) {\\n  // Receives acknowledgement from Python, processing event\\n  // and unblocking Comm if event queue empty\\n  var metadata = msg.metadata;\\n  var comm_id = metadata.comm_id\\n  var comm_status = window.PyViz.comm_status[comm_id];\\n  if (comm_status.event_buffer.length) {\\n    process_events(comm_status);\\n    comm_status.blocked = true;\\n    comm_status.time = Date.now()+50;\\n  } else {\\n    comm_status.blocked = false;\\n  }\\n  comm_status.event_buffer = [];\\n  if ((metadata.msg_type == \\\"Ready\\\") && metadata.content) {\\n    console.log(\\\"Python callback returned following output:\\\", metadata.content);\\n  } else if (metadata.msg_type == \\\"Error\\\") {\\n    console.log(\\\"Python failed with the following traceback:\\\", metadata.traceback)\\n  }\\n}\\n\\n// Initialize Comm\\nif ((window.PyViz == undefined) || (window.PyViz.comm_manager == undefined)) { return }\\nvar comm = window.PyViz.comm_manager.get_client_comm(\\\"1001\\\", \\\"01afc8441104434c87a42ade61370c0b\\\", on_msg);\\nif (!comm) {\\n  return\\n}\\n\\n// Initialize event queue and timeouts for Comm\\nvar comm_status = window.PyViz.comm_status[\\\"01afc8441104434c87a42ade61370c0b\\\"];\\nif (comm_status === undefined) {\\n  comm_status = {event_buffer: [], blocked: false, time: Date.now()}\\n  window.PyViz.comm_status[\\\"01afc8441104434c87a42ade61370c0b\\\"] = comm_status\\n}\\n\\n// Add current event to queue and process queue if not blocked\\nvar event_name = cb_obj.event_name;\\nif (event_name === undefined) {\\n  // we are a widget not an event... fake a key.\\n  event_name = Object.keys(data).join(',');\\n}\\ndata['comm_id'] = \\\"01afc8441104434c87a42ade61370c0b\\\";\\nvar timeout = comm_status.time + 20000;\\nif ((comm_status.blocked && (Date.now() < timeout))) {\\n  comm_status.event_buffer.unshift([event_name, data]);\\n} else {\\n  comm_status.event_buffer.unshift([event_name, data]);\\n  setTimeout(function() { process_events(comm_status); }, 50);\\n  comm_status.blocked = true;\\n  comm_status.time = Date.now()+50;\\n}\\n\"},\"id\":\"1137\",\"type\":\"CustomJS\"},{\"attributes\":{\"grid_line_color\":null,\"ticker\":{\"id\":\"1082\",\"type\":\"DatetimeTicker\"}},\"id\":\"1085\",\"type\":\"Grid\"},{\"attributes\":{\"bottom_units\":\"screen\",\"fill_alpha\":{\"value\":0.5},\"fill_color\":{\"value\":\"lightgrey\"},\"left_units\":\"screen\",\"level\":\"overlay\",\"line_alpha\":{\"value\":1.0},\"line_color\":{\"value\":\"black\"},\"line_dash\":[4,4],\"line_width\":{\"value\":2},\"render_mode\":\"css\",\"right_units\":\"screen\",\"top_units\":\"screen\"},\"id\":\"1066\",\"type\":\"BoxAnnotation\"},{\"attributes\":{\"base\":60,\"mantissas\":[1,2,5,10,15,20,30],\"max_interval\":1800000.0,\"min_interval\":1000.0,\"num_minor_ticks\":0},\"id\":\"1121\",\"type\":\"AdaptiveTicker\"},{\"attributes\":{\"callback\":null,\"formatters\":{\"@{Date}\":\"datetime\"},\"renderers\":[{\"id\":\"1109\",\"type\":\"GlyphRenderer\"}],\"tags\":[\"hv_created\"],\"tooltips\":[[\"Date\",\"@{Date}{%F %T}\"],[\"Prediction\",\"@{Prediction}\"]]},\"id\":\"1071\",\"type\":\"HoverTool\"},{\"attributes\":{},\"id\":\"1077\",\"type\":\"LinearScale\"},{\"attributes\":{},\"id\":\"1065\",\"type\":\"YearsTicker\"},{\"attributes\":{},\"id\":\"1093\",\"type\":\"WheelZoomTool\"},{\"attributes\":{\"code\":\"\\nif (!window.PyViz) {\\n  return;\\n}\\nvar events = [];\\nvar receiver = window.PyViz.receivers['1001'];\\nif (receiver &&\\n        receiver._partial &&\\n        receiver._partial.content &&\\n        receiver._partial.content.events) {\\n    events = receiver._partial.content.events;\\n}\\n\\nvar value = cb_obj['active'];\\n\\n\\n\\nfor (var event of events) {\\n  if ((event.kind === 'ModelChanged') && (event.attr === 'active') &&\\n      (cb_obj.id === event.model.id) &&\\n      (JSON.stringify(value) === JSON.stringify(event.new))) {\\n    return;\\n  }\\n}\\n\\ndata = {active: value, 'id': cb_obj.id}; cb_obj.event_name = 'active';\\n\\nfunction unique_events(events) {\\n  // Processes the event queue ignoring duplicate events\\n  // of the same type\\n  var unique = [];\\n  var unique_events = [];\\n  for (var i=0; i<events.length; i++) {\\n    var _tmpevent = events[i];\\n    event = _tmpevent[0];\\n    data = _tmpevent[1];\\n    if (unique_events.indexOf(event)===-1) {\\n      unique.unshift(data);\\n      unique_events.push(event);\\n      }\\n  }\\n  return unique;\\n}\\n\\nfunction process_events(comm_status) {\\n  // Iterates over event queue and sends events via Comm\\n  var events = unique_events(comm_status.event_buffer);\\n  for (var i=0; i<events.length; i++) {\\n    var data = events[i];\\n    var comm = window.PyViz.comms[data[\\\"comm_id\\\"]];\\n    comm.send(data);\\n  }\\n  comm_status.event_buffer = [];\\n}\\n\\nfunction on_msg(msg) {\\n  // Receives acknowledgement from Python, processing event\\n  // and unblocking Comm if event queue empty\\n  var metadata = msg.metadata;\\n  var comm_id = metadata.comm_id\\n  var comm_status = window.PyViz.comm_status[comm_id];\\n  if (comm_status.event_buffer.length) {\\n    process_events(comm_status);\\n    comm_status.blocked = true;\\n    comm_status.time = Date.now()+50;\\n  } else {\\n    comm_status.blocked = false;\\n  }\\n  comm_status.event_buffer = [];\\n  if ((metadata.msg_type == \\\"Ready\\\") && metadata.content) {\\n    console.log(\\\"Python callback returned following output:\\\", metadata.content);\\n  } else if (metadata.msg_type == \\\"Error\\\") {\\n    console.log(\\\"Python failed with the following traceback:\\\", metadata.traceback)\\n  }\\n}\\n\\n// Initialize Comm\\nif ((window.PyViz == undefined) || (window.PyViz.comm_manager == undefined)) { return }\\nvar comm = window.PyViz.comm_manager.get_client_comm(\\\"1001\\\", \\\"01afc8441104434c87a42ade61370c0b\\\", on_msg);\\nif (!comm) {\\n  return\\n}\\n\\n// Initialize event queue and timeouts for Comm\\nvar comm_status = window.PyViz.comm_status[\\\"01afc8441104434c87a42ade61370c0b\\\"];\\nif (comm_status === undefined) {\\n  comm_status = {event_buffer: [], blocked: false, time: Date.now()}\\n  window.PyViz.comm_status[\\\"01afc8441104434c87a42ade61370c0b\\\"] = comm_status\\n}\\n\\n// Add current event to queue and process queue if not blocked\\nvar event_name = cb_obj.event_name;\\nif (event_name === undefined) {\\n  // we are a widget not an event... fake a key.\\n  event_name = Object.keys(data).join(',');\\n}\\ndata['comm_id'] = \\\"01afc8441104434c87a42ade61370c0b\\\";\\nvar timeout = comm_status.time + 20000;\\nif ((comm_status.blocked && (Date.now() < timeout))) {\\n  comm_status.event_buffer.unshift([event_name, data]);\\n} else {\\n  comm_status.event_buffer.unshift([event_name, data]);\\n  setTimeout(function() { process_events(comm_status); }, 50);\\n  comm_status.blocked = true;\\n  comm_status.time = Date.now()+50;\\n}\\n\"},\"id\":\"1136\",\"type\":\"CustomJS\"},{\"attributes\":{},\"id\":\"1079\",\"type\":\"LinearScale\"},{\"attributes\":{},\"id\":\"1092\",\"type\":\"PanTool\"},{\"attributes\":{},\"id\":\"1114\",\"type\":\"BasicTickFormatter\"},{\"attributes\":{\"overlay\":{\"id\":\"1132\",\"type\":\"BoxAnnotation\"}},\"id\":\"1094\",\"type\":\"BoxZoomTool\"},{\"attributes\":{\"days\":[1,4,7,10,13,16,19,22,25,28]},\"id\":\"1124\",\"type\":\"DaysTicker\"},{\"attributes\":{},\"id\":\"1021\",\"type\":\"BasicTicker\"},{\"attributes\":{},\"id\":\"1068\",\"type\":\"UnionRenderers\"},{\"attributes\":{\"line_color\":\"#1f77b3\",\"line_width\":2,\"x\":{\"field\":\"Date\"},\"y\":{\"field\":\"Return\"}},\"id\":\"1040\",\"type\":\"Line\"},{\"attributes\":{\"axis_label\":\"\",\"axis_label_text_font_size\":{\"value\":\"10pt\"},\"bounds\":\"auto\",\"formatter\":{\"id\":\"1114\",\"type\":\"BasicTickFormatter\"},\"major_label_orientation\":\"horizontal\",\"ticker\":{\"id\":\"1087\",\"type\":\"BasicTicker\"}},\"id\":\"1086\",\"type\":\"LinearAxis\"},{\"attributes\":{},\"id\":\"1095\",\"type\":\"ResetTool\"},{\"attributes\":{\"days\":[1,4,7,10,13,16,19,22,25,28]},\"id\":\"1058\",\"type\":\"DaysTicker\"},{\"attributes\":{\"child\":{\"id\":\"1002\",\"type\":\"Column\"},\"name\":\"Column01602\",\"title\":\"Plots\"},\"id\":\"1135\",\"type\":\"Panel\"},{\"attributes\":{\"active_drag\":\"auto\",\"active_inspect\":\"auto\",\"active_multi\":null,\"active_scroll\":\"auto\",\"active_tap\":\"auto\",\"tools\":[{\"id\":\"1005\",\"type\":\"HoverTool\"},{\"id\":\"1025\",\"type\":\"SaveTool\"},{\"id\":\"1026\",\"type\":\"PanTool\"},{\"id\":\"1027\",\"type\":\"WheelZoomTool\"},{\"id\":\"1028\",\"type\":\"BoxZoomTool\"},{\"id\":\"1029\",\"type\":\"ResetTool\"}]},\"id\":\"1030\",\"type\":\"Toolbar\"},{\"attributes\":{\"base\":24,\"mantissas\":[1,2,4,6,8,12],\"max_interval\":43200000.0,\"min_interval\":3600000.0,\"num_minor_ticks\":0},\"id\":\"1122\",\"type\":\"AdaptiveTicker\"},{\"attributes\":{},\"id\":\"1025\",\"type\":\"SaveTool\"},{\"attributes\":{\"num_minor_ticks\":5,\"tickers\":[{\"id\":\"1120\",\"type\":\"AdaptiveTicker\"},{\"id\":\"1121\",\"type\":\"AdaptiveTicker\"},{\"id\":\"1122\",\"type\":\"AdaptiveTicker\"},{\"id\":\"1123\",\"type\":\"DaysTicker\"},{\"id\":\"1124\",\"type\":\"DaysTicker\"},{\"id\":\"1125\",\"type\":\"DaysTicker\"},{\"id\":\"1126\",\"type\":\"DaysTicker\"},{\"id\":\"1127\",\"type\":\"MonthsTicker\"},{\"id\":\"1128\",\"type\":\"MonthsTicker\"},{\"id\":\"1129\",\"type\":\"MonthsTicker\"},{\"id\":\"1130\",\"type\":\"MonthsTicker\"},{\"id\":\"1131\",\"type\":\"YearsTicker\"}]},\"id\":\"1082\",\"type\":\"DatetimeTicker\"},{\"attributes\":{},\"id\":\"1038\",\"type\":\"Selection\"},{\"attributes\":{\"months\":[0,2,4,6,8,10]},\"id\":\"1128\",\"type\":\"MonthsTicker\"},{\"attributes\":{\"axis_label\":\"Date\",\"axis_label_text_font_size\":{\"value\":\"10pt\"},\"bounds\":\"auto\",\"formatter\":{\"id\":\"1112\",\"type\":\"DatetimeTickFormatter\"},\"major_label_orientation\":\"horizontal\",\"ticker\":{\"id\":\"1082\",\"type\":\"DatetimeTicker\"}},\"id\":\"1081\",\"type\":\"DatetimeAxis\"},{\"attributes\":{\"days\":[1,8,15,22]},\"id\":\"1125\",\"type\":\"DaysTicker\"},{\"attributes\":{},\"id\":\"1026\",\"type\":\"PanTool\"},{\"attributes\":{},\"id\":\"1046\",\"type\":\"DatetimeTickFormatter\"},{\"attributes\":{\"months\":[0,1,2,3,4,5,6,7,8,9,10,11]},\"id\":\"1127\",\"type\":\"MonthsTicker\"},{\"attributes\":{\"mantissas\":[1,2,5],\"max_interval\":500.0,\"num_minor_ticks\":0},\"id\":\"1054\",\"type\":\"AdaptiveTicker\"},{\"attributes\":{\"active_drag\":\"auto\",\"active_inspect\":\"auto\",\"active_multi\":null,\"active_scroll\":\"auto\",\"active_tap\":\"auto\",\"tools\":[{\"id\":\"1071\",\"type\":\"HoverTool\"},{\"id\":\"1091\",\"type\":\"SaveTool\"},{\"id\":\"1092\",\"type\":\"PanTool\"},{\"id\":\"1093\",\"type\":\"WheelZoomTool\"},{\"id\":\"1094\",\"type\":\"BoxZoomTool\"},{\"id\":\"1095\",\"type\":\"ResetTool\"}]},\"id\":\"1096\",\"type\":\"Toolbar\"},{\"attributes\":{\"line_color\":\"#1f77b3\",\"line_width\":2,\"x\":{\"field\":\"Date\"},\"y\":{\"field\":\"Prediction\"}},\"id\":\"1106\",\"type\":\"Line\"},{\"attributes\":{},\"id\":\"1048\",\"type\":\"BasicTickFormatter\"},{\"attributes\":{\"days\":[1,2,3,4,5,6,7,8,9,10,11,12,13,14,15,16,17,18,19,20,21,22,23,24,25,26,27,28,29,30,31]},\"id\":\"1123\",\"type\":\"DaysTicker\"},{\"attributes\":{\"dimension\":1,\"grid_line_color\":null,\"ticker\":{\"id\":\"1021\",\"type\":\"BasicTicker\"}},\"id\":\"1024\",\"type\":\"Grid\"}],\"root_ids\":[\"1001\"]},\"title\":\"Bokeh Application\",\"version\":\"1.4.0\"}};\n",
       "  var render_items = [{\"docid\":\"f8ef95f5-c37e-48bf-96d6-476130b160e9\",\"roots\":{\"1001\":\"3e6636ae-1d85-4317-ad9e-747b899a34ec\"}}];\n",
       "  root.Bokeh.embed.embed_items_notebook(docs_json, render_items);\n",
       "  }\n",
       "if (root.Bokeh !== undefined) {\n",
       "    embed_document(root);\n",
       "  } else {\n",
       "    var attempts = 0;\n",
       "    var timer = setInterval(function(root) {\n",
       "      if (root.Bokeh !== undefined) {\n",
       "        clearInterval(timer);\n",
       "        embed_document(root);\n",
       "      } else if (document.readyState == \"complete\") {\n",
       "        attempts++;\n",
       "        if (attempts > 100) {\n",
       "          clearInterval(timer);\n",
       "          console.log(\"Bokeh: ERROR: Unable to run BokehJS code because BokehJS library is missing\");\n",
       "        }\n",
       "      }\n",
       "    }, 10, root)\n",
       "  }\n",
       "})(window);</script>"
      ],
      "text/plain": [
       "Tabs\n",
       "    [0] Column\n",
       "        [0] HoloViews(Curve)\n",
       "        [1] HoloViews(Curve)"
      ]
     },
     "execution_count": 12,
     "metadata": {
      "application/vnd.holoviews_exec.v0+json": {
       "id": "1001"
      }
     },
     "output_type": "execute_result"
    }
   ],
   "source": [
    "re = predictions[\"Return\"][:20].hvplot(title=\"Actual Return\", shared_axes=False)\n",
    "pre = predictions[\"Prediction\"][:20].hvplot(title=\"Predicted Return\", shared_axes=False)\n",
    "plot = pn.Column(re,pre)\n",
    "pn.Tabs((\"Plots\", plot))"
   ]
  },
  {
   "cell_type": "markdown",
   "metadata": {},
   "source": [
    "# Out-of-Sample Performance"
   ]
  },
  {
   "cell_type": "markdown",
   "metadata": {},
   "source": [
    "* Calculate the mean_squared_error"
   ]
  },
  {
   "cell_type": "code",
   "execution_count": 13,
   "metadata": {},
   "outputs": [],
   "source": [
    "mse = mean_squared_error(predictions[\"Return\"],predictions[\"Prediction\"])"
   ]
  },
  {
   "cell_type": "markdown",
   "metadata": {},
   "source": [
    "* calculate the root-mean-squared error"
   ]
  },
  {
   "cell_type": "code",
   "execution_count": 14,
   "metadata": {},
   "outputs": [],
   "source": [
    "rmse = np.sqrt(mse)"
   ]
  },
  {
   "cell_type": "markdown",
   "metadata": {},
   "source": [
    "# In-Sample Performance"
   ]
  },
  {
   "cell_type": "markdown",
   "metadata": {},
   "source": [
    "* Construct a dataframe using just the \"y\" training data"
   ]
  },
  {
   "cell_type": "code",
   "execution_count": 15,
   "metadata": {},
   "outputs": [],
   "source": [
    "in_sample_df = y_train"
   ]
  },
  {
   "cell_type": "markdown",
   "metadata": {},
   "source": [
    "* Add a column of \"in-sample\" predictions to that dataframe"
   ]
  },
  {
   "cell_type": "code",
   "execution_count": 16,
   "metadata": {},
   "outputs": [],
   "source": [
    "in_sample_df[\"In Sample Predictions\"] = model_regression.predict(X_train)"
   ]
  },
  {
   "cell_type": "markdown",
   "metadata": {},
   "source": [
    "*  Calculate in-sample mean_squared_error"
   ]
  },
  {
   "cell_type": "code",
   "execution_count": 17,
   "metadata": {},
   "outputs": [],
   "source": [
    "in_sample_mse = mean_squared_error(in_sample_df[\"Return\"],in_sample_df[\"In Sample Predictions\"])"
   ]
  },
  {
   "cell_type": "markdown",
   "metadata": {},
   "source": [
    "* Calculate in-sample root mean_squared_error"
   ]
  },
  {
   "cell_type": "code",
   "execution_count": 18,
   "metadata": {},
   "outputs": [],
   "source": [
    "in_sample_rmse = np.sqrt(in_sample_mse)"
   ]
  },
  {
   "cell_type": "markdown",
   "metadata": {},
   "source": [
    "# 1st Conclusion"
   ]
  },
  {
   "cell_type": "code",
   "execution_count": null,
   "metadata": {},
   "outputs": [],
   "source": []
  },
  {
   "cell_type": "markdown",
   "metadata": {},
   "source": [
    "# Return Forecasting: Read Historical Daily Yen Futures Data  "
   ]
  },
  {
   "cell_type": "code",
   "execution_count": 22,
   "metadata": {},
   "outputs": [
    {
     "data": {
      "text/html": [
       "<div>\n",
       "<style scoped>\n",
       "    .dataframe tbody tr th:only-of-type {\n",
       "        vertical-align: middle;\n",
       "    }\n",
       "\n",
       "    .dataframe tbody tr th {\n",
       "        vertical-align: top;\n",
       "    }\n",
       "\n",
       "    .dataframe thead th {\n",
       "        text-align: right;\n",
       "    }\n",
       "</style>\n",
       "<table border=\"1\" class=\"dataframe\">\n",
       "  <thead>\n",
       "    <tr style=\"text-align: right;\">\n",
       "      <th></th>\n",
       "      <th>Open</th>\n",
       "      <th>High</th>\n",
       "      <th>Low</th>\n",
       "      <th>Last</th>\n",
       "      <th>Change</th>\n",
       "      <th>Settle</th>\n",
       "      <th>Volume</th>\n",
       "      <th>Previous Day Open Interest</th>\n",
       "    </tr>\n",
       "    <tr>\n",
       "      <th>Date</th>\n",
       "      <th></th>\n",
       "      <th></th>\n",
       "      <th></th>\n",
       "      <th></th>\n",
       "      <th></th>\n",
       "      <th></th>\n",
       "      <th></th>\n",
       "      <th></th>\n",
       "    </tr>\n",
       "  </thead>\n",
       "  <tbody>\n",
       "    <tr>\n",
       "      <th>1976-08-02</th>\n",
       "      <td>3398.0</td>\n",
       "      <td>3401.0</td>\n",
       "      <td>3398.0</td>\n",
       "      <td>3401.0</td>\n",
       "      <td>NaN</td>\n",
       "      <td>3401.0</td>\n",
       "      <td>2.0</td>\n",
       "      <td>1.0</td>\n",
       "    </tr>\n",
       "    <tr>\n",
       "      <th>1976-08-03</th>\n",
       "      <td>3401.0</td>\n",
       "      <td>3401.0</td>\n",
       "      <td>3401.0</td>\n",
       "      <td>3401.0</td>\n",
       "      <td>NaN</td>\n",
       "      <td>3401.0</td>\n",
       "      <td>0.0</td>\n",
       "      <td>1.0</td>\n",
       "    </tr>\n",
       "    <tr>\n",
       "      <th>1976-08-04</th>\n",
       "      <td>3401.0</td>\n",
       "      <td>3401.0</td>\n",
       "      <td>3401.0</td>\n",
       "      <td>3401.0</td>\n",
       "      <td>NaN</td>\n",
       "      <td>3401.0</td>\n",
       "      <td>0.0</td>\n",
       "      <td>1.0</td>\n",
       "    </tr>\n",
       "    <tr>\n",
       "      <th>1976-08-05</th>\n",
       "      <td>3401.0</td>\n",
       "      <td>3401.0</td>\n",
       "      <td>3401.0</td>\n",
       "      <td>3401.0</td>\n",
       "      <td>NaN</td>\n",
       "      <td>3401.0</td>\n",
       "      <td>0.0</td>\n",
       "      <td>1.0</td>\n",
       "    </tr>\n",
       "    <tr>\n",
       "      <th>1976-08-06</th>\n",
       "      <td>3401.0</td>\n",
       "      <td>3401.0</td>\n",
       "      <td>3401.0</td>\n",
       "      <td>3401.0</td>\n",
       "      <td>NaN</td>\n",
       "      <td>3401.0</td>\n",
       "      <td>0.0</td>\n",
       "      <td>1.0</td>\n",
       "    </tr>\n",
       "  </tbody>\n",
       "</table>\n",
       "</div>"
      ],
      "text/plain": [
       "              Open    High     Low    Last  Change  Settle  Volume  \\\n",
       "Date                                                                 \n",
       "1976-08-02  3398.0  3401.0  3398.0  3401.0     NaN  3401.0     2.0   \n",
       "1976-08-03  3401.0  3401.0  3401.0  3401.0     NaN  3401.0     0.0   \n",
       "1976-08-04  3401.0  3401.0  3401.0  3401.0     NaN  3401.0     0.0   \n",
       "1976-08-05  3401.0  3401.0  3401.0  3401.0     NaN  3401.0     0.0   \n",
       "1976-08-06  3401.0  3401.0  3401.0  3401.0     NaN  3401.0     0.0   \n",
       "\n",
       "            Previous Day Open Interest  \n",
       "Date                                    \n",
       "1976-08-02                         1.0  \n",
       "1976-08-03                         1.0  \n",
       "1976-08-04                         1.0  \n",
       "1976-08-05                         1.0  \n",
       "1976-08-06                         1.0  "
      ]
     },
     "execution_count": 22,
     "metadata": {},
     "output_type": "execute_result"
    }
   ],
   "source": [
    "yen_futures = pd.read_csv(\n",
    "    Path(\"yen.csv\"), index_col=\"Date\", infer_datetime_format=True, parse_dates=True\n",
    ")\n",
    "yen_futures.head()"
   ]
  },
  {
   "cell_type": "markdown",
   "metadata": {},
   "source": [
    "* Trim the dataset to begin on January 1st, 1990"
   ]
  },
  {
   "cell_type": "code",
   "execution_count": 23,
   "metadata": {},
   "outputs": [
    {
     "data": {
      "text/html": [
       "<div>\n",
       "<style scoped>\n",
       "    .dataframe tbody tr th:only-of-type {\n",
       "        vertical-align: middle;\n",
       "    }\n",
       "\n",
       "    .dataframe tbody tr th {\n",
       "        vertical-align: top;\n",
       "    }\n",
       "\n",
       "    .dataframe thead th {\n",
       "        text-align: right;\n",
       "    }\n",
       "</style>\n",
       "<table border=\"1\" class=\"dataframe\">\n",
       "  <thead>\n",
       "    <tr style=\"text-align: right;\">\n",
       "      <th></th>\n",
       "      <th>Open</th>\n",
       "      <th>High</th>\n",
       "      <th>Low</th>\n",
       "      <th>Last</th>\n",
       "      <th>Change</th>\n",
       "      <th>Settle</th>\n",
       "      <th>Volume</th>\n",
       "      <th>Previous Day Open Interest</th>\n",
       "    </tr>\n",
       "    <tr>\n",
       "      <th>Date</th>\n",
       "      <th></th>\n",
       "      <th></th>\n",
       "      <th></th>\n",
       "      <th></th>\n",
       "      <th></th>\n",
       "      <th></th>\n",
       "      <th></th>\n",
       "      <th></th>\n",
       "    </tr>\n",
       "  </thead>\n",
       "  <tbody>\n",
       "    <tr>\n",
       "      <th>2019-10-09</th>\n",
       "      <td>9381.0</td>\n",
       "      <td>9391.5</td>\n",
       "      <td>9330.5</td>\n",
       "      <td>9343.5</td>\n",
       "      <td>38.5</td>\n",
       "      <td>9338.0</td>\n",
       "      <td>99153.0</td>\n",
       "      <td>145470.0</td>\n",
       "    </tr>\n",
       "    <tr>\n",
       "      <th>2019-10-10</th>\n",
       "      <td>9343.5</td>\n",
       "      <td>9380.5</td>\n",
       "      <td>9293.5</td>\n",
       "      <td>9301.0</td>\n",
       "      <td>34.5</td>\n",
       "      <td>9303.5</td>\n",
       "      <td>159397.0</td>\n",
       "      <td>144474.0</td>\n",
       "    </tr>\n",
       "    <tr>\n",
       "      <th>2019-10-11</th>\n",
       "      <td>9308.5</td>\n",
       "      <td>9309.0</td>\n",
       "      <td>9240.0</td>\n",
       "      <td>9267.0</td>\n",
       "      <td>52.5</td>\n",
       "      <td>9251.0</td>\n",
       "      <td>158810.0</td>\n",
       "      <td>147471.0</td>\n",
       "    </tr>\n",
       "    <tr>\n",
       "      <th>2019-10-14</th>\n",
       "      <td>9259.0</td>\n",
       "      <td>9292.0</td>\n",
       "      <td>9250.5</td>\n",
       "      <td>9261.0</td>\n",
       "      <td>14.0</td>\n",
       "      <td>9265.0</td>\n",
       "      <td>69457.0</td>\n",
       "      <td>153902.0</td>\n",
       "    </tr>\n",
       "    <tr>\n",
       "      <th>2019-10-15</th>\n",
       "      <td>9264.5</td>\n",
       "      <td>9280.0</td>\n",
       "      <td>9216.5</td>\n",
       "      <td>9220.0</td>\n",
       "      <td>43.5</td>\n",
       "      <td>9221.5</td>\n",
       "      <td>108342.0</td>\n",
       "      <td>151564.0</td>\n",
       "    </tr>\n",
       "  </tbody>\n",
       "</table>\n",
       "</div>"
      ],
      "text/plain": [
       "              Open    High     Low    Last  Change  Settle    Volume  \\\n",
       "Date                                                                   \n",
       "2019-10-09  9381.0  9391.5  9330.5  9343.5    38.5  9338.0   99153.0   \n",
       "2019-10-10  9343.5  9380.5  9293.5  9301.0    34.5  9303.5  159397.0   \n",
       "2019-10-11  9308.5  9309.0  9240.0  9267.0    52.5  9251.0  158810.0   \n",
       "2019-10-14  9259.0  9292.0  9250.5  9261.0    14.0  9265.0   69457.0   \n",
       "2019-10-15  9264.5  9280.0  9216.5  9220.0    43.5  9221.5  108342.0   \n",
       "\n",
       "            Previous Day Open Interest  \n",
       "Date                                    \n",
       "2019-10-09                    145470.0  \n",
       "2019-10-10                    144474.0  \n",
       "2019-10-11                    147471.0  \n",
       "2019-10-14                    153902.0  \n",
       "2019-10-15                    151564.0  "
      ]
     },
     "execution_count": 23,
     "metadata": {},
     "output_type": "execute_result"
    }
   ],
   "source": [
    "yen_futures = yen_futures.loc[\"1990-01-01\":, :]\n",
    "yen_futures.tail()"
   ]
  },
  {
   "cell_type": "markdown",
   "metadata": {},
   "source": [
    "## Return Forecasting: Initial Time-Series Plotting"
   ]
  },
  {
   "cell_type": "markdown",
   "metadata": {},
   "source": [
    "* Plot the \"Settle\""
   ]
  },
  {
   "cell_type": "code",
   "execution_count": 24,
   "metadata": {},
   "outputs": [
    {
     "data": {},
     "metadata": {},
     "output_type": "display_data"
    },
    {
     "data": {
      "application/vnd.holoviews_exec.v0+json": "",
      "text/html": [
       "<div id='1588'>\n",
       "\n",
       "\n",
       "\n",
       "\n",
       "\n",
       "  <div class=\"bk-root\" id=\"978dd4b3-9bba-4830-8429-ac4dcf33f070\" data-root-id=\"1588\"></div>\n",
       "</div>\n",
       "<script type=\"application/javascript\">\n",
       "    function msg_handler(msg) {\n",
       "      var metadata = msg.metadata;\n",
       "      var buffers = msg.buffers;\n",
       "      var msg = msg.content.data;\n",
       "      if ((metadata.msg_type == \"Ready\")) {\n",
       "        if (metadata.content) {\n",
       "          console.log(\"Python callback returned following output:\", metadata.content);\n",
       "        }\n",
       "      } else if (metadata.msg_type == \"Error\") {\n",
       "        console.log(\"Python failed with the following traceback:\", metadata.traceback)\n",
       "      } else {\n",
       "        \n",
       "var plot_id = \"1588\";\n",
       "\n",
       "if ((plot_id in window.PyViz.plot_index) && (window.PyViz.plot_index[plot_id] != null)) {\n",
       "  var plot = window.PyViz.plot_index[plot_id];\n",
       "} else if ((Bokeh !== undefined) && (plot_id in Bokeh.index)) {\n",
       "  var plot = Bokeh.index[plot_id];\n",
       "}\n",
       "\n",
       "if (plot == null) {\n",
       "  return\n",
       "}\n",
       "\n",
       "if (plot_id in window.PyViz.receivers) {\n",
       "  var receiver = window.PyViz.receivers[plot_id];\n",
       "} else {\n",
       "  var receiver = new Bokeh.protocol.Receiver();\n",
       "  window.PyViz.receivers[plot_id] = receiver;\n",
       "}\n",
       "\n",
       "if ((buffers != undefined) && (buffers.length > 0)) {\n",
       "  receiver.consume(buffers[0].buffer)\n",
       "} else {\n",
       "  receiver.consume(msg)\n",
       "}\n",
       "\n",
       "const comm_msg = receiver.message;\n",
       "if ((comm_msg != null) && (Object.keys(comm_msg.content).length > 0)) {\n",
       "  plot.model.document.apply_json_patch(comm_msg.content, comm_msg.buffers)\n",
       "}\n",
       "\n",
       "      }\n",
       "    }\n",
       "    if ((window.PyViz == undefined) || (!window.PyViz.comm_manager)) {\n",
       "      console.log(\"Could not find comm manager\")\n",
       "    } else {\n",
       "      window.PyViz.comm_manager.register_target('1588', '0f311eb341bd4dd5b2240dc386eda9d2', msg_handler);\n",
       "    }\n",
       "    \n",
       "(function(root) {\n",
       "  function embed_document(root) {\n",
       "  var docs_json = {\"038cc847-88ba-4541-84fc-35741f81eb94\":{\"roots\":{\"references\":[{\"attributes\":{\"dimension\":1,\"grid_line_color\":null,\"ticker\":{\"id\":\"1608\",\"type\":\"BasicTicker\"}},\"id\":\"1611\",\"type\":\"Grid\"},{\"attributes\":{\"bottom_units\":\"screen\",\"fill_alpha\":{\"value\":0.5},\"fill_color\":{\"value\":\"lightgrey\"},\"left_units\":\"screen\",\"level\":\"overlay\",\"line_alpha\":{\"value\":1.0},\"line_color\":{\"value\":\"black\"},\"line_dash\":[4,4],\"line_width\":{\"value\":2},\"render_mode\":\"css\",\"right_units\":\"screen\",\"top_units\":\"screen\"},\"id\":\"1653\",\"type\":\"BoxAnnotation\"},{\"attributes\":{},\"id\":\"1633\",\"type\":\"DatetimeTickFormatter\"},{\"attributes\":{\"line_color\":\"#1f77b3\",\"line_width\":2,\"x\":{\"field\":\"Date\"},\"y\":{\"field\":\"Settle\"}},\"id\":\"1627\",\"type\":\"Line\"},{\"attributes\":{\"line_alpha\":0.2,\"line_color\":\"#1f77b3\",\"line_width\":2,\"x\":{\"field\":\"Date\"},\"y\":{\"field\":\"Settle\"}},\"id\":\"1629\",\"type\":\"Line\"},{\"attributes\":{\"days\":[1,4,7,10,13,16,19,22,25,28]},\"id\":\"1645\",\"type\":\"DaysTicker\"},{\"attributes\":{\"days\":[1,2,3,4,5,6,7,8,9,10,11,12,13,14,15,16,17,18,19,20,21,22,23,24,25,26,27,28,29,30,31]},\"id\":\"1644\",\"type\":\"DaysTicker\"},{\"attributes\":{},\"id\":\"1655\",\"type\":\"UnionRenderers\"},{\"attributes\":{},\"id\":\"1625\",\"type\":\"Selection\"},{\"attributes\":{\"line_alpha\":0.1,\"line_color\":\"#1f77b3\",\"line_width\":2,\"x\":{\"field\":\"Date\"},\"y\":{\"field\":\"Settle\"}},\"id\":\"1628\",\"type\":\"Line\"},{\"attributes\":{\"align\":null,\"below\":[{\"id\":\"1602\",\"type\":\"DatetimeAxis\"}],\"center\":[{\"id\":\"1606\",\"type\":\"Grid\"},{\"id\":\"1611\",\"type\":\"Grid\"}],\"left\":[{\"id\":\"1607\",\"type\":\"LinearAxis\"}],\"margin\":null,\"min_border_bottom\":10,\"min_border_left\":10,\"min_border_right\":10,\"min_border_top\":10,\"plot_height\":300,\"plot_width\":700,\"renderers\":[{\"id\":\"1630\",\"type\":\"GlyphRenderer\"}],\"sizing_mode\":\"fixed\",\"title\":{\"id\":\"1594\",\"type\":\"Title\"},\"toolbar\":{\"id\":\"1617\",\"type\":\"Toolbar\"},\"x_range\":{\"id\":\"1590\",\"type\":\"Range1d\"},\"x_scale\":{\"id\":\"1598\",\"type\":\"LinearScale\"},\"y_range\":{\"id\":\"1591\",\"type\":\"Range1d\"},\"y_scale\":{\"id\":\"1600\",\"type\":\"LinearScale\"}},\"id\":\"1593\",\"subtype\":\"Figure\",\"type\":\"Plot\"},{\"attributes\":{\"data_source\":{\"id\":\"1624\",\"type\":\"ColumnDataSource\"},\"glyph\":{\"id\":\"1627\",\"type\":\"Line\"},\"hover_glyph\":null,\"muted_glyph\":{\"id\":\"1629\",\"type\":\"Line\"},\"nonselection_glyph\":{\"id\":\"1628\",\"type\":\"Line\"},\"selection_glyph\":null,\"view\":{\"id\":\"1631\",\"type\":\"CDSView\"}},\"id\":\"1630\",\"type\":\"GlyphRenderer\"},{\"attributes\":{},\"id\":\"1612\",\"type\":\"SaveTool\"},{\"attributes\":{\"callback\":null,\"data\":{\"Date\":{\"__ndarray__\":\"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\",\"dtype\":\"float64\",\"shape\":[7515]},\"Settle\":{\"__ndarray__\":\"AAAAAAC/ukAAAAAAAOe6QAAAAAAAYLtAAAAAAAAmu0AAAAAAAC+7QAAAAAAAA7tAAAAAAADnukAAAAAAAO26QAAAAAAA2bpAAAAAAADxukAAAAAAAPG6QAAAAAAA8bpAAAAAAADFukAAAAAAANu6QAAAAAAAurpAAAAAAADUukAAAAAAAOS6QAAAAAAAKbtAAAAAAABuu0AAAAAAAFu7QAAAAAAA/bpAAAAAAAAbu0AAAAAAAAK7QAAAAAAA5LpAAAAAAAAGu0AAAAAAAOu6QAAAAAAA4bpAAAAAAADqukAAAAAAAAW7QAAAAAAAGrtAAAAAAAAZu0AAAAAAABu7QAAAAAAACLtAAAAAAAApu0AAAAAAAPC6QAAAAAAA4rpAAAAAAACmukAAAAAAAJO6QAAAAAAASbpAAAAAAABNukAAAAAAAEC6QAAAAAAAFrpAAAAAAAAFukAAAAAAAD+6QAAAAAAAGLpAAAAAAADruUAAAAAAAOG5QAAAAAAA1rlAAAAAAAChuUAAAAAAAK25QAAAAAAArrlAAAAAAACtuUAAAAAAAJa5QAAAAAAAdrlAAAAAAABeuUAAAAAAAF65QAAAAAAAOLlAAAAAAABnuUAAAAAAAAa5QAAAAAAA5LhAAAAAAACiuEAAAAAAAAe5QAAAAAAAxrhAAAAAAACpuEAAAAAAAJG4QAAAAAAApLhAAAAAAADguEAAAAAAANO4QAAAAAAAvLhAAAAAAADPuEAAAAAAAMe4QAAAAAAAxLhAAAAAAACPuEAAAAAAAIG4QAAAAAAAtrhAAAAAAAD4uEAAAAAAAN+4QAAAAAAA1rhAAAAAAACguEAAAAAAAKq4QAAAAAAAlbhAAAAAAACQuEAAAAAAAKO4QAAAAAAAo7hAAAAAAAC7uEAAAAAAAMG4QAAAAAAAvbhAAAAAAAC9uEAAAAAAANG4QAAAAAAA/LhAAAAAAADvuEAAAAAAAJa5QAAAAAAAo7lAAAAAAADwuUAAAAAAAMe5QAAAAAAAtLlAAAAAAACKuUAAAAAAAHG5QAAAAAAA07lAAAAAAADOuUAAAAAAAOW5QAAAAAAAHrpAAAAAAADiuUAAAAAAANK5QAAAAAAArblAAAAAAADDuUAAAAAAAJS5QAAAAAAAn7lAAAAAAACduUAAAAAAAJ65QAAAAAAAd7lAAAAAAABCuUAAAAAAAES5QAAAAAAAPrlAAAAAAABUuUAAAAAAAF+5QAAAAAAAXLlAAAAAAACEuUAAAAAAAHC5QAAAAAAAULlAAAAAAABHuUAAAAAAACy5QAAAAAAATblAAAAAAABbuUAAAAAAAJK5QAAAAAAAurlAAAAAAADsuUAAAAAAAO65QAAAAAAA9rlAAAAAAADPuUAAAAAAAOC5QAAAAAAAZbpAAAAAAABlukAAAAAAAH26QAAAAAAAaLpAAAAAAABgukAAAAAAAHG6QAAAAAAAdrpAAAAAAABvukAAAAAAAEK6QAAAAAAAYLpAAAAAAABUukAAAAAAABG6QAAAAAAA97lAAAAAAAA6ukAAAAAAAGm6QAAAAAAAy7pAAAAAAACWukAAAAAAACm6QAAAAAAACrpAAAAAAAADukAAAAAAAPq5QAAAAAAAE7pAAAAAAAAVukAAAAAAAPi5QAAAAAAAArpAAAAAAABGukAAAAAAAH66QAAAAAAAirpAAAAAAACBukAAAAAAALS6QAAAAAAAobpAAAAAAAC/ukAAAAAAAL+6QAAAAAAApbpAAAAAAAAZu0AAAAAAADW7QAAAAAAAMbtAAAAAAAAYu0AAAAAAAC67QAAAAAAAPbtAAAAAAACXu0AAAAAAAMO7QAAAAAAA67tAAAAAAAADvEAAAAAAANm7QAAAAAAATbxAAAAAAACrvEAAAAAAAIe8QAAAAAAAe7xAAAAAAABNvEAAAAAAAHC8QAAAAAAAXbxAAAAAAACZvEAAAAAAAG+8QAAAAAAAjbxAAAAAAACHvEAAAAAAAEa8QAAAAAAAMrxAAAAAAACNvEAAAAAAAIy8QAAAAAAAu7xAAAAAAAArvUAAAAAAAI29QAAAAAAA7r1AAAAAAADkvUAAAAAAACe+QAAAAAAAL75AAAAAAABKvkAAAAAAAJe+QAAAAAAAzb5AAAAAAAAcv0AAAAAAAF6/QAAAAAAAA79AAAAAAADwvkAAAAAAAIe+QAAAAAAA375AAAAAAACGvkAAAAAAAG6+QAAAAAAAZr5AAAAAAABZvkAAAAAAAAy+QAAAAAAA6r1AAAAAAACQvkAAAAAAANa+QAAAAAAAer5AAAAAAABOvkAAAAAAABG+QAAAAAAAFL5AAAAAAABtvkAAAAAAACG+QAAAAAAAS75AAAAAAAAbvkAAAAAAACS+QAAAAAAAVr5AAAAAAABEvkAAAAAAALq+QAAAAAAAvb5AAAAAAABDvkAAAAAAAHS+QAAAAAAACL5AAAAAAABFvUAAAAAAAHK9QAAAAAAA/bxAAAAAAAAyvUAAAAAAACa9QAAAAAAAe71AAAAAAADivUAAAAAAAI29QAAAAAAAer1AAAAAAACtvUAAAAAAAIu9QAAAAAAAWL1AAAAAAABUvUAAAAAAAEu9QAAAAAAAHL1AAAAAAADuvEAAAAAAAN+8QAAAAAAAtbxAAAAAAAC2vEAAAAAAAKa8QAAAAAAA77xAAAAAAADYvEAAAAAAAAW9QAAAAAAAWb1AAAAAAADyvEAAAAAAAKe8QAAAAAAAmrxAAAAAAAB9vEAAAAAAAAm9QAAAAAAAHr1AAAAAAADRvEAAAAAAAMS8QAAAAAAAh7xAAAAAAACMvUAAAAAAAIW9QAAAAAAAjr1AAAAAAAB3vUAAAAAAAIS9QAAAAAAAer1AAAAAAABivUAAAAAAAKO9QAAAAAAAiL1AAAAAAAC4vUAAAAAAAL69QAAAAAAApr1AAAAAAADZvUAAAAAAACC+QAAAAAAAeL5AAAAAAABhvkAAAAAAAIW+QAAAAAAAjb5AAAAAAABmvkAAAAAAABC+QAAAAAAAF75AAAAAAADkvUAAAAAAAKe9QAAAAAAArr1AAAAAAAC7vUAAAAAAAIC9QAAAAAAAOr1AAAAAAABfvUAAAAAAAI+9QAAAAAAAVr1AAAAAAAD+vEAAAAAAAMu8QAAAAAAAqLxAAAAAAAC4vEAAAAAAAMe8QAAAAAAAjbxAAAAAAAA6vEAAAAAAAKq8QAAAAAAAz7xAAAAAAADLvEAAAAAAAGO8QAAAAAAAObxAAAAAAAA8vEAAAAAAACy8QAAAAAAAdbxAAAAAAABVvEAAAAAAAPq7QAAAAAAABbxAAAAAAADlu0AAAAAAAI+7QAAAAAAA6rtAAAAAAABLvEAAAAAAAFq8QAAAAAAAprxAAAAAAACQvEAAAAAAAG+8QAAAAAAA37xAAAAAAAA7vEAAAAAAAJK8QAAAAAAAjbxAAAAAAAAJvUAAAAAAAPC8QAAAAAAAnLxAAAAAAABJvEAAAAAAAC28QAAAAAAA7rtAAAAAAABPvEAAAAAAAEC8QAAAAAAASrxAAAAAAAAyvEAAAAAAAHi8QAAAAAAAmrxAAAAAAAAvvEAAAAAAADu8QAAAAAAACLxAAAAAAAAzvEAAAAAAAEG8QAAAAAAALrxAAAAAAAA5vEAAAAAAABa8QAAAAAAA+7tAAAAAAAA7vEAAAAAAAHa8QAAAAAAAZLxAAAAAAAA2vEAAAAAAACq8QAAAAAAAarxAAAAAAABSvEAAAAAAAFG8QAAAAAAANrxAAAAAAABavEAAAAAAAEW8QAAAAAAAU7xAAAAAAAA7vEAAAAAAAA28QAAAAAAAHbxAAAAAAAAGvEAAAAAAAAy8QAAAAAAA0LtAAAAAAACRu0AAAAAAAKe7QAAAAAAAortAAAAAAACqu0AAAAAAAMC7QAAAAAAAqLtAAAAAAACju0AAAAAAAMi7QAAAAAAALLxAAAAAAAAAvEAAAAAAAA28QAAAAAAAGLxAAAAAAAAivEAAAAAAADy8QAAAAAAAT7xAAAAAAAAgvEAAAAAAAAq8QAAAAAAA6btAAAAAAAAvvEAAAAAAAB+8QAAAAAAAFLxAAAAAAAAfvEAAAAAAABu8QAAAAAAAmrxAAAAAAAB8vEAAAAAAAGe8QAAAAAAAc7xAAAAAAABWvEAAAAAAAJa8QAAAAAAAUbxAAAAAAAByvEAAAAAAAFu8QAAAAAAAFLxAAAAAAABSvEAAAAAAAEe8QAAAAAAASbxAAAAAAABivEAAAAAAAFi8QAAAAAAAa7xAAAAAAACDvEAAAAAAAMu8QAAAAAAAsLxAAAAAAACivEAAAAAAAIq8QAAAAAAAkrxAAAAAAACVvEAAAAAAAIq8QAAAAAAAbbxAAAAAAABjvEAAAAAAADa8QAAAAAAAabxAAAAAAACcvEAAAAAAAJC8QAAAAAAAgbxAAAAAAACEvEAAAAAAAH+8QAAAAAAAjbxAAAAAAAB0vEAAAAAAAIm8QAAAAAAAvrxAAAAAAADOvEAAAAAAAMG8QAAAAAAAxrxAAAAAAAABvUAAAAAAAPi8QAAAAAAA77xAAAAAAAAzvUAAAAAAACm9QAAAAAAANb1AAAAAAAAcvUAAAAAAAP28QAAAAAAA/rxAAAAAAAAKvUAAAAAAAGG9QAAAAAAAOb1AAAAAAAA/vUAAAAAAABq9QAAAAAAARb1AAAAAAABWvUAAAAAAADm9QAAAAAAAYL1AAAAAAADYvUAAAAAAAPi9QAAAAAAAJb5AAAAAAADzvUAAAAAAAAm+QAAAAAAA7L1AAAAAAAASvkAAAAAAAB2+QAAAAAAA/b1AAAAAAADyvUAAAAAAABu+QAAAAAAAGb5AAAAAAADUvUAAAAAAALK9QAAAAAAAnb1AAAAAAACxvUAAAAAAAKy9QAAAAAAAe71AAAAAAADZvUAAAAAAAMK9QAAAAAAA1r1AAAAAAAARvkAAAAAAADK+QAAAAAAAAr5AAAAAAAACvkAAAAAAAAy+QAAAAAAA871AAAAAAAAEvkAAAAAAAAu+QAAAAAAA/71AAAAAAAAavkAAAAAAABi+QAAAAAAAIr5AAAAAAAAMvkAAAAAAAA++QAAAAAAAH75AAAAAAAApvkAAAAAAAIe+QAAAAAAA0b1AAAAAAAD4vUAAAAAAAA++QAAAAAAAA75AAAAAAAAmvkAAAAAAADq+QAAAAAAAWL5AAAAAAAB8vkAAAAAAAG6+QAAAAAAAX75AAAAAAAApvkAAAAAAADK+QAAAAAAASL5AAAAAAABtvkAAAAAAAEe+QAAAAAAAVr5AAAAAAABevkAAAAAAAIi+QAAAAAAAtb5AAAAAAACFvkAAAAAAANO+QAAAAAAA6r5AAAAAAAAGv0AAAAAAADe/QAAAAAAASr9AAAAAAAA4v0AAAAAAAJC/QAAAAAAAZb9AAAAAAABcv0AAAAAAAPy+QAAAAAAAsL5AAAAAAACuvkAAAAAAALu+QAAAAAAARr5AAAAAAABwvkAAAAAAAE+/QAAAAAAAn79AAAAAAACCv0AAAAAAAJe/QAAAAAAAe79AAAAAAACUv0AAAAAAACS/QAAAAAAA+r5AAAAAAAAIv0AAAAAAAAu/QAAAAAAA/L5AAAAAAADdvkAAAAAAAO2+QAAAAAAAEL9AAAAAAAAFv0AAAAAAACC/QAAAAAAAyr5AAAAAAAChvkAAAAAAAJy+QAAAAAAAkb5AAAAAAACKvkAAAAAAAHu+QAAAAAAAb75AAAAAAABUvkAAAAAAAEe+QAAAAAAAN75AAAAAAAANvkAAAAAAADG+QAAAAAAAQr5AAAAAAAAivkAAAAAAAB++QAAAAAAAzL1AAAAAAACfvUAAAAAAAJi9QAAAAAAAoL1AAAAAAACbvUAAAAAAAGW9QAAAAAAAT71AAAAAAAAbvUAAAAAAADm9QAAAAAAAIb1AAAAAAABavUAAAAAAAHy9QAAAAAAAMr1AAAAAAAAjvUAAAAAAADW9QAAAAAAAOL1AAAAAAAA0vUAAAAAAABG9QAAAAAAAS71AAAAAAABkvUAAAAAAAGq9QAAAAAAA/bxAAAAAAAArvUAAAAAAAEa9QAAAAAAAWr1AAAAAAABYvUAAAAAAAGe9QAAAAAAAk71AAAAAAABevUAAAAAAAFO9QAAAAAAAXb1AAAAAAABCvUAAAAAAACG9QAAAAAAAEr1AAAAAAAAUvUAAAAAAABa9QAAAAAAA9bxAAAAAAAAHvUAAAAAAAF+9QAAAAAAASb1AAAAAAAA9vUAAAAAAAEq9QAAAAAAAbr1AAAAAAABOvUAAAAAAAFu9QAAAAAAAh71AAAAAAABnvUAAAAAAAEG9QAAAAAAAWr1AAAAAAADmvUAAAAAAABm+QAAAAAAAAL5AAAAAAAAUvkAAAAAAAFC+QAAAAAAAPr5AAAAAAAAevkAAAAAAAPq9QAAAAAAANL5AAAAAAAAqvkAAAAAAAPu9QAAAAAAALL5AAAAAAACYvkAAAAAAAMq+QAAAAAAArb5AAAAAAACdvkAAAAAAAKK+QAAAAAAAzb5AAAAAAAC2vkAAAAAAAKO+QAAAAAAAmL5AAAAAAADjvkAAAAAAANm+QAAAAAAA1r5AAAAAAADUvkAAAAAAAKq+QAAAAAAAw75AAAAAAAC0vkAAAAAAAKu+QAAAAAAAp75AAAAAAADTvkAAAAAAACa/QAAAAAAADb9AAAAAAAAZv0AAAAAAAAq/QAAAAAAAG79AAAAAAABUv0AAAAAAAF2/QAAAAAAAbr9AAAAAAABOv0AAAAAAAAu/QAAAAAAAGr9AAAAAAAA6v0AAAAAAACm/QAAAAAAALb9AAAAAAAAfv0AAAAAAAFO/QAAAAAAAG79AAAAAAAAjv0AAAAAAAMa+QAAAAAAAwr5AAAAAAAB7vkAAAAAAAJO+QAAAAAAAor5AAAAAAACHvkAAAAAAAJO+QAAAAAAAtL5AAAAAAACxvkAAAAAAAKq+QAAAAAAAk75AAAAAAACUvkAAAAAAAKC+QAAAAAAAhr5AAAAAAACBvkAAAAAAAK6+QAAAAAAA5b5AAAAAAAD+vkAAAAAAAA+/QAAAAAAA9L5AAAAAAADdvkAAAAAAAOC+QAAAAAAAEL9AAAAAAABcv0AAAAAAAFy/QAAAAAAASr9AAAAAAABNv0AAAAAAAK+/QAAAAAAAur9AAAAAAADKv0AAAAAAALu/QAAAAAAAhb9AAAAAAAC4v0AAAAAAAMq/QAAAAAAAub9AAAAAAACqv0AAAAAAAG6/QAAAAAAAVL9AAAAAAABdv0AAAAAAAEG/QAAAAAAAUr9AAAAAAABSv0AAAAAAAIe/QAAAAAAAHMBAAAAAAABKwEAAAAAAADHAQAAAAACAKMBAAAAAAIBIwEAAAAAAAFjAQAAAAAAAQcBAAAAAAABDwEAAAAAAAFbAQAAAAACAR8BAAAAAAIBLwEAAAAAAgC/AQAAAAAAA8L9AAAAAAIAAwEAAAAAAgCfAQAAAAACAFMBAAAAAAAAdwEAAAAAAgDrAQAAAAACAV8BAAAAAAABBwEAAAAAAAOW/QAAAAAAA379AAAAAAAAmwEAAAAAAgAjAQAAAAAAA/r9AAAAAAAD4v0AAAAAAAK2/QAAAAAAArL9AAAAAAACkv0AAAAAAAI+/QAAAAAAA2b9AAAAAAACxv0AAAAAAAMm/QAAAAAAAnr9AAAAAAABvv0AAAAAAAGy/QAAAAAAAar9AAAAAAAB+v0AAAAAAAHu/QAAAAAAATr9AAAAAAABpv0AAAAAAAI6/QAAAAAAAo79AAAAAAABpv0AAAAAAAHm/QAAAAAAAiL9AAAAAAACKv0AAAAAAAF6/QAAAAAAAVb9AAAAAAABxv0AAAAAAAF+/QAAAAAAAVb9AAAAAAABDv0AAAAAAAI2/QAAAAAAAlL9AAAAAAAB9v0AAAAAAAJO/QAAAAAAAhb9AAAAAAACOv0AAAAAAAHq/QAAAAAAAxr9AAAAAAADTv0AAAAAAALC/QAAAAAAAt79AAAAAAACLv0AAAAAAAIW/QAAAAAAAf79AAAAAAAA4v0AAAAAAAEu/QAAAAAAAVb9AAAAAAABEv0AAAAAAACG/QAAAAAAAR79AAAAAAAAyv0AAAAAAACu/QAAAAAAAJL9AAAAAAAAzv0AAAAAAACi/QAAAAAAAEr9AAAAAAAAFv0AAAAAAAPW+QAAAAAAAFb9AAAAAAAAZv0AAAAAAAFS/QAAAAAAAQb9AAAAAAAAzv0AAAAAAAK6/QAAAAAAAn79AAAAAAABzv0AAAAAAAHK/QAAAAAAAS79AAAAAAAA8v0AAAAAAAFS/QAAAAAAAZL9AAAAAAABev0AAAAAAAGe/QAAAAAAAkb9AAAAAAIAewEAAAAAAgCLAQAAAAAAAJMBAAAAAAIAwwEAAAAAAAEXAQAAAAAAAWMBAAAAAAABlwEAAAAAAgHzAQAAAAACAy8BAAAAAAACwwEAAAAAAAKHAQAAAAACAoMBAAAAAAACEwEAAAAAAAHPAQAAAAAAAl8BAAAAAAIC3wEAAAAAAgL3AQAAAAAAAm8BAAAAAAIC0wEAAAAAAgJbAQAAAAAAAjsBAAAAAAICawEAAAAAAAIjAQAAAAACAgMBAAAAAAIC0wEAAAAAAgKXAQAAAAAAAz8BAAAAAAIDVwEAAAAAAgOLAQAAAAACAz8BAAAAAAACPwEAAAAAAgKXAQAAAAACAxMBAAAAAAAC0wEAAAAAAAL3AQAAAAAAAAMFAAAAAAAAiwUAAAAAAgCTBQAAAAAAALcFAAAAAAIAhwUAAAAAAADHBQAAAAACAOMFAAAAAAIBRwUAAAAAAAD3BQAAAAACAJsFAAAAAAABAwUAAAAAAAGvBQAAAAACAksFAAAAAAACrwUAAAAAAgKHBQAAAAAAAw8FAAAAAAICtwUAAAAAAgKrBQAAAAAAAg8FAAAAAAIBqwUAAAAAAgJXBQAAAAAAAmcFAAAAAAACfwUAAAAAAgLbBQAAAAACAscFAAAAAAIDBwUAAAAAAgLLBQAAAAAAAesFAAAAAAICFwUAAAAAAgHzBQAAAAAAAdMFAAAAAAICiwUAAAAAAgIjBQAAAAAAAg8FAAAAAAACgwUAAAAAAgKbBQAAAAAAAtMFAAAAAAICqwUAAAAAAANrBQAAAAAAAA8JAAAAAAIAkwkAAAAAAgDLCQAAAAAAAPMJAAAAAAIA1wkAAAAAAADfCQAAAAACAG8JAAAAAAIA0wkAAAAAAAFvCQAAAAAAAWsJAAAAAAIBmwkAAAAAAgGfCQAAAAACAj8JAAAAAAIB7wkAAAAAAAFrCQAAAAACAPcJAAAAAAIDLwUAAAAAAgJzBQAAAAAAAncFAAAAAAADrwUAAAAAAAPPBQAAAAACAbcJAAAAAAIBlwkAAAAAAgF7CQAAAAACAQsJAAAAAAIAtwkAAAAAAgP7BQAAAAAAA88FAAAAAAAAfwkAAAAAAAPnBQAAAAAAAx8FAAAAAAIDXwUAAAAAAABHCQAAAAACAM8JAAAAAAIAOwkAAAAAAgCbCQAAAAACA/cFAAAAAAIANwkAAAAAAAArCQAAAAAAAZMJAAAAAAABNwkAAAAAAAFLCQAAAAACAaMJAAAAAAIBtwkAAAAAAgFbCQAAAAACAp8JAAAAAAAC4wkAAAAAAgLbCQAAAAACAocJAAAAAAADAwkAAAAAAgLPCQAAAAAAAnsJAAAAAAIClwkAAAAAAgN7CQAAAAACA+MJAAAAAAAAtw0AAAAAAgDzDQAAAAACAUsNAAAAAAAAzw0AAAAAAgGjCQAAAAAAAsMJAAAAAAIDtwkAAAAAAgNjCQAAAAACAn8JAAAAAAIC3wkAAAAAAANLCQAAAAAAAzsJAAAAAAIClwkAAAAAAAHHCQAAAAACAtMJAAAAAAIDDwkAAAAAAAH/CQAAAAAAAiMJAAAAAAIBfwkAAAAAAgFDCQAAAAACAeMJAAAAAAABvwkAAAAAAgMbCQAAAAACAuMJAAAAAAICywkAAAAAAAFXCQAAAAAAAbcJAAAAAAAB0wkAAAAAAgHvCQAAAAAAAd8JAAAAAAIChwkAAAAAAgJjCQAAAAAAAa8JAAAAAAAB4wkAAAAAAgIHCQAAAAACAgcJAAAAAAACCwkAAAAAAgKLCQAAAAAAAccJAAAAAAABuwkAAAAAAgHPCQAAAAACAc8JAAAAAAAA2wkAAAAAAgD7CQAAAAAAANMJAAAAAAABAwkAAAAAAgDXCQAAAAACACsJAAAAAAAATwkAAAAAAAADCQAAAAAAAEMJAAAAAAID9wUAAAAAAABfCQAAAAACABcJAAAAAAAATwkAAAAAAgCTCQAAAAAAAKcJAAAAAAIAQwkAAAAAAABDCQAAAAACAHMJAAAAAAAAWwkAAAAAAADzCQAAAAACAX8JAAAAAAACCwkAAAAAAAFDCQAAAAACATcJAAAAAAABJwkAAAAAAgDPCQAAAAACA+cFAAAAAAIABwkAAAAAAgPnBQAAAAACAEcJAAAAAAADzwUAAAAAAAOLBQAAAAAAA58FAAAAAAID1wUAAAAAAgPXBQAAAAAAAAsJAAAAAAAAbwkAAAAAAAC/CQAAAAAAA8sFAAAAAAAD5wUAAAAAAAOfBQAAAAAAA7cFAAAAAAIDmwUAAAAAAgNXBQAAAAACA3MFAAAAAAADFwUAAAAAAALbBQAAAAACAncFAAAAAAAC9wUAAAAAAALnBQAAAAACAkMFAAAAAAICUwUAAAAAAAITBQAAAAACAgcFAAAAAAIB/wUAAAAAAAGPBQAAAAAAAYMFAAAAAAABXwUAAAAAAAF7BQAAAAACAe8FAAAAAAABuwUAAAAAAAGHBQAAAAACAbMFAAAAAAICCwUAAAAAAgKDBQAAAAAAAlMFAAAAAAACrwUAAAAAAAJHBQAAAAAAAkMFAAAAAAICHwUAAAAAAAIbBQAAAAACAm8FAAAAAAIDJwUAAAAAAAPPBQAAAAACAw8FAAAAAAAAAwkAAAAAAgCLCQAAAAACAIcJAAAAAAAAVwkAAAAAAAOXBQAAAAACA+sFAAAAAAID8wUAAAAAAAAjCQAAAAAAAD8JAAAAAAAA3wkAAAAAAABrDQAAAAACA8sJAAAAAAIDWwkAAAAAAgLzCQAAAAACAvcJAAAAAAICBwkAAAAAAAIPCQAAAAACAlMJAAAAAAACowkAAAAAAgK7CQAAAAACAsMJAAAAAAADCwkAAAAAAANjCQAAAAACAiMJAAAAAAIB5wkAAAAAAAIrCQAAAAACAccJAAAAAAACSwkAAAAAAgJbCQAAAAACAdcJAAAAAAAB4wkAAAAAAAH3CQAAAAAAAhcJAAAAAAAB2wkAAAAAAgHnCQAAAAACAfMJAAAAAAABtwkAAAAAAgLrCQAAAAACAssJAAAAAAADSwkAAAAAAAOrCQAAAAAAAD8NAAAAAAIAuw0AAAAAAgOXCQAAAAAAAA8NAAAAAAADCwkAAAAAAgMDCQAAAAAAAscJAAAAAAACdwkAAAAAAAP/CQAAAAACA7cJAAAAAAID1wkAAAAAAAM/CQAAAAAAA7MJAAAAAAIAAw0AAAAAAgPzCQAAAAACA/MJAAAAAAIDowkAAAAAAgPjCQAAAAACA+8JAAAAAAIALw0AAAAAAAFLDQAAAAAAAR8NAAAAAAAA9w0AAAAAAgF/DQAAAAACAN8NAAAAAAAAKw0AAAAAAAB7DQAAAAAAAEcNAAAAAAACzwkAAAAAAgL7CQAAAAACAwsJAAAAAAIChwkAAAAAAgKnCQAAAAACAscJAAAAAAIDmwkAAAAAAgMPCQAAAAAAAy8JAAAAAAAC/wkAAAAAAgK3CQAAAAAAAvcJAAAAAAACtwkAAAAAAAL7CQAAAAACApsJAAAAAAACxwkAAAAAAgKDCQAAAAAAAjsJAAAAAAICOwkAAAAAAgMLCQAAAAAAAysJAAAAAAIDKwkAAAAAAANjCQAAAAACA9MJAAAAAAAAhw0AAAAAAACjDQAAAAAAACsNAAAAAAIAZw0AAAAAAAEzDQAAAAAAAqMNAAAAAAIB/w0AAAAAAgGzDQAAAAAAAkMNAAAAAAACQw0AAAAAAgKjDQAAAAAAA78NAAAAAAIDxw0AAAAAAAO7DQAAAAAAA3cNAAAAAAIDgw0AAAAAAgOHDQAAAAAAAAcRAAAAAAIAZxEAAAAAAACzEQAAAAACA+8NAAAAAAIDrw0AAAAAAAArEQAAAAACA78NAAAAAAADLw0AAAAAAANfDQAAAAACAz8NAAAAAAIDTw0AAAAAAgN7DQAAAAAAA+sNAAAAAAADjw0AAAAAAgJPDQAAAAACAj8NAAAAAAIC9w0AAAAAAgITDQAAAAAAAh8NAAAAAAICCw0AAAAAAgIvDQAAAAAAAS8NAAAAAAIBVw0AAAAAAAFjDQAAAAACAg8NAAAAAAICHw0AAAAAAgI7DQAAAAACAfsNAAAAAAICLw0AAAAAAgN7DQAAAAAAA4MNAAAAAAIACxEAAAAAAAPfDQAAAAACAycNAAAAAAICmw0AAAAAAAHrDQAAAAACAjcNAAAAAAACmw0AAAAAAgIfDQAAAAACAnsNAAAAAAIC6w0AAAAAAgNTDQAAAAACAq8NAAAAAAAClw0AAAAAAALLDQAAAAACAucNAAAAAAADMw0AAAAAAgLLDQAAAAACApsNAAAAAAIC/w0AAAAAAgMrDQAAAAAAAIcRAAAAAAAAjxEAAAAAAgBLEQAAAAAAAHsRAAAAAAADmw0AAAAAAAAbEQAAAAAAA4sNAAAAAAADuw0AAAAAAANLDQAAAAACAvMNAAAAAAAC7w0AAAAAAAL/DQAAAAAAArsNAAAAAAICDw0AAAAAAgJXDQAAAAACAlcNAAAAAAACvw0AAAAAAALnDQAAAAAAA/sNAAAAAAAAdxEAAAAAAABPEQAAAAACAMMRAAAAAAIAzxEAAAAAAADPEQAAAAAAANMRAAAAAAIBJxEAAAAAAAD/EQAAAAAAAPcRAAAAAAIAkxEAAAAAAADvEQAAAAACASMRAAAAAAAAWxEAAAAAAgBDEQAAAAAAAGcRAAAAAAAAjxEAAAAAAACzEQAAAAAAABcRAAAAAAIAHxEAAAAAAABDEQAAAAACA7sNAAAAAAIDVw0AAAAAAgOjDQAAAAACA78NAAAAAAIDew0AAAAAAAOjDQAAAAACA5cNAAAAAAIDlw0AAAAAAANDDQAAAAACA1cNAAAAAAADGw0AAAAAAgMXDQAAAAAAAscNAAAAAAIByw0AAAAAAAHnDQAAAAACAisNAAAAAAICTw0AAAAAAAHHDQAAAAAAAhcNAAAAAAACJw0AAAAAAAIPDQAAAAACAd8NAAAAAAIB2w0AAAAAAAH/DQAAAAAAAgMNAAAAAAICqw0AAAAAAAJvDQAAAAACApsNAAAAAAICtw0AAAAAAgKDDQAAAAAAA28NAAAAAAADAw0AAAAAAAL7DQAAAAAAAjcNAAAAAAABow0AAAAAAAH3DQAAAAAAAZsNAAAAAAACzw0AAAAAAAKbDQAAAAACArcNAAAAAAIDqw0AAAAAAAPDDQAAAAAAA8MNAAAAAAADUw0AAAAAAgLPDQAAAAAAA1MNAAAAAAAC/w0AAAAAAALTDQAAAAAAArcNAAAAAAAC3w0AAAAAAgL/DQAAAAACAvsNAAAAAAIDvw0AAAAAAgK3DQAAAAACAwcNAAAAAAIC6w0AAAAAAgKTDQAAAAAAAt8NAAAAAAAC2w0AAAAAAgM/DQAAAAACAz8NAAAAAAIDPw0AAAAAAgNnDQAAAAAAA4cNAAAAAAIDrw0AAAAAAgBbEQAAAAAAAHcRAAAAAAIAnxEAAAAAAADDEQAAAAACAOcRAAAAAAAArxEAAAAAAACfEQAAAAACAOcRAAAAAAIA1xEAAAAAAgIbEQAAAAACAxsRAAAAAAAAVxUAAAAAAgMjFQAAAAACAXsVAAAAAAICSxUAAAAAAAHDFQAAAAACArsVAAAAAAIC7xUAAAAAAAATGQAAAAAAA3MVAAAAAAIAhxkAAAAAAgBLGQAAAAAAAJMZAAAAAAIApxkAAAAAAgFzGQAAAAACAKsZAAAAAAAAHxkAAAAAAADHGQAAAAACAU8ZAAAAAAIAAxkAAAAAAgMTGQAAAAAAA6sZAAAAAAIDhxkAAAAAAgPDGQAAAAACAGsdAAAAAAACHx0AAAAAAAHfHQAAAAAAAk8dAAAAAAICEx0AAAAAAAKTHQAAAAAAAAMhAAAAAAIBlyEAAAAAAgD3IQAAAAAAApMdAAAAAAIDFx0AAAAAAAKfHQAAAAACADchAAAAAAICCx0AAAAAAAITHQAAAAAAAWcdAAAAAAACNx0AAAAAAAHrHQAAAAACAfMdAAAAAAIBmx0AAAAAAgFvHQAAAAAAAkMdAAAAAAICFx0AAAAAAAGjHQAAAAACA6MZAAAAAAACWxkAAAAAAAKzGQAAAAACAq8ZAAAAAAICPxkAAAAAAAInGQAAAAAAAiMZAAAAAAABzxkAAAAAAgHrGQAAAAAAAdcZAAAAAAAAix0AAAAAAgKnHQAAAAACAo8dAAAAAAAAxx0AAAAAAgAzHQAAAAACAKcdAAAAAAIALx0AAAAAAAATHQAAAAACAHcdAAAAAAAAWx0AAAAAAACrHQAAAAAAAQsdAAAAAAAAbx0AAAAAAACfHQAAAAACAFcdAAAAAAAAUx0AAAAAAABPHQAAAAACAZcdAAAAAAAB4x0AAAAAAAFjHQAAAAAAAbMdAAAAAAIBpx0AAAAAAAHjHQAAAAACA+sZAAAAAAABax0AAAAAAgEjHQAAAAAAAScdAAAAAAAA9x0AAAAAAgCXHQAAAAAAAwsZAAAAAAICqxkAAAAAAAI3GQAAAAACAisZAAAAAAICIxkAAAAAAAHHGQAAAAACAMcZAAAAAAIBRxkAAAAAAAI3GQAAAAAAAXcZAAAAAAABBxkAAAAAAgHbGQAAAAAAAe8ZAAAAAAABtxkAAAAAAAFnGQAAAAACAU8ZAAAAAAABExkAAAAAAgE/GQAAAAAAAnsVAAAAAAAC0xUAAAAAAgH7FQAAAAAAAf8VAAAAAAIB2xUAAAAAAgG3FQAAAAACAMsVAAAAAAIDuxEAAAAAAgPnEQAAAAAAAPsRAAAAAAIAOxEAAAAAAgD/EQAAAAAAAHcRAAAAAAIA8xEAAAAAAAEHEQAAAAAAAQcRAAAAAAIBLxEAAAAAAAEDEQAAAAACAQMRAAAAAAID8w0AAAAAAAMjDQAAAAAAAG8RAAAAAAIAWxEAAAAAAAArEQAAAAACAxcNAAAAAAIDCw0AAAAAAgJ7DQAAAAAAAk8NAAAAAAIBbw0AAAAAAgATDQAAAAAAAE8NAAAAAAADJwkAAAAAAAObCQAAAAAAA8cJAAAAAAABGw0AAAAAAgBrEQAAAAAAA2cNAAAAAAICxw0AAAAAAAJPDQAAAAACArsNAAAAAAIDjw0AAAAAAAMfDQAAAAACApcNAAAAAAICAw0AAAAAAAJHDQAAAAACA2MNAAAAAAICew0AAAAAAAKPDQAAAAAAAncNAAAAAAICGw0AAAAAAgLLDQAAAAACAiMNAAAAAAACdw0AAAAAAAKzDQAAAAACAj8NAAAAAAICbw0AAAAAAgKTDQAAAAAAAu8NAAAAAAICdw0AAAAAAgHnDQAAAAAAAcsNAAAAAAIBUw0AAAAAAAE3DQAAAAAAAQsNAAAAAAIAOw0AAAAAAgOXCQAAAAAAA68JAAAAAAID9wkAAAAAAABLDQAAAAACAKsNAAAAAAICUw0AAAAAAgHbDQAAAAAAARcNAAAAAAIBMw0AAAAAAAF7DQAAAAACAM8NAAAAAAIA3w0AAAAAAgGDDQAAAAAAAUsNAAAAAAAB0w0AAAAAAgEzDQAAAAACAQ8NAAAAAAIBUw0AAAAAAgEnDQAAAAACAK8NAAAAAAIBWw0AAAAAAgFnDQAAAAACAVcNAAAAAAIBPw0AAAAAAgETDQAAAAACATcNAAAAAAIBWw0AAAAAAgDLDQAAAAAAAOsNAAAAAAIA+w0AAAAAAACHDQAAAAAAANMNAAAAAAIBow0AAAAAAAGzDQAAAAACAaMNAAAAAAABZw0AAAAAAAFXDQAAAAAAAOcNAAAAAAIA6w0AAAAAAgBbDQAAAAACA/MJAAAAAAIDSwkAAAAAAgL3CQAAAAACAusJAAAAAAAC8wkAAAAAAgM/CQAAAAACA0sJAAAAAAIDPwkAAAAAAALzCQAAAAAAAvMJAAAAAAICgwkAAAAAAgK3CQAAAAAAAp8JAAAAAAICwwkAAAAAAgJ3CQAAAAACAl8JAAAAAAIBiwkAAAAAAAGbCQAAAAACAb8JAAAAAAABpwkAAAAAAgFXCQAAAAAAAXcJAAAAAAIBkwkAAAAAAAHTCQAAAAACAs8JAAAAAAICqwkAAAAAAgIrCQAAAAAAAWcJAAAAAAABVwkAAAAAAAGDCQAAAAACAXcJAAAAAAAB4wkAAAAAAAI/CQAAAAACAm8JAAAAAAICJwkAAAAAAALHCQAAAAAAApsJAAAAAAICywkAAAAAAgMnCQAAAAAAAxcJAAAAAAIC6wkAAAAAAgJrCQAAAAAAAkMJAAAAAAICdwkAAAAAAAJfCQAAAAAAAj8JAAAAAAICSwkAAAAAAgHHCQAAAAACAisJAAAAAAICTwkAAAAAAAJfCQAAAAACAhMJAAAAAAIB1wkAAAAAAAGfCQAAAAAAAnMJAAAAAAACVwkAAAAAAgIDCQAAAAAAAe8JAAAAAAACZwkAAAAAAgInCQAAAAACAiMJAAAAAAICVwkAAAAAAAGnCQAAAAAAAWcJAAAAAAABXwkAAAAAAgHbCQAAAAACAbcJAAAAAAIBVwkAAAAAAAFLCQAAAAAAANcJAAAAAAIAvwkAAAAAAACzCQAAAAAAAJ8JAAAAAAIAlwkAAAAAAgDPCQAAAAAAAMMJAAAAAAAB0wkAAAAAAAFnCQAAAAAAAdMJAAAAAAABzwkAAAAAAgHXCQAAAAACAb8JAAAAAAICewkAAAAAAAMTCQAAAAACAt8JAAAAAAICnwkAAAAAAgNDCQAAAAAAAsMJAAAAAAIC6wkAAAAAAgLDCQAAAAACApsJAAAAAAAC+wkAAAAAAgJzCQAAAAACArsJAAAAAAICEwkAAAAAAAFjCQAAAAACAX8JAAAAAAIBcwkAAAAAAgE/CQAAAAACASsJAAAAAAIBOwkAAAAAAgFLCQAAAAAAAJ8JAAAAAAAD8wUAAAAAAgBrCQAAAAACAK8JAAAAAAAAZwkAAAAAAgAvCQAAAAAAA+sFAAAAAAIDzwUAAAAAAgOfBQAAAAAAA5sFAAAAAAIDtwUAAAAAAANjBQAAAAACA6sFAAAAAAAD1wUAAAAAAgObBQAAAAAAA8MFAAAAAAIBcwkAAAAAAgFHCQAAAAAAARsJAAAAAAIAbwkAAAAAAACPCQAAAAACAIMJAAAAAAIAMwkAAAAAAgBfCQAAAAACAAsJAAAAAAAADwkAAAAAAAOHBQAAAAACA3cFAAAAAAADSwUAAAAAAAM3BQAAAAAAA4sFAAAAAAIDjwUAAAAAAgN/BQAAAAACAxsFAAAAAAADdwUAAAAAAAAjCQAAAAACAH8JAAAAAAAAmwkAAAAAAgDnCQAAAAACATsJAAAAAAAA+wkAAAAAAgCXCQAAAAAAAKMJAAAAAAIAmwkAAAAAAgC/CQAAAAACANcJAAAAAAIBuwkAAAAAAgFfCQAAAAAAAY8JAAAAAAABswkAAAAAAAGPCQAAAAAAAMMJAAAAAAAAiwkAAAAAAgCHCQAAAAAAAPMJAAAAAAIA8wkAAAAAAACrCQAAAAAAAKcJAAAAAAIA0wkAAAAAAgC/CQAAAAACAFsJAAAAAAIARwkAAAAAAABrCQAAAAAAAIcJAAAAAAIAuwkAAAAAAgC/CQAAAAAAAEMJAAAAAAIAPwkAAAAAAAPjBQAAAAAAA6cFAAAAAAAD9wUAAAAAAgOnBQAAAAAAA3sFAAAAAAADlwUAAAAAAAM3BQAAAAAAAu8FAAAAAAAC4wUAAAAAAgK7BQAAAAACArsFAAAAAAIDwwUAAAAAAAB/CQAAAAAAAEcJAAAAAAID6wUAAAAAAgPzBQAAAAACAGcJAAAAAAADhwUAAAAAAgNnBQAAAAAAAz8FAAAAAAAC6wUAAAAAAgLfBQAAAAACAosFAAAAAAICywUAAAAAAAKPBQAAAAAAAvsFAAAAAAACwwUAAAAAAgKjBQAAAAACAucFAAAAAAICnwUAAAAAAAKfBQAAAAACAjcFAAAAAAACLwUAAAAAAAIrBQAAAAACAfsFAAAAAAIB0wUAAAAAAAIPBQAAAAAAAacFAAAAAAABswUAAAAAAAFXBQAAAAACANsFAAAAAAAAzwUAAAAAAAD/BQAAAAAAAO8FAAAAAAABVwUAAAAAAgEDBQAAAAAAANsFAAAAAAAA7wUAAAAAAAH/BQAAAAAAAjMFAAAAAAICuwUAAAAAAAJfBQAAAAACAj8FAAAAAAICiwUAAAAAAAKfBQAAAAAAAlMFAAAAAAACRwUAAAAAAgI/BQAAAAACAmcFAAAAAAICQwUAAAAAAgGHBQAAAAAAAZcFAAAAAAABGwUAAAAAAADHBQAAAAACAEMFAAAAAAIBEwUAAAAAAAE3BQAAAAACAZ8FAAAAAAABOwUAAAAAAAD3BQAAAAACAPMFAAAAAAIBKwUAAAAAAgDvBQAAAAACAJcFAAAAAAAAowUAAAAAAAF/BQAAAAAAAZsFAAAAAAIBXwUAAAAAAAEvBQAAAAACAU8FAAAAAAIBEwUAAAAAAgDHBQAAAAAAAF8FAAAAAAAD+wEAAAAAAgATBQAAAAAAAE8FAAAAAAIDzwEAAAAAAgA3BQAAAAAAAH8FAAAAAAIAIwUAAAAAAAPDAQAAAAAAA/MBAAAAAAADvwEAAAAAAgNfAQAAAAAAA3cBAAAAAAADqwEAAAAAAgNHAQAAAAAAArcBAAAAAAACGwEAAAAAAAHDAQAAAAACAiMBAAAAAAIB1wEAAAAAAgDnAQAAAAAAAHcBAAAAAAIApwEAAAAAAgCzAQAAAAACAIsBAAAAAAAALwEAAAAAAAL6/QAAAAAAAwr9AAAAAAADtv0AAAAAAAP6/QAAAAAAA5L9AAAAAAACcv0AAAAAAAIS/QAAAAAAAkr9AAAAAAACov0AAAAAAAH6/QAAAAAAA879AAAAAAADJv0AAAAAAgAnAQAAAAACAHMBAAAAAAAALwEAAAAAAADXAQAAAAACAS8BAAAAAAAAjwEAAAAAAAATAQAAAAAAAIsBAAAAAAAAlwEAAAAAAAAvAQAAAAAAAEsBAAAAAAIALwEAAAAAAAPe/QAAAAAAAqL9AAAAAAACqv0AAAAAAAJu/QAAAAAAAm79AAAAAAIAZwEAAAAAAAPS/QAAAAACAFsBAAAAAAAAWwEAAAAAAAPi/QAAAAAAA3L9AAAAAAIAAwEAAAAAAAPK/QAAAAAAAQcBAAAAAAIABwEAAAAAAgBnAQAAAAAAAwb9AAAAAAABvv0AAAAAAAEO/QAAAAAAAGb9AAAAAAABZv0AAAAAAAEq/QAAAAAAALb9AAAAAAABDv0AAAAAAAFe/QAAAAAAARL9AAAAAAABJv0AAAAAAAG+/QAAAAAAALb9AAAAAAAA5v0AAAAAAADa/QAAAAAAAKL9AAAAAAAD9vkAAAAAAAAG/QAAAAAAA9b5AAAAAAAAKv0AAAAAAAA2/QAAAAAAAD79AAAAAAABdv0AAAAAAAG2/QAAAAAAAv79AAAAAAABJwEAAAAAAgHfAQAAAAACAj8BAAAAAAIDFwEAAAAAAgOzAQAAAAAAA9MBAAAAAAID1wEAAAAAAAGTBQAAAAACAKcFAAAAAAADnwEAAAAAAAOzAQAAAAAAAyMBAAAAAAADrwEAAAAAAgNPAQAAAAAAA18BAAAAAAIDHwEAAAAAAgNvAQAAAAAAA1MBAAAAAAIDqwEAAAAAAgA7BQAAAAACASsFAAAAAAIBnwUAAAAAAgJjBQAAAAAAAHMFAAAAAAAABwUAAAAAAADTBQAAAAAAANMFAAAAAAAA0wUAAAAAAgFrBQAAAAAAAPcFAAAAAAIAwwUAAAAAAgDLBQAAAAACAWMFAAAAAAABwwUAAAAAAgD3BQAAAAAAAPcFAAAAAAIAvwUAAAAAAAD3BQAAAAAAAYMFAAAAAAAB+wUAAAAAAgHzBQAAAAACAfMFAAAAAAABtwUAAAAAAAEzBQAAAAAAAR8FAAAAAAAAOwUAAAAAAgA3BQAAAAACA9sBAAAAAAAADwUAAAAAAgPPAQAAAAACAEsFAAAAAAIAEwUAAAAAAgPLAQAAAAAAA0MBAAAAAAIC4wEAAAAAAAJnAQAAAAACAlsBAAAAAAICQwEAAAAAAAJnAQAAAAAAAm8BAAAAAAAB3wEAAAAAAAIvAQAAAAAAAk8BAAAAAAAAfwUAAAAAAAOnAQAAAAACA18BAAAAAAID3wEAAAAAAAJ/AQAAAAACAo8BAAAAAAICjwEAAAAAAAJfAQAAAAACAqsBAAAAAAAC4wEAAAAAAgJDAQAAAAAAAfMBAAAAAAACUwEAAAAAAgHnAQAAAAAAAb8BAAAAAAIAswEAAAAAAgBzAQAAAAAAAKsBAAAAAAIAlwEAAAAAAgCbAQAAAAACAI8BAAAAAAABrwEAAAAAAgF/AQAAAAAAAVsBAAAAAAIAnwEAAAAAAAD/AQAAAAACATcBAAAAAAIBbwEAAAAAAADzAQAAAAAAAK8BAAAAAAAA2wEAAAAAAgDXAQAAAAACAbcBAAAAAAIBXwEAAAAAAgEnAQAAAAACAUMBAAAAAAABkwEAAAAAAgFTAQAAAAAAANsBAAAAAAIAowEAAAAAAAC3AQAAAAACAF8BAAAAAAABFwEAAAAAAAEbAQAAAAACAccBAAAAAAIAywEAAAAAAAELAQAAAAACAccBAAAAAAABRwEAAAAAAAD7AQAAAAAAAS8BAAAAAAABKwEAAAAAAgCTAQAAAAACAJMBAAAAAAAAawEAAAAAAAFjAQAAAAAAARMBAAAAAAABUwEAAAAAAgFPAQAAAAAAAK8BAAAAAAAAUwEAAAAAAAOu/QAAAAAAA4b9AAAAAAACcv0AAAAAAAJC/QAAAAAAAEb9AAAAAAAAdv0AAAAAAAEG/QAAAAAAAM79AAAAAAAAov0AAAAAAAO6+QAAAAAAAEL9AAAAAAAACv0AAAAAAAOS+QAAAAAAAxb5AAAAAAADQvkAAAAAAAKK+QAAAAAAAWL5AAAAAAABovkAAAAAAAGW+QAAAAAAAOL5AAAAAAAAJvkAAAAAAAPa9QAAAAAAALL5AAAAAAAA4vkAAAAAAAAi+QAAAAAAA9L1AAAAAAADgvUAAAAAAAEu+QAAAAAAAKL9AAAAAAAC+vkAAAAAAAJq+QAAAAAAAZL5AAAAAAACRvkAAAAAAAHa+QAAAAAAATr5AAAAAAACDvkAAAAAAAFW+QAAAAAAAOL5AAAAAAADIvUAAAAAAAIC9QAAAAAAAfb1AAAAAAAAhvkAAAAAAALK9QAAAAAAA071AAAAAAACtvUAAAAAAAOu9QAAAAAAAFb5AAAAAAABevkAAAAAAAH2+QAAAAAAAqr5AAAAAAAAFv0AAAAAAAO2+QAAAAAAAVr9AAAAAAAAHv0AAAAAAAGC/QAAAAAAAiL9AAAAAAABLv0AAAAAAAOu+QAAAAAAAFL9AAAAAAAA0v0AAAAAAAM+/QAAAAAAAz79AAAAAAACgv0AAAAAAAK+/QAAAAAAA3b9AAAAAAADPv0AAAAAAAHq/QAAAAAAAUr9AAAAAAAD0vkAAAAAAAAa/QAAAAAAACL9AAAAAAACcvkAAAAAAAJ++QAAAAAAAoL5AAAAAAABkvkAAAAAAAM6+QAAAAAAADL9AAAAAAAA7v0AAAAAAAAS/QAAAAAAA3b5AAAAAAACSvkAAAAAAAJK+QAAAAAAAkr5AAAAAAACwvkAAAAAAAD2+QAAAAAAANr5AAAAAAAB4vkAAAAAAACe+QAAAAAAAqb5AAAAAAABnvkAAAAAAADy+QAAAAAAATL5AAAAAAABKvkAAAAAAAFO+QAAAAAAAr75AAAAAAADHvkAAAAAAAEu+QAAAAAAA5r1AAAAAAACjvUAAAAAAAIy9QAAAAAAAkr1AAAAAAAAyvUAAAAAAAES9QAAAAAAAkr1AAAAAAAAQvkAAAAAAAEC+QAAAAAAAaL5AAAAAAABsvkAAAAAAAEu+QAAAAAAA471AAAAAAADfvUAAAAAAAMy9QAAAAAAA9b1AAAAAAAAxvkAAAAAAADu+QAAAAAAA/71AAAAAAAC/vUAAAAAAAL+9QAAAAAAAtr1AAAAAAACPvUAAAAAAAIS9QAAAAAAAhL1AAAAAAADivUAAAAAAAIC9QAAAAAAAeL1AAAAAAACOvUAAAAAAAI69QAAAAAAARr1AAAAAAABCvUAAAAAAAE69QAAAAAAAKL1AAAAAAADIvEAAAAAAAMC8QAAAAAAA27xAAAAAAAASvUAAAAAAANu8QAAAAAAAZ7xAAAAAAACDvEAAAAAAADW8QAAAAAAANrxAAAAAAAAFvEAAAAAAADa8QAAAAAAANLxAAAAAAABFvEAAAAAAAPW7QAAAAAAAzLtAAAAAAADku0AAAAAAAKa7QAAAAAAAKrtAAAAAAAAFu0AAAAAAALW6QAAAAAAAnrtAAAAAAAAEvUAAAAAAALC8QAAAAAAAEb1AAAAAAACevEAAAAAAAG28QAAAAAAA/rtAAAAAAADCu0AAAAAAAM+7QAAAAAAA3LtAAAAAAABivEAAAAAAAJm8QAAAAAAA6btAAAAAAAAkvEAAAAAAAG28QAAAAAAAUrxAAAAAAADqu0AAAAAAAPa7QAAAAAAA4LtAAAAAAAAlvEAAAAAAAAu8QAAAAAAAIrxAAAAAAAA3vEAAAAAAAFq8QAAAAAAADrxAAAAAAADdu0AAAAAAANO7QAAAAAAAz7tAAAAAAAChu0AAAAAAAN67QAAAAAAAortAAAAAAABZu0AAAAAAACq7QAAAAAAA/LpAAAAAAAAdu0AAAAAAAEW7QAAAAAAAMrtAAAAAAADZukAAAAAAANu6QAAAAAAAo7pAAAAAAADRukAAAAAAAAa7QAAAAAAAzLpAAAAAAADgukAAAAAAAAq7QAAAAAAAPrtAAAAAAABku0AAAAAAAAy7QAAAAAAAPbtAAAAAAAAqu0AAAAAAADK7QAAAAAAAkbtAAAAAAACbu0AAAAAAAMO7QAAAAAAAubxAAAAAAABxvEAAAAAAAAm9QAAAAAAAPr1AAAAAAACYvUAAAAAAAIy8QAAAAAAAD71AAAAAAADbvUAAAAAAAEm9QAAAAAAAkr1AAAAAAABUvUAAAAAAAPK9QAAAAAAA1b1AAAAAAABovUAAAAAAADK9QAAAAAAAI71AAAAAAAA9vUAAAAAAAP28QAAAAAAAEL1AAAAAAABqvUAAAAAAAN68QAAAAAAAF71AAAAAAAAXvUAAAAAAAGK9QAAAAAAAKb5AAAAAAIBhwEAAAAAAAIfAQAAAAAAA6sBAAAAAAACNwEAAAAAAAJjAQAAAAACAu8BAAAAAAIAUwUAAAAAAgC3BQAAAAAAA4sBAAAAAAIDVwEAAAAAAgLDAQAAAAAAAr8BAAAAAAIB9wEAAAAAAgK3AQAAAAACArcBAAAAAAIDNwEAAAAAAgO/AQAAAAAAAHsFAAAAAAIAGwUAAAAAAgNzAQAAAAACAsMBAAAAAAAB9wEAAAAAAgCPAQAAAAAAA/b9AAAAAAAAgwEAAAAAAABXAQAAAAAAA9r9AAAAAAABOwEAAAAAAADHAQAAAAACAHsBAAAAAAIBTwEAAAAAAAEfAQAAAAACAMMBAAAAAAAAnwEAAAAAAABTAQAAAAAAAzb9AAAAAAADGv0AAAAAAAAfAQAAAAAAAT8BAAAAAAIB9wEAAAAAAgGvAQAAAAAAAUcBAAAAAAABlwEAAAAAAgJTAQAAAAAAApcBAAAAAAIDLwEAAAAAAAOrAQAAAAACA/MBAAAAAAAD3wEAAAAAAgATBQAAAAAAAGMFAAAAAAAD+wEAAAAAAAO3AQAAAAAAACMFAAAAAAID8wEAAAAAAABDBQAAAAACAEMFAAAAAAIAqwUAAAAAAAFrBQAAAAACAmcFAAAAAAIC6wUAAAAAAgG/BQAAAAACAwcFAAAAAAIDCwUAAAAAAgCHCQAAAAAAAgcFAAAAAAABjwUAAAAAAAFjBQAAAAAAAQsFAAAAAAIBUwUAAAAAAAG3BQAAAAACATMFAAAAAAAAkwUAAAAAAgD/BQAAAAACAPsFAAAAAAID6wEAAAAAAgN/AQAAAAACA3sBAAAAAAIAQwUAAAAAAgIXBQAAAAACAZcFAAAAAAIB3wUAAAAAAAFTBQAAAAACAIcFAAAAAAAAmwUAAAAAAgCbBQAAAAAAAHMFAAAAAAIAfwUAAAAAAAIDAQAAAAACAc8BAAAAAAIBZwEAAAAAAAC3AQAAAAAAANMBAAAAAAAAywEAAAAAAgBTAQAAAAACAW8BAAAAAAABwwEAAAAAAgFfAQAAAAACAQcBAAAAAAAARwEAAAAAAALe/QAAAAAAA479AAAAAAIASwEAAAAAAACvAQAAAAACATcBAAAAAAIBgwEAAAAAAgHHAQAAAAACAicBAAAAAAADLwEAAAAAAgL/AQAAAAAAA08BAAAAAAIDZwEAAAAAAgLnAQAAAAAAAvMBAAAAAAAC9wEAAAAAAALbAQAAAAACAaMBAAAAAAABtwEAAAAAAAGbAQAAAAAAAk8BAAAAAAIBdwEAAAAAAAC7AQAAAAAAAVMBAAAAAAIA+wEAAAAAAgDrAQAAAAACASsBAAAAAAIBjwEAAAAAAAHDAQAAAAACAmcBAAAAAAICRwEAAAAAAALXAQAAAAACAvMBAAAAAAICNwEAAAAAAgG3AQAAAAACAdMBAAAAAAIB4wEAAAAAAgHvAQAAAAACAU8BAAAAAAIB4wEAAAAAAAIDAQAAAAAAAcsBAAAAAAIBSwEAAAAAAAEDAQAAAAACAR8BAAAAAAIBLwEAAAAAAAD7AQAAAAACASMBAAAAAAIA4wEAAAAAAgDnAQAAAAACAGMBAAAAAAADyv0AAAAAAAMS/QAAAAAAA1L9AAAAAAACHv0AAAAAAAIG/QAAAAAAAmL9AAAAAAADMv0AAAAAAAOW/QAAAAACACsBAAAAAAABCwEAAAAAAAB3AQAAAAACAOsBAAAAAAIAfwEAAAAAAABPAQAAAAAAA/b9AAAAAAIAwwEAAAAAAAHLAQAAAAACAcMBAAAAAAABwwEAAAAAAAIzAQAAAAACAN8BAAAAAAABuwEAAAAAAAHLAQAAAAAAAmMBAAAAAAABrwEAAAAAAACTAQAAAAACAPsBAAAAAAIA2wEAAAAAAgDfAQAAAAACARcBAAAAAAIBMwEAAAAAAAFDAQAAAAAAATsBAAAAAAIBWwEAAAAAAAEzAQAAAAACAK8BAAAAAAAAlwEAAAAAAgBTAQAAAAAAAG8BAAAAAAAAjwEAAAAAAgD7AQAAAAAAAV8BAAAAAAABNwEAAAAAAgEbAQAAAAACAt8BAAAAAAACPwEAAAAAAgKnAQAAAAACA38BAAAAAAIDhwEAAAAAAAN7AQAAAAAAA6MBAAAAAAADxwEAAAAAAgAbBQAAAAACAKcFAAAAAAIAzwUAAAAAAgArBQAAAAAAALsFAAAAAAAAuwUAAAAAAgBzBQAAAAACACsFAAAAAAAAXwUAAAAAAgAPBQAAAAACA+cBAAAAAAIDywEAAAAAAgBnBQAAAAAAAM8FAAAAAAACDwUAAAAAAgJjBQAAAAAAAnMFAAAAAAICVwUAAAAAAALDBQAAAAACAocFAAAAAAICMwUAAAAAAgIvBQAAAAACArsFAAAAAAIDdwUAAAAAAAPLBQAAAAAAA68FAAAAAAIDFwUAAAAAAAKTBQAAAAACAmMFAAAAAAAAdwkAAAAAAAPPBQAAAAAAAXMJAAAAAAIC0wkAAAAAAAP3CQAAAAAAAz8JAAAAAAACAwkAAAAAAAJjCQAAAAACA28JAAAAAAIABw0AAAAAAAPzCQAAAAACA+8JAAAAAAICmwkAAAAAAAJ7CQAAAAAAAdsJAAAAAAACOwkAAAAAAgNDCQAAAAAAAlsJAAAAAAICIwkAAAAAAgFnCQAAAAAAAW8JAAAAAAIBawkAAAAAAgIrCQAAAAAAAf8JAAAAAAABcwkAAAAAAALXCQAAAAACAvcJAAAAAAIC3wkAAAAAAAH3CQAAAAAAAl8JAAAAAAICQwkAAAAAAAK7CQAAAAAAAysJAAAAAAADYwkAAAAAAALTCQAAAAACA3cJAAAAAAIDbwkAAAAAAAN7CQAAAAAAAusJAAAAAAAC4wkAAAAAAgITCQAAAAAAAq8JAAAAAAACzwkAAAAAAgMLCQAAAAAAAp8JAAAAAAICywkAAAAAAAIXCQAAAAACAmcJAAAAAAACAwkAAAAAAAG7CQAAAAACAsMJAAAAAAADOwkAAAAAAAL7CQAAAAACAQ8NAAAAAAAAlw0AAAAAAgDTDQAAAAAAADsNAAAAAAAAOw0AAAAAAAAvDQAAAAACA+cJAAAAAAIAZw0AAAAAAAP/CQAAAAAAAFMNAAAAAAIAXw0AAAAAAgO3CQAAAAAAAJcNAAAAAAAAbw0AAAAAAADfDQAAAAACAMMNAAAAAAIBSw0AAAAAAgF7DQAAAAAAAcsNAAAAAAABsw0AAAAAAgE/DQAAAAAAATMNAAAAAAABVw0AAAAAAAETDQAAAAAAAUsNAAAAAAAB2w0AAAAAAgB/DQAAAAACA6cJAAAAAAAC1wkAAAAAAAL7CQAAAAAAAw8JAAAAAAICfwkAAAAAAgJ7CQAAAAACAkcJAAAAAAIClwkAAAAAAAKbCQAAAAACAtMJAAAAAAIC0wkAAAAAAAMrCQAAAAAAApMJAAAAAAICWwkAAAAAAAJ3CQAAAAACAvcJAAAAAAIBewkAAAAAAAEzCQAAAAACAO8JAAAAAAIApwkAAAAAAgD3CQAAAAACAT8JAAAAAAIANwkAAAAAAAPXBQAAAAAAA/MFAAAAAAIAEwkAAAAAAAAbCQAAAAACACMJAAAAAAAD6wUAAAAAAAO3BQAAAAAAAusFAAAAAAACqwUAAAAAAgLLBQAAAAACAmcFAAAAAAACiwUAAAAAAAMbBQAAAAACA6sFAAAAAAADGwUAAAAAAAEbCQAAAAAAAKsJAAAAAAIAiwkAAAAAAAC/CQAAAAAAAbcJAAAAAAIBDwkAAAAAAAFfCQAAAAACAZsJAAAAAAICbwkAAAAAAgOTCQAAAAAAAzMJAAAAAAADKwkAAAAAAAJbCQAAAAACAp8JAAAAAAICFwkAAAAAAgIrCQAAAAACAc8JAAAAAAACEwkAAAAAAAI/CQAAAAACAtcJAAAAAAIDBwkAAAAAAAMPCQAAAAAAAWsNAAAAAAIDfwkAAAAAAgN7CQAAAAAAA28JAAAAAAADfwkAAAAAAgL/CQAAAAAAAkMJAAAAAAABzwkAAAAAAAKrCQAAAAAAAqsJAAAAAAIDSwkAAAAAAAO7CQAAAAAAA2MJAAAAAAIDUwkAAAAAAgLbCQAAAAACApcJAAAAAAACiwkAAAAAAgIzCQAAAAACAhsJAAAAAAAAzwkAAAAAAgBPCQAAAAACAIsJAAAAAAIAEwkAAAAAAgDTCQAAAAACAI8JAAAAAAIAOwkAAAAAAAPnBQAAAAACA+MFAAAAAAAAcwkAAAAAAACHCQAAAAAAA8cFAAAAAAAD2wUAAAAAAAPbBQAAAAACADsJAAAAAAIBiwkAAAAAAgFbCQAAAAAAAacJAAAAAAAAzwkAAAAAAgD7CQAAAAAAAVcJAAAAAAIBlwkAAAAAAgDHCQAAAAACAC8JAAAAAAIAUwkAAAAAAgC7CQAAAAAAAiMJAAAAAAACNwkAAAAAAgG3CQAAAAACATsJAAAAAAIBRwkAAAAAAAErCQAAAAACAUcJAAAAAAIBTwkAAAAAAgGTCQAAAAACAcsJAAAAAAADVwkAAAAAAgM7CQAAAAAAAAcNAAAAAAADzwkAAAAAAgMLCQAAAAACA1sJAAAAAAIDIwkAAAAAAANzCQAAAAACAtMJAAAAAAAC+wkAAAAAAgH3CQAAAAAAAacJAAAAAAABVwkAAAAAAgHTCQAAAAAAAd8JAAAAAAIA+wkAAAAAAAEDCQAAAAAAATsJAAAAAAAA6wkAAAAAAADrCQAAAAACAOcJAAAAAAABVwkAAAAAAgB/CQAAAAAAAJcJAAAAAAAAOwkAAAAAAAAzCQAAAAAAADcJAAAAAAID7wUAAAAAAAATCQAAAAAAAE8JAAAAAAAAQwkAAAAAAgCfCQAAAAAAAI8JAAAAAAIAHwkAAAAAAgBrCQAAAAACAPMJAAAAAAAAQwkAAAAAAABTCQAAAAACA8cFAAAAAAAAAwkAAAAAAABXCQAAAAAAAFsJAAAAAAIAYwkAAAAAAAA/CQAAAAACAHsJAAAAAAIBUwkAAAAAAgFvCQAAAAAAAVsJAAAAAAABowkAAAAAAAHvCQAAAAAAAbMJAAAAAAABawkAAAAAAAIPCQAAAAACAfsJAAAAAAIB8wkAAAAAAgJ/CQAAAAAAAbsJAAAAAAIBwwkAAAAAAAEnCQAAAAACAPMJAAAAAAIAowkAAAAAAADXCQAAAAACARsJAAAAAAACMwkAAAAAAgJnCQAAAAACAlMJAAAAAAABWwkAAAAAAAGTCQAAAAAAAacJAAAAAAIB2wkAAAAAAAGnCQAAAAACATsJAAAAAAAAuwkAAAAAAgC/CQAAAAAAAGcJAAAAAAIAdwkAAAAAAACvCQAAAAACAWcJAAAAAAABfwkAAAAAAgGDCQAAAAAAAU8JAAAAAAIBDwkAAAAAAAEfCQAAAAAAAVMJAAAAAAIA3wkAAAAAAABrCQAAAAACAN8JAAAAAAABDwkAAAAAAADrCQAAAAAAAL8JAAAAAAAAkwkAAAAAAABPCQAAAAACAD8JAAAAAAIAuwkAAAAAAgDDCQAAAAAAAZ8JAAAAAAABRwkAAAAAAgF7CQAAAAACAVcJAAAAAAABPwkAAAAAAADfCQAAAAAAAQsJAAAAAAAArwkAAAAAAAAnCQAAAAAAAA8JAAAAAAIAHwkAAAAAAANvBQAAAAACAzsFAAAAAAADIwUAAAAAAAJrBQAAAAACAu8FAAAAAAIDLwUAAAAAAgJ/BQAAAAACAvsFAAAAAAICZwUAAAAAAAJ/BQAAAAACAm8FAAAAAAIC7wUAAAAAAgK/BQAAAAAAAksFAAAAAAICpwUAAAAAAAIvBQAAAAACAYsFAAAAAAIBlwUAAAAAAgFzBQAAAAAAAZsFAAAAAAACcwUAAAAAAAJDBQAAAAAAAo8FAAAAAAACNwUAAAAAAgGjBQAAAAACATMFAAAAAAABLwUAAAAAAgD3BQAAAAACARMFAAAAAAIBhwUAAAAAAgBDBQAAAAAAA7MBAAAAAAAAMwUAAAAAAgObAQAAAAACA8MBAAAAAAADBwEAAAAAAgKrAQAAAAAAAysBAAAAAAICVwEAAAAAAgKzAQAAAAAAAz8BAAAAAAADowEAAAAAAANLAQAAAAAAAscBAAAAAAADhwEAAAAAAgMLAQAAAAAAA2cBAAAAAAID6wEAAAAAAgOPAQAAAAAAA/sBAAAAAAID7wEAAAAAAAB3BQAAAAACAHsFAAAAAAIDmwEAAAAAAANbAQAAAAAAAs8BAAAAAAACzwEAAAAAAgNbAQAAAAAAA28BAAAAAAID3wEAAAAAAgPzAQAAAAACA88BAAAAAAADPwEAAAAAAANXAQAAAAAAA8MBAAAAAAADQwEAAAAAAANjAQAAAAAAArMBAAAAAAACvwEAAAAAAAHXAQAAAAAAAb8BAAAAAAIB0wEAAAAAAAFPAQAAAAACAVcBAAAAAAABXwEAAAAAAgDrAQAAAAACAUMBAAAAAAAAmwEAAAAAAAO6/QAAAAAAAy79AAAAAAADtv0AAAAAAgCzAQAAAAAAA/79AAAAAAADyv0AAAAAAgBDAQAAAAAAAFsBAAAAAAAAqwEAAAAAAgCLAQAAAAAAA779AAAAAAABIv0AAAAAAADO/QAAAAAAAZb9AAAAAAAB1v0AAAAAAAMS/QAAAAAAAy79AAAAAAACEv0AAAAAAAKq/QAAAAAAAlr9AAAAAAADXv0AAAAAAAK2/QAAAAAAA7b9AAAAAAIAWwEAAAAAAACzAQAAAAACADcBAAAAAAAA5wEAAAAAAgBfAQAAAAAAAFcBAAAAAAADnv0AAAAAAAK6/QAAAAAAAxL9AAAAAAAAUwEAAAAAAAB/AQAAAAAAAKcBAAAAAAAAwwEAAAAAAADDAQAAAAACAK8BAAAAAAAANwEAAAAAAAP6/QAAAAAAA/r9AAAAAAADPv0AAAAAAAMK/QAAAAAAAvr9AAAAAAAD7v0AAAAAAALG/QAAAAAAA+L9AAAAAAADvv0AAAAAAAFrAQAAAAAAAUMBAAAAAAAA8wEAAAAAAAE3AQAAAAAAARMBAAAAAAIBrwEAAAAAAgG3AQAAAAAAAZcBAAAAAAIBBwEAAAAAAgD/AQAAAAAAASsBAAAAAAIAowEAAAAAAAAjAQAAAAACACsBAAAAAAAACwEAAAAAAgBjAQAAAAAAAvL9AAAAAAACvv0AAAAAAgALAQAAAAAAA3L9AAAAAAACrv0AAAAAAAKu/QAAAAAAAz79AAAAAAADUv0AAAAAAALG/QAAAAAAAk79AAAAAAACPv0AAAAAAAKW/QAAAAAAApb9AAAAAAABKv0AAAAAAADm/QAAAAAAAXr9AAAAAAABhv0AAAAAAAKG/QAAAAAAAxL9AAAAAAAB7v0AAAAAAAFe/QAAAAAAAbL9AAAAAAAC1v0AAAAAAANi/QAAAAAAA/b9AAAAAAACSv0AAAAAAALS/QAAAAAAAxL9AAAAAAAC8v0AAAAAAAMK/QAAAAAAAXr9AAAAAAABgv0AAAAAAAHy/QAAAAAAAs79AAAAAAAC4v0AAAAAAAKu/QAAAAAAAw79AAAAAAADIv0AAAAAAgBfAQAAAAACAEMBAAAAAAAABwEAAAAAAABzAQAAAAACAYcBAAAAAAIBXwEAAAAAAgEnAQAAAAAAAOcBAAAAAAABawEAAAAAAgEHAQAAAAAAAWcBAAAAAAIBKwEAAAAAAAFLAQAAAAACASsBAAAAAAIBJwEAAAAAAgGTAQAAAAAAAeMBAAAAAAIBewEAAAAAAADLAQAAAAACAJsBAAAAAAABFwEAAAAAAgCnAQAAAAACAPsBAAAAAAAB3wEAAAAAAgK/AQAAAAACAq8BAAAAAAADIwEAAAAAAALrAQAAAAACA78BAAAAAAADUwEAAAAAAALbAQAAAAAAAtMBAAAAAAACrwEAAAAAAgGnAQAAAAACAb8BAAAAAAABVwEAAAAAAgD/AQAAAAACAQMBAAAAAAABDwEAAAAAAAE7AQAAAAACAUMBAAAAAAIBMwEAAAAAAgCfAQAAAAAAAKcBAAAAAAAA3wEAAAAAAgCrAQAAAAACALMBAAAAAAIAuwEAAAAAAgC7AQAAAAAAAAcBAAAAAAADyv0AAAAAAAOa/QAAAAAAA4L9AAAAAAADqv0AAAAAAAA3AQAAAAACADcBAAAAAAAADwEAAAAAAgA7AQAAAAAAAFMBAAAAAAIATwEAAAAAAACzAQAAAAACAMMBAAAAAAABNwEAAAAAAAEnAQAAAAACAGcBAAAAAAIAZwEAAAAAAAPa/QAAAAAAA179AAAAAAAC9v0AAAAAAAOK/QAAAAAAAwr9AAAAAAABzv0AAAAAAAIO/QAAAAAAAir9AAAAAAADHv0AAAAAAAJq/QAAAAAAAp79AAAAAAACEv0AAAAAAAHy/QAAAAAAAdr9AAAAAAABUv0AAAAAAAB+/QAAAAAAA+b5AAAAAAAD3vkAAAAAAAPW+QAAAAAAA875AAAAAAACxvkAAAAAAAJ6+QAAAAAAAtL5AAAAAAAChvkAAAAAAAIO+QAAAAAAAP75AAAAAAAA9vkAAAAAAAPu9QAAAAAAAxr1AAAAAAADovUAAAAAAAM29QAAAAAAArL1AAAAAAAC+vUAAAAAAAO29QAAAAAAA6L1AAAAAAACIvUAAAAAAAI29QAAAAAAAh71AAAAAAACyvUAAAAAAALW9QAAAAAAA171AAAAAAAC2vUAAAAAAAJa9QAAAAAAAib1AAAAAAAA+vUAAAAAAACu9QAAAAAAADb1AAAAAAAAnvUAAAAAAAFq9QAAAAAAAWb1AAAAAAAB7vUAAAAAAAAy9QAAAAAAAZr1AAAAAAACYvUAAAAAAAD+9QAAAAAAATr1AAAAAAABRvUAAAAAAABC9QAAAAAAAUr1AAAAAAACCvUAAAAAAAF29QAAAAAAAn71AAAAAAAB9vUAAAAAAAEW9QAAAAAAAQr1AAAAAAAAgvUAAAAAAACa9QAAAAAAAML1AAAAAAAAKvUAAAAAAAB+9QAAAAAAAQb1AAAAAAABVvUAAAAAAAI+9QAAAAAAAj71AAAAAAADgvUAAAAAAAMy+QAAAAAAAYr5AAAAAAAB9vkAAAAAAAF6+QAAAAAAAMb5AAAAAAABBvkAAAAAAAEW+QAAAAAAAyb1AAAAAAAC8vUAAAAAAANm9QAAAAAAAub1AAAAAAACKvUAAAAAAAG69QAAAAAAAh71AAAAAAACOvUAAAAAAAI+9QAAAAAAAZb1AAAAAAABlvUAAAAAAAI29QAAAAAAAqL1AAAAAAADMvUAAAAAAANa9QAAAAAAA7L1AAAAAAAD/vUAAAAAAAM29QAAAAAAArL1AAAAAAAC1vUAAAAAAAOK9QAAAAAAA971AAAAAAAArvkAAAAAAABC+QAAAAAAAJr5AAAAAAAAYvkAAAAAAADy+QAAAAAAAc75AAAAAAAChvkAAAAAAAJa+QAAAAAAAer5AAAAAAAC5vkAAAAAAAJm+QAAAAAAA0b5AAAAAAADAvkAAAAAAAJS+QAAAAAAAZr5AAAAAAAB8vkAAAAAAAK2+QAAAAAAApL5AAAAAAABwvkAAAAAAAKS+QAAAAAAAiL5AAAAAAAAYv0AAAAAAADe/QAAAAAAAkr9AAAAAAAB+v0AAAAAAAE+/QAAAAAAAYL9AAAAAAABsv0AAAAAAAHW/QAAAAAAAu79AAAAAAAB2v0AAAAAAAJO/QAAAAAAAib9AAAAAAABov0AAAAAAAHO/QAAAAAAAar9AAAAAAABXv0AAAAAAAC+/QAAAAAAAGL9AAAAAAAA+v0AAAAAAAHy/QAAAAAAAZb9AAAAAAACQv0AAAAAAALC/QAAAAAAAx79AAAAAAIAnwEAAAAAAgB7AQAAAAACAI8BAAAAAAIBhwEAAAAAAAGzAQAAAAACAacBAAAAAAABVwEAAAAAAAFDAQAAAAACAXcBAAAAAAABNwEAAAAAAgIjAQAAAAAAAoMBAAAAAAACpwEAAAAAAAMfAQAAAAAAAxcBAAAAAAIDbwEAAAAAAAOLAQAAAAACA2sBAAAAAAADMwEAAAAAAAO3AQAAAAACA1MBAAAAAAICgwEAAAAAAANXAQAAAAAAAysBAAAAAAIB2wEAAAAAAAFnAQAAAAACASsBAAAAAAABYwEAAAAAAAGfAQAAAAACAcMBAAAAAAIBZwEAAAAAAAC3AQAAAAACAScBAAAAAAIAqwEAAAAAAAEnAQAAAAAAAcsBAAAAAAAB1wEAAAAAAgK/AQAAAAAAAscBAAAAAAICiwEAAAAAAAIDAQAAAAAAAecBAAAAAAACCwEAAAAAAAFHAQAAAAACAVcBAAAAAAABYwEAAAAAAgIzAQAAAAACAesBAAAAAAICHwEAAAAAAgHjAQAAAAAAAscBAAAAAAACQwEAAAAAAAIfAQAAAAACAe8BAAAAAAIBvwEAAAAAAAEzAQAAAAAAAO8BAAAAAAABDwEAAAAAAgAzAQAAAAACABsBAAAAAAAAJwEAAAAAAABXAQAAAAACAJMBAAAAAAADEv0AAAAAAAK6/QAAAAAAA0r9AAAAAAADsv0AAAAAAAPu/QAAAAAAA7b9AAAAAAIAZwEAAAAAAAP6/QAAAAAAA3r9AAAAAAAD2v0AAAAAAAM+/QAAAAAAAjr9AAAAAAACDv0AAAAAAAMu/QAAAAAAAtL9AAAAAAACWv0AAAAAAACvAQAAAAAAAaL9AAAAAAAB7v0AAAAAAAGG/QAAAAAAAOL9AAAAAAABev0AAAAAAAFC/QAAAAAAAbb9AAAAAAABvv0AAAAAAAIi/QAAAAAAAsb9AAAAAAADov0AAAAAAAN6/QAAAAAAA6L9AAAAAAAAGwEAAAAAAgADAQAAAAAAAEMBAAAAAAIAQwEAAAAAAgCHAQAAAAAAAVsBAAAAAAACuwEAAAAAAgFjAQAAAAACAQsBAAAAAAIA/wEAAAAAAgD7AQAAAAAAAJMBAAAAAAAABwEAAAAAAAOK/QAAAAAAA2r9AAAAAAADQv0AAAAAAgAPAQAAAAAAAEsBAAAAAAAD2v0AAAAAAAN+/QAAAAAAAX79AAAAAAABbv0AAAAAAAFa/QAAAAAAAQ79AAAAAAACPv0AAAAAAAKe/QAAAAAAAmb9AAAAAAACbv0AAAAAAANa/QAAAAAAANcBAAAAAAIAiwEAAAAAAACvAQAAAAAAAMMBAAAAAAIBBwEAAAAAAgEfAQAAAAACARcBAAAAAAABLwEAAAAAAgFTAQAAAAACAWMBAAAAAAICJwEAAAAAAgH/AQAAAAAAAU8BAAAAAAABZwEAAAAAAgHTAQAAAAACAQcBAAAAAAIBywEAAAAAAAGXAQAAAAAAAb8BAAAAAAAB7wEAAAAAAAJjAQAAAAACAk8BAAAAAAICdwEAAAAAAAJrAQAAAAAAAkMBAAAAAAICIwEAAAAAAgJXAQAAAAAAAncBAAAAAAACDwEAAAAAAAH7AQAAAAACAh8BAAAAAAABpwEAAAAAAAFDAQAAAAAAAQsBAAAAAAIBVwEAAAAAAgEvAQAAAAAAAUMBAAAAAAABFwEAAAAAAgCLAQAAAAACAJMBAAAAAAIAgwEAAAAAAADfAQAAAAAAAP8BAAAAAAAB0wEAAAAAAgHnAQAAAAAAAiMBAAAAAAIB1wEAAAAAAAJTAQAAAAAAArcBAAAAAAICwwEAAAAAAgKDAQAAAAAAAjcBAAAAAAACdwEAAAAAAgJHAQAAAAACAqMBAAAAAAACmwEAAAAAAgLPAQAAAAAAAtsBAAAAAAACswEAAAAAAAKjAQAAAAAAAe8BAAAAAAICDwEAAAAAAAJXAQAAAAACAe8BAAAAAAAA9wEAAAAAAAEjAQAAAAACAHcBAAAAAAIA5wEAAAAAAgE3AQAAAAACAT8BAAAAAAABRwEAAAAAAAFvAQAAAAAAAkcBAAAAAAACRwEAAAAAAAHfAQAAAAACAX8BAAAAAAIBRwEAAAAAAgEfAQAAAAACAVcBAAAAAAIBOwEAAAAAAAFzAQAAAAACAPcBAAAAAAIBGwEAAAAAAAErAQAAAAACAYsBAAAAAAABbwEAAAAAAAD3AQAAAAAAAUcBAAAAAAIA/wEAAAAAAAFDAQAAAAACAQcBAAAAAAIA9wEAAAAAAgFHAQAAAAAAAdMBAAAAAAAB/wEAAAAAAgHLAQAAAAACAfcBAAAAAAACewEAAAAAAgNLAQAAAAAAAu8BAAAAAAICtwEAAAAAAgLfAQAAAAACAxcBAAAAAAIDWwEAAAAAAAMvAQAAAAACA3cBAAAAAAACpwEAAAAAAAMDAQAAAAACAqcBAAAAAAICswEAAAAAAgLXAQAAAAAAArMBAAAAAAIB1wEAAAAAAAILAQAAAAACAYcBAAAAAAAB8wEAAAAAAAGnAQAAAAAAAdMBAAAAAAACXwEAAAAAAAHTAQAAAAACAisBAAAAAAICXwEAAAAAAgJXAQAAAAACAnMBAAAAAAIClwEAAAAAAAJzAQAAAAAAAksBAAAAAAICdwEAAAAAAgInAQAAAAAAAisBAAAAAAICkwEAAAAAAAJrAQAAAAACAlsBAAAAAAABlwEAAAAAAgFnAQAAAAACAWMBAAAAAAIBjwEAAAAAAgJbAQAAAAACAjsBAAAAAAICPwEAAAAAAAI3AQAAAAACAoMBAAAAAAICiwEAAAAAAgKPAQAAAAACAo8BAAAAAAICewEAAAAAAAJLAQAAAAAAAeMBAAAAAAACFwEAAAAAAAIDAQAAAAAAAbMBAAAAAAIBwwEAAAAAAgHDAQAAAAACAc8BAAAAAAIBhwEAAAAAAAFLAQAAAAACARsBAAAAAAAA4wEAAAAAAAErAQAAAAAAAP8BAAAAAAABNwEAAAAAAgEPAQAAAAAAAbcBAAAAAAIBqwEAAAAAAAHjAQAAAAACAgsBAAAAAAIBmwEAAAAAAAGfAQAAAAAAAZcBAAAAAAABbwEAAAAAAgIPAQAAAAACAjsBAAAAAAACawEAAAAAAgJ3AQAAAAAAAqMBAAAAAAICqwEAAAAAAAKXAQAAAAACApsBAAAAAAADCwEAAAAAAANHAQAAAAAAA18BAAAAAAIC8wEAAAAAAALnAQAAAAAAAw8BAAAAAAIC4wEAAAAAAAK/AQAAAAAAAr8BAAAAAAIClwEAAAAAAAKDAQAAAAAAA3cBAAAAAAADbwEAAAAAAgPvAQAAAAACAIMFAAAAAAIB6wUAAAAAAgHjBQAAAAACAj8FAAAAAAAB6wUAAAAAAgH7BQAAAAAAAo8FAAAAAAACSwUAAAAAAgLLBQAAAAAAArsFAAAAAAACkwUAAAAAAAKHBQAAAAACA0MFAAAAAAIDawUAAAAAAgO3BQAAAAAAAA8JAAAAAAAD7wUAAAAAAgODBQAAAAACAzsFAAAAAAIDhwUAAAAAAAMDBQAAAAACA18FAAAAAAID0wUAAAAAAANjBQAAAAACA48FAAAAAAAAFwkAAAAAAAA/CQAAAAAAAEMJAAAAAAAD7wUAAAAAAgMXBQAAAAAAAlsFAAAAAAADXwUAAAAAAAMrBQAAAAACAu8FAAAAAAADlwUAAAAAAAAvCQAAAAAAACsJAAAAAAID3wUAAAAAAgBLCQAAAAACADcJAAAAAAIDxwUAAAAAAgBXCQAAAAAAA4cFAAAAAAAD0wUAAAAAAAPXBQAAAAAAA3MFAAAAAAIDZwUAAAAAAAOjBQAAAAAAA18FAAAAAAADXwUAAAAAAgPzBQAAAAAAAEMJAAAAAAIARwkAAAAAAgCPCQAAAAACAL8JAAAAAAIA9wkAAAAAAAAvCQAAAAAAAGMJAAAAAAAAhwkAAAAAAACDCQAAAAAAAOsJAAAAAAAA6wkAAAAAAgDHCQAAAAACALMJAAAAAAAA2wkAAAAAAgDvCQAAAAACAQMJAAAAAAABGwkAAAAAAAE7CQAAAAACAScJAAAAAAAAzwkAAAAAAgE/CQAAAAACAc8JAAAAAAIBvwkAAAAAAgG/CQAAAAAAAbsJAAAAAAIBkwkAAAAAAAFjCQAAAAACAa8JAAAAAAIBywkAAAAAAAGjCQAAAAACAT8JAAAAAAABCwkAAAAAAAErCQAAAAACAb8JAAAAAAABpwkAAAAAAgGXCQAAAAAAAh8JAAAAAAIB7wkAAAAAAAHfCQAAAAAAAfsJAAAAAAICEwkAAAAAAAIfCQAAAAACAjMJAAAAAAIB0wkAAAAAAAIXCQAAAAACAf8JAAAAAAICFwkAAAAAAgI3CQAAAAAAAjcJAAAAAAICIwkAAAAAAgH/CQAAAAAAAT8JAAAAAAAA5wkAAAAAAAOXBQAAAAAAA/sFAAAAAAIASwkAAAAAAgO3BQAAAAACA0cFAAAAAAADlwUAAAAAAAO3BQAAAAACAv8FAAAAAAADAwUAAAAAAgJbBQAAAAAAAb8FAAAAAAICLwUAAAAAAgI/BQAAAAAAAn8FAAAAAAICcwUAAAAAAAJzBQAAAAAAAnsFAAAAAAAADwkAAAAAAgBnCQAAAAAAAWMJAAAAAAIBWwkAAAAAAAFjCQAAAAACAVsJAAAAAAIBywkAAAAAAAHXCQAAAAACAecJAAAAAAICPwkAAAAAAAInCQAAAAAAAwsJAAAAAAADdwkAAAAAAgLvCQAAAAACAo8JAAAAAAICEwkAAAAAAAJfCQAAAAACAaMJAAAAAAICQwkAAAAAAgFfCQAAAAACA+8FAAAAAAIAOwkAAAAAAACjCQAAAAACACMJAAAAAAIANwkAAAAAAgN7BQAAAAACA2cFAAAAAAIDqwUAAAAAAgP7BQAAAAAAA38FAAAAAAADIwUAAAAAAAMXBQAAAAACAuMFAAAAAAIC4wUAAAAAAANPBQAAAAACA/8FAAAAAAADPwUAAAAAAAGvBQAAAAACAMsFAAAAAAIA/wUAAAAAAAETBQAAAAAAAEsFAAAAAAAAdwUAAAAAAgBXBQAAAAACAIcFAAAAAAABawUAAAAAAgFDBQAAAAAAAasFAAAAAAABUwUAAAAAAAHvBQAAAAACAfMFAAAAAAACewUAAAAAAgLLBQAAAAAAAq8FAAAAAAIC/wUAAAAAAAJ/BQAAAAACAlsFAAAAAAADRwUAAAAAAAM7BQAAAAAAArcFAAAAAAADewUAAAAAAAN7BQAAAAACAm8FAAAAAAADwwUAAAAAAgM/BQAAAAAAA4sFAAAAAAAACwkAAAAAAgAPCQAAAAACA7sFAAAAAAIAMwkAAAAAAAEbCQAAAAACAMsJAAAAAAAAkwkAAAAAAgBjCQAAAAAAAAsJAAAAAAAAawkAAAAAAABTCQAAAAAAA5sFAAAAAAAAPwkAAAAAAAAHCQAAAAACAFsJAAAAAAAAYwkAAAAAAAAbCQAAAAACA9cFAAAAAAIDUwUAAAAAAAADCQAAAAAAAGMJAAAAAAAAJwkAAAAAAgM3BQAAAAAAA0sFAAAAAAADIwUAAAAAAgM7BQAAAAACAn8FAAAAAAACEwUAAAAAAgHLBQAAAAAAAkMFAAAAAAICnwUAAAAAAAK/BQAAAAACAl8FAAAAAAACEwUAAAAAAALbBQAAAAACAsMFAAAAAAACMwUAAAAAAAKTBQAAAAAAApsFAAAAAAICqwUAAAAAAALHBQAAAAACAw8FAAAAAAIDfwUAAAAAAAOLBQAAAAACA5sFAAAAAAIDOwUAAAAAAgNjBQAAAAAAAwMFAAAAAAADXwUAAAAAAANPBQAAAAAAAx8FAAAAAAADiwUAAAAAAANzBQAAAAAAA2MFAAAAAAACqwUAAAAAAAN7BQAAAAAAA38FAAAAAAIDJwUAAAAAAANPBQAAAAAAAucFAAAAAAADlwUAAAAAAgNXBQAAAAAAA6cFAAAAAAADYwUAAAAAAgNnBQAAAAACA38FAAAAAAAC/wUAAAAAAgLPBQAAAAACAtMFAAAAAAACewUAAAAAAAJvBQAAAAACAsMFAAAAAAIDTwUAAAAAAgMLBQAAAAAAAscFAAAAAAACowUAAAAAAgJfBQAAAAACAoMFAAAAAAIDnwUAAAAAAANvBQAAAAACA3MFAAAAAAIDgwUAAAAAAAPHBQAAAAAAA7cFAAAAAAIARwkAAAAAAgBnCQAAAAAAAPMJAAAAAAIBBwkAAAAAAAFnCQAAAAAAAWsJAAAAAAIBiwkAAAAAAAG/CQAAAAAAAfcJAAAAAAABlwkAAAAAAAGjCQAAAAAAAbsJAAAAAAIBwwkAAAAAAAILCQAAAAACAisJAAAAAAICBwkAAAAAAgD3CQAAAAACAPcJAAAAAAACMwkAAAAAAAJHCQAAAAACAj8JAAAAAAIDQwkAAAAAAAMvCQAAAAACA+MJAAAAAAADywkAAAAAAAO/CQAAAAAAA/8JAAAAAAIAPw0AAAAAAAAHDQAAAAACA/MJAAAAAAIAHw0AAAAAAAO7CQAAAAACAIcNAAAAAAIDxwkAAAAAAAP3CQAAAAACAxcJAAAAAAICxwkAAAAAAgJLCQAAAAAAAosJAAAAAAICgwkAAAAAAANnCQAAAAACAwMJAAAAAAIDRwkAAAAAAAODCQAAAAACA0cJAAAAAAIDYwkAAAAAAgOzCQAAAAAAACcNAAAAAAIANw0AAAAAAAOXCQAAAAAAADMNAAAAAAIAiw0AAAAAAgBzDQAAAAACAxcJAAAAAAADawkAAAAAAAKzCQAAAAACAsMJAAAAAAIDUwkAAAAAAgPzCQAAAAAAAKsNAAAAAAIAgw0AAAAAAADfDQAAAAAAAN8NAAAAAAAAsw0AAAAAAgA/DQAAAAACA88JAAAAAAIAUw0AAAAAAgBfDQAAAAACAzcJAAAAAAAAGw0AAAAAAgAHDQAAAAACA8sJAAAAAAIDlwkAAAAAAAOnCQAAAAACA38JAAAAAAIC5wkAAAAAAANHCQAAAAACAr8JAAAAAAICJwkAAAAAAAIHCQAAAAAAAgMJAAAAAAAB/wkAAAAAAAJvCQAAAAAAAvMJAAAAAAICVwkAAAAAAAIjCQAAAAAAAhMJAAAAAAIDJwkAAAAAAgKrCQAAAAACAjsJAAAAAAACUwkAAAAAAgLTCQAAAAAAAvcJAAAAAAACpwkAAAAAAgJDCQAAAAACAq8JAAAAAAICRwkAAAAAAAKjCQAAAAACAzsJAAAAAAADDwkAAAAAAgMvCQAAAAACApMJAAAAAAADTwkAAAAAAAOPCQAAAAACAzcJAAAAAAADGwkAAAAAAgLbCQAAAAAAApsJAAAAAAACMwkAAAAAAgH7CQAAAAACAVsJAAAAAAIBIwkAAAAAAgEXCQAAAAACAU8JAAAAAAABCwkAAAAAAgCfCQAAAAACALMJAAAAAAIAWwkAAAAAAgBPCQAAAAACAIcJAAAAAAIA6wkAAAAAAADrCQAAAAAAASMJAAAAAAAAnwkAAAAAAgDbCQAAAAACAP8JAAAAAAABawkAAAAAAgFzCQAAAAACAWsJAAAAAAACEwkAAAAAAAJDCQAAAAAAAgsJAAAAAAACNwkAAAAAAgH3CQAAAAACAsMJAAAAAAACrwkAAAAAAgKbCQAAAAACAwcJAAAAAAADEwkAAAAAAAKzCQAAAAAAAkMJAAAAAAICUwkAAAAAAAIbCQAAAAACAWsJAAAAAAIA/wkAAAAAAgE3CQAAAAAAAQcJAAAAAAIBUwkAAAAAAADHCQAAAAACAGMJAAAAAAIAtwkAAAAAAADXCQAAAAAAAKcJAAAAAAAAdwkAAAAAAgB7CQAAAAACAHsJAAAAAAIAFwkAAAAAAAALCQAAAAACAEsJAAAAAAIAhwkAAAAAAAErCQAAAAAAAVsJAAAAAAAA6wkAAAAAAgC3CQAAAAACA/cFAAAAAAADfwUAAAAAAgAPCQAAAAAAACMJAAAAAAIAQwkAAAAAAgCHCQAAAAACAAsJAAAAAAAA0wkAAAAAAABvCQAAAAAAAFMJAAAAAAAALwkAAAAAAAAXCQAAAAAAA68FAAAAAAIDUwUAAAAAAAMLBQAAAAAAAocFAAAAAAAChwUAAAAAAgJ3BQAAAAAAAiMFAAAAAAICOwUAAAAAAgIjBQAAAAAAAl8FAAAAAAIC8wUAAAAAAAJLBQAAAAAAAgsFAAAAAAACDwUAAAAAAgJLBQAAAAACAb8FAAAAAAABuwUAAAAAAgMrBQAAAAACAqMFAAAAAAICgwUAAAAAAgHnBQAAAAACAfcFAAAAAAACCwUAAAAAAAHbBQAAAAAAAgMFAAAAAAICbwUAAAAAAgK3BQAAAAACAoMFAAAAAAICCwUAAAAAAgIDBQAAAAAAAhMFAAAAAAIC7wUAAAAAAANfBQAAAAACA6sFAAAAAAIDxwUAAAAAAgOPBQAAAAAAA08FAAAAAAAC4wUAAAAAAAL7BQAAAAAAA28FAAAAAAADWwUAAAAAAAMjBQAAAAACAzsFAAAAAAIDDwUAAAAAAALHBQAAAAAAAl8FAAAAAAACvwUAAAAAAgNDBQAAAAACA0sFAAAAAAADawUAAAAAAAL7BQAAAAAAAsMFAAAAAAIDMwUAAAAAAALvBQAAAAAAAqcFAAAAAAIC0wUAAAAAAgKXBQAAAAAAAicFAAAAAAACJwUAAAAAAgJ/BQAAAAACAtMFAAAAAAIClwUAAAAAAgIrBQAAAAACAj8FAAAAAAABmwUAAAAAAAGrBQAAAAAAAb8FAAAAAAIBWwUAAAAAAgD/BQAAAAAAAPsFAAAAAAIBHwUAAAAAAgGTBQAAAAAAAR8FAAAAAAIA/wUAAAAAAgC3BQAAAAACANsFAAAAAAAAvwUAAAAAAgELBQAAAAAAAIMFAAAAAAIAAwUAAAAAAgAzBQAAAAAAAB8FAAAAAAIDzwEAAAAAAgALBQAAAAAAAGsFAAAAAAAD4wEAAAAAAgAPBQAAAAAAA/MBAAAAAAADhwEAAAAAAgNTAQAAAAAAAzcBAAAAAAIC+wEAAAAAAgJnAQAAAAAAAssBAAAAAAAC9wEAAAAAAgK/AQAAAAAAAmMBAAAAAAACYwEAAAAAAgIPAQAAAAAAAfMBAAAAAAAB3wEAAAAAAgITAQAAAAACAccBAAAAAAIB5wEAAAAAAgHvAQAAAAACAfcBAAAAAAIB9wEAAAAAAAF7AQAAAAAAAgsBAAAAAAABgwEAAAAAAgFbAQAAAAAAAP8BAAAAAAIA6wEAAAAAAgDLAQAAAAAAAMsBAAAAAAAAqwEAAAAAAgD/AQAAAAAAANcBAAAAAAIBRwEAAAAAAAEvAQAAAAAAAp8BAAAAAAIDLwEAAAAAAgOHAQAAAAACA18BAAAAAAIDawEAAAAAAANPAQAAAAACA68BAAAAAAAD4wEAAAAAAgMrAQAAAAAAAusBAAAAAAAC4wEAAAAAAgLPAQAAAAACA+MBAAAAAAID6wEAAAAAAgPzAQAAAAAAANcFAAAAAAIAzwUAAAAAAADLBQAAAAAAAPsFAAAAAAAA7wUAAAAAAADnBQAAAAAAAOcFAAAAAAIAFwUAAAAAAgBHBQAAAAAAABsFAAAAAAIANwUAAAAAAgCrBQAAAAAAAJ8FAAAAAAAD/wEAAAAAAgOHAQAAAAAAAvsBAAAAAAICwwEAAAAAAgLnAQAAAAACApMBAAAAAAICQwEAAAAAAgH3AQAAAAAAAe8BAAAAAAICZwEAAAAAAAInAQAAAAACAfcBAAAAAAICewEAAAAAAAKfAQAAAAAAAsMBAAAAAAICfwEAAAAAAgJ/AQAAAAACAjsBAAAAAAACQwEAAAAAAAIDAQAAAAAAAgsBAAAAAAAC1wEAAAAAAAL7AQAAAAAAA2MBAAAAAAIDnwEAAAAAAgNfAQAAAAACA4cBAAAAAAIDJwEAAAAAAgKLAQAAAAAAAk8BAAAAAAICUwEAAAAAAAIXAQAAAAACAZ8BAAAAAAIBnwEAAAAAAgNjAQAAAAAAA3cBAAAAAAADtwEAAAAAAgBHBQAAAAACAAcFAAAAAAADgwEAAAAAAAOjAQAAAAACAwMBAAAAAAIDPwEAAAAAAAO3AQAAAAACAvsBAAAAAAADCwEAAAAAAANPAQAAAAACAxMBAAAAAAIDEwEAAAAAAgM7AQAAAAAAA0cBAAAAAAADCwEAAAAAAgKvAQAAAAAAAosBAAAAAAACnwEAAAAAAAKDAQAAAAAAAocBAAAAAAIC4wEAAAAAAAMvAQAAAAAAAy8BAAAAAAIC/wEAAAAAAANzAQAAAAAAANsFAAAAAAAAlwUAAAAAAACnBQAAAAAAAPsFAAAAAAABKwUAAAAAAgFnBQAAAAAAAXsFAAAAAAABLwUAAAAAAAFDBQAAAAACAesFAAAAAAACXwUAAAAAAgKzBQAAAAACA0MFAAAAAAADGwUAAAAAAANPBQAAAAACAzsFAAAAAAADhwUAAAAAAAK/BQAAAAACAr8FAAAAAAACNwUAAAAAAAJnBQAAAAAAAnsFAAAAAAIBkwUAAAAAAgIbBQAAAAACAYMFAAAAAAIBgwUAAAAAAgHfBQAAAAAAAYcFAAAAAAIBfwUAAAAAAAIbBQAAAAACAd8FAAAAAAABNwUAAAAAAgD3BQAAAAAAAH8FAAAAAAAApwUAAAAAAgB3BQAAAAACA9MBAAAAAAID6wEAAAAAAgP3AQAAAAAAA+MBAAAAAAIDiwEAAAAAAgDfBQAAAAAAAOcFAAAAAAIAHwUAAAAAAgPfAQAAAAAAA/sBAAAAAAAAAwUAAAAAAAPrAQAAAAAAALMFAAAAAAABAwUAAAAAAgDTBQAAAAACANMFAAAAAAAAQwUAAAAAAACLBQAAAAACATsFAAAAAAIBIwUAAAAAAAEfBQAAAAAAAEcFAAAAAAIAXwUAAAAAAAPnAQAAAAAAA0MBAAAAAAIDJwEAAAAAAgNvAQAAAAACA2sBAAAAAAADxwEAAAAAAgNnAQAAAAAAAzcBAAAAAAIDswEAAAAAAgPvAQAAAAAAAJcFAAAAAAAAowUAAAAAAgCvBQAAAAAAAK8FAAAAAAAAZwUAAAAAAAC7BQAAAAAAAEsFAAAAAAIAWwUAAAAAAAArBQAAAAACAB8FAAAAAAIDewEAAAAAAgM/AQAAAAAAA5cBAAAAAAIDuwEAAAAAAgOjAQAAAAACA7MBAAAAAAADtwEAAAAAAgNDAQAAAAAAA2MBAAAAAAADSwEAAAAAAgLPAQAAAAAAAuMBAAAAAAIDOwEAAAAAAALfAQAAAAACArcBAAAAAAIC2wEAAAAAAAN3AQAAAAACA4MBAAAAAAADIwEAAAAAAAM7AQAAAAAAAu8BAAAAAAAChwEAAAAAAgJHAQAAAAACAn8BAAAAAAACewEAAAAAAAJrAQAAAAACAisBAAAAAAIDRwEAAAAAAgNfAQAAAAAAA/MBAAAAAAID2wEAAAAAAAPjAQAAAAAAA38BAAAAAAADRwEAAAAAAAMLAQAAAAACAt8BAAAAAAADHwEAAAAAAAL3AQAAAAAAAu8BAAAAAAIDBwEAAAAAAgJbAQAAAAACAlsBAAAAAAAB3wEAAAAAAAHfAQAAAAAAAf8BAAAAAAIB4wEAAAAAAgInAQAAAAAAAj8BAAAAAAACQwEAAAAAAAKrAQAAAAACAl8BAAAAAAACAwEAAAAAAAIDAQAAAAACAicBAAAAAAACdwEAAAAAAALnAQAAAAAAAv8BAAAAAAADQwEAAAAAAANDAQAAAAAAAxsBAAAAAAICmwEAAAAAAgJvAQAAAAACAr8BAAAAAAICuwEAAAAAAgKPAQAAAAAAAsMBAAAAAAACewEAAAAAAALLAQAAAAACAnsBAAAAAAACYwEAAAAAAAKTAQAAAAACAmsBAAAAAAAChwEAAAAAAgMbAQAAAAAAA3sBAAAAAAADowEAAAAAAgODAQAAAAAAA3sBAAAAAAIDVwEAAAAAAAOjAQAAAAACA98BAAAAAAAD3wEAAAAAAgArBQAAAAAAA+sBAAAAAAAD3wEAAAAAAAMrAQAAAAAAAusBAAAAAAIC4wEAAAAAAAKLAQAAAAAAAlMBAAAAAAACJwEAAAAAAAITAQAAAAACAvsBAAAAAAICzwEAAAAAAALHAQAAAAAAAnMBAAAAAAACTwEAAAAAAgKHAQAAAAACAl8BAAAAAAACSwEAAAAAAAJrAQAAAAACAh8BAAAAAAICPwEAAAAAAgJ/AQAAAAACAmsBAAAAAAACEwEAAAAAAgHrAQAAAAACAXMBAAAAAAABdwEAAAAAAAFvAQAAAAAAAVMBAAAAAAIBRwEAAAAAAAD3AQAAAAAAAPMBAAAAAAAAvwEAAAAAAgC3AQAAAAACARMBAAAAAAIA9wEAAAAAAAC3AQAAAAACAIMBAAAAAAAAqwEAAAAAAAEjAQAAAAAAAScBAAAAAAAA6wEAAAAAAgFPAQAAAAACAW8BAAAAAAIBGwEAAAAAAgDfAQAAAAACAIsBAAAAAAAAawEAAAAAAADHAQAAAAACAPsBAAAAAAABuwEAAAAAAgHHAQAAAAAAAYsBAAAAAAABXwEAAAAAAgDbAQAAAAAAAH8BAAAAAAIAvwEAAAAAAgD7AQAAAAAAAkcBAAAAAAICMwEAAAAAAgKXAQAAAAAAAw8BAAAAAAADlwEAAAAAAAMbAQAAAAACAz8BAAAAAAICywEAAAAAAAI3AQAAAAACAn8BAAAAAAIDGwEAAAAAAAL/AQAAAAAAAnMBAAAAAAAC8wEAAAAAAAKTAQAAAAAAA2cBAAAAAAADRwEAAAAAAALbAQAAAAACAucBAAAAAAIC5wEAAAAAAgLzAQAAAAAAA48BAAAAAAAC5wEAAAAAAgL/AQAAAAAAAv8BAAAAAAACXwEAAAAAAAJ7AQAAAAAAAncBAAAAAAICEwEAAAAAAgITAQAAAAACAisBAAAAAAACEwEAAAAAAgIrAQAAAAAAAiMBAAAAAAABxwEAAAAAAAI7AQAAAAAAAmcBAAAAAAACgwEAAAAAAgJLAQAAAAAAAlsBAAAAAAICTwEAAAAAAAJLAQAAAAAAAb8BAAAAAAIBtwEAAAAAAgHDAQAAAAACAaMBAAAAAAIBZwEAAAAAAAE/AQAAAAAAAWcBAAAAAAIBawEAAAAAAgF7AQAAAAAAAWsBAAAAAAABZwEAAAAAAAFXAQAAAAACAT8BAAAAAAABQwEAAAAAAgD7AQAAAAAAAK8BAAAAAAAAuwEAAAAAAACTAQAAAAAAAIMBAAAAAAIAbwEAAAAAAgCLAQAAAAACAF8BAAAAAAAAZwEAAAAAAgBzAQAAAAACAGsBAAAAAAAAVwEAAAAAAAAnAQAAAAAAAEMBAAAAAAAAgwEAAAAAAACrAQAAAAACAJcBAAAAAAIARwEAAAAAAgAzAQAAAAAAADcBAAAAAAADhv0AAAAAAAMW/QAAAAAAApr9AAAAAAACdv0AAAAAAAAPAQAAAAAAA+b9AAAAAAADvv0AAAAAAAOK/QAAAAAAA8L9AAAAAAIADwEAAAAAAAB/AQAAAAAAABMBAAAAAAIAEwEAAAAAAgB/AQAAAAAAAIMBAAAAAAAAVwEAAAAAAgAvAQAAAAAAA879AAAAAAAD0v0AAAAAAACbAQAAAAACAJcBAAAAAAAAWwEAAAAAAACPAQAAAAAAAKsBAAAAAAAAWwEAAAAAAgCbAQAAAAAAAH8BAAAAAAIA5wEAAAAAAADfAQAAAAACAVsBAAAAAAABSwEAAAAAAAJPAQAAAAAAAjcBAAAAAAICLwEAAAAAAgIrAQAAAAACAk8BAAAAAAIB+wEAAAAAAAJbAQAAAAAAAlcBAAAAAAACOwEAAAAAAgGbAQAAAAACAl8BAAAAAAACXwEAAAAAAAJTAQAAAAAAAqMBAAAAAAIDGwEAAAAAAgFXBQAAAAAAAM8FAAAAAAIARwUAAAAAAgCLBQAAAAAAACcFAAAAAAIDmwEAAAAAAANvAQAAAAAAA3sBAAAAAAIAYwUAAAAAAgPXAQAAAAACA6cBAAAAAAIDiwEAAAAAAgOXAQAAAAAAA18BAAAAAAAD/wEAAAAAAgPbAQAAAAACAQcFAAAAAAIA3wUAAAAAAABvBQAAAAACAG8FAAAAAAIDxwEAAAAAAAPbAQAAAAAAA8sBAAAAAAIAPwUAAAAAAAADBQAAAAAAAPcFAAAAAAIAXwUAAAAAAgCzBQAAAAACAOMFAAAAAAAAVwUAAAAAAgA3BQAAAAACALsFAAAAAAIAHwUAAAAAAgAPBQAAAAAAA48BAAAAAAIDowEAAAAAAgNfAQAAAAAAAzsBAAAAAAIDLwEAAAAAAgMnAQAAAAACAvMBAAAAAAADKwEAAAAAAANzAQAAAAAAA4cBAAAAAAAABwUAAAAAAACDBQAAAAAAAOcFAAAAAAIAiwUAAAAAAADjBQAAAAAAAOcFAAAAAAAAywUAAAAAAACPBQAAAAACAGsFAAAAAAAAGwUAAAAAAABXBQAAAAACAHcFAAAAAAIAowUAAAAAAgB/BQAAAAACAYMFAAAAAAIBzwUAAAAAAAK/BQAAAAAAAuMFAAAAAAICRwUAAAAAAgL7BQAAAAACAr8FAAAAAAIDVwUAAAAAAANvBQAAAAAAAB8JAAAAAAIAWwkAAAAAAACfCQAAAAAAACMJAAAAAAADNwUAAAAAAgNHBQAAAAAAAmsFAAAAAAIC1wUAAAAAAgMvBQAAAAAAAsMFAAAAAAICMwUAAAAAAgIDBQAAAAAAAgcFAAAAAAIChwUAAAAAAgGvBQAAAAACAacFAAAAAAIA5wUAAAAAAAEHBQAAAAACAasFAAAAAAIBmwUAAAAAAgG/BQAAAAACASMFAAAAAAAA5wUAAAAAAgD/BQAAAAAAAUcFAAAAAAAB0wUAAAAAAgJrBQAAAAACA+8FAAAAAAID/wUAAAAAAgCPCQAAAAAAAC8JAAAAAAAD7wUAAAAAAgPXBQAAAAACA8MFAAAAAAIAKwkAAAAAAACTCQAAAAAAAWcJAAAAAAAA/wkAAAAAAAFjCQAAAAAAAWcJAAAAAAABrwkAAAAAAgIrCQAAAAAAAW8JAAAAAAABSwkAAAAAAgFrCQAAAAAAAUsJAAAAAAABTwkAAAAAAgGjCQAAAAAAAZ8JAAAAAAABbwkAAAAAAgFHCQAAAAACAYMJAAAAAAIA5wkAAAAAAADzCQAAAAACATsJAAAAAAAA9wkAAAAAAABjCQAAAAACAIsJAAAAAAAAuwkAAAAAAADDCQAAAAAAAF8JAAAAAAAA4wkAAAAAAAEzCQAAAAACAGcJAAAAAAIA8wkAAAAAAAGDCQAAAAACAj8JAAAAAAIDOwkAAAAAAgPTCQAAAAACA9MJAAAAAAADSwkAAAAAAgPzCQAAAAAAADMNAAAAAAIAxw0AAAAAAgOXCQAAAAACAJsNAAAAAAIBWw0AAAAAAgLDDQAAAAACAHcRAAAAAAADKw0AAAAAAgLfDQAAAAACA5cNAAAAAAIB1w0AAAAAAgJDDQAAAAAAAu8NAAAAAAACkw0AAAAAAALrDQAAAAACAq8NAAAAAAIA6w0AAAAAAACjDQAAAAACAKMNAAAAAAIBFw0AAAAAAgCPDQAAAAACAH8NAAAAAAABIw0AAAAAAgDzDQAAAAACAb8NAAAAAAIBnw0AAAAAAgFHDQAAAAAAARcNAAAAAAAAgw0AAAAAAgN/CQAAAAACAAsNAAAAAAIALw0AAAAAAgO7CQAAAAACAxsJAAAAAAIC/wkAAAAAAAMrCQAAAAACA1sJAAAAAAADZwkAAAAAAAMPCQAAAAACAmcJAAAAAAACvwkAAAAAAgLHCQAAAAACAqsJAAAAAAADRwkAAAAAAgALDQAAAAACA1sJAAAAAAICswkAAAAAAgJTCQAAAAAAArcJAAAAAAADIwkAAAAAAgL3CQAAAAACA3sJAAAAAAID3wkAAAAAAALzCQAAAAAAA+MJAAAAAAADAwkAAAAAAgK3CQAAAAACAhcJAAAAAAICJwkAAAAAAALnCQAAAAACAosJAAAAAAICawkAAAAAAAH7CQAAAAAAAmMJAAAAAAIBpwkAAAAAAADDCQAAAAAAARMJAAAAAAIAYwkAAAAAAAA3CQAAAAAAAC8JAAAAAAIAtwkAAAAAAgDLCQAAAAAAALcJAAAAAAIBQwkAAAAAAgDTCQAAAAACAL8JAAAAAAAAvwkAAAAAAgGTCQAAAAAAAdsJAAAAAAIB/wkAAAAAAAIDCQAAAAACAgcJAAAAAAIBgwkAAAAAAgFTCQAAAAAAAPsJAAAAAAIBawkAAAAAAAFHCQAAAAAAAZcJAAAAAAIB4wkAAAAAAAKnCQAAAAACArMJAAAAAAIBdwkAAAAAAAFTCQAAAAAAAW8JAAAAAAABGwkAAAAAAACfCQAAAAAAAP8JAAAAAAIAmwkAAAAAAgDjCQAAAAAAAHsJAAAAAAAAcwkAAAAAAACbCQAAAAACALsJAAAAAAIAUwkAAAAAAABjCQAAAAACA3cFAAAAAAIDiwUAAAAAAAMHBQAAAAAAAysFAAAAAAADfwUAAAAAAgN3BQAAAAAAA08FAAAAAAACzwUAAAAAAAMHBQAAAAAAA0MFAAAAAAIDPwUAAAAAAAAHCQAAAAAAAx8FAAAAAAIDkwUAAAAAAANbBQAAAAAAA1cFAAAAAAADXwUAAAAAAAPnBQAAAAAAA/sFAAAAAAAAQwkAAAAAAAEPCQAAAAAAAPcJAAAAAAAAXwkAAAAAAgEHCQAAAAACAIcJAAAAAAIBOwkAAAAAAAB3CQAAAAACAdcJAAAAAAICSwkAAAAAAAMLCQAAAAAAA4sJAAAAAAIBjwkAAAAAAgKvCQAAAAACAr8JAAAAAAACawkAAAAAAgIDCQAAAAACAj8JAAAAAAIDewkAAAAAAAI3CQAAAAACAncJAAAAAAAC1wkAAAAAAgK3CQAAAAAAAhsNAAAAAAIBZw0AAAAAAAKDDQAAAAAAAlcNAAAAAAIC/w0AAAAAAAE3DQAAAAACAfcNAAAAAAABuw0AAAAAAAEzDQAAAAAAAQMNAAAAAAAB3w0AAAAAAgAXEQAAAAAAAZ8RAAAAAAADAxEAAAAAAAOHEQAAAAAAAD8RAAAAAAIAnxEAAAAAAAN/DQAAAAAAAzsNAAAAAAADAw0AAAAAAAJrDQAAAAAAAw8NAAAAAAAD/w0AAAAAAAOzDQAAAAAAAAMRAAAAAAAB0xEAAAAAAAETEQAAAAACACcRAAAAAAAAqxEAAAAAAgETEQAAAAACARcRAAAAAAICgxEAAAAAAAIPEQAAAAAAALsRAAAAAAIBuxEAAAAAAAHfEQAAAAACAcMRAAAAAAADwxEAAAAAAAPbEQAAAAAAA/sRAAAAAAIAjxUAAAAAAgP7EQAAAAACAAcVAAAAAAAA4xUAAAAAAgBbFQAAAAAAASMVAAAAAAIBxxUAAAAAAAJXFQAAAAAAA5MVAAAAAAIA5xkAAAAAAgN7FQAAAAAAA38VAAAAAAIC6xUAAAAAAAJTFQAAAAAAAkcVAAAAAAICYxUAAAAAAgKfFQAAAAACAqcVAAAAAAICKxUAAAAAAADXFQAAAAAAA/MRAAAAAAIDKxEAAAAAAABTFQAAAAAAAZ8VAAAAAAACaxUAAAAAAgPHFQAAAAACA7cVAAAAAAADvxUAAAAAAgMzFQAAAAAAAocVAAAAAAADCxUAAAAAAAO3FQAAAAAAA8sVAAAAAAAAExkAAAAAAAPnFQAAAAACA/MVAAAAAAACYxUAAAAAAAMPFQAAAAAAAwcVAAAAAAIDUxUAAAAAAAOjFQAAAAACA0cVAAAAAAABfxUAAAAAAADbFQAAAAACAX8VAAAAAAACsxUAAAAAAAJjFQAAAAACAmcVAAAAAAABKxUAAAAAAACPFQAAAAACA2MRAAAAAAACyxEAAAAAAgPXEQAAAAACApsRAAAAAAIArxEAAAAAAgP7DQAAAAACA2sNAAAAAAID1w0AAAAAAAPzDQAAAAAAA3cNAAAAAAACxw0AAAAAAgODDQAAAAACA8sNAAAAAAIDEw0AAAAAAAL/DQAAAAAAAFcRAAAAAAADsw0AAAAAAAOzDQAAAAACA2cNAAAAAAIDcw0AAAAAAAE7EQAAAAACAsMRAAAAAAIBgxEAAAAAAAC/EQAAAAAAA/sNAAAAAAAAZxEAAAAAAgNnDQAAAAAAA8sNAAAAAAIAkxEAAAAAAALzDQAAAAACA0MNAAAAAAICfw0AAAAAAgIDDQAAAAACAXsNAAAAAAIB2w0AAAAAAgJvDQAAAAAAAdsNAAAAAAICIw0AAAAAAAMjDQAAAAACAtMNAAAAAAACuw0AAAAAAALTDQAAAAAAA/MNAAAAAAIDMw0AAAAAAgOrDQAAAAAAA+cNAAAAAAAAkxEAAAAAAADXEQAAAAAAARcRAAAAAAIADxEAAAAAAgMzDQAAAAACAqsNAAAAAAADBw0AAAAAAAL3DQAAAAAAA4MNAAAAAAAC8w0AAAAAAANzDQAAAAAAADsRAAAAAAABFxEAAAAAAgHXEQAAAAAAAasRAAAAAAACNxEAAAAAAgEPEQAAAAAAAUsRAAAAAAACUxEAAAAAAgLvEQAAAAACAsMRAAAAAAACRxEAAAAAAAIXEQAAAAAAAKcRAAAAAAICHxEAAAAAAgD3EQAAAAAAAbMRAAAAAAIBhxEAAAAAAACrEQAAAAACA28NAAAAAAIDaw0AAAAAAAAzEQAAAAACA48NAAAAAAIAGxEAAAAAAgOLDQAAAAAAA8sNAAAAAAIBAxEAAAAAAAG3EQAAAAACAO8RAAAAAAABRxEAAAAAAgGLEQAAAAACAhsRAAAAAAABtxEAAAAAAAGPEQAAAAACAicRAAAAAAIBcxEAAAAAAAErEQAAAAACAP8RAAAAAAIBnxEAAAAAAgGfEQAAAAACAoMRAAAAAAAAmxUAAAAAAgALFQAAAAAAAK8VAAAAAAAAMxUAAAAAAAPPEQAAAAACAtcRAAAAAAADZxEAAAAAAgLvEQAAAAAAAvsRAAAAAAIDfxEAAAAAAgOHEQAAAAACAicRAAAAAAAChxEAAAAAAgIXEQAAAAAAAq8RAAAAAAACRxEAAAAAAAG/EQAAAAACAnMRAAAAAAIB/xEAAAAAAAIPEQAAAAAAAlMRAAAAAAIB4xEAAAAAAAAXEQAAAAAAAIsRAAAAAAABZxEAAAAAAgE/EQAAAAAAAisRAAAAAAICXxEAAAAAAgK3EQAAAAACApMRAAAAAAADKxEAAAAAAgMLEQAAAAACAusRAAAAAAICrxEAAAAAAAL7EQAAAAAAAv8RAAAAAAADmxEAAAAAAAN7EQAAAAAAAAsVAAAAAAIAExUAAAAAAgDHFQAAAAAAAG8VAAAAAAID/xEAAAAAAgCjFQAAAAAAAMcVAAAAAAABLxUAAAAAAgJDFQAAAAAAAgcVAAAAAAIBzxUAAAAAAAH/FQAAAAAAAcMVAAAAAAABjxUAAAAAAADbFQAAAAACAasVAAAAAAABvxUAAAAAAgGfFQAAAAACAvMVAAAAAAADFxUAAAAAAAKvFQAAAAAAAzcVAAAAAAADFxUAAAAAAgM3FQAAAAACA1MVAAAAAAIAAxkAAAAAAAAzGQAAAAACAEsZAAAAAAAC/xUAAAAAAAMLFQAAAAAAA1cVAAAAAAICPxUAAAAAAAIDFQAAAAACAisVAAAAAAACLxUAAAAAAAHbFQAAAAACAZsVAAAAAAAA1xUAAAAAAAC7FQAAAAAAAScVAAAAAAACExUAAAAAAAFjFQAAAAACAtMVAAAAAAACdxUAAAAAAgKDFQAAAAAAAg8VAAAAAAACFxUAAAAAAALfFQAAAAAAAtcVAAAAAAIDDxUAAAAAAgLrFQAAAAACAoMVAAAAAAADIxUAAAAAAAPXFQAAAAACA4MVAAAAAAADVxUAAAAAAgPLFQAAAAAAA9cVAAAAAAIDyxUAAAAAAAA/GQAAAAAAAWcZAAAAAAICBxkAAAAAAgKPGQAAAAAAAisZAAAAAAABWxkAAAAAAgCTGQAAAAACAh8VAAAAAAADVxUAAAAAAgBzGQAAAAACAQ8ZAAAAAAAAixkAAAAAAAObFQAAAAAAAFMZAAAAAAIDGxUAAAAAAALrFQAAAAACAucVAAAAAAACcxUAAAAAAgG3FQAAAAAAASsVAAAAAAABPxUAAAAAAgFHFQAAAAACAVMVAAAAAAABAxUAAAAAAACHFQAAAAAAA+sRAAAAAAAAaxUAAAAAAgEvFQAAAAACAJMVAAAAAAAD6xEAAAAAAgBjFQAAAAAAAOMVAAAAAAIB3xUAAAAAAgF3FQAAAAAAAecVAAAAAAAB+xUAAAAAAAHLFQAAAAACAa8VAAAAAAICcxUAAAAAAAL7FQAAAAACApMVAAAAAAADHxUAAAAAAgLfFQAAAAACAucVAAAAAAACjxUAAAAAAAI3FQAAAAAAAnsVAAAAAAAB5xUAAAAAAgOfFQAAAAAAA6MVAAAAAAIDcxUAAAAAAgMrFQAAAAACAusVAAAAAAADExUAAAAAAgLfFQAAAAACAq8VAAAAAAABvxUAAAAAAgGPFQAAAAACASsVAAAAAAIBrxUAAAAAAgKjFQAAAAAAAq8VAAAAAAIDpxUAAAAAAgPrFQAAAAAAA78VAAAAAAAAIxkAAAAAAABnGQAAAAAAA7MVAAAAAAACexUAAAAAAgJ/FQAAAAACAtsVAAAAAAICTxUAAAAAAAI/FQAAAAACAk8VAAAAAAACJxUAAAAAAgKbFQAAAAAAAq8VAAAAAAACkxUAAAAAAgJjFQAAAAACArsVAAAAAAICcxUAAAAAAgDfFQAAAAAAAD8VAAAAAAIAexUAAAAAAgBzFQAAAAAAADcVAAAAAAIDnxEAAAAAAANPEQAAAAAAAo8RAAAAAAAC7xEAAAAAAgM7EQAAAAAAA9MRAAAAAAADrxEAAAAAAgPPEQAAAAACA+MRAAAAAAAD5xEAAAAAAAPvEQAAAAACA/MRAAAAAAIA1xUAAAAAAgCTFQAAAAAAA98RAAAAAAIAAxUAAAAAAAO7EQAAAAACAx8RAAAAAAADExEAAAAAAAPzEQAAAAACAuMRAAAAAAADIxEAAAAAAgM3EQAAAAAAAqMRAAAAAAICyxEAAAAAAANzEQAAAAACA+MVAAAAAAIBexUAAAAAAAPnEQAAAAACADsVAAAAAAAD2xEAAAAAAAAvFQAAAAAAAMMVAAAAAAIAdxUAAAAAAACzFQAAAAACAVsVAAAAAAACxxUAAAAAAgMLFQAAAAACAmMVAAAAAAICtxUAAAAAAALLFQAAAAACAgcVAAAAAAICExUAAAAAAgGnFQAAAAACAMMVAAAAAAAATxUAAAAAAAF3FQAAAAACATMVAAAAAAIBkxUAAAAAAgG/FQAAAAACAaMVAAAAAAABUxUAAAAAAAD/FQAAAAACAacVAAAAAAIBjxUAAAAAAgIrFQAAAAACAjsVAAAAAAIB+xUAAAAAAAJzFQAAAAACAxcVAAAAAAIDXxUAAAAAAgODFQAAAAACA4MVAAAAAAIAYxkAAAAAAgBnGQAAAAAAAWsZAAAAAAABJxkAAAAAAAFzGQAAAAAAAXMZAAAAAAIAcxkAAAAAAgBLGQAAAAACAFMZAAAAAAAASxkAAAAAAgCbGQAAAAACAWMZAAAAAAACLxkAAAAAAAIjGQAAAAACAaMZAAAAAAAB4xkAAAAAAAHXGQAAAAACAW8ZAAAAAAIB+xkAAAAAAgD3GQAAAAACAWcZAAAAAAAB5xkAAAAAAgKDGQAAAAAAAlsZAAAAAAIC/xkAAAAAAAKbGQAAAAAAAwcZAAAAAAADexkAAAAAAAMDGQAAAAAAA6MZAAAAAAADsxkAAAAAAAL/GQAAAAAAAqMZAAAAAAIDmxkAAAAAAANXGQAAAAACA28ZAAAAAAIDlxkAAAAAAgMfGQAAAAACA6MZAAAAAAAAxx0AAAAAAAA7HQAAAAAAAKcdAAAAAAIDhxkAAAAAAgBDHQAAAAAAAPMdAAAAAAIAfx0AAAAAAADHHQAAAAAAAIcdAAAAAAIBQx0AAAAAAgELHQAAAAACAR8dAAAAAAAA3x0AAAAAAAETHQAAAAACAiMdAAAAAAIDVxkAAAAAAgMnGQAAAAACAysZAAAAAAIDMxkAAAAAAgPjGQAAAAACAHsdAAAAAAAAsx0AAAAAAACvHQAAAAACANMdAAAAAAIBKx0AAAAAAgGDHQAAAAACAcMdAAAAAAIBzx0AAAAAAgHHHQAAAAAAAfsdAAAAAAICQx0AAAAAAALzHQAAAAAAA0cdAAAAAAIDSx0AAAAAAgODHQAAAAACA58dAAAAAAID/x0AAAAAAAP7HQAAAAAAAEMhAAAAAAAD8x0AAAAAAgBLIQAAAAAAACshAAAAAAIACyEAAAAAAACnIQAAAAAAA98dAAAAAAIDpx0AAAAAAABnIQAAAAACARshAAAAAAIBAyEAAAAAAgDjIQAAAAACAB8hAAAAAAAA3yEAAAAAAgATIQAAAAACADshAAAAAAADvx0AAAAAAgMrHQAAAAAAAsMdAAAAAAACzx0AAAAAAgIfHQAAAAACAdMdAAAAAAIB1x0AAAAAAgGjHQAAAAACAZcdAAAAAAAB1x0AAAAAAAHzHQAAAAACAW8dAAAAAAABAx0AAAAAAgDDHQAAAAACAW8dAAAAAAAAzx0AAAAAAAEXHQAAAAACAjsdAAAAAAICmx0AAAAAAgGXHQAAAAAAAQcdAAAAAAIBWx0AAAAAAAEjHQAAAAACAVMdAAAAAAIBex0AAAAAAACbHQAAAAAAAO8dAAAAAAABOx0AAAAAAgFbHQAAAAAAAV8dAAAAAAABjx0AAAAAAAJTHQAAAAAAAmsdAAAAAAIC5x0AAAAAAAPLHQAAAAAAA+8dAAAAAAAAUyEAAAAAAAPLHQAAAAAAA18dAAAAAAAB1x0AAAAAAAHjHQAAAAACAicdAAAAAAICax0AAAAAAAHrHQAAAAAAAk8dAAAAAAACgx0AAAAAAAIvHQAAAAACAqsdAAAAAAADPx0AAAAAAgIjHQAAAAACApsdAAAAAAACux0AAAAAAAMfHQAAAAACAr8dAAAAAAACXx0AAAAAAgMfHQAAAAAAA0sdAAAAAAID+x0AAAAAAAPDHQAAAAACA7cdAAAAAAADBx0AAAAAAgLzHQAAAAACAtMdAAAAAAAC3x0AAAAAAgHHHQAAAAACAZcdAAAAAAAByx0AAAAAAgE3HQAAAAAAAYcdAAAAAAABwx0AAAAAAAIDHQAAAAACAnsdAAAAAAACtx0AAAAAAgOTHQAAAAAAA6MdAAAAAAADlx0AAAAAAANjHQAAAAAAA28dAAAAAAAC2x0AAAAAAALjHQAAAAACAu8dAAAAAAACgx0AAAAAAAJ/HQAAAAACAh8dAAAAAAADax0AAAAAAgN/HQAAAAACA38dAAAAAAABkyEAAAAAAgLfIQAAAAAAAIshAAAAAAAAbyEAAAAAAgCXIQAAAAAAALMhAAAAAAAAkyEAAAAAAgADIQAAAAACA7cdAAAAAAICzx0AAAAAAAJTHQAAAAAAAhMdAAAAAAIA8x0AAAAAAAD3HQAAAAACACMdAAAAAAIDgxkAAAAAAgAHHQAAAAACACMdAAAAAAAAUx0AAAAAAAFbHQAAAAAAATsdAAAAAAABrx0AAAAAAgIDHQAAAAAAApMdAAAAAAIC1x0AAAAAAgLXHQAAAAAAA5MdAAAAAAIDjx0AAAAAAAPDHQAAAAACAwsdAAAAAAAD4x0AAAAAAABXIQAAAAAAAC8hAAAAAAIAkyEAAAAAAAD3IQAAAAAAAWshAAAAAAIBGyEAAAAAAAFHIQAAAAAAALshAAAAAAIAjyEAAAAAAACTIQAAAAACAKchAAAAAAAAwyEAAAAAAgPrHQAAAAAAA8cdAAAAAAIDwx0AAAAAAgPDHQAAAAAAA18dAAAAAAADZx0AAAAAAgNHHQAAAAAAABchAAAAAAIAryEAAAAAAgPjHQAAAAACAJchAAAAAAAAoyEAAAAAAAFbIQAAAAACAZchAAAAAAIBhyEAAAAAAAHDIQAAAAAAAUshAAAAAAIBQyEAAAAAAgFbIQAAAAACAVshAAAAAAIAkyEAAAAAAADjIQAAAAAAAachAAAAAAIBWyEAAAAAAAGTIQAAAAAAAVchAAAAAAABByEAAAAAAgErIQAAAAAAAJ8hAAAAAAIAVyEAAAAAAgCfIQAAAAACASMhAAAAAAAAqyEAAAAAAABvIQAAAAACAJchAAAAAAIAMyEAAAAAAADzIQAAAAAAAYchAAAAAAACcyEAAAAAAAL3IQAAAAAAAschAAAAAAAC3yEAAAAAAgLbIQAAAAACArMhAAAAAAADOyEAAAAAAAOfIQAAAAAAA6chAAAAAAAD3yEAAAAAAgBbJQAAAAACACclAAAAAAIAdyUAAAAAAAFvJQAAAAAAAWMlAAAAAAABQyUAAAAAAgGnJQAAAAAAAuMhAAAAAAIDpyEAAAAAAgC3JQAAAAACAWMlAAAAAAAB0yUAAAAAAgGzJQAAAAACAcslAAAAAAAB0yUAAAAAAAHXJQAAAAACAi8lAAAAAAICIyUAAAAAAAIrJQAAAAAAAdclAAAAAAAB2yUAAAAAAgF/JQAAAAAAAMMlAAAAAAIB4yUAAAAAAgGbJQAAAAACAeslAAAAAAACCyUAAAAAAgG3JQAAAAAAAdMlAAAAAAAApyUAAAAAAgELJQAAAAACANslAAAAAAAA3yUAAAAAAgD7JQAAAAAAAaslAAAAAAIB6yUAAAAAAAHzJQAAAAAAAaclAAAAAAIB3yUAAAAAAgHfJQAAAAACAhslAAAAAAICXyUAAAAAAgHzJQAAAAAAAkclAAAAAAAB4yUAAAAAAAI3JQAAAAACAfMlAAAAAAIBdyUAAAAAAgIPJQAAAAAAAbMlAAAAAAIB8yUAAAAAAAIXJQAAAAAAAc8lAAAAAAIB+yUAAAAAAgIHJQAAAAACASclAAAAAAABvyUAAAAAAgFDJQAAAAACAcslAAAAAAIB3yUAAAAAAAHXJQAAAAACAb8lAAAAAAACvyUAAAAAAALPJQAAAAACAvslAAAAAAICpyUAAAAAAgLvJQAAAAAAAzclAAAAAAIAKyUAAAAAAgPfIQAAAAAAAC8lAAAAAAIAJyUAAAAAAAAHJQAAAAAAACclAAAAAAAAnyUAAAAAAABvJQAAAAAAAK8lAAAAAAABSyUAAAAAAgFfJQAAAAACAXslAAAAAAIBmyUAAAAAAgGXJQAAAAAAAZMlAAAAAAABmyUAAAAAAgGLJQAAAAACAQ8lAAAAAAIAkyUAAAAAAgA3JQAAAAAAAE8lAAAAAAIAxyUAAAAAAgBvJQAAAAAAAB8lAAAAAAIAeyUAAAAAAgCPJQAAAAAAAJ8lAAAAAAAAmyUAAAAAAgDLJQAAAAACAEslAAAAAAIALyUAAAAAAAATJQAAAAACAEslAAAAAAAAVyUAAAAAAABPJQAAAAACAIMlAAAAAAIAPyUAAAAAAgAfJQAAAAAAAEslAAAAAAIAhyUAAAAAAgBrJQAAAAAAAMclAAAAAAABpyUAAAAAAAIDJQAAAAACAeclAAAAAAABVyUAAAAAAAGLJQAAAAAAAbslAAAAAAIBzyUAAAAAAAG7JQAAAAACAdslAAAAAAABmyUAAAAAAgHDJQAAAAAAAdMlAAAAAAIBTyUAAAAAAAGPJQAAAAAAAYclAAAAAAIAjyUAAAAAAAB7JQAAAAAAAOMlAAAAAAAB6yUAAAAAAAJ3JQAAAAAAAp8lAAAAAAACjyUAAAAAAAKfJQAAAAAAAhMlAAAAAAACDyUAAAAAAAHXJQAAAAAAAXslAAAAAAIAoyUAAAAAAAC7JQAAAAAAAK8lAAAAAAADlyEAAAAAAgOTIQAAAAACAwchAAAAAAICWyEAAAAAAAIPIQAAAAAAAWshAAAAAAIBkyEAAAAAAgB/IQAAAAAAAR8hAAAAAAIBAyEAAAAAAgBDIQAAAAAAAF8hAAAAAAIDgx0AAAAAAgPvHQAAAAAAAMMhAAAAAAAANyEAAAAAAAO7HQAAAAACAqcdAAAAAAICQx0AAAAAAgFXHQAAAAAAAbMdAAAAAAIBtx0AAAAAAgGPHQAAAAAAAW8dAAAAAAABrx0AAAAAAgKvHQAAAAAAAssdAAAAAAACbx0AAAAAAAIfHQAAAAACAnMdAAAAAAIC4x0AAAAAAAJfHQAAAAACAyMdAAAAAAACNx0AAAAAAgKnHQAAAAACAusdAAAAAAAD5x0AAAAAAgPDHQAAAAACAMshAAAAAAAAoyEAAAAAAADDIQAAAAAAAGMhAAAAAAABHyEAAAAAAgC/IQAAAAACADshAAAAAAID9x0AAAAAAgPPHQAAAAAAAFchAAAAAAAAMyEAAAAAAgAfIQAAAAACAI8hAAAAAAIBOyEAAAAAAAHzIQAAAAAAAXMhAAAAAAABgyEAAAAAAgFXIQAAAAACAdshAAAAAAABxyEAAAAAAgHvIQAAAAAAAhchAAAAAAABzyEAAAAAAgHXIQAAAAACAdshAAAAAAIBVyEAAAAAAgFXIQAAAAACApchAAAAAAAC1yEAAAAAAAJ7IQAAAAACAYchAAAAAAICWyEAAAAAAgI3IQAAAAACAh8hAAAAAAICRyEAAAAAAALXIQAAAAACA78hAAAAAAAADyUAAAAAAgO/IQAAAAAAA0MhAAAAAAICtyEAAAAAAAIPIQAAAAAAAlMhAAAAAAACVyEAAAAAAgJHIQAAAAAAAn8hAAAAAAACjyEAAAAAAANLIQAAAAAAAw8hAAAAAAIC9yEAAAAAAgJjIQAAAAACAWMhAAAAAAABOyEAAAAAAAIrIQAAAAAAAm8hAAAAAAACFyEAAAAAAAJ/IQAAAAACAe8hAAAAAAACayEAAAAAAAHvIQAAAAACAd8hAAAAAAACLyEAAAAAAAJDIQAAAAAAAnchAAAAAAICKyEAAAAAAgKXIQAAAAAAAqMhAAAAAAIDMyEAAAAAAgLXIQAAAAAAAzshAAAAAAIDeyEAAAAAAAOjIQAAAAAAA7chAAAAAAID/yEAAAAAAgAXJQAAAAACA/shAAAAAAIDdyEAAAAAAAAHJQAAAAACAA8lAAAAAAIDryEAAAAAAgPnIQAAAAAAA3MhAAAAAAID6yEAAAAAAgNnIQAAAAAAA48hAAAAAAADdyEAAAAAAgPjIQAAAAACA7shAAAAAAIDMyEAAAAAAgMLIQAAAAAAApchAAAAAAACPyEAAAAAAgJrIQAAAAAAApshAAAAAAIDoyEAAAAAAgObIQAAAAACA0chAAAAAAADNyEAAAAAAgODIQAAAAAAA08hAAAAAAADXyEAAAAAAgO/IQAAAAAAA5shAAAAAAIDpyEAAAAAAgMTIQAAAAAAA9MhAAAAAAAD2yEAAAAAAgB3JQAAAAAAAFslAAAAAAIA4yUAAAAAAAPLIQAAAAACAyMhAAAAAAIDIyEAAAAAAAO/IQAAAAACA+chAAAAAAAADyUAAAAAAgBzJQAAAAAAAIslAAAAAAIAlyUAAAAAAAC/JQAAAAAAAEMlAAAAAAIAMyUAAAAAAgATJQAAAAACA4shAAAAAAADmyEAAAAAAgNbIQAAAAACA/shAAAAAAID8yEAAAAAAgP7IQAAAAAAA8shAAAAAAADuyEAAAAAAgNXIQAAAAAAAxMhAAAAAAAC+yEAAAAAAgKfIQAAAAACApMhAAAAAAAB0yEAAAAAAAHLIQAAAAACAe8hAAAAAAABXyEAAAAAAAIfIQAAAAACAeshAAAAAAICLyEAAAAAAgH7IQAAAAAAAXshAAAAAAIBMyEAAAAAAAFfIQAAAAAAATMhAAAAAAIBzyEAAAAAAgJzIQAAAAACAmMhAAAAAAICXyEAAAAAAAJvIQAAAAACAXshAAAAAAIAOyEAAAAAAAA3IQAAAAAAAA8hAAAAAAIDox0AAAAAAgK7HQAAAAACAtsdAAAAAAADGx0AAAAAAAMbHQAAAAACA2MdAAAAAAADJx0AAAAAAALXHQAAAAACAwcdAAAAAAADex0AAAAAAgLnHQAAAAAAAt8dAAAAAAAC1x0AAAAAAALnHQAAAAAAArcdAAAAAAIB6x0AAAAAAAF/HQAAAAACAZ8dAAAAAAIBTx0AAAAAAADjHQAAAAAAAKcdAAAAAAIAmx0AAAAAAADXHQAAAAAAADsdAAAAAAADUxkAAAAAAALjGQAAAAACAtMZAAAAAAACPxkAAAAAAgG7GQAAAAAAAa8ZAAAAAAAAsxkAAAAAAgD/GQAAAAAAAacZAAAAAAIBExkAAAAAAACnGQAAAAACA6cVAAAAAAIDcxUAAAAAAAAHGQAAAAAAAFMZAAAAAAACzxUAAAAAAgLPFQAAAAAAABcZAAAAAAAAJxkAAAAAAgLfFQAAAAACAeMVAAAAAAICHxUAAAAAAgInFQAAAAAAAbMVAAAAAAIBgxUAAAAAAgBDFQAAAAACAJcVAAAAAAADsxEAAAAAAgOvEQAAAAACA4cRAAAAAAIAMxUAAAAAAgOnEQAAAAACA48RAAAAAAIDmxEAAAAAAgADFQAAAAAAA6cRAAAAAAADoxEAAAAAAgNHEQAAAAAAA+8RAAAAAAIDpxEAAAAAAABfFQAAAAAAAPsVAAAAAAAApxUAAAAAAABPFQAAAAACA3sRAAAAAAADoxEAAAAAAgO/EQAAAAAAAxMRAAAAAAACYxEAAAAAAAGPEQAAAAACASsRAAAAAAABdxEAAAAAAAFfEQAAAAAAAVcRAAAAAAIB2xEAAAAAAAJHEQAAAAACAjMRAAAAAAABixEAAAAAAAJjEQAAAAACAsMRAAAAAAIDIxEAAAAAAAK7EQAAAAAAAtcRAAAAAAIDExEAAAAAAAO7EQAAAAACA7sRAAAAAAIAKxUAAAAAAAFPEQAAAAAAAAcRAAAAAAACzw0AAAAAAgK7DQAAAAACAlcNAAAAAAACOw0AAAAAAAMPDQAAAAACAFsRAAAAAAIANxEAAAAAAgPfDQAAAAACA6sNAAAAAAICgw0AAAAAAgKfDQAAAAACAp8NAAAAAAACiw0AAAAAAgKrDQAAAAACA48NAAAAAAADvw0AAAAAAAAnEQAAAAACAD8RAAAAAAADxw0AAAAAAgLnDQAAAAACAp8NAAAAAAAC9w0AAAAAAgMXDQAAAAAAAbMNAAAAAAAA9w0AAAAAAgCnDQAAAAAAAG8NAAAAAAIAXw0AAAAAAgCPDQAAAAAAA7sJAAAAAAIAaw0AAAAAAAAzDQAAAAAAA7cJAAAAAAIAsw0AAAAAAAFbDQAAAAACAIsNAAAAAAABPw0AAAAAAgFnDQAAAAAAAZ8NAAAAAAACkw0AAAAAAAIbDQAAAAAAAr8NAAAAAAIAXxEAAAAAAgAzEQAAAAACAycNAAAAAAABRxEAAAAAAgGrEQAAAAACAl8RAAAAAAIC3xEAAAAAAAJLEQAAAAAAAgsRAAAAAAABAxEAAAAAAgBbEQAAAAAAA/cNAAAAAAID/w0AAAAAAAP3DQAAAAACA98NAAAAAAADcw0AAAAAAgLPDQAAAAACAl8NAAAAAAIBsw0AAAAAAAIXDQAAAAAAAT8NAAAAAAIBZw0AAAAAAAFzDQAAAAACAgcNAAAAAAAC5w0AAAAAAgKjDQAAAAACAkMNAAAAAAACzw0AAAAAAAJ7DQAAAAAAAcsNAAAAAAAB+w0AAAAAAAJ7DQAAAAACApcNAAAAAAACAw0AAAAAAAJ/DQAAAAAAA5cNAAAAAAID2w0AAAAAAAPHDQAAAAACA+8NAAAAAAIChw0AAAAAAAMLDQAAAAAAA38NAAAAAAIABxEAAAAAAAEXEQAAAAAAAPcRAAAAAAABIxEAAAAAAADXEQAAAAACA48NAAAAAAADow0AAAAAAAA/EQAAAAAAABcRAAAAAAIAExEAAAAAAABfEQAAAAAAA/cNAAAAAAIDQw0AAAAAAgMzDQAAAAACAzcNAAAAAAIAexEAAAAAAgP7DQAAAAAAA4cNAAAAAAADmw0AAAAAAgKLDQAAAAACAlMNAAAAAAICBw0AAAAAAAK/DQAAAAACAnMNAAAAAAIB2w0AAAAAAAIvDQAAAAACApMNAAAAAAACtw0AAAAAAAMbDQAAAAACAtsNAAAAAAIDyw0AAAAAAgKzDQAAAAAAAq8NAAAAAAIDFw0AAAAAAAMbDQAAAAACA2MNAAAAAAADHw0AAAAAAAOHDQAAAAAAA5cNAAAAAAAD3w0AAAAAAABDEQAAAAAAAGMRAAAAAAAAOxEAAAAAAgCrEQAAAAAAAJsRAAAAAAIARxEAAAAAAgOjDQAAAAACA1sNAAAAAAIDfw0AAAAAAgODDQAAAAAAAycNAAAAAAID3w0AAAAAAgPbDQAAAAACA5cNAAAAAAADrw0AAAAAAABPEQAAAAACAEcRAAAAAAAARxEAAAAAAAADEQAAAAAAA6cNAAAAAAADRw0AAAAAAAN7DQAAAAACAx8NAAAAAAIDSw0AAAAAAgNDDQAAAAACAy8NAAAAAAAD1w0AAAAAAgLPDQAAAAAAAr8NAAAAAAACZw0AAAAAAgKjDQAAAAAAAhsNAAAAAAIB9w0AAAAAAgIXDQAAAAAAAf8NAAAAAAACEw0AAAAAAAFLDQAAAAACAR8NAAAAAAAA3w0AAAAAAgEvDQAAAAACAIMNAAAAAAIAQw0AAAAAAAPLCQAAAAAAAFcNAAAAAAIAfw0AAAAAAADXDQAAAAACA+sJAAAAAAIDrwkAAAAAAgAPDQAAAAAAACsNAAAAAAADqwkAAAAAAgO3CQAAAAACA9cJAAAAAAIAIw0AAAAAAAOHCQAAAAACAwsJAAAAAAADIwkAAAAAAgMXCQAAAAACAvcJAAAAAAICowkAAAAAAgJXCQAAAAAAAl8JAAAAAAICPwkAAAAAAgKnCQAAAAAAAq8JAAAAAAAC9wkAAAAAAgLLCQAAAAAAApMJAAAAAAICmwkAAAAAAgMfCQAAAAACA+8JAAAAAAADAwkAAAAAAAK7CQAAAAAAAu8JAAAAAAIC6wkAAAAAAgLzCQAAAAACAtsJAAAAAAIDvwkAAAAAAgBjDQAAAAACAAsNAAAAAAAD+wkAAAAAAACbDQAAAAAAABcNAAAAAAIAXw0AAAAAAAF/DQAAAAACAOcNAAAAAAIBIw0AAAAAAACHDQAAAAACAGMNAAAAAAAAdw0AAAAAAgAjDQAAAAAAAEMNAAAAAAIAYw0AAAAAAgCzDQAAAAACAF8NAAAAAAIAWw0AAAAAAgBfDQAAAAACADcNAAAAAAIAOw0AAAAAAgB7DQAAAAAAAEMNAAAAAAAAjw0AAAAAAgDDDQAAAAACAQcNAAAAAAAAaw0AAAAAAgPTCQAAAAACA6MJAAAAAAIDtwkAAAAAAAPvCQAAAAACABcNAAAAAAIA3w0AAAAAAgEnDQAAAAACANcNAAAAAAIA/w0AAAAAAgBDDQAAAAAAAEsNAAAAAAIAdw0AAAAAAgBzDQAAAAACAG8NAAAAAAAAlw0AAAAAAgB/DQAAAAACAAcNAAAAAAADuwkAAAAAAANfCQAAAAAAA1MJAAAAAAADNwkAAAAAAgOzCQAAAAAAA8sJAAAAAAAA5w0AAAAAAADPDQAAAAAAAQsNAAAAAAAA8w0AAAAAAgDXDQAAAAAAAMMNAAAAAAAAbw0AAAAAAgBTDQAAAAAAACcNAAAAAAAAJw0AAAAAAgBPDQAAAAACAF8NAAAAAAIAhw0AAAAAAABPDQAAAAAAADMNAAAAAAIAhw0AAAAAAgBjDQAAAAAAAHMNAAAAAAIAhw0AAAAAAADzDQAAAAACAMcNAAAAAAABAw0AAAAAAADHDQAAAAAAAH8NAAAAAAIAYw0AAAAAAgDHDQAAAAACAPcNAAAAAAIA+w0AAAAAAAEjDQAAAAAAASsNAAAAAAIBDw0AAAAAAADDDQAAAAACAJ8NAAAAAAAAow0AAAAAAgC3DQAAAAAAAM8NAAAAAAAA1w0AAAAAAABDDQAAAAAAADsNAAAAAAIAEw0AAAAAAgBDDQAAAAACADMNAAAAAAIAMw0AAAAAAABXDQAAAAAAAJcNAAAAAAIA2w0AAAAAAgCXDQAAAAACAMMNAAAAAAIAgw0AAAAAAACPDQAAAAAAALMNAAAAAAIAjw0AAAAAAAC3DQAAAAAAAKsNAAAAAAAAvw0AAAAAAADjDQAAAAACARsNAAAAAAABMw0AAAAAAAEDDQAAAAACAMMNAAAAAAAAew0AAAAAAAC/DQAAAAAAAP8NAAAAAAIA9w0AAAAAAgEvDQAAAAACASMNAAAAAAAA8w0AAAAAAADbDQAAAAAAANsNAAAAAAABKw0AAAAAAAEfDQAAAAAAARsNAAAAAAIBCw0AAAAAAgD3DQAAAAACAL8NAAAAAAAAxw0AAAAAAgC3DQAAAAAAAIcNAAAAAAID9wkAAAAAAAP7CQAAAAACADMNAAAAAAAANw0AAAAAAAAzDQAAAAACAJcNAAAAAAAAlw0AAAAAAACXDQAAAAAAAHsNAAAAAAAAdw0AAAAAAABHDQAAAAACAEMNAAAAAAAAXw0AAAAAAgArDQAAAAAAA+8JAAAAAAADWwkAAAAAAANLCQAAAAACAy8JAAAAAAADJwkAAAAAAAMTCQAAAAAAAzsJAAAAAAIDXwkAAAAAAAMPCQAAAAACAlMJAAAAAAIChwkAAAAAAgI/CQAAAAAAAl8JAAAAAAIBywkAAAAAAgF7CQAAAAACASMJAAAAAAIA+wkAAAAAAADPCQAAAAACAO8JAAAAAAAA9wkAAAAAAABnCQAAAAAAA+cFAAAAAAADxwUAAAAAAAPbBQAAAAACA8cFAAAAAAADvwUAAAAAAgPvBQAAAAACA3sFAAAAAAIDbwUAAAAAAANDBQAAAAAAA5sFAAAAAAIAGwkAAAAAAgMnBQAAAAACA7sFAAAAAAAAVwkAAAAAAABHCQAAAAACAIcJAAAAAAIAfwkAAAAAAAC/CQAAAAACARcJAAAAAAIBuwkAAAAAAAGjCQAAAAAAAUcJAAAAAAABKwkAAAAAAgEnCQAAAAACAOsJAAAAAAIAOwkAAAAAAABTCQAAAAAAAJcJAAAAAAIATwkAAAAAAAPbBQAAAAACA3sFAAAAAAABmwUAAAAAAgCzBQAAAAACAM8FAAAAAAAAIwUAAAAAAgP7AQAAAAACADsFAAAAAAAAAwUAAAAAAgOHAQAAAAAAA6MBAAAAAAADjwEAAAAAAgM7AQAAAAACAxcBAAAAAAAC2wEAAAAAAgJLAQAAAAACAj8BAAAAAAICVwEAAAAAAAIPAQAAAAACAkMBAAAAAAACYwEAAAAAAAHTAQAAAAAAAhMBAAAAAAABhwEAAAAAAAE3AQAAAAAAATsBAAAAAAIAWwEAAAAAAADbAQAAAAAAAWMBAAAAAAICKwEAAAAAAgGbAQAAAAACAcsBAAAAAAACcwEAAAAAAgK3AQAAAAACAfcBAAAAAAABzwEAAAAAAgFrAQAAAAAAAS8BAAAAAAIAwwEAAAAAAADrAQAAAAACAPMBAAAAAAIAwwEAAAAAAgFnAQAAAAACATsBAAAAAAIA9wEAAAAAAgFnAQAAAAACAecBAAAAAAABuwEAAAAAAAFTAQAAAAACAe8BAAAAAAACEwEAAAAAAAJrAQAAAAACAqsBAAAAAAIDFwEAAAAAAgKLAQAAAAAAAcsBAAAAAAICRwEAAAAAAAILAQAAAAACAmMBAAAAAAAB+wEAAAAAAgJjAQAAAAACAm8BAAAAAAICBwEAAAAAAAKHAQAAAAAAAq8BAAAAAAICdwEAAAAAAgKbAQAAAAAAAnsBAAAAAAABmwEAAAAAAAIDAQAAAAACAW8BAAAAAAIA+wEAAAAAAAG/AQAAAAAAAcsBAAAAAAIBgwEAAAAAAAHPAQAAAAAAAa8BAAAAAAIBowEAAAAAAgG7AQAAAAACAbsBAAAAAAABwwEAAAAAAgFvAQAAAAAAAUcBAAAAAAIBBwEAAAAAAgFHAQAAAAACAUMBAAAAAAABBwEAAAAAAAC/AQAAAAACAHcBAAAAAAAAhwEAAAAAAABPAQAAAAACAGMBAAAAAAIAZwEAAAAAAABvAQAAAAACAG8BAAAAAAIA0wEAAAAAAgCrAQAAAAAAARcBAAAAAAABSwEAAAAAAAFbAQAAAAAAAWMBAAAAAAABlwEAAAAAAgGrAQAAAAACARMBAAAAAAABNwEAAAAAAgFjAQAAAAAAAVcBAAAAAAABhwEAAAAAAgD3AQAAAAAAAS8BAAAAAAAAywEAAAAAAgEPAQAAAAACAR8BAAAAAAABgwEAAAAAAAHDAQAAAAACAccBAAAAAAAB0wEAAAAAAAGLAQAAAAACAUsBAAAAAAABOwEAAAAAAgFrAQAAAAAAAcMBAAAAAAABpwEAAAAAAAHDAQAAAAAAAbMBAAAAAAABdwEAAAAAAAD7AQAAAAAAARMBAAAAAAIBNwEAAAAAAAGDAQAAAAACAT8BAAAAAAABPwEAAAAAAAEXAQAAAAACATMBAAAAAAIBnwEAAAAAAgGPAQAAAAACAYcBAAAAAAABHwEAAAAAAAC7AQAAAAACAH8BAAAAAAIAmwEAAAAAAgBTAQAAAAAAAwL9AAAAAAACKv0AAAAAAAIm/QAAAAAAAfr9AAAAAAABLv0AAAAAAAH2/QAAAAAAAar9AAAAAAABov0AAAAAAABq/QAAAAAAAWr9AAAAAAABpv0AAAAAAANi/QAAAAAAAqL9AAAAAAACmv0AAAAAAALG/QAAAAAAAs79AAAAAAACxv0AAAAAAAMq/QAAAAAAA4b9AAAAAAICxv0AAAAAAgIy/QAAAAACAk79AAAAAAIChv0AAAAAAAJO/QAAAAAAA779AAAAAAID2v0AAAAAAgL6/QAAAAACAw79AAAAAAADvv0AAAAAAgO6/QAAAAACANMBAAAAAAEAcwEAAAAAAANK/QAAAAAAAqr9AAAAAAACxv0AAAAAAgJi/QAAAAACAfL9AAAAAAIB+v0AAAAAAgHK/QAAAAAAAiL9AAAAAAIB/v0AAAAAAgJK/QAAAAAAAlb9AAAAAAIC2v0AAAAAAAJ2/QAAAAACAjb9AAAAAAAB0v0AAAAAAgIO/QAAAAAAAh79AAAAAAABuv0AAAAAAAEu/QAAAAACAVb9AAAAAAAB6v0AAAAAAAFy/QAAAAAAAOL9AAAAAAIB4v0AAAAAAgGa/QAAAAACAcr9AAAAAAABnv0AAAAAAgGi/QAAAAACAk79AAAAAAICmv0AAAAAAgP+/QAAAAADAfsBAAAAAAMBQwEAAAAAAAFvAQAAAAACAMcBAAAAAAEAYwEAAAAAAACHAQAAAAACATsBAAAAAAEA/wEAAAAAAgEfAQAAAAADAa8BAAAAAAABIwEAAAAAAADLAQAAAAAAAMsBAAAAAAEAywEAAAAAAwEvAQAAAAAAAPcBAAAAAAMA1wEAAAAAAgEbAQAAAAAAAVMBAAAAAAMA5wEAAAAAAAEzAQAAAAABAScBAAAAAAIBLwEAAAAAAQDXAQAAAAAAAUsBAAAAAAIBWwEAAAAAAgEvAQAAAAACATMBAAAAAAABPwEAAAAAAwDnAQAAAAABAQsBAAAAAAIBMwEAAAAAAAErAQAAAAACAQMBAAAAAAEBMwEAAAAAAAE/AQAAAAABAc8BAAAAAAIB0wEAAAAAAQF/AQAAAAAAAXMBAAAAAAABMwEAAAAAAgErAQAAAAABAL8BAAAAAAIAYwEAAAAAAACXAQAAAAADAPcBAAAAAAAAewEAAAAAAwCHAQAAAAAAAMMBAAAAAAIAtwEAAAAAAgCPAQAAAAAAAEsBAAAAAAIAPwEAAAAAAgLS/QAAAAACAvr9AAAAAAAC0v0AAAAAAgMe/QAAAAACA3L9AAAAAAADXv0AAAAAAgLK/QAAAAACAqL9AAAAAAICev0AAAAAAgMy/QAAAAAAAzr9AAAAAAIDOv0AAAAAAAOi/QAAAAAAA1L9AAAAAAADOv0AAAAAAgLy/QAAAAAAAzr9AAAAAAAC3v0AAAAAAgPC/QAAAAAAAtr9AAAAAAACuv0AAAAAAgL6/QAAAAADAHsBAAAAAAAAPwEAAAAAAQCzAQAAAAABANcBAAAAAAAAVwEAAAAAAABPAQAAAAACA279AAAAAAEAlwEAAAAAAgCvAQAAAAADAKsBAAAAAAIAwwEAAAAAAgEPAQAAAAABAQsBAAAAAAIBAwEAAAAAAQDrAQAAAAABARsBAAAAAAMBkwEAAAAAAAHDAQAAAAACAhcBAAAAAAACmwEAAAAAAgJ/AQAAAAAAApcBAAAAAAICgwEAAAAAAQJrAQAAAAABAjMBAAAAAAIC1wEAAAAAAAKbAQAAAAACAvcBAAAAAAECjwEAAAAAAgHXAQAAAAACAf8BAAAAAAECAwEAAAAAAQHjAQAAAAACAdMBAAAAAAMAjwEAAAAAAQCLAQAAAAADARsBAAAAAAMCbwEAAAAAAAL/AQAAAAADAucBAAAAAAMDywEAAAAAAQP/AQAAAAACAMsFAAAAAAEBkwUAAAAAAQELBQAAAAAAAKsFAAAAAAIAtwUAAAAAAQDXBQAAAAADAXMFAAAAAAIBRwUAAAAAAgHDBQAAAAABAgMFAAAAAAIBSwUAAAAAAgCjBQAAAAACAUcFAAAAAAAAhwUAAAAAAADnBQAAAAABAM8FAAAAAAIAgwUAAAAAAwD/BQAAAAADAWMFAAAAAAMA5wUAAAAAAAEbBQAAAAADALMFAAAAAAIA0wUAAAAAAgFDBQAAAAABAXcFAAAAAAECRwUAAAAAAgIrBQAAAAACAgMFAAAAAAABvwUAAAAAAwGrBQAAAAAAAYMFAAAAAAEBIwUAAAAAAgFzBQAAAAADAZsFAAAAAAABkwUAAAAAAQITBQAAAAABAlsFAAAAAAEC1wUAAAAAAQNjBQAAAAAAAE8JAAAAAAEAPwkAAAAAAwCDCQAAAAACABsJAAAAAAEDowUAAAAAAgObBQAAAAADA/sFAAAAAAED5wUAAAAAAgOvBQAAAAAAA0MFAAAAAAEDbwUAAAAAAQILBQAAAAADAkcFAAAAAAICNwUAAAAAAQJHBQAAAAACAFsJAAAAAAABRwkAAAAAAwFzCQAAAAADAXsJAAAAAAEBIwkAAAAAAADrCQAAAAAAAP8JAAAAAAAAFwkAAAAAAQOLBQAAAAABABcJAAAAAAADpwUAAAAAAAP7BQAAAAAAA78FAAAAAAEDpwUAAAAAAwMTBQAAAAACAx8FAAAAAAMC5wUAAAAAAgOTBQAAAAAAAxcFAAAAAAADAwUAAAAAAQM7BQAAAAADAxsFAAAAAAECqwUAAAAAAQNTBQAAAAACA8MFAAAAAAABPwkAAAAAAADHCQAAAAABANMJAAAAAAEBDwkAAAAAAwEbCQAAAAADASsJAAAAAAMBZwkAAAAAAAH/CQAAAAADAfMJAAAAAAMDJwkAAAAAAgMzCQAAAAAAA2MJAAAAAAACzwkAAAAAAQMLCQAAAAAAAhcJAAAAAAMApw0AAAAAAwDXDQAAAAADAD8NAAAAAAIAYw0AAAAAAgPXCQAAAAAAAGcNAAAAAAEBHw0AAAAAAAE/DQAAAAACAbcNAAAAAAIB9w0AAAAAAwAvDQAAAAADArsJAAAAAAEDDwkAAAAAAwI/CQAAAAACAjcJAAAAAAABzwkAAAAAAQHXCQAAAAACAUcJAAAAAAEB8wkAAAAAAwHDCQAAAAABAfsJAAAAAAAC1wkAAAAAAQJDCQAAAAABAj8JAAAAAAMAtw0AAAAAAwBzDQAAAAACAY8NAAAAAAEBXw0AAAAAAwFXDQAAAAAAAO8NAAAAAAIAWw0AAAAAAwDLDQAAAAABATsNAAAAAAAAww0AAAAAAgFDDQAAAAAAAUMNAAAAAAECAw0AAAAAAwIPDQAAAAADAkMNAAAAAAECBw0AAAAAAwH7DQAAAAABAgcNAAAAAAAB1w0AAAAAAgG/DQAAAAABAL8NAAAAAAEAqw0AAAAAAgPrCQAAAAAAA5cJAAAAAAADpwkAAAAAAgMzCQAAAAADAI8NAAAAAAIAyw0AAAAAAwA/DQAAAAACABcNAAAAAAMAuw0AAAAAAgATDQAAAAABAE8NAAAAAAAAew0AAAAAAQBHDQAAAAACANsNAAAAAAABAw0AAAAAAAIDDQAAAAAAAbcNAAAAAAABkw0AAAAAAwIfDQAAAAADAi8NAAAAAAEB0w0AAAAAAwGLDQAAAAABAUcNAAAAAAABJw0AAAAAAQA3DQAAAAACA5cJAAAAAAADNwkAAAAAAwP/CQAAAAADA4sJAAAAAAEDtwkAAAAAAwMTCQAAAAADA5MJAAAAAAMDKwkAAAAAAgNjCQAAAAABA18JAAAAAAIDswkAAAAAAgNLCQAAAAABA2MJAAAAAAIDFwkAAAAAAgMXCQAAAAAAAt8JAAAAAAICUwkAAAAAAwK3CQAAAAADApMJAAAAAAMDQwkAAAAAAAO7CQAAAAADA/cJAAAAAAMD2wkAAAAAAQLPCQAAAAABAnsJAAAAAAMB5wkAAAAAAgE7CQAAAAADAT8JAAAAAAEAFwkAAAAAAQOLBQAAAAABA6cFAAAAAAMDJwUAAAAAAgKvBQAAAAAAAl8FAAAAAAICWwUAAAAAAgFzBQAAAAACARMFAAAAAAIBowUAAAAAAgGfBQAAAAADAGMFAAAAAAAAjwUAAAAAAgC/BQAAAAAAALcFAAAAAAAAgwUAAAAAAgCjBQAAAAACAIcFAAAAAAMD0wEAAAAAAwPjAQAAAAAAA88BAAAAAAEDJwEAAAAAAgJDAQAAAAACAjMBAAAAAAIC0wEAAAAAAgKTAQAAAAABArMBAAAAAAICrwEAAAAAAwLnAQAAAAABAscBAAAAAAEC7wEAAAAAAQMzAQAAAAACAysBAAAAAAECmwEAAAAAAQKfAQAAAAACA8MBAAAAAAEC7wEAAAAAAwN7AQAAAAAAA6cBAAAAAAED1wEAAAAAAgBDBQAAAAAAAGMFAAAAAAMBdwUAAAAAAwDjBQAAAAAAAC8FAAAAAAIAewUAAAAAAwE/BQAAAAADALcFAAAAAAAA4wUAAAAAAQBvBQAAAAAAAAMFAAAAAAAA0wUAAAAAAgFnBQAAAAACATMFAAAAAAIBYwUAAAAAAgE/BQAAAAABAfcFAAAAAAIBuwUAAAAAAAHHBQAAAAADAQMFAAAAAAMA8wUAAAAAAgDPBQAAAAAAAHsFAAAAAAMAawUAAAAAAwEbBQAAAAADATcFAAAAAAMA0wUAAAAAAQEbBQAAAAACAVMFAAAAAAABzwUAAAAAAwFHBQAAAAAAAasFAAAAAAAAvwUAAAAAAAA/BQAAAAAAAHsFAAAAAAIAlwUAAAAAAACHBQAAAAABAEsFAAAAAAEABwUAAAAAAAAPBQAAAAADAB8FAAAAAAAAZwUAAAAAAQErBQAAAAACAUMFAAAAAAEBnwUAAAAAAAGvBQAAAAACAhMFAAAAAAICswUAAAAAAAKXBQAAAAAAAscFAAAAAAIC5wUAAAAAAgKTBQAAAAACApcFAAAAAAMCNwUAAAAAAwJnBQAAAAADApsFAAAAAAECzwUAAAAAAQKjBQAAAAADArsFAAAAAAICewUAAAAAAQKbBQAAAAABA2sFAAAAAAEDYwUAAAAAAAPPBQAAAAACA/8FAAAAAAEAPwkAAAAAAgALCQAAAAADA58FAAAAAAEDswUAAAAAAANXBQAAAAABAnsFAAAAAAACSwUAAAAAAgJfBQAAAAAAAkcFAAAAAAIB+wUAAAAAAgHfBQAAAAAAAX8FAAAAAAEBmwUAAAAAAgF7BQAAAAACATcFAAAAAAIAdwUAAAAAAwBrBQAAAAACALMFAAAAAAMA9wUAAAAAAADTBQAAAAAAATcFAAAAAAACZwUAAAAAAQIzBQAAAAACAjcFAAAAAAACVwUAAAAAAwH7BQAAAAADAfcFAAAAAAMB7wUAAAAAAgI3BQAAAAADAo8FAAAAAAACuwUAAAAAAwI7BQAAAAABAsMFAAAAAAECwwUAAAAAAQNbBQAAAAAAAysFAAAAAAMDFwUAAAAAAgLvBQAAAAAAAy8FAAAAAAADEwUAAAAAAQNTBQAAAAACAnsFAAAAAAECfwUAAAAAAQIvBQAAAAABAmsFAAAAAAACdwUAAAAAAQJvBQAAAAADAnsFAAAAAAICFwUAAAAAAwHrBQAAAAABAdcFAAAAAAEB8wUAAAAAAAGfBQAAAAACARsFAAAAAAABJwUAAAAAAAEzBQAAAAACAL8FAAAAAAEAtwUAAAAAAgDXBQAAAAAAAS8FAAAAAAEBLwUAAAAAAQGbBQAAAAAAAZMFAAAAAAAB+wUAAAAAAwITBQAAAAABAfMFAAAAAAMChwUAAAAAAAJ/BQAAAAAAAf8FAAAAAAACWwUAAAAAAgJ7BQAAAAABAssFAAAAAAIDBwUAAAAAAgL7BQAAAAADAssFAAAAAAEDIwUAAAAAAgKzBQAAAAABAq8FAAAAAAMC3wUAAAAAAwM/BQAAAAADA5sFAAAAAAMDywUAAAAAAgNjBQAAAAACAsMFAAAAAAEDBwUAAAAAAgNTBQAAAAADA5sFAAAAAAAD3wUAAAAAAwNrBQAAAAADA78FAAAAAAIDawUAAAAAAwOTBQAAAAACA68FAAAAAAIDRwUAAAAAAgLbBQAAAAABAxcFAAAAAAEC6wUAAAAAAwPzBQAAAAADA38FAAAAAAMD6wUAAAAAAgB/CQAAAAAAA3sFAAAAAAEC+wUAAAAAAwKbBQAAAAAAAq8FAAAAAAACewUAAAAAAQIjBQAAAAABAl8FAAAAAAMB0wUAAAAAAgGrBQAAAAABAf8FAAAAAAMCRwUAAAAAAQHvBQAAAAABAZMFAAAAAAMBvwUAAAAAAAGzBQAAAAADAZcFAAAAAAIBawUAAAAAAAGHBQAAAAACAXMFAAAAAAMBhwUAAAAAAwGLBQAAAAAAAb8FAAAAAAABtwUAAAAAAAHTBQAAAAABAgcFAAAAAAEB0wUAAAAAAwHTBQAAAAABAWMFAAAAAAEBhwUAAAAAAgD/BQAAAAAAAN8FAAAAAAAA9wUAAAAAAwDbBQAAAAABALMFAAAAAAEAzwUAAAAAAgEvBQAAAAADANsFAAAAAAEAhwUAAAAAAwCnBQAAAAAAAI8FAAAAAAEAywUAAAAAAgC7BQAAAAACAMcFAAAAAAMBHwUAAAAAAQDjBQAAAAABAOcFAAAAAAAA/wUAAAAAAwFLBQAAAAACATsFAAAAAAEBwwUAAAAAAQFrBQAAAAAAAY8FAAAAAAECWwUAAAAAAAIXBQAAAAADAm8FAAAAAAICEwUAAAAAAQHvBQAAAAAAAXsFAAAAAAABxwUAAAAAAAFrBQAAAAACAWsFAAAAAAEBmwUAAAAAAQEXBQAAAAABANsFAAAAAAAA2wUAAAAAAADPBQAAAAAAAXcFAAAAAAEBpwUAAAAAAAFjBQAAAAADAXsFAAAAAAABjwUAAAAAAgE/BQAAAAABAU8FAAAAAAIBYwUAAAAAAwF3BQAAAAAAAV8FAAAAAAABfwUAAAAAAAGnBQAAAAABAdsFAAAAAAIBrwUAAAAAAAGLBQAAAAABAUsFAAAAAAABVwUAAAAAAQGbBQAAAAAAAmsFAAAAAAICkwUAAAAAAQKXBQAAAAADAw8FAAAAAAICiwUAAAAAAgKbBQAAAAACAtsFAAAAAAACmwUAAAAAAQMHBQAAAAAAA9sFAAAAAAADmwUAAAAAAQAXCQAAAAADA+cFAAAAAAMAAwkAAAAAAgPLBQAAAAAAA5cFAAAAAAMDBwUAAAAAAANnBQAAAAACA58FAAAAAAIDkwUAAAAAAQPrBQAAAAABAB8JAAAAAAEACwkAAAAAAwCvCQAAAAABARsJAAAAAAIBpwkAAAAAAwGbCQAAAAABAPMJAAAAAAAAmwkAAAAAAAFfCQAAAAACAUsJAAAAAAIBKwkAAAAAAgDTCQAAAAAAAVcJAAAAAAABmwkAAAAAAAIXCQAAAAABAZ8JAAAAAAIBmwkAAAAAAgG3CQAAAAAAAZcJAAAAAAIBNwkAAAAAAAF/CQAAAAAAAVMJAAAAAAABjwkAAAAAAgGLCQAAAAABAacJAAAAAAABowkAAAAAAAHbCQAAAAAAAhMJAAAAAAACawkAAAAAAwL3CQAAAAADAqsJAAAAAAMCbwkAAAAAAwF7CQAAAAADAccJAAAAAAMCKwkAAAAAAwGnCQAAAAABAY8JAAAAAAABDwkAAAAAAgFzCQAAAAADAXsJAAAAAAMBNwkAAAAAAgFfCQAAAAACASsJAAAAAAEBBwkAAAAAAwE/CQAAAAABAUsJAAAAAAMBGwkAAAAAAAEDCQAAAAADAN8JAAAAAAMAKwkAAAAAAwAjCQAAAAAAA7MFAAAAAAMDqwUAAAAAAAPjBQAAAAAAA7cFAAAAAAADXwUAAAAAAANjBQAAAAACA7sFAAAAAAEDywUAAAAAAAPXBQAAAAACA9cFAAAAAAADZwUAAAAAAAObBQAAAAAAA6cFAAAAAAADZwUAAAAAAgLvBQAAAAADAv8FAAAAAAMCqwUAAAAAAAK7BQAAAAADAm8FAAAAAAMCfwUAAAAAAgMXBQAAAAAAA5cFAAAAAAMDfwUAAAAAAQBDCQAAAAAAA9sFAAAAAAID/wUAAAAAAwNnBQAAAAADAz8FAAAAAAADPwUAAAAAAAL3BQAAAAACAz8FAAAAAAEDZwUAAAAAAgMLBQAAAAABAtcFAAAAAAMCswUAAAAAAgKrBQAAAAADAqMFAAAAAAMCwwUAAAAAAANvBQAAAAABAzcFAAAAAAIDiwUAAAAAAAOHBQAAAAADA88FAAAAAAIDWwUAAAAAAgNLBQAAAAADAv8FAAAAAAMC1wUAAAAAAgLTBQAAAAADAwcFAAAAAAEC7wUAAAAAAgMTBQAAAAAAAtcFAAAAAAICgwUAAAAAAAIHBQAAAAAAAcMFAAAAAAEB1wUAAAAAAQHfBQAAAAAAAYcFAAAAAAEBgwUAAAAAAgG7BQAAAAABAk8FAAAAAAECVwUAAAAAAAKDBQAAAAADArsFAAAAAAACewUAAAAAAgKfBQAAAAABApsFAAAAAAACFwUAAAAAAgI/BQAAAAACAicFAAAAAAACbwUAAAAAAgJTBQAAAAACAk8FAAAAAAIClwUAAAAAAwKHBQAAAAADAssFAAAAAAICvwUAAAAAAgJnBQAAAAABAs8FAAAAAAECmwUAAAAAAgLHBQAAAAADAwMFAAAAAAIC4wUAAAAAAgLHBQAAAAABAk8FAAAAAAECWwUAAAAAAQJrBQAAAAAAAlcFAAAAAAMCBwUAAAAAAQJvBQAAAAACAnMFAAAAAAACJwUAAAAAAAIfBQAAAAABAocFAAAAAAMCXwUAAAAAAwJHBQAAAAABAgsFAAAAAAICQwUAAAAAAgHXBQAAAAADAb8FAAAAAAABzwUAAAAAAQH7BQAAAAADAgsFAAAAAAEB5wUAAAAAAQHbBQAAAAABAb8FAAAAAAEBmwUAAAAAAAGrBQAAAAACAUcFAAAAAAABLwUAAAAAAwDrBQAAAAAAARsFAAAAAAAAswUAAAAAAgD3BQAAAAADAQcFAAAAAAMBewUAAAAAAQF3BQAAAAADAbsFAAAAAAECHwUAAAAAAQIXBQAAAAACAicFAAAAAAIB9wUAAAAAAgHDBQAAAAACAe8FAAAAAAEBrwUAAAAAAQGLBQAAAAABAb8FAAAAAAIBwwUAAAAAAwGjBQAAAAADAhsFAAAAAAMBxwUAAAAAAgFnBQAAAAADAVcFAAAAAAMBhwUAAAAAAQEvBQAAAAABATcFAAAAAAMBFwUAAAAAAgEfBQAAAAACALcFAAAAAAEA1wUAAAAAAwDLBQAAAAACAMsFAAAAAAEBAwUAAAAAAQDvBQAAAAACAWMFAAAAAAMBjwUAAAAAAwFrBQAAAAAAATcFAAAAAAEBWwUAAAAAAADbBQAAAAABAMMFAAAAAAMA5wUAAAAAAgDzBQAAAAADANcFAAAAAAEAywUAAAAAAAFTBQAAAAADARMFAAAAAAMBZwUAAAAAAgFnBQAAAAADAQsFAAAAAAAA7wUAAAAAAwEHBQAAAAAAAMsFAAAAAAAA+wUAAAAAAAEvBQAAAAACAfsFAAAAAAMCEwUAAAAAAQLTBQAAAAADAq8FAAAAAAIDRwUAAAAAAwKjBQAAAAADAvcFAAAAAAEDLwUAAAAAAgOnBQAAAAABA/cFAAAAAAEA7wkAAAAAAwBnCQAAAAACAFcJAAAAAAEATwkAAAAAAgCLCQAAAAAAAG8JAAAAAAIAXwkAAAAAAACTCQAAAAADAE8JAAAAAAEAFwkAAAAAAQPXBQAAAAAAA38FAAAAAAEDzwUAAAAAAwOXBQAAAAACA4MFAAAAAAIDiwUAAAAAAAO7BQAAAAADA8MFAAAAAAMD+wUAAAAAAwP/BQAAAAADA5MFAAAAAAIDTwUAAAAAAwNDBQAAAAACA0MFAAAAAAADVwUAAAAAAANfBQAAAAABAvcFAAAAAAEC4wUAAAAAAAKTBQAAAAACAt8FAAAAAAIC4wUAAAAAAwK/BQAAAAAAAqMFAAAAAAMCtwUAAAAAAgKzBQAAAAABAmsFAAAAAAICzwUAAAAAAgJ3BQAAAAADAjcFAAAAAAAB1wUAAAAAAQH/BQAAAAADAeMFAAAAAAAB8wUAAAAAAAIbBQAAAAABAmMFAAAAAAICRwUAAAAAAQI/BQAAAAADAmMFAAAAAAEB7wUAAAAAAAIXBQAAAAAAAg8FAAAAAAICnwUAAAAAAQMfBQAAAAACAwMFAAAAAAADdwUAAAAAAwNzBQAAAAADAycFAAAAAAMDOwUAAAAAAwMXBQAAAAABAu8FAAAAAAICjwUAAAAAAAKPBQAAAAACAn8FAAAAAAACZwUAAAAAAAJXBQAAAAABAnMFAAAAAAMCswUAAAAAAQLHBQAAAAADAk8FAAAAAAECDwUAAAAAAwIXBQAAAAAAAhsFAAAAAAMCCwUAAAAAAAIXBQAAAAABAhsFAAAAAAACKwUAAAAAAwHTBQAAAAABAj8FAAAAAAECPwUAAAAAAQIrBQAAAAADAmMFAAAAAAACPwUAAAAAAgJPBQAAAAACAo8FAAAAAAACrwUAAAAAAAMXBQAAAAABAysFAAAAAAIDbwUAAAAAAANLBQAAAAACA6cFAAAAAAADdwUAAAAAAAODBQAAAAAAA0sFAAAAAAADHwUAAAAAAAMzBQAAAAAAAscFAAAAAAIC+wUAAAAAAwN7BQAAAAABA48FAAAAAAMDdwUAAAAAAAN/BQAAAAACA2cFAAAAAAEAKwkAAAAAAABnCQAAAAADAF8JAAAAAAMAHwkAAAAAAwAXCQAAAAABAEcJAAAAAAAAGwkAAAAAAwALCQAAAAAAAAsJAAAAAAIAIwkAAAAAAAP7BQAAAAADA/MFAAAAAAAAiwkAAAAAAADbCQAAAAAAAU8JAAAAAAABMwkAAAAAAwE/CQAAAAABAV8JAAAAAAAA5wkAAAAAAADvCQAAAAACAOcJAAAAAAEAbwkAAAAAAgDbCQAAAAAAANsJAAAAAAEAVwkAAAAAAQA7CQAAAAABACMJAAAAAAMAawkAAAAAAABjCQAAAAABAM8JAAAAAAIAvwkAAAAAAQBzCQAAAAADAJsJAAAAAAMA/wkAAAAAAgDLCQAAAAACALsJAAAAAAMAcwkAAAAAAgB7CQAAAAACABsJAAAAAAEAIwkAAAAAAQATCQAAAAABADMJAAAAAAMADwkAAAAAAAEDCQAAAAADAYsJAAAAAAAB6wkAAAAAAwGPCQAAAAACAdcJAAAAAAAB7wkAAAAAAQIzCQAAAAADAmcJAAAAAAIBawkAAAAAAgH3CQAAAAADAcsJAAAAAAIBqwkAAAAAAAFvCQAAAAADAZ8JAAAAAAIBbwkAAAAAAgGLCQAAAAAAAlMJAAAAAAMBrwkAAAAAAgH3CQAAAAAAAcsJAAAAAAMBVwkAAAAAAgGbCQAAAAADAb8JAAAAAAABfwkAAAAAAQEXCQAAAAABASMJAAAAAAAA8wkAAAAAAADDCQAAAAADAIMJAAAAAAEAPwkAAAAAAQA/CQAAAAABAF8JAAAAAAAAqwkAAAAAAQCPCQAAAAADAMsJAAAAAAEA+wkAAAAAAQEfCQAAAAADAWcJAAAAAAAA3wkAAAAAAADfCQAAAAABANMJAAAAAAAApwkAAAAAAQDjCQAAAAADATsJAAAAAAMBawkAAAAAAwFvCQAAAAABASMJAAAAAAEBQwkAAAAAAAD3CQAAAAADAK8JAAAAAAIARwkAAAAAAgBjCQAAAAADAAsJA\",\"dtype\":\"float64\",\"shape\":[7515]}},\"selected\":{\"id\":\"1625\",\"type\":\"Selection\"},\"selection_policy\":{\"id\":\"1655\",\"type\":\"UnionRenderers\"}},\"id\":\"1624\",\"type\":\"ColumnDataSource\"},{\"attributes\":{\"margin\":[5,5,5,5],\"name\":\"HSpacer02046\",\"sizing_mode\":\"stretch_width\"},\"id\":\"1589\",\"type\":\"Spacer\"},{\"attributes\":{},\"id\":\"1614\",\"type\":\"WheelZoomTool\"},{\"attributes\":{},\"id\":\"1635\",\"type\":\"BasicTickFormatter\"},{\"attributes\":{\"days\":[1,8,15,22]},\"id\":\"1646\",\"type\":\"DaysTicker\"},{\"attributes\":{},\"id\":\"1613\",\"type\":\"PanTool\"},{\"attributes\":{\"mantissas\":[1,2,5],\"max_interval\":500.0,\"num_minor_ticks\":0},\"id\":\"1641\",\"type\":\"AdaptiveTicker\"},{\"attributes\":{\"base\":24,\"mantissas\":[1,2,4,6,8,12],\"max_interval\":43200000.0,\"min_interval\":3600000.0,\"num_minor_ticks\":0},\"id\":\"1643\",\"type\":\"AdaptiveTicker\"},{\"attributes\":{\"months\":[0,2,4,6,8,10]},\"id\":\"1649\",\"type\":\"MonthsTicker\"},{\"attributes\":{\"text\":\"Yen Futures Settle Pice\",\"text_color\":{\"value\":\"black\"},\"text_font_size\":{\"value\":\"12pt\"}},\"id\":\"1594\",\"type\":\"Title\"},{\"attributes\":{\"overlay\":{\"id\":\"1653\",\"type\":\"BoxAnnotation\"}},\"id\":\"1615\",\"type\":\"BoxZoomTool\"},{\"attributes\":{\"months\":[0,6]},\"id\":\"1651\",\"type\":\"MonthsTicker\"},{\"attributes\":{\"margin\":[5,5,5,5],\"name\":\"HSpacer02047\",\"sizing_mode\":\"stretch_width\"},\"id\":\"1656\",\"type\":\"Spacer\"},{\"attributes\":{\"children\":[{\"id\":\"1589\",\"type\":\"Spacer\"},{\"id\":\"1593\",\"subtype\":\"Figure\",\"type\":\"Plot\"},{\"id\":\"1656\",\"type\":\"Spacer\"}],\"margin\":[0,0,0,0],\"name\":\"Row02042\",\"tags\":[\"embedded\"]},\"id\":\"1588\",\"type\":\"Row\"},{\"attributes\":{},\"id\":\"1600\",\"type\":\"LinearScale\"},{\"attributes\":{},\"id\":\"1616\",\"type\":\"ResetTool\"},{\"attributes\":{\"source\":{\"id\":\"1624\",\"type\":\"ColumnDataSource\"}},\"id\":\"1631\",\"type\":\"CDSView\"},{\"attributes\":{\"callback\":null,\"end\":13903.7,\"reset_end\":13903.7,\"reset_start\":5579.3,\"start\":5579.3,\"tags\":[[[\"Settle\",\"Settle\",null]]]},\"id\":\"1591\",\"type\":\"Range1d\"},{\"attributes\":{\"callback\":null,\"formatters\":{\"@{Date}\":\"datetime\"},\"renderers\":[{\"id\":\"1630\",\"type\":\"GlyphRenderer\"}],\"tags\":[\"hv_created\"],\"tooltips\":[[\"Date\",\"@{Date}{%F %T}\"],[\"Settle\",\"@{Settle}\"]]},\"id\":\"1592\",\"type\":\"HoverTool\"},{\"attributes\":{},\"id\":\"1598\",\"type\":\"LinearScale\"},{\"attributes\":{\"base\":60,\"mantissas\":[1,2,5,10,15,20,30],\"max_interval\":1800000.0,\"min_interval\":1000.0,\"num_minor_ticks\":0},\"id\":\"1642\",\"type\":\"AdaptiveTicker\"},{\"attributes\":{\"months\":[0,4,8]},\"id\":\"1650\",\"type\":\"MonthsTicker\"},{\"attributes\":{\"grid_line_color\":null,\"ticker\":{\"id\":\"1603\",\"type\":\"DatetimeTicker\"}},\"id\":\"1606\",\"type\":\"Grid\"},{\"attributes\":{\"callback\":null,\"end\":1571097600000.0,\"reset_end\":1571097600000.0,\"reset_start\":631238400000.0,\"start\":631238400000.0,\"tags\":[[[\"Date\",\"Date\",null]]]},\"id\":\"1590\",\"type\":\"Range1d\"},{\"attributes\":{\"axis_label\":\"Date\",\"axis_label_text_font_size\":{\"value\":\"10pt\"},\"bounds\":\"auto\",\"formatter\":{\"id\":\"1633\",\"type\":\"DatetimeTickFormatter\"},\"major_label_orientation\":\"horizontal\",\"ticker\":{\"id\":\"1603\",\"type\":\"DatetimeTicker\"}},\"id\":\"1602\",\"type\":\"DatetimeAxis\"},{\"attributes\":{},\"id\":\"1652\",\"type\":\"YearsTicker\"},{\"attributes\":{\"num_minor_ticks\":5,\"tickers\":[{\"id\":\"1641\",\"type\":\"AdaptiveTicker\"},{\"id\":\"1642\",\"type\":\"AdaptiveTicker\"},{\"id\":\"1643\",\"type\":\"AdaptiveTicker\"},{\"id\":\"1644\",\"type\":\"DaysTicker\"},{\"id\":\"1645\",\"type\":\"DaysTicker\"},{\"id\":\"1646\",\"type\":\"DaysTicker\"},{\"id\":\"1647\",\"type\":\"DaysTicker\"},{\"id\":\"1648\",\"type\":\"MonthsTicker\"},{\"id\":\"1649\",\"type\":\"MonthsTicker\"},{\"id\":\"1650\",\"type\":\"MonthsTicker\"},{\"id\":\"1651\",\"type\":\"MonthsTicker\"},{\"id\":\"1652\",\"type\":\"YearsTicker\"}]},\"id\":\"1603\",\"type\":\"DatetimeTicker\"},{\"attributes\":{\"months\":[0,1,2,3,4,5,6,7,8,9,10,11]},\"id\":\"1648\",\"type\":\"MonthsTicker\"},{\"attributes\":{\"active_drag\":\"auto\",\"active_inspect\":\"auto\",\"active_multi\":null,\"active_scroll\":\"auto\",\"active_tap\":\"auto\",\"tools\":[{\"id\":\"1592\",\"type\":\"HoverTool\"},{\"id\":\"1612\",\"type\":\"SaveTool\"},{\"id\":\"1613\",\"type\":\"PanTool\"},{\"id\":\"1614\",\"type\":\"WheelZoomTool\"},{\"id\":\"1615\",\"type\":\"BoxZoomTool\"},{\"id\":\"1616\",\"type\":\"ResetTool\"}]},\"id\":\"1617\",\"type\":\"Toolbar\"},{\"attributes\":{\"days\":[1,15]},\"id\":\"1647\",\"type\":\"DaysTicker\"},{\"attributes\":{\"axis_label\":\"\",\"axis_label_text_font_size\":{\"value\":\"10pt\"},\"bounds\":\"auto\",\"formatter\":{\"id\":\"1635\",\"type\":\"BasicTickFormatter\"},\"major_label_orientation\":\"horizontal\",\"ticker\":{\"id\":\"1608\",\"type\":\"BasicTicker\"}},\"id\":\"1607\",\"type\":\"LinearAxis\"},{\"attributes\":{},\"id\":\"1608\",\"type\":\"BasicTicker\"}],\"root_ids\":[\"1588\"]},\"title\":\"Bokeh Application\",\"version\":\"1.4.0\"}};\n",
       "  var render_items = [{\"docid\":\"038cc847-88ba-4541-84fc-35741f81eb94\",\"roots\":{\"1588\":\"978dd4b3-9bba-4830-8429-ac4dcf33f070\"}}];\n",
       "  root.Bokeh.embed.embed_items_notebook(docs_json, render_items);\n",
       "  }\n",
       "if (root.Bokeh !== undefined) {\n",
       "    embed_document(root);\n",
       "  } else {\n",
       "    var attempts = 0;\n",
       "    var timer = setInterval(function(root) {\n",
       "      if (root.Bokeh !== undefined) {\n",
       "        clearInterval(timer);\n",
       "        embed_document(root);\n",
       "      } else if (document.readyState == \"complete\") {\n",
       "        attempts++;\n",
       "        if (attempts > 100) {\n",
       "          clearInterval(timer);\n",
       "          console.log(\"Bokeh: ERROR: Unable to run BokehJS code because BokehJS library is missing\");\n",
       "        }\n",
       "      }\n",
       "    }, 10, root)\n",
       "  }\n",
       "})(window);</script>"
      ],
      "text/plain": [
       ":Curve   [Date]   (Settle)"
      ]
     },
     "execution_count": 24,
     "metadata": {
      "application/vnd.holoviews_exec.v0+json": {
       "id": "1588"
      }
     },
     "output_type": "execute_result"
    }
   ],
   "source": [
    "settle_price = yen_futures[\"Settle\"]\n",
    "settle_price.hvplot(title=\"Yen Futures Settle Pice\")"
   ]
  },
  {
   "cell_type": "markdown",
   "metadata": {},
   "source": [
    "* Apply the Hodrick-Prescott Filter"
   ]
  },
  {
   "cell_type": "code",
   "execution_count": 26,
   "metadata": {},
   "outputs": [],
   "source": [
    "noise, trend = sm.tsa.filters.hpfilter(settle_price)"
   ]
  },
  {
   "cell_type": "code",
   "execution_count": 27,
   "metadata": {},
   "outputs": [
    {
     "data": {
      "text/plain": [
       "Date\n",
       "1990-01-02    6908.503967\n",
       "1990-01-03    6908.799756\n",
       "1990-01-04    6909.057104\n",
       "1990-01-05    6909.223948\n",
       "1990-01-08    6909.310062\n",
       "Name: Settle_trend, dtype: float64"
      ]
     },
     "execution_count": 27,
     "metadata": {},
     "output_type": "execute_result"
    }
   ],
   "source": [
    "trend.head()"
   ]
  },
  {
   "cell_type": "code",
   "execution_count": 28,
   "metadata": {},
   "outputs": [
    {
     "data": {
      "text/plain": [
       "Date\n",
       "1990-01-02   -61.503967\n",
       "1990-01-03   -21.799756\n",
       "1990-01-04    98.942896\n",
       "1990-01-05    40.776052\n",
       "1990-01-08    49.689938\n",
       "Name: Settle_cycle, dtype: float64"
      ]
     },
     "execution_count": 28,
     "metadata": {},
     "output_type": "execute_result"
    }
   ],
   "source": [
    "noise.head()"
   ]
  },
  {
   "cell_type": "markdown",
   "metadata": {},
   "source": [
    "* Create a dataframe for the noise and trend"
   ]
  },
  {
   "cell_type": "code",
   "execution_count": 29,
   "metadata": {},
   "outputs": [
    {
     "data": {
      "text/html": [
       "<div>\n",
       "<style scoped>\n",
       "    .dataframe tbody tr th:only-of-type {\n",
       "        vertical-align: middle;\n",
       "    }\n",
       "\n",
       "    .dataframe tbody tr th {\n",
       "        vertical-align: top;\n",
       "    }\n",
       "\n",
       "    .dataframe thead th {\n",
       "        text-align: right;\n",
       "    }\n",
       "</style>\n",
       "<table border=\"1\" class=\"dataframe\">\n",
       "  <thead>\n",
       "    <tr style=\"text-align: right;\">\n",
       "      <th></th>\n",
       "      <th>Settle</th>\n",
       "      <th>Noise</th>\n",
       "      <th>Trend</th>\n",
       "    </tr>\n",
       "    <tr>\n",
       "      <th>Date</th>\n",
       "      <th></th>\n",
       "      <th></th>\n",
       "      <th></th>\n",
       "    </tr>\n",
       "  </thead>\n",
       "  <tbody>\n",
       "    <tr>\n",
       "      <th>1990-01-02</th>\n",
       "      <td>6847.0</td>\n",
       "      <td>-61.503967</td>\n",
       "      <td>6908.503967</td>\n",
       "    </tr>\n",
       "    <tr>\n",
       "      <th>1990-01-03</th>\n",
       "      <td>6887.0</td>\n",
       "      <td>-21.799756</td>\n",
       "      <td>6908.799756</td>\n",
       "    </tr>\n",
       "    <tr>\n",
       "      <th>1990-01-04</th>\n",
       "      <td>7008.0</td>\n",
       "      <td>98.942896</td>\n",
       "      <td>6909.057104</td>\n",
       "    </tr>\n",
       "    <tr>\n",
       "      <th>1990-01-05</th>\n",
       "      <td>6950.0</td>\n",
       "      <td>40.776052</td>\n",
       "      <td>6909.223948</td>\n",
       "    </tr>\n",
       "    <tr>\n",
       "      <th>1990-01-08</th>\n",
       "      <td>6959.0</td>\n",
       "      <td>49.689938</td>\n",
       "      <td>6909.310062</td>\n",
       "    </tr>\n",
       "  </tbody>\n",
       "</table>\n",
       "</div>"
      ],
      "text/plain": [
       "            Settle      Noise        Trend\n",
       "Date                                      \n",
       "1990-01-02  6847.0 -61.503967  6908.503967\n",
       "1990-01-03  6887.0 -21.799756  6908.799756\n",
       "1990-01-04  7008.0  98.942896  6909.057104\n",
       "1990-01-05  6950.0  40.776052  6909.223948\n",
       "1990-01-08  6959.0  49.689938  6909.310062"
      ]
     },
     "execution_count": 29,
     "metadata": {},
     "output_type": "execute_result"
    }
   ],
   "source": [
    "all_trend = pd.DataFrame(settle_price)\n",
    "all_trend[\"Noise\"] = noise\n",
    "all_trend[\"Trend\"]=trend\n",
    "all_trend.head()"
   ]
  },
  {
   "cell_type": "markdown",
   "metadata": {},
   "source": [
    "* Plot the Settle Price vs. the Trend for 2015 to the present"
   ]
  },
  {
   "cell_type": "code",
   "execution_count": 30,
   "metadata": {},
   "outputs": [],
   "source": [
    "settle_vs_trend = all_trend[[\"Settle\", \"Trend\"]][\"2015\":]\n",
    "settle_vs_trend_plot = settle_vs_trend.hvplot(title=\"Settle VS Trend Price\", width=900)"
   ]
  },
  {
   "cell_type": "code",
   "execution_count": 31,
   "metadata": {},
   "outputs": [
    {
     "data": {
      "text/html": [
       "<div>\n",
       "<style scoped>\n",
       "    .dataframe tbody tr th:only-of-type {\n",
       "        vertical-align: middle;\n",
       "    }\n",
       "\n",
       "    .dataframe tbody tr th {\n",
       "        vertical-align: top;\n",
       "    }\n",
       "\n",
       "    .dataframe thead th {\n",
       "        text-align: right;\n",
       "    }\n",
       "</style>\n",
       "<table border=\"1\" class=\"dataframe\">\n",
       "  <thead>\n",
       "    <tr style=\"text-align: right;\">\n",
       "      <th></th>\n",
       "      <th>Settle</th>\n",
       "      <th>Trend</th>\n",
       "    </tr>\n",
       "    <tr>\n",
       "      <th>Date</th>\n",
       "      <th></th>\n",
       "      <th></th>\n",
       "    </tr>\n",
       "  </thead>\n",
       "  <tbody>\n",
       "    <tr>\n",
       "      <th>2015-01-02</th>\n",
       "      <td>8315.0</td>\n",
       "      <td>8394.686404</td>\n",
       "    </tr>\n",
       "    <tr>\n",
       "      <th>2015-01-05</th>\n",
       "      <td>8371.0</td>\n",
       "      <td>8401.395762</td>\n",
       "    </tr>\n",
       "    <tr>\n",
       "      <th>2015-01-06</th>\n",
       "      <td>8435.0</td>\n",
       "      <td>8408.585597</td>\n",
       "    </tr>\n",
       "    <tr>\n",
       "      <th>2015-01-07</th>\n",
       "      <td>8412.0</td>\n",
       "      <td>8416.089059</td>\n",
       "    </tr>\n",
       "    <tr>\n",
       "      <th>2015-01-08</th>\n",
       "      <td>8360.0</td>\n",
       "      <td>8423.755805</td>\n",
       "    </tr>\n",
       "  </tbody>\n",
       "</table>\n",
       "</div>"
      ],
      "text/plain": [
       "            Settle        Trend\n",
       "Date                           \n",
       "2015-01-02  8315.0  8394.686404\n",
       "2015-01-05  8371.0  8401.395762\n",
       "2015-01-06  8435.0  8408.585597\n",
       "2015-01-07  8412.0  8416.089059\n",
       "2015-01-08  8360.0  8423.755805"
      ]
     },
     "execution_count": 31,
     "metadata": {},
     "output_type": "execute_result"
    }
   ],
   "source": [
    "settle_vs_trend.head()"
   ]
  },
  {
   "cell_type": "code",
   "execution_count": 32,
   "metadata": {},
   "outputs": [
    {
     "data": {},
     "metadata": {},
     "output_type": "display_data"
    },
    {
     "data": {
      "application/vnd.holoviews_exec.v0+json": "",
      "text/html": [
       "<div id='1818'>\n",
       "\n",
       "\n",
       "\n",
       "\n",
       "\n",
       "  <div class=\"bk-root\" id=\"92d47271-40fc-4616-8e26-2555f01b81a4\" data-root-id=\"1818\"></div>\n",
       "</div>\n",
       "<script type=\"application/javascript\">\n",
       "    function msg_handler(msg) {\n",
       "      var metadata = msg.metadata;\n",
       "      var buffers = msg.buffers;\n",
       "      var msg = msg.content.data;\n",
       "      if ((metadata.msg_type == \"Ready\")) {\n",
       "        if (metadata.content) {\n",
       "          console.log(\"Python callback returned following output:\", metadata.content);\n",
       "        }\n",
       "      } else if (metadata.msg_type == \"Error\") {\n",
       "        console.log(\"Python failed with the following traceback:\", metadata.traceback)\n",
       "      } else {\n",
       "        \n",
       "var plot_id = \"1818\";\n",
       "\n",
       "if ((plot_id in window.PyViz.plot_index) && (window.PyViz.plot_index[plot_id] != null)) {\n",
       "  var plot = window.PyViz.plot_index[plot_id];\n",
       "} else if ((Bokeh !== undefined) && (plot_id in Bokeh.index)) {\n",
       "  var plot = Bokeh.index[plot_id];\n",
       "}\n",
       "\n",
       "if (plot == null) {\n",
       "  return\n",
       "}\n",
       "\n",
       "if (plot_id in window.PyViz.receivers) {\n",
       "  var receiver = window.PyViz.receivers[plot_id];\n",
       "} else {\n",
       "  var receiver = new Bokeh.protocol.Receiver();\n",
       "  window.PyViz.receivers[plot_id] = receiver;\n",
       "}\n",
       "\n",
       "if ((buffers != undefined) && (buffers.length > 0)) {\n",
       "  receiver.consume(buffers[0].buffer)\n",
       "} else {\n",
       "  receiver.consume(msg)\n",
       "}\n",
       "\n",
       "const comm_msg = receiver.message;\n",
       "if ((comm_msg != null) && (Object.keys(comm_msg.content).length > 0)) {\n",
       "  plot.model.document.apply_json_patch(comm_msg.content, comm_msg.buffers)\n",
       "}\n",
       "\n",
       "      }\n",
       "    }\n",
       "    if ((window.PyViz == undefined) || (!window.PyViz.comm_manager)) {\n",
       "      console.log(\"Could not find comm manager\")\n",
       "    } else {\n",
       "      window.PyViz.comm_manager.register_target('1818', 'ceddc3b6544f47c89311d9d73a335b9d', msg_handler);\n",
       "    }\n",
       "    \n",
       "(function(root) {\n",
       "  function embed_document(root) {\n",
       "  var docs_json = {\"b9882cf9-5d54-4b29-81f3-50416fee715d\":{\"roots\":{\"references\":[{\"attributes\":{\"bottom_units\":\"screen\",\"fill_alpha\":{\"value\":0.5},\"fill_color\":{\"value\":\"lightgrey\"},\"left_units\":\"screen\",\"level\":\"overlay\",\"line_alpha\":{\"value\":1.0},\"line_color\":{\"value\":\"black\"},\"line_dash\":[4,4],\"line_width\":{\"value\":2},\"render_mode\":\"css\",\"right_units\":\"screen\",\"top_units\":\"screen\"},\"id\":\"1884\",\"type\":\"BoxAnnotation\"},{\"attributes\":{\"callback\":null,\"end\":1571097600000.0,\"reset_end\":1571097600000.0,\"reset_start\":1420156800000.0,\"start\":1420156800000.0,\"tags\":[[[\"Date\",\"Date\",null]]]},\"id\":\"1820\",\"type\":\"Range1d\"},{\"attributes\":{\"months\":[0,2,4,6,8,10]},\"id\":\"1880\",\"type\":\"MonthsTicker\"},{\"attributes\":{\"axis_label\":\"Date\",\"axis_label_text_font_size\":{\"value\":\"10pt\"},\"bounds\":\"auto\",\"formatter\":{\"id\":\"1856\",\"type\":\"DatetimeTickFormatter\"},\"major_label_orientation\":\"horizontal\",\"ticker\":{\"id\":\"1834\",\"type\":\"DatetimeTicker\"}},\"id\":\"1833\",\"type\":\"DatetimeAxis\"},{\"attributes\":{},\"id\":\"1839\",\"type\":\"BasicTicker\"},{\"attributes\":{\"callback\":null,\"data\":{\"Date\":{\"__ndarray__\":\"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\",\"dtype\":\"float64\",\"shape\":[1206]},\"Variable\":[\"Settle\",\"Settle\",\"Settle\",\"Settle\",\"Settle\",\"Settle\",\"Settle\",\"Settle\",\"Settle\",\"Settle\",\"Settle\",\"Settle\",\"Settle\",\"Settle\",\"Settle\",\"Settle\",\"Settle\",\"Settle\",\"Settle\",\"Settle\",\"Settle\",\"Settle\",\"Settle\",\"Settle\",\"Settle\",\"Settle\",\"Settle\",\"Settle\",\"Settle\",\"Settle\",\"Settle\",\"Settle\",\"Settle\",\"Settle\",\"Settle\",\"Settle\",\"Settle\",\"Settle\",\"Settle\",\"Settle\",\"Settle\",\"Settle\",\"Settle\",\"Settle\",\"Settle\",\"Settle\",\"Settle\",\"Settle\",\"Settle\",\"Settle\",\"Settle\",\"Settle\",\"Settle\",\"Settle\",\"Settle\",\"Settle\",\"Settle\",\"Settle\",\"Settle\",\"Settle\",\"Settle\",\"Settle\",\"Settle\",\"Settle\",\"Settle\",\"Settle\",\"Settle\",\"Settle\",\"Settle\",\"Settle\",\"Settle\",\"Settle\",\"Settle\",\"Settle\",\"Settle\",\"Settle\",\"Settle\",\"Settle\",\"Settle\",\"Settle\",\"Settle\",\"Settle\",\"Settle\",\"Settle\",\"Settle\",\"Settle\",\"Settle\",\"Settle\",\"Settle\",\"Settle\",\"Settle\",\"Settle\",\"Settle\",\"Settle\",\"Settle\",\"Settle\",\"Settle\",\"Settle\",\"Settle\",\"Settle\",\"Settle\",\"Settle\",\"Settle\",\"Settle\",\"Settle\",\"Settle\",\"Settle\",\"Settle\",\"Settle\",\"Settle\",\"Settle\",\"Settle\",\"Settle\",\"Settle\",\"Settle\",\"Settle\",\"Settle\",\"Settle\",\"Settle\",\"Settle\",\"Settle\",\"Settle\",\"Settle\",\"Settle\",\"Settle\",\"Settle\",\"Settle\",\"Settle\",\"Settle\",\"Settle\",\"Settle\",\"Settle\",\"Settle\",\"Settle\",\"Settle\",\"Settle\",\"Settle\",\"Settle\",\"Settle\",\"Settle\",\"Settle\",\"Settle\",\"Settle\",\"Settle\",\"Settle\",\"Settle\",\"Settle\",\"Settle\",\"Settle\",\"Settle\",\"Settle\",\"Settle\",\"Settle\",\"Settle\",\"Settle\",\"Settle\",\"Settle\",\"Settle\",\"Settle\",\"Settle\",\"Settle\",\"Settle\",\"Settle\",\"Settle\",\"Settle\",\"Settle\",\"Settle\",\"Settle\",\"Settle\",\"Settle\",\"Settle\",\"Settle\",\"Settle\",\"Settle\",\"Settle\",\"Settle\",\"Settle\",\"Settle\",\"Settle\",\"Settle\",\"Settle\",\"Settle\",\"Settle\",\"Settle\",\"Settle\",\"Settle\",\"Settle\",\"Settle\",\"Settle\",\"Settle\",\"Settle\",\"Settle\",\"Settle\",\"Settle\",\"Settle\",\"Settle\",\"Settle\",\"Settle\",\"Settle\",\"Settle\",\"Settle\",\"Settle\",\"Settle\",\"Settle\",\"Settle\",\"Settle\",\"Settle\",\"Settle\",\"Settle\",\"Settle\",\"Settle\",\"Settle\",\"Settle\",\"Settle\",\"Settle\",\"Settle\",\"Settle\",\"Settle\",\"Settle\",\"Settle\",\"Settle\",\"Settle\",\"Settle\",\"Settle\",\"Settle\",\"Settle\",\"Settle\",\"Settle\",\"Settle\",\"Settle\",\"Settle\",\"Settle\",\"Settle\",\"Settle\",\"Settle\",\"Settle\",\"Settle\",\"Settle\",\"Settle\",\"Settle\",\"Settle\",\"Settle\",\"Settle\",\"Settle\",\"Settle\",\"Settle\",\"Settle\",\"Settle\",\"Settle\",\"Settle\",\"Settle\",\"Settle\",\"Settle\",\"Settle\",\"Settle\",\"Settle\",\"Settle\",\"Settle\",\"Settle\",\"Settle\",\"Settle\",\"Settle\",\"Settle\",\"Settle\",\"Settle\",\"Settle\",\"Settle\",\"Settle\",\"Settle\",\"Settle\",\"Settle\",\"Settle\",\"Settle\",\"Settle\",\"Settle\",\"Settle\",\"Settle\",\"Settle\",\"Settle\",\"Settle\",\"Settle\",\"Settle\",\"Settle\",\"Settle\",\"Settle\",\"Settle\",\"Settle\",\"Settle\",\"Settle\",\"Settle\",\"Settle\",\"Settle\",\"Settle\",\"Settle\",\"Settle\",\"Settle\",\"Settle\",\"Settle\",\"Settle\",\"Settle\",\"Settle\",\"Settle\",\"Settle\",\"Settle\",\"Settle\",\"Settle\",\"Settle\",\"Settle\",\"Settle\",\"Settle\",\"Settle\",\"Settle\",\"Settle\",\"Settle\",\"Settle\",\"Settle\",\"Settle\",\"Settle\",\"Settle\",\"Settle\",\"Settle\",\"Settle\",\"Settle\",\"Settle\",\"Settle\",\"Settle\",\"Settle\",\"Settle\",\"Settle\",\"Settle\",\"Settle\",\"Settle\",\"Settle\",\"Settle\",\"Settle\",\"Settle\",\"Settle\",\"Settle\",\"Settle\",\"Settle\",\"Settle\",\"Settle\",\"Settle\",\"Settle\",\"Settle\",\"Settle\",\"Settle\",\"Settle\",\"Settle\",\"Settle\",\"Settle\",\"Settle\",\"Settle\",\"Settle\",\"Settle\",\"Settle\",\"Settle\",\"Settle\",\"Settle\",\"Settle\",\"Settle\",\"Settle\",\"Settle\",\"Settle\",\"Settle\",\"Settle\",\"Settle\",\"Settle\",\"Settle\",\"Settle\",\"Settle\",\"Settle\",\"Settle\",\"Settle\",\"Settle\",\"Settle\",\"Settle\",\"Settle\",\"Settle\",\"Settle\",\"Settle\",\"Settle\",\"Settle\",\"Settle\",\"Settle\",\"Settle\",\"Settle\",\"Settle\",\"Settle\",\"Settle\",\"Settle\",\"Settle\",\"Settle\",\"Settle\",\"Settle\",\"Settle\",\"Settle\",\"Settle\",\"Settle\",\"Settle\",\"Settle\",\"Settle\",\"Settle\",\"Settle\",\"Settle\",\"Settle\",\"Settle\",\"Settle\",\"Settle\",\"Settle\",\"Settle\",\"Settle\",\"Settle\",\"Settle\",\"Settle\",\"Settle\",\"Settle\",\"Settle\",\"Settle\",\"Settle\",\"Settle\",\"Settle\",\"Settle\",\"Settle\",\"Settle\",\"Settle\",\"Settle\",\"Settle\",\"Settle\",\"Settle\",\"Settle\",\"Settle\",\"Settle\",\"Settle\",\"Settle\",\"Settle\",\"Settle\",\"Settle\",\"Settle\",\"Settle\",\"Settle\",\"Settle\",\"Settle\",\"Settle\",\"Settle\",\"Settle\",\"Settle\",\"Settle\",\"Settle\",\"Settle\",\"Settle\",\"Settle\",\"Settle\",\"Settle\",\"Settle\",\"Settle\",\"Settle\",\"Settle\",\"Settle\",\"Settle\",\"Settle\",\"Settle\",\"Settle\",\"Settle\",\"Settle\",\"Settle\",\"Settle\",\"Settle\",\"Settle\",\"Settle\",\"Settle\",\"Settle\",\"Settle\",\"Settle\",\"Settle\",\"Settle\",\"Settle\",\"Settle\",\"Settle\",\"Settle\",\"Settle\",\"Settle\",\"Settle\",\"Settle\",\"Settle\",\"Settle\",\"Settle\",\"Settle\",\"Settle\",\"Settle\",\"Settle\",\"Settle\",\"Settle\",\"Settle\",\"Settle\",\"Settle\",\"Settle\",\"Settle\",\"Settle\",\"Settle\",\"Settle\",\"Settle\",\"Settle\",\"Settle\",\"Settle\",\"Settle\",\"Settle\",\"Settle\",\"Settle\",\"Settle\",\"Settle\",\"Settle\",\"Settle\",\"Settle\",\"Settle\",\"Settle\",\"Settle\",\"Settle\",\"Settle\",\"Settle\",\"Settle\",\"Settle\",\"Settle\",\"Settle\",\"Settle\",\"Settle\",\"Settle\",\"Settle\",\"Settle\",\"Settle\",\"Settle\",\"Settle\",\"Settle\",\"Settle\",\"Settle\",\"Settle\",\"Settle\",\"Settle\",\"Settle\",\"Settle\",\"Settle\",\"Settle\",\"Settle\",\"Settle\",\"Settle\",\"Settle\",\"Settle\",\"Settle\",\"Settle\",\"Settle\",\"Settle\",\"Settle\",\"Settle\",\"Settle\",\"Settle\",\"Settle\",\"Settle\",\"Settle\",\"Settle\",\"Settle\",\"Settle\",\"Settle\",\"Settle\",\"Settle\",\"Settle\",\"Settle\",\"Settle\",\"Settle\",\"Settle\",\"Settle\",\"Settle\",\"Settle\",\"Settle\",\"Settle\",\"Settle\",\"Settle\",\"Settle\",\"Settle\",\"Settle\",\"Settle\",\"Settle\",\"Settle\",\"Settle\",\"Settle\",\"Settle\",\"Settle\",\"Settle\",\"Settle\",\"Settle\",\"Settle\",\"Settle\",\"Settle\",\"Settle\",\"Settle\",\"Settle\",\"Settle\",\"Settle\",\"Settle\",\"Settle\",\"Settle\",\"Settle\",\"Settle\",\"Settle\",\"Settle\",\"Settle\",\"Settle\",\"Settle\",\"Settle\",\"Settle\",\"Settle\",\"Settle\",\"Settle\",\"Settle\",\"Settle\",\"Settle\",\"Settle\",\"Settle\",\"Settle\",\"Settle\",\"Settle\",\"Settle\",\"Settle\",\"Settle\",\"Settle\",\"Settle\",\"Settle\",\"Settle\",\"Settle\",\"Settle\",\"Settle\",\"Settle\",\"Settle\",\"Settle\",\"Settle\",\"Settle\",\"Settle\",\"Settle\",\"Settle\",\"Settle\",\"Settle\",\"Settle\",\"Settle\",\"Settle\",\"Settle\",\"Settle\",\"Settle\",\"Settle\",\"Settle\",\"Settle\",\"Settle\",\"Settle\",\"Settle\",\"Settle\",\"Settle\",\"Settle\",\"Settle\",\"Settle\",\"Settle\",\"Settle\",\"Settle\",\"Settle\",\"Settle\",\"Settle\",\"Settle\",\"Settle\",\"Settle\",\"Settle\",\"Settle\",\"Settle\",\"Settle\",\"Settle\",\"Settle\",\"Settle\",\"Settle\",\"Settle\",\"Settle\",\"Settle\",\"Settle\",\"Settle\",\"Settle\",\"Settle\",\"Settle\",\"Settle\",\"Settle\",\"Settle\",\"Settle\",\"Settle\",\"Settle\",\"Settle\",\"Settle\",\"Settle\",\"Settle\",\"Settle\",\"Settle\",\"Settle\",\"Settle\",\"Settle\",\"Settle\",\"Settle\",\"Settle\",\"Settle\",\"Settle\",\"Settle\",\"Settle\",\"Settle\",\"Settle\",\"Settle\",\"Settle\",\"Settle\",\"Settle\",\"Settle\",\"Settle\",\"Settle\",\"Settle\",\"Settle\",\"Settle\",\"Settle\",\"Settle\",\"Settle\",\"Settle\",\"Settle\",\"Settle\",\"Settle\",\"Settle\",\"Settle\",\"Settle\",\"Settle\",\"Settle\",\"Settle\",\"Settle\",\"Settle\",\"Settle\",\"Settle\",\"Settle\",\"Settle\",\"Settle\",\"Settle\",\"Settle\",\"Settle\",\"Settle\",\"Settle\",\"Settle\",\"Settle\",\"Settle\",\"Settle\",\"Settle\",\"Settle\",\"Settle\",\"Settle\",\"Settle\",\"Settle\",\"Settle\",\"Settle\",\"Settle\",\"Settle\",\"Settle\",\"Settle\",\"Settle\",\"Settle\",\"Settle\",\"Settle\",\"Settle\",\"Settle\",\"Settle\",\"Settle\",\"Settle\",\"Settle\",\"Settle\",\"Settle\",\"Settle\",\"Settle\",\"Settle\",\"Settle\",\"Settle\",\"Settle\",\"Settle\",\"Settle\",\"Settle\",\"Settle\",\"Settle\",\"Settle\",\"Settle\",\"Settle\",\"Settle\",\"Settle\",\"Settle\",\"Settle\",\"Settle\",\"Settle\",\"Settle\",\"Settle\",\"Settle\",\"Settle\",\"Settle\",\"Settle\",\"Settle\",\"Settle\",\"Settle\",\"Settle\",\"Settle\",\"Settle\",\"Settle\",\"Settle\",\"Settle\",\"Settle\",\"Settle\",\"Settle\",\"Settle\",\"Settle\",\"Settle\",\"Settle\",\"Settle\",\"Settle\",\"Settle\",\"Settle\",\"Settle\",\"Settle\",\"Settle\",\"Settle\",\"Settle\",\"Settle\",\"Settle\",\"Settle\",\"Settle\",\"Settle\",\"Settle\",\"Settle\",\"Settle\",\"Settle\",\"Settle\",\"Settle\",\"Settle\",\"Settle\",\"Settle\",\"Settle\",\"Settle\",\"Settle\",\"Settle\",\"Settle\",\"Settle\",\"Settle\",\"Settle\",\"Settle\",\"Settle\",\"Settle\",\"Settle\",\"Settle\",\"Settle\",\"Settle\",\"Settle\",\"Settle\",\"Settle\",\"Settle\",\"Settle\",\"Settle\",\"Settle\",\"Settle\",\"Settle\",\"Settle\",\"Settle\",\"Settle\",\"Settle\",\"Settle\",\"Settle\",\"Settle\",\"Settle\",\"Settle\",\"Settle\",\"Settle\",\"Settle\",\"Settle\",\"Settle\",\"Settle\",\"Settle\",\"Settle\",\"Settle\",\"Settle\",\"Settle\",\"Settle\",\"Settle\",\"Settle\",\"Settle\",\"Settle\",\"Settle\",\"Settle\",\"Settle\",\"Settle\",\"Settle\",\"Settle\",\"Settle\",\"Settle\",\"Settle\",\"Settle\",\"Settle\",\"Settle\",\"Settle\",\"Settle\",\"Settle\",\"Settle\",\"Settle\",\"Settle\",\"Settle\",\"Settle\",\"Settle\",\"Settle\",\"Settle\",\"Settle\",\"Settle\",\"Settle\",\"Settle\",\"Settle\",\"Settle\",\"Settle\",\"Settle\",\"Settle\",\"Settle\",\"Settle\",\"Settle\",\"Settle\",\"Settle\",\"Settle\",\"Settle\",\"Settle\",\"Settle\",\"Settle\",\"Settle\",\"Settle\",\"Settle\",\"Settle\",\"Settle\",\"Settle\",\"Settle\",\"Settle\",\"Settle\",\"Settle\",\"Settle\",\"Settle\",\"Settle\",\"Settle\",\"Settle\",\"Settle\",\"Settle\",\"Settle\",\"Settle\",\"Settle\",\"Settle\",\"Settle\",\"Settle\",\"Settle\",\"Settle\",\"Settle\",\"Settle\",\"Settle\",\"Settle\",\"Settle\",\"Settle\",\"Settle\",\"Settle\",\"Settle\",\"Settle\",\"Settle\",\"Settle\",\"Settle\",\"Settle\",\"Settle\",\"Settle\",\"Settle\",\"Settle\",\"Settle\",\"Settle\",\"Settle\",\"Settle\",\"Settle\",\"Settle\",\"Settle\",\"Settle\",\"Settle\",\"Settle\",\"Settle\",\"Settle\",\"Settle\",\"Settle\",\"Settle\",\"Settle\",\"Settle\",\"Settle\",\"Settle\",\"Settle\",\"Settle\",\"Settle\",\"Settle\",\"Settle\",\"Settle\",\"Settle\",\"Settle\",\"Settle\",\"Settle\",\"Settle\",\"Settle\",\"Settle\",\"Settle\",\"Settle\",\"Settle\",\"Settle\",\"Settle\",\"Settle\",\"Settle\",\"Settle\",\"Settle\",\"Settle\",\"Settle\",\"Settle\",\"Settle\",\"Settle\",\"Settle\",\"Settle\",\"Settle\",\"Settle\",\"Settle\",\"Settle\",\"Settle\",\"Settle\",\"Settle\",\"Settle\",\"Settle\",\"Settle\",\"Settle\",\"Settle\",\"Settle\",\"Settle\",\"Settle\",\"Settle\",\"Settle\",\"Settle\",\"Settle\",\"Settle\",\"Settle\",\"Settle\",\"Settle\",\"Settle\",\"Settle\",\"Settle\",\"Settle\",\"Settle\",\"Settle\",\"Settle\",\"Settle\",\"Settle\",\"Settle\",\"Settle\",\"Settle\",\"Settle\",\"Settle\",\"Settle\",\"Settle\",\"Settle\",\"Settle\",\"Settle\",\"Settle\",\"Settle\",\"Settle\",\"Settle\",\"Settle\",\"Settle\",\"Settle\",\"Settle\",\"Settle\",\"Settle\",\"Settle\",\"Settle\",\"Settle\",\"Settle\",\"Settle\",\"Settle\",\"Settle\",\"Settle\",\"Settle\",\"Settle\",\"Settle\",\"Settle\",\"Settle\",\"Settle\",\"Settle\",\"Settle\",\"Settle\",\"Settle\",\"Settle\",\"Settle\",\"Settle\",\"Settle\",\"Settle\",\"Settle\",\"Settle\",\"Settle\",\"Settle\",\"Settle\",\"Settle\",\"Settle\",\"Settle\",\"Settle\",\"Settle\",\"Settle\",\"Settle\",\"Settle\",\"Settle\",\"Settle\",\"Settle\",\"Settle\",\"Settle\",\"Settle\",\"Settle\",\"Settle\",\"Settle\",\"Settle\",\"Settle\",\"Settle\",\"Settle\",\"Settle\",\"Settle\",\"Settle\",\"Settle\",\"Settle\",\"Settle\",\"Settle\",\"Settle\",\"Settle\",\"Settle\",\"Settle\",\"Settle\",\"Settle\",\"Settle\",\"Settle\",\"Settle\",\"Settle\",\"Settle\",\"Settle\",\"Settle\",\"Settle\",\"Settle\",\"Settle\",\"Settle\",\"Settle\",\"Settle\",\"Settle\",\"Settle\",\"Settle\",\"Settle\",\"Settle\",\"Settle\",\"Settle\",\"Settle\",\"Settle\",\"Settle\",\"Settle\",\"Settle\",\"Settle\",\"Settle\",\"Settle\",\"Settle\",\"Settle\",\"Settle\",\"Settle\",\"Settle\",\"Settle\",\"Settle\",\"Settle\",\"Settle\",\"Settle\",\"Settle\",\"Settle\",\"Settle\",\"Settle\",\"Settle\",\"Settle\",\"Settle\",\"Settle\",\"Settle\",\"Settle\",\"Settle\",\"Settle\",\"Settle\",\"Settle\",\"Settle\",\"Settle\",\"Settle\",\"Settle\",\"Settle\",\"Settle\",\"Settle\",\"Settle\",\"Settle\",\"Settle\",\"Settle\",\"Settle\",\"Settle\",\"Settle\",\"Settle\",\"Settle\",\"Settle\",\"Settle\",\"Settle\",\"Settle\",\"Settle\",\"Settle\",\"Settle\",\"Settle\"],\"value\":{\"__ndarray__\":\"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\",\"dtype\":\"float64\",\"shape\":[1206]}},\"selected\":{\"id\":\"1860\",\"type\":\"Selection\"},\"selection_policy\":{\"id\":\"1914\",\"type\":\"UnionRenderers\"}},\"id\":\"1859\",\"type\":\"ColumnDataSource\"},{\"attributes\":{},\"id\":\"1831\",\"type\":\"LinearScale\"},{\"attributes\":{},\"id\":\"1860\",\"type\":\"Selection\"},{\"attributes\":{\"text\":\"Settle VS Trend Price\",\"text_color\":{\"value\":\"black\"},\"text_font_size\":{\"value\":\"12pt\"}},\"id\":\"1825\",\"type\":\"Title\"},{\"attributes\":{},\"id\":\"1847\",\"type\":\"ResetTool\"},{\"attributes\":{\"num_minor_ticks\":5,\"tickers\":[{\"id\":\"1872\",\"type\":\"AdaptiveTicker\"},{\"id\":\"1873\",\"type\":\"AdaptiveTicker\"},{\"id\":\"1874\",\"type\":\"AdaptiveTicker\"},{\"id\":\"1875\",\"type\":\"DaysTicker\"},{\"id\":\"1876\",\"type\":\"DaysTicker\"},{\"id\":\"1877\",\"type\":\"DaysTicker\"},{\"id\":\"1878\",\"type\":\"DaysTicker\"},{\"id\":\"1879\",\"type\":\"MonthsTicker\"},{\"id\":\"1880\",\"type\":\"MonthsTicker\"},{\"id\":\"1881\",\"type\":\"MonthsTicker\"},{\"id\":\"1882\",\"type\":\"MonthsTicker\"},{\"id\":\"1883\",\"type\":\"YearsTicker\"}]},\"id\":\"1834\",\"type\":\"DatetimeTicker\"},{\"attributes\":{\"overlay\":{\"id\":\"1884\",\"type\":\"BoxAnnotation\"}},\"id\":\"1846\",\"type\":\"BoxZoomTool\"},{\"attributes\":{\"mantissas\":[1,2,5],\"max_interval\":500.0,\"num_minor_ticks\":0},\"id\":\"1872\",\"type\":\"AdaptiveTicker\"},{\"attributes\":{\"days\":[1,15]},\"id\":\"1878\",\"type\":\"DaysTicker\"},{\"attributes\":{},\"id\":\"1845\",\"type\":\"WheelZoomTool\"},{\"attributes\":{\"grid_line_color\":null,\"ticker\":{\"id\":\"1834\",\"type\":\"DatetimeTicker\"}},\"id\":\"1837\",\"type\":\"Grid\"},{\"attributes\":{},\"id\":\"1883\",\"type\":\"YearsTicker\"},{\"attributes\":{\"active_drag\":\"auto\",\"active_inspect\":\"auto\",\"active_multi\":null,\"active_scroll\":\"auto\",\"active_tap\":\"auto\",\"tools\":[{\"id\":\"1822\",\"type\":\"HoverTool\"},{\"id\":\"1843\",\"type\":\"SaveTool\"},{\"id\":\"1844\",\"type\":\"PanTool\"},{\"id\":\"1845\",\"type\":\"WheelZoomTool\"},{\"id\":\"1846\",\"type\":\"BoxZoomTool\"},{\"id\":\"1847\",\"type\":\"ResetTool\"}]},\"id\":\"1848\",\"type\":\"Toolbar\"},{\"attributes\":{\"base\":24,\"mantissas\":[1,2,4,6,8,12],\"max_interval\":43200000.0,\"min_interval\":3600000.0,\"num_minor_ticks\":0},\"id\":\"1874\",\"type\":\"AdaptiveTicker\"},{\"attributes\":{\"line_color\":\"#1f77b3\",\"line_width\":2,\"x\":{\"field\":\"Date\"},\"y\":{\"field\":\"value\"}},\"id\":\"1862\",\"type\":\"Line\"},{\"attributes\":{\"months\":[0,4,8]},\"id\":\"1881\",\"type\":\"MonthsTicker\"},{\"attributes\":{\"margin\":[5,5,5,5],\"name\":\"HSpacer02246\",\"sizing_mode\":\"stretch_width\"},\"id\":\"1819\",\"type\":\"Spacer\"},{\"attributes\":{\"margin\":[5,5,5,5],\"name\":\"HSpacer02247\",\"sizing_mode\":\"stretch_width\"},\"id\":\"2092\",\"type\":\"Spacer\"},{\"attributes\":{\"line_alpha\":0.2,\"line_color\":\"#1f77b3\",\"line_width\":2,\"x\":{\"field\":\"Date\"},\"y\":{\"field\":\"value\"}},\"id\":\"1864\",\"type\":\"Line\"},{\"attributes\":{\"days\":[1,2,3,4,5,6,7,8,9,10,11,12,13,14,15,16,17,18,19,20,21,22,23,24,25,26,27,28,29,30,31]},\"id\":\"1875\",\"type\":\"DaysTicker\"},{\"attributes\":{\"days\":[1,8,15,22]},\"id\":\"1877\",\"type\":\"DaysTicker\"},{\"attributes\":{},\"id\":\"1914\",\"type\":\"UnionRenderers\"},{\"attributes\":{\"label\":{\"value\":\"Settle\"},\"renderers\":[{\"id\":\"1865\",\"type\":\"GlyphRenderer\"}]},\"id\":\"1886\",\"type\":\"LegendItem\"},{\"attributes\":{\"label\":{\"value\":\"Trend\"},\"renderers\":[{\"id\":\"1893\",\"type\":\"GlyphRenderer\"}]},\"id\":\"1915\",\"type\":\"LegendItem\"},{\"attributes\":{},\"id\":\"1856\",\"type\":\"DatetimeTickFormatter\"},{\"attributes\":{\"days\":[1,4,7,10,13,16,19,22,25,28]},\"id\":\"1876\",\"type\":\"DaysTicker\"},{\"attributes\":{\"children\":[{\"id\":\"1819\",\"type\":\"Spacer\"},{\"id\":\"1824\",\"subtype\":\"Figure\",\"type\":\"Plot\"},{\"id\":\"2092\",\"type\":\"Spacer\"}],\"margin\":[0,0,0,0],\"name\":\"Row02242\",\"tags\":[\"embedded\"]},\"id\":\"1818\",\"type\":\"Row\"},{\"attributes\":{\"line_alpha\":0.1,\"line_color\":\"#1f77b3\",\"line_width\":2,\"x\":{\"field\":\"Date\"},\"y\":{\"field\":\"value\"}},\"id\":\"1863\",\"type\":\"Line\"},{\"attributes\":{},\"id\":\"1937\",\"type\":\"UnionRenderers\"},{\"attributes\":{\"align\":null,\"below\":[{\"id\":\"1833\",\"type\":\"DatetimeAxis\"}],\"center\":[{\"id\":\"1837\",\"type\":\"Grid\"},{\"id\":\"1842\",\"type\":\"Grid\"}],\"left\":[{\"id\":\"1838\",\"type\":\"LinearAxis\"}],\"margin\":null,\"min_border_bottom\":10,\"min_border_left\":10,\"min_border_right\":10,\"min_border_top\":10,\"plot_height\":300,\"plot_width\":900,\"renderers\":[{\"id\":\"1865\",\"type\":\"GlyphRenderer\"},{\"id\":\"1893\",\"type\":\"GlyphRenderer\"}],\"right\":[{\"id\":\"1885\",\"type\":\"Legend\"}],\"sizing_mode\":\"fixed\",\"title\":{\"id\":\"1825\",\"type\":\"Title\"},\"toolbar\":{\"id\":\"1848\",\"type\":\"Toolbar\"},\"x_range\":{\"id\":\"1820\",\"type\":\"Range1d\"},\"x_scale\":{\"id\":\"1829\",\"type\":\"LinearScale\"},\"y_range\":{\"id\":\"1821\",\"type\":\"Range1d\"},\"y_scale\":{\"id\":\"1831\",\"type\":\"LinearScale\"}},\"id\":\"1824\",\"subtype\":\"Figure\",\"type\":\"Plot\"},{\"attributes\":{\"data_source\":{\"id\":\"1859\",\"type\":\"ColumnDataSource\"},\"glyph\":{\"id\":\"1862\",\"type\":\"Line\"},\"hover_glyph\":null,\"muted_glyph\":{\"id\":\"1864\",\"type\":\"Line\"},\"nonselection_glyph\":{\"id\":\"1863\",\"type\":\"Line\"},\"selection_glyph\":null,\"view\":{\"id\":\"1866\",\"type\":\"CDSView\"}},\"id\":\"1865\",\"type\":\"GlyphRenderer\"},{\"attributes\":{\"data_source\":{\"id\":\"1887\",\"type\":\"ColumnDataSource\"},\"glyph\":{\"id\":\"1890\",\"type\":\"Line\"},\"hover_glyph\":null,\"muted_glyph\":{\"id\":\"1892\",\"type\":\"Line\"},\"nonselection_glyph\":{\"id\":\"1891\",\"type\":\"Line\"},\"selection_glyph\":null,\"view\":{\"id\":\"1894\",\"type\":\"CDSView\"}},\"id\":\"1893\",\"type\":\"GlyphRenderer\"},{\"attributes\":{\"callback\":null,\"formatters\":{\"@{Date}\":\"datetime\"},\"renderers\":[{\"id\":\"1865\",\"type\":\"GlyphRenderer\"},{\"id\":\"1893\",\"type\":\"GlyphRenderer\"}],\"tags\":[\"hv_created\"],\"tooltips\":[[\"Variable\",\"@{Variable}\"],[\"Date\",\"@{Date}{%F %T}\"],[\"value\",\"@{value}\"]]},\"id\":\"1822\",\"type\":\"HoverTool\"},{\"attributes\":{},\"id\":\"1858\",\"type\":\"BasicTickFormatter\"},{\"attributes\":{\"line_alpha\":0.1,\"line_color\":\"#ff7e0e\",\"line_width\":2,\"x\":{\"field\":\"Date\"},\"y\":{\"field\":\"value\"}},\"id\":\"1891\",\"type\":\"Line\"},{\"attributes\":{\"axis_label\":\"\",\"axis_label_text_font_size\":{\"value\":\"10pt\"},\"bounds\":\"auto\",\"formatter\":{\"id\":\"1858\",\"type\":\"BasicTickFormatter\"},\"major_label_orientation\":\"horizontal\",\"ticker\":{\"id\":\"1839\",\"type\":\"BasicTicker\"}},\"id\":\"1838\",\"type\":\"LinearAxis\"},{\"attributes\":{\"callback\":null,\"data\":{\"Date\":{\"__ndarray__\":\"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\",\"dtype\":\"float64\",\"shape\":[1206]},\"Variable\":[\"Trend\",\"Trend\",\"Trend\",\"Trend\",\"Trend\",\"Trend\",\"Trend\",\"Trend\",\"Trend\",\"Trend\",\"Trend\",\"Trend\",\"Trend\",\"Trend\",\"Trend\",\"Trend\",\"Trend\",\"Trend\",\"Trend\",\"Trend\",\"Trend\",\"Trend\",\"Trend\",\"Trend\",\"Trend\",\"Trend\",\"Trend\",\"Trend\",\"Trend\",\"Trend\",\"Trend\",\"Trend\",\"Trend\",\"Trend\",\"Trend\",\"Trend\",\"Trend\",\"Trend\",\"Trend\",\"Trend\",\"Trend\",\"Trend\",\"Trend\",\"Trend\",\"Trend\",\"Trend\",\"Trend\",\"Trend\",\"Trend\",\"Trend\",\"Trend\",\"Trend\",\"Trend\",\"Trend\",\"Trend\",\"Trend\",\"Trend\",\"Trend\",\"Trend\",\"Trend\",\"Trend\",\"Trend\",\"Trend\",\"Trend\",\"Trend\",\"Trend\",\"Trend\",\"Trend\",\"Trend\",\"Trend\",\"Trend\",\"Trend\",\"Trend\",\"Trend\",\"Trend\",\"Trend\",\"Trend\",\"Trend\",\"Trend\",\"Trend\",\"Trend\",\"Trend\",\"Trend\",\"Trend\",\"Trend\",\"Trend\",\"Trend\",\"Trend\",\"Trend\",\"Trend\",\"Trend\",\"Trend\",\"Trend\",\"Trend\",\"Trend\",\"Trend\",\"Trend\",\"Trend\",\"Trend\",\"Trend\",\"Trend\",\"Trend\",\"Trend\",\"Trend\",\"Trend\",\"Trend\",\"Trend\",\"Trend\",\"Trend\",\"Trend\",\"Trend\",\"Trend\",\"Trend\",\"Trend\",\"Trend\",\"Trend\",\"Trend\",\"Trend\",\"Trend\",\"Trend\",\"Trend\",\"Trend\",\"Trend\",\"Trend\",\"Trend\",\"Trend\",\"Trend\",\"Trend\",\"Trend\",\"Trend\",\"Trend\",\"Trend\",\"Trend\",\"Trend\",\"Trend\",\"Trend\",\"Trend\",\"Trend\",\"Trend\",\"Trend\",\"Trend\",\"Trend\",\"Trend\",\"Trend\",\"Trend\",\"Trend\",\"Trend\",\"Trend\",\"Trend\",\"Trend\",\"Trend\",\"Trend\",\"Trend\",\"Trend\",\"Trend\",\"Trend\",\"Trend\",\"Trend\",\"Trend\",\"Trend\",\"Trend\",\"Trend\",\"Trend\",\"Trend\",\"Trend\",\"Trend\",\"Trend\",\"Trend\",\"Trend\",\"Trend\",\"Trend\",\"Trend\",\"Trend\",\"Trend\",\"Trend\",\"Trend\",\"Trend\",\"Trend\",\"Trend\",\"Trend\",\"Trend\",\"Trend\",\"Trend\",\"Trend\",\"Trend\",\"Trend\",\"Trend\",\"Trend\",\"Trend\",\"Trend\",\"Trend\",\"Trend\",\"Trend\",\"Trend\",\"Trend\",\"Trend\",\"Trend\",\"Trend\",\"Trend\",\"Trend\",\"Trend\",\"Trend\",\"Trend\",\"Trend\",\"Trend\",\"Trend\",\"Trend\",\"Trend\",\"Trend\",\"Trend\",\"Trend\",\"Trend\",\"Trend\",\"Trend\",\"Trend\",\"Trend\",\"Trend\",\"Trend\",\"Trend\",\"Trend\",\"Trend\",\"Trend\",\"Trend\",\"Trend\",\"Trend\",\"Trend\",\"Trend\",\"Trend\",\"Trend\",\"Trend\",\"Trend\",\"Trend\",\"Trend\",\"Trend\",\"Trend\",\"Trend\",\"Trend\",\"Trend\",\"Trend\",\"Trend\",\"Trend\",\"Trend\",\"Trend\",\"Trend\",\"Trend\",\"Trend\",\"Trend\",\"Trend\",\"Trend\",\"Trend\",\"Trend\",\"Trend\",\"Trend\",\"Trend\",\"Trend\",\"Trend\",\"Trend\",\"Trend\",\"Trend\",\"Trend\",\"Trend\",\"Trend\",\"Trend\",\"Trend\",\"Trend\",\"Trend\",\"Trend\",\"Trend\",\"Trend\",\"Trend\",\"Trend\",\"Trend\",\"Trend\",\"Trend\",\"Trend\",\"Trend\",\"Trend\",\"Trend\",\"Trend\",\"Trend\",\"Trend\",\"Trend\",\"Trend\",\"Trend\",\"Trend\",\"Trend\",\"Trend\",\"Trend\",\"Trend\",\"Trend\",\"Trend\",\"Trend\",\"Trend\",\"Trend\",\"Trend\",\"Trend\",\"Trend\",\"Trend\",\"Trend\",\"Trend\",\"Trend\",\"Trend\",\"Trend\",\"Trend\",\"Trend\",\"Trend\",\"Trend\",\"Trend\",\"Trend\",\"Trend\",\"Trend\",\"Trend\",\"Trend\",\"Trend\",\"Trend\",\"Trend\",\"Trend\",\"Trend\",\"Trend\",\"Trend\",\"Trend\",\"Trend\",\"Trend\",\"Trend\",\"Trend\",\"Trend\",\"Trend\",\"Trend\",\"Trend\",\"Trend\",\"Trend\",\"Trend\",\"Trend\",\"Trend\",\"Trend\",\"Trend\",\"Trend\",\"Trend\",\"Trend\",\"Trend\",\"Trend\",\"Trend\",\"Trend\",\"Trend\",\"Trend\",\"Trend\",\"Trend\",\"Trend\",\"Trend\",\"Trend\",\"Trend\",\"Trend\",\"Trend\",\"Trend\",\"Trend\",\"Trend\",\"Trend\",\"Trend\",\"Trend\",\"Trend\",\"Trend\",\"Trend\",\"Trend\",\"Trend\",\"Trend\",\"Trend\",\"Trend\",\"Trend\",\"Trend\",\"Trend\",\"Trend\",\"Trend\",\"Trend\",\"Trend\",\"Trend\",\"Trend\",\"Trend\",\"Trend\",\"Trend\",\"Trend\",\"Trend\",\"Trend\",\"Trend\",\"Trend\",\"Trend\",\"Trend\",\"Trend\",\"Trend\",\"Trend\",\"Trend\",\"Trend\",\"Trend\",\"Trend\",\"Trend\",\"Trend\",\"Trend\",\"Trend\",\"Trend\",\"Trend\",\"Trend\",\"Trend\",\"Trend\",\"Trend\",\"Trend\",\"Trend\",\"Trend\",\"Trend\",\"Trend\",\"Trend\",\"Trend\",\"Trend\",\"Trend\",\"Trend\",\"Trend\",\"Trend\",\"Trend\",\"Trend\",\"Trend\",\"Trend\",\"Trend\",\"Trend\",\"Trend\",\"Trend\",\"Trend\",\"Trend\",\"Trend\",\"Trend\",\"Trend\",\"Trend\",\"Trend\",\"Trend\",\"Trend\",\"Trend\",\"Trend\",\"Trend\",\"Trend\",\"Trend\",\"Trend\",\"Trend\",\"Trend\",\"Trend\",\"Trend\",\"Trend\",\"Trend\",\"Trend\",\"Trend\",\"Trend\",\"Trend\",\"Trend\",\"Trend\",\"Trend\",\"Trend\",\"Trend\",\"Trend\",\"Trend\",\"Trend\",\"Trend\",\"Trend\",\"Trend\",\"Trend\",\"Trend\",\"Trend\",\"Trend\",\"Trend\",\"Trend\",\"Trend\",\"Trend\",\"Trend\",\"Trend\",\"Trend\",\"Trend\",\"Trend\",\"Trend\",\"Trend\",\"Trend\",\"Trend\",\"Trend\",\"Trend\",\"Trend\",\"Trend\",\"Trend\",\"Trend\",\"Trend\",\"Trend\",\"Trend\",\"Trend\",\"Trend\",\"Trend\",\"Trend\",\"Trend\",\"Trend\",\"Trend\",\"Trend\",\"Trend\",\"Trend\",\"Trend\",\"Trend\",\"Trend\",\"Trend\",\"Trend\",\"Trend\",\"Trend\",\"Trend\",\"Trend\",\"Trend\",\"Trend\",\"Trend\",\"Trend\",\"Trend\",\"Trend\",\"Trend\",\"Trend\",\"Trend\",\"Trend\",\"Trend\",\"Trend\",\"Trend\",\"Trend\",\"Trend\",\"Trend\",\"Trend\",\"Trend\",\"Trend\",\"Trend\",\"Trend\",\"Trend\",\"Trend\",\"Trend\",\"Trend\",\"Trend\",\"Trend\",\"Trend\",\"Trend\",\"Trend\",\"Trend\",\"Trend\",\"Trend\",\"Trend\",\"Trend\",\"Trend\",\"Trend\",\"Trend\",\"Trend\",\"Trend\",\"Trend\",\"Trend\",\"Trend\",\"Trend\",\"Trend\",\"Trend\",\"Trend\",\"Trend\",\"Trend\",\"Trend\",\"Trend\",\"Trend\",\"Trend\",\"Trend\",\"Trend\",\"Trend\",\"Trend\",\"Trend\",\"Trend\",\"Trend\",\"Trend\",\"Trend\",\"Trend\",\"Trend\",\"Trend\",\"Trend\",\"Trend\",\"Trend\",\"Trend\",\"Trend\",\"Trend\",\"Trend\",\"Trend\",\"Trend\",\"Trend\",\"Trend\",\"Trend\",\"Trend\",\"Trend\",\"Trend\",\"Trend\",\"Trend\",\"Trend\",\"Trend\",\"Trend\",\"Trend\",\"Trend\",\"Trend\",\"Trend\",\"Trend\",\"Trend\",\"Trend\",\"Trend\",\"Trend\",\"Trend\",\"Trend\",\"Trend\",\"Trend\",\"Trend\",\"Trend\",\"Trend\",\"Trend\",\"Trend\",\"Trend\",\"Trend\",\"Trend\",\"Trend\",\"Trend\",\"Trend\",\"Trend\",\"Trend\",\"Trend\",\"Trend\",\"Trend\",\"Trend\",\"Trend\",\"Trend\",\"Trend\",\"Trend\",\"Trend\",\"Trend\",\"Trend\",\"Trend\",\"Trend\",\"Trend\",\"Trend\",\"Trend\",\"Trend\",\"Trend\",\"Trend\",\"Trend\",\"Trend\",\"Trend\",\"Trend\",\"Trend\",\"Trend\",\"Trend\",\"Trend\",\"Trend\",\"Trend\",\"Trend\",\"Trend\",\"Trend\",\"Trend\",\"Trend\",\"Trend\",\"Trend\",\"Trend\",\"Trend\",\"Trend\",\"Trend\",\"Trend\",\"Trend\",\"Trend\",\"Trend\",\"Trend\",\"Trend\",\"Trend\",\"Trend\",\"Trend\",\"Trend\",\"Trend\",\"Trend\",\"Trend\",\"Trend\",\"Trend\",\"Trend\",\"Trend\",\"Trend\",\"Trend\",\"Trend\",\"Trend\",\"Trend\",\"Trend\",\"Trend\",\"Trend\",\"Trend\",\"Trend\",\"Trend\",\"Trend\",\"Trend\",\"Trend\",\"Trend\",\"Trend\",\"Trend\",\"Trend\",\"Trend\",\"Trend\",\"Trend\",\"Trend\",\"Trend\",\"Trend\",\"Trend\",\"Trend\",\"Trend\",\"Trend\",\"Trend\",\"Trend\",\"Trend\",\"Trend\",\"Trend\",\"Trend\",\"Trend\",\"Trend\",\"Trend\",\"Trend\",\"Trend\",\"Trend\",\"Trend\",\"Trend\",\"Trend\",\"Trend\",\"Trend\",\"Trend\",\"Trend\",\"Trend\",\"Trend\",\"Trend\",\"Trend\",\"Trend\",\"Trend\",\"Trend\",\"Trend\",\"Trend\",\"Trend\",\"Trend\",\"Trend\",\"Trend\",\"Trend\",\"Trend\",\"Trend\",\"Trend\",\"Trend\",\"Trend\",\"Trend\",\"Trend\",\"Trend\",\"Trend\",\"Trend\",\"Trend\",\"Trend\",\"Trend\",\"Trend\",\"Trend\",\"Trend\",\"Trend\",\"Trend\",\"Trend\",\"Trend\",\"Trend\",\"Trend\",\"Trend\",\"Trend\",\"Trend\",\"Trend\",\"Trend\",\"Trend\",\"Trend\",\"Trend\",\"Trend\",\"Trend\",\"Trend\",\"Trend\",\"Trend\",\"Trend\",\"Trend\",\"Trend\",\"Trend\",\"Trend\",\"Trend\",\"Trend\",\"Trend\",\"Trend\",\"Trend\",\"Trend\",\"Trend\",\"Trend\",\"Trend\",\"Trend\",\"Trend\",\"Trend\",\"Trend\",\"Trend\",\"Trend\",\"Trend\",\"Trend\",\"Trend\",\"Trend\",\"Trend\",\"Trend\",\"Trend\",\"Trend\",\"Trend\",\"Trend\",\"Trend\",\"Trend\",\"Trend\",\"Trend\",\"Trend\",\"Trend\",\"Trend\",\"Trend\",\"Trend\",\"Trend\",\"Trend\",\"Trend\",\"Trend\",\"Trend\",\"Trend\",\"Trend\",\"Trend\",\"Trend\",\"Trend\",\"Trend\",\"Trend\",\"Trend\",\"Trend\",\"Trend\",\"Trend\",\"Trend\",\"Trend\",\"Trend\",\"Trend\",\"Trend\",\"Trend\",\"Trend\",\"Trend\",\"Trend\",\"Trend\",\"Trend\",\"Trend\",\"Trend\",\"Trend\",\"Trend\",\"Trend\",\"Trend\",\"Trend\",\"Trend\",\"Trend\",\"Trend\",\"Trend\",\"Trend\",\"Trend\",\"Trend\",\"Trend\",\"Trend\",\"Trend\",\"Trend\",\"Trend\",\"Trend\",\"Trend\",\"Trend\",\"Trend\",\"Trend\",\"Trend\",\"Trend\",\"Trend\",\"Trend\",\"Trend\",\"Trend\",\"Trend\",\"Trend\",\"Trend\",\"Trend\",\"Trend\",\"Trend\",\"Trend\",\"Trend\",\"Trend\",\"Trend\",\"Trend\",\"Trend\",\"Trend\",\"Trend\",\"Trend\",\"Trend\",\"Trend\",\"Trend\",\"Trend\",\"Trend\",\"Trend\",\"Trend\",\"Trend\",\"Trend\",\"Trend\",\"Trend\",\"Trend\",\"Trend\",\"Trend\",\"Trend\",\"Trend\",\"Trend\",\"Trend\",\"Trend\",\"Trend\",\"Trend\",\"Trend\",\"Trend\",\"Trend\",\"Trend\",\"Trend\",\"Trend\",\"Trend\",\"Trend\",\"Trend\",\"Trend\",\"Trend\",\"Trend\",\"Trend\",\"Trend\",\"Trend\",\"Trend\",\"Trend\",\"Trend\",\"Trend\",\"Trend\",\"Trend\",\"Trend\",\"Trend\",\"Trend\",\"Trend\",\"Trend\",\"Trend\",\"Trend\",\"Trend\",\"Trend\",\"Trend\",\"Trend\",\"Trend\",\"Trend\",\"Trend\",\"Trend\",\"Trend\",\"Trend\",\"Trend\",\"Trend\",\"Trend\",\"Trend\",\"Trend\",\"Trend\",\"Trend\",\"Trend\",\"Trend\",\"Trend\",\"Trend\",\"Trend\",\"Trend\",\"Trend\",\"Trend\",\"Trend\",\"Trend\",\"Trend\",\"Trend\",\"Trend\",\"Trend\",\"Trend\",\"Trend\",\"Trend\",\"Trend\",\"Trend\",\"Trend\",\"Trend\",\"Trend\",\"Trend\",\"Trend\",\"Trend\",\"Trend\",\"Trend\",\"Trend\",\"Trend\",\"Trend\",\"Trend\",\"Trend\",\"Trend\",\"Trend\",\"Trend\",\"Trend\",\"Trend\",\"Trend\",\"Trend\",\"Trend\",\"Trend\",\"Trend\",\"Trend\",\"Trend\",\"Trend\",\"Trend\",\"Trend\",\"Trend\",\"Trend\",\"Trend\",\"Trend\",\"Trend\",\"Trend\",\"Trend\",\"Trend\",\"Trend\",\"Trend\",\"Trend\",\"Trend\",\"Trend\",\"Trend\",\"Trend\",\"Trend\",\"Trend\",\"Trend\",\"Trend\",\"Trend\",\"Trend\",\"Trend\",\"Trend\",\"Trend\",\"Trend\",\"Trend\",\"Trend\",\"Trend\",\"Trend\",\"Trend\",\"Trend\",\"Trend\",\"Trend\",\"Trend\",\"Trend\",\"Trend\",\"Trend\",\"Trend\",\"Trend\",\"Trend\",\"Trend\",\"Trend\",\"Trend\",\"Trend\",\"Trend\",\"Trend\",\"Trend\",\"Trend\",\"Trend\",\"Trend\",\"Trend\",\"Trend\",\"Trend\",\"Trend\",\"Trend\",\"Trend\",\"Trend\",\"Trend\",\"Trend\",\"Trend\",\"Trend\",\"Trend\",\"Trend\",\"Trend\",\"Trend\",\"Trend\",\"Trend\",\"Trend\",\"Trend\",\"Trend\",\"Trend\",\"Trend\",\"Trend\",\"Trend\",\"Trend\",\"Trend\",\"Trend\",\"Trend\",\"Trend\",\"Trend\",\"Trend\",\"Trend\",\"Trend\",\"Trend\",\"Trend\",\"Trend\",\"Trend\",\"Trend\",\"Trend\",\"Trend\",\"Trend\",\"Trend\",\"Trend\",\"Trend\",\"Trend\",\"Trend\",\"Trend\",\"Trend\",\"Trend\",\"Trend\",\"Trend\",\"Trend\",\"Trend\",\"Trend\",\"Trend\",\"Trend\",\"Trend\",\"Trend\",\"Trend\",\"Trend\",\"Trend\",\"Trend\",\"Trend\",\"Trend\",\"Trend\",\"Trend\",\"Trend\",\"Trend\",\"Trend\",\"Trend\",\"Trend\",\"Trend\",\"Trend\",\"Trend\",\"Trend\",\"Trend\",\"Trend\",\"Trend\",\"Trend\",\"Trend\",\"Trend\",\"Trend\",\"Trend\",\"Trend\",\"Trend\",\"Trend\",\"Trend\",\"Trend\",\"Trend\",\"Trend\",\"Trend\",\"Trend\",\"Trend\",\"Trend\",\"Trend\",\"Trend\",\"Trend\",\"Trend\",\"Trend\",\"Trend\",\"Trend\",\"Trend\",\"Trend\",\"Trend\",\"Trend\",\"Trend\",\"Trend\",\"Trend\",\"Trend\",\"Trend\",\"Trend\",\"Trend\",\"Trend\",\"Trend\",\"Trend\",\"Trend\",\"Trend\",\"Trend\",\"Trend\",\"Trend\",\"Trend\",\"Trend\",\"Trend\",\"Trend\",\"Trend\",\"Trend\",\"Trend\",\"Trend\",\"Trend\",\"Trend\",\"Trend\",\"Trend\",\"Trend\",\"Trend\",\"Trend\",\"Trend\",\"Trend\",\"Trend\",\"Trend\",\"Trend\",\"Trend\",\"Trend\",\"Trend\",\"Trend\",\"Trend\",\"Trend\",\"Trend\",\"Trend\",\"Trend\",\"Trend\",\"Trend\",\"Trend\",\"Trend\",\"Trend\",\"Trend\",\"Trend\",\"Trend\",\"Trend\",\"Trend\",\"Trend\",\"Trend\",\"Trend\",\"Trend\",\"Trend\"],\"value\":{\"__ndarray__\":\"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\",\"dtype\":\"float64\",\"shape\":[1206]}},\"selected\":{\"id\":\"1888\",\"type\":\"Selection\"},\"selection_policy\":{\"id\":\"1937\",\"type\":\"UnionRenderers\"}},\"id\":\"1887\",\"type\":\"ColumnDataSource\"},{\"attributes\":{\"base\":60,\"mantissas\":[1,2,5,10,15,20,30],\"max_interval\":1800000.0,\"min_interval\":1000.0,\"num_minor_ticks\":0},\"id\":\"1873\",\"type\":\"AdaptiveTicker\"},{\"attributes\":{\"months\":[0,1,2,3,4,5,6,7,8,9,10,11]},\"id\":\"1879\",\"type\":\"MonthsTicker\"},{\"attributes\":{},\"id\":\"1829\",\"type\":\"LinearScale\"},{\"attributes\":{\"click_policy\":\"mute\",\"items\":[{\"id\":\"1886\",\"type\":\"LegendItem\"},{\"id\":\"1915\",\"type\":\"LegendItem\"}],\"label_text_font_size\":{\"value\":\"10pt\"},\"location\":[0,0],\"title\":\"Variable\",\"title_text_font_size\":{\"value\":\"10pt\"}},\"id\":\"1885\",\"type\":\"Legend\"},{\"attributes\":{},\"id\":\"1844\",\"type\":\"PanTool\"},{\"attributes\":{},\"id\":\"1888\",\"type\":\"Selection\"},{\"attributes\":{\"source\":{\"id\":\"1859\",\"type\":\"ColumnDataSource\"}},\"id\":\"1866\",\"type\":\"CDSView\"},{\"attributes\":{\"source\":{\"id\":\"1887\",\"type\":\"ColumnDataSource\"}},\"id\":\"1894\",\"type\":\"CDSView\"},{\"attributes\":{},\"id\":\"1843\",\"type\":\"SaveTool\"},{\"attributes\":{\"line_alpha\":0.2,\"line_color\":\"#ff7e0e\",\"line_width\":2,\"x\":{\"field\":\"Date\"},\"y\":{\"field\":\"value\"}},\"id\":\"1892\",\"type\":\"Line\"},{\"attributes\":{\"months\":[0,6]},\"id\":\"1882\",\"type\":\"MonthsTicker\"},{\"attributes\":{\"callback\":null,\"end\":10223.05,\"reset_end\":10223.05,\"reset_start\":7756.45,\"start\":7756.45,\"tags\":[[[\"value\",\"value\",null]]]},\"id\":\"1821\",\"type\":\"Range1d\"},{\"attributes\":{\"line_color\":\"#ff7e0e\",\"line_width\":2,\"x\":{\"field\":\"Date\"},\"y\":{\"field\":\"value\"}},\"id\":\"1890\",\"type\":\"Line\"},{\"attributes\":{\"dimension\":1,\"grid_line_color\":null,\"ticker\":{\"id\":\"1839\",\"type\":\"BasicTicker\"}},\"id\":\"1842\",\"type\":\"Grid\"}],\"root_ids\":[\"1818\"]},\"title\":\"Bokeh Application\",\"version\":\"1.4.0\"}};\n",
       "  var render_items = [{\"docid\":\"b9882cf9-5d54-4b29-81f3-50416fee715d\",\"roots\":{\"1818\":\"92d47271-40fc-4616-8e26-2555f01b81a4\"}}];\n",
       "  root.Bokeh.embed.embed_items_notebook(docs_json, render_items);\n",
       "  }\n",
       "if (root.Bokeh !== undefined) {\n",
       "    embed_document(root);\n",
       "  } else {\n",
       "    var attempts = 0;\n",
       "    var timer = setInterval(function(root) {\n",
       "      if (root.Bokeh !== undefined) {\n",
       "        clearInterval(timer);\n",
       "        embed_document(root);\n",
       "      } else if (document.readyState == \"complete\") {\n",
       "        attempts++;\n",
       "        if (attempts > 100) {\n",
       "          clearInterval(timer);\n",
       "          console.log(\"Bokeh: ERROR: Unable to run BokehJS code because BokehJS library is missing\");\n",
       "        }\n",
       "      }\n",
       "    }, 10, root)\n",
       "  }\n",
       "})(window);</script>"
      ],
      "text/plain": [
       ":NdOverlay   [Variable]\n",
       "   :Curve   [Date]   (value)"
      ]
     },
     "execution_count": 32,
     "metadata": {
      "application/vnd.holoviews_exec.v0+json": {
       "id": "1818"
      }
     },
     "output_type": "execute_result"
    }
   ],
   "source": [
    "settle_vs_trend_plot"
   ]
  },
  {
   "cell_type": "markdown",
   "metadata": {},
   "source": [
    "* Plot the Settle Noise"
   ]
  },
  {
   "cell_type": "code",
   "execution_count": 33,
   "metadata": {},
   "outputs": [
    {
     "data": {},
     "metadata": {},
     "output_type": "display_data"
    },
    {
     "data": {
      "application/vnd.holoviews_exec.v0+json": "",
      "text/html": [
       "<div id='2204'>\n",
       "\n",
       "\n",
       "\n",
       "\n",
       "\n",
       "  <div class=\"bk-root\" id=\"5a8fb4a2-3428-4aad-a68d-ae2a6b94ce17\" data-root-id=\"2204\"></div>\n",
       "</div>\n",
       "<script type=\"application/javascript\">\n",
       "    function msg_handler(msg) {\n",
       "      var metadata = msg.metadata;\n",
       "      var buffers = msg.buffers;\n",
       "      var msg = msg.content.data;\n",
       "      if ((metadata.msg_type == \"Ready\")) {\n",
       "        if (metadata.content) {\n",
       "          console.log(\"Python callback returned following output:\", metadata.content);\n",
       "        }\n",
       "      } else if (metadata.msg_type == \"Error\") {\n",
       "        console.log(\"Python failed with the following traceback:\", metadata.traceback)\n",
       "      } else {\n",
       "        \n",
       "var plot_id = \"2204\";\n",
       "\n",
       "if ((plot_id in window.PyViz.plot_index) && (window.PyViz.plot_index[plot_id] != null)) {\n",
       "  var plot = window.PyViz.plot_index[plot_id];\n",
       "} else if ((Bokeh !== undefined) && (plot_id in Bokeh.index)) {\n",
       "  var plot = Bokeh.index[plot_id];\n",
       "}\n",
       "\n",
       "if (plot == null) {\n",
       "  return\n",
       "}\n",
       "\n",
       "if (plot_id in window.PyViz.receivers) {\n",
       "  var receiver = window.PyViz.receivers[plot_id];\n",
       "} else {\n",
       "  var receiver = new Bokeh.protocol.Receiver();\n",
       "  window.PyViz.receivers[plot_id] = receiver;\n",
       "}\n",
       "\n",
       "if ((buffers != undefined) && (buffers.length > 0)) {\n",
       "  receiver.consume(buffers[0].buffer)\n",
       "} else {\n",
       "  receiver.consume(msg)\n",
       "}\n",
       "\n",
       "const comm_msg = receiver.message;\n",
       "if ((comm_msg != null) && (Object.keys(comm_msg.content).length > 0)) {\n",
       "  plot.model.document.apply_json_patch(comm_msg.content, comm_msg.buffers)\n",
       "}\n",
       "\n",
       "      }\n",
       "    }\n",
       "    if ((window.PyViz == undefined) || (!window.PyViz.comm_manager)) {\n",
       "      console.log(\"Could not find comm manager\")\n",
       "    } else {\n",
       "      window.PyViz.comm_manager.register_target('2204', 'cb15bf914c9743d9a546a61e585491d7', msg_handler);\n",
       "    }\n",
       "    \n",
       "(function(root) {\n",
       "  function embed_document(root) {\n",
       "  var docs_json = {\"ce5ea840-1895-4abd-9897-e10f42833347\":{\"roots\":{\"references\":[{\"attributes\":{\"callback\":null,\"formatters\":{\"@{Date}\":\"datetime\"},\"renderers\":[{\"id\":\"2246\",\"type\":\"GlyphRenderer\"}],\"tags\":[\"hv_created\"],\"tooltips\":[[\"Date\",\"@{Date}{%F %T}\"],[\"Noise\",\"@{Noise}\"]]},\"id\":\"2208\",\"type\":\"HoverTool\"},{\"attributes\":{\"months\":[0,2,4,6,8,10]},\"id\":\"2265\",\"type\":\"MonthsTicker\"},{\"attributes\":{\"callback\":null,\"end\":602.5710260454691,\"reset_end\":602.5710260454691,\"reset_start\":-563.111750954615,\"start\":-563.111750954615,\"tags\":[[[\"Noise\",\"Noise\",null]]]},\"id\":\"2207\",\"type\":\"Range1d\"},{\"attributes\":{\"days\":[1,15]},\"id\":\"2263\",\"type\":\"DaysTicker\"},{\"attributes\":{\"line_alpha\":0.2,\"line_color\":\"#1f77b3\",\"line_width\":2,\"x\":{\"field\":\"Date\"},\"y\":{\"field\":\"Noise\"}},\"id\":\"2245\",\"type\":\"Line\"},{\"attributes\":{\"months\":[0,6]},\"id\":\"2267\",\"type\":\"MonthsTicker\"},{\"attributes\":{\"source\":{\"id\":\"2240\",\"type\":\"ColumnDataSource\"}},\"id\":\"2247\",\"type\":\"CDSView\"},{\"attributes\":{\"mantissas\":[1,2,5],\"max_interval\":500.0,\"num_minor_ticks\":0},\"id\":\"2257\",\"type\":\"AdaptiveTicker\"},{\"attributes\":{},\"id\":\"2241\",\"type\":\"Selection\"},{\"attributes\":{\"grid_line_color\":null,\"ticker\":{\"id\":\"2219\",\"type\":\"DatetimeTicker\"}},\"id\":\"2222\",\"type\":\"Grid\"},{\"attributes\":{\"callback\":null,\"data\":{\"Date\":{\"__ndarray__\":\"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\",\"dtype\":\"float64\",\"shape\":[7515]},\"Noise\":{\"__ndarray__\":\"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\",\"dtype\":\"float64\",\"shape\":[7515]}},\"selected\":{\"id\":\"2241\",\"type\":\"Selection\"},\"selection_policy\":{\"id\":\"2271\",\"type\":\"UnionRenderers\"}},\"id\":\"2240\",\"type\":\"ColumnDataSource\"},{\"attributes\":{},\"id\":\"2268\",\"type\":\"YearsTicker\"},{\"attributes\":{\"line_alpha\":0.1,\"line_color\":\"#1f77b3\",\"line_width\":2,\"x\":{\"field\":\"Date\"},\"y\":{\"field\":\"Noise\"}},\"id\":\"2244\",\"type\":\"Line\"},{\"attributes\":{\"margin\":[5,5,5,5],\"name\":\"HSpacer02669\",\"sizing_mode\":\"stretch_width\"},\"id\":\"2272\",\"type\":\"Spacer\"},{\"attributes\":{},\"id\":\"2249\",\"type\":\"DatetimeTickFormatter\"},{\"attributes\":{},\"id\":\"2251\",\"type\":\"BasicTickFormatter\"},{\"attributes\":{},\"id\":\"2271\",\"type\":\"UnionRenderers\"},{\"attributes\":{\"axis_label\":\"\",\"axis_label_text_font_size\":{\"value\":\"10pt\"},\"bounds\":\"auto\",\"formatter\":{\"id\":\"2251\",\"type\":\"BasicTickFormatter\"},\"major_label_orientation\":\"horizontal\",\"ticker\":{\"id\":\"2224\",\"type\":\"BasicTicker\"}},\"id\":\"2223\",\"type\":\"LinearAxis\"},{\"attributes\":{\"months\":[0,4,8]},\"id\":\"2266\",\"type\":\"MonthsTicker\"},{\"attributes\":{},\"id\":\"2232\",\"type\":\"ResetTool\"},{\"attributes\":{\"months\":[0,1,2,3,4,5,6,7,8,9,10,11]},\"id\":\"2264\",\"type\":\"MonthsTicker\"},{\"attributes\":{\"base\":60,\"mantissas\":[1,2,5,10,15,20,30],\"max_interval\":1800000.0,\"min_interval\":1000.0,\"num_minor_ticks\":0},\"id\":\"2258\",\"type\":\"AdaptiveTicker\"},{\"attributes\":{\"children\":[{\"id\":\"2205\",\"type\":\"Spacer\"},{\"id\":\"2209\",\"subtype\":\"Figure\",\"type\":\"Plot\"},{\"id\":\"2272\",\"type\":\"Spacer\"}],\"margin\":[0,0,0,0],\"name\":\"Row02664\",\"tags\":[\"embedded\"]},\"id\":\"2204\",\"type\":\"Row\"},{\"attributes\":{\"overlay\":{\"id\":\"2269\",\"type\":\"BoxAnnotation\"}},\"id\":\"2231\",\"type\":\"BoxZoomTool\"},{\"attributes\":{},\"id\":\"2228\",\"type\":\"SaveTool\"},{\"attributes\":{\"days\":[1,8,15,22]},\"id\":\"2262\",\"type\":\"DaysTicker\"},{\"attributes\":{\"align\":null,\"below\":[{\"id\":\"2218\",\"type\":\"DatetimeAxis\"}],\"center\":[{\"id\":\"2222\",\"type\":\"Grid\"},{\"id\":\"2227\",\"type\":\"Grid\"}],\"left\":[{\"id\":\"2223\",\"type\":\"LinearAxis\"}],\"margin\":null,\"min_border_bottom\":10,\"min_border_left\":10,\"min_border_right\":10,\"min_border_top\":10,\"plot_height\":300,\"plot_width\":900,\"renderers\":[{\"id\":\"2246\",\"type\":\"GlyphRenderer\"}],\"sizing_mode\":\"fixed\",\"title\":{\"id\":\"2210\",\"type\":\"Title\"},\"toolbar\":{\"id\":\"2233\",\"type\":\"Toolbar\"},\"x_range\":{\"id\":\"2206\",\"type\":\"Range1d\"},\"x_scale\":{\"id\":\"2214\",\"type\":\"LinearScale\"},\"y_range\":{\"id\":\"2207\",\"type\":\"Range1d\"},\"y_scale\":{\"id\":\"2216\",\"type\":\"LinearScale\"}},\"id\":\"2209\",\"subtype\":\"Figure\",\"type\":\"Plot\"},{\"attributes\":{},\"id\":\"2230\",\"type\":\"WheelZoomTool\"},{\"attributes\":{\"axis_label\":\"Date\",\"axis_label_text_font_size\":{\"value\":\"10pt\"},\"bounds\":\"auto\",\"formatter\":{\"id\":\"2249\",\"type\":\"DatetimeTickFormatter\"},\"major_label_orientation\":\"horizontal\",\"ticker\":{\"id\":\"2219\",\"type\":\"DatetimeTicker\"}},\"id\":\"2218\",\"type\":\"DatetimeAxis\"},{\"attributes\":{\"text\":\"Yen Futuers Price\",\"text_color\":{\"value\":\"black\"},\"text_font_size\":{\"value\":\"12pt\"}},\"id\":\"2210\",\"type\":\"Title\"},{\"attributes\":{\"margin\":[5,5,5,5],\"name\":\"HSpacer02668\",\"sizing_mode\":\"stretch_width\"},\"id\":\"2205\",\"type\":\"Spacer\"},{\"attributes\":{},\"id\":\"2229\",\"type\":\"PanTool\"},{\"attributes\":{\"base\":24,\"mantissas\":[1,2,4,6,8,12],\"max_interval\":43200000.0,\"min_interval\":3600000.0,\"num_minor_ticks\":0},\"id\":\"2259\",\"type\":\"AdaptiveTicker\"},{\"attributes\":{\"active_drag\":\"auto\",\"active_inspect\":\"auto\",\"active_multi\":null,\"active_scroll\":\"auto\",\"active_tap\":\"auto\",\"tools\":[{\"id\":\"2208\",\"type\":\"HoverTool\"},{\"id\":\"2228\",\"type\":\"SaveTool\"},{\"id\":\"2229\",\"type\":\"PanTool\"},{\"id\":\"2230\",\"type\":\"WheelZoomTool\"},{\"id\":\"2231\",\"type\":\"BoxZoomTool\"},{\"id\":\"2232\",\"type\":\"ResetTool\"}]},\"id\":\"2233\",\"type\":\"Toolbar\"},{\"attributes\":{},\"id\":\"2216\",\"type\":\"LinearScale\"},{\"attributes\":{\"dimension\":1,\"grid_line_color\":null,\"ticker\":{\"id\":\"2224\",\"type\":\"BasicTicker\"}},\"id\":\"2227\",\"type\":\"Grid\"},{\"attributes\":{\"line_color\":\"#1f77b3\",\"line_width\":2,\"x\":{\"field\":\"Date\"},\"y\":{\"field\":\"Noise\"}},\"id\":\"2243\",\"type\":\"Line\"},{\"attributes\":{\"days\":[1,2,3,4,5,6,7,8,9,10,11,12,13,14,15,16,17,18,19,20,21,22,23,24,25,26,27,28,29,30,31]},\"id\":\"2260\",\"type\":\"DaysTicker\"},{\"attributes\":{},\"id\":\"2224\",\"type\":\"BasicTicker\"},{\"attributes\":{\"bottom_units\":\"screen\",\"fill_alpha\":{\"value\":0.5},\"fill_color\":{\"value\":\"lightgrey\"},\"left_units\":\"screen\",\"level\":\"overlay\",\"line_alpha\":{\"value\":1.0},\"line_color\":{\"value\":\"black\"},\"line_dash\":[4,4],\"line_width\":{\"value\":2},\"render_mode\":\"css\",\"right_units\":\"screen\",\"top_units\":\"screen\"},\"id\":\"2269\",\"type\":\"BoxAnnotation\"},{\"attributes\":{\"data_source\":{\"id\":\"2240\",\"type\":\"ColumnDataSource\"},\"glyph\":{\"id\":\"2243\",\"type\":\"Line\"},\"hover_glyph\":null,\"muted_glyph\":{\"id\":\"2245\",\"type\":\"Line\"},\"nonselection_glyph\":{\"id\":\"2244\",\"type\":\"Line\"},\"selection_glyph\":null,\"view\":{\"id\":\"2247\",\"type\":\"CDSView\"}},\"id\":\"2246\",\"type\":\"GlyphRenderer\"},{\"attributes\":{\"days\":[1,4,7,10,13,16,19,22,25,28]},\"id\":\"2261\",\"type\":\"DaysTicker\"},{\"attributes\":{\"num_minor_ticks\":5,\"tickers\":[{\"id\":\"2257\",\"type\":\"AdaptiveTicker\"},{\"id\":\"2258\",\"type\":\"AdaptiveTicker\"},{\"id\":\"2259\",\"type\":\"AdaptiveTicker\"},{\"id\":\"2260\",\"type\":\"DaysTicker\"},{\"id\":\"2261\",\"type\":\"DaysTicker\"},{\"id\":\"2262\",\"type\":\"DaysTicker\"},{\"id\":\"2263\",\"type\":\"DaysTicker\"},{\"id\":\"2264\",\"type\":\"MonthsTicker\"},{\"id\":\"2265\",\"type\":\"MonthsTicker\"},{\"id\":\"2266\",\"type\":\"MonthsTicker\"},{\"id\":\"2267\",\"type\":\"MonthsTicker\"},{\"id\":\"2268\",\"type\":\"YearsTicker\"}]},\"id\":\"2219\",\"type\":\"DatetimeTicker\"},{\"attributes\":{},\"id\":\"2214\",\"type\":\"LinearScale\"},{\"attributes\":{\"callback\":null,\"end\":1571097600000.0,\"reset_end\":1571097600000.0,\"reset_start\":631238400000.0,\"start\":631238400000.0,\"tags\":[[[\"Date\",\"Date\",null]]]},\"id\":\"2206\",\"type\":\"Range1d\"}],\"root_ids\":[\"2204\"]},\"title\":\"Bokeh Application\",\"version\":\"1.4.0\"}};\n",
       "  var render_items = [{\"docid\":\"ce5ea840-1895-4abd-9897-e10f42833347\",\"roots\":{\"2204\":\"5a8fb4a2-3428-4aad-a68d-ae2a6b94ce17\"}}];\n",
       "  root.Bokeh.embed.embed_items_notebook(docs_json, render_items);\n",
       "  }\n",
       "if (root.Bokeh !== undefined) {\n",
       "    embed_document(root);\n",
       "  } else {\n",
       "    var attempts = 0;\n",
       "    var timer = setInterval(function(root) {\n",
       "      if (root.Bokeh !== undefined) {\n",
       "        clearInterval(timer);\n",
       "        embed_document(root);\n",
       "      } else if (document.readyState == \"complete\") {\n",
       "        attempts++;\n",
       "        if (attempts > 100) {\n",
       "          clearInterval(timer);\n",
       "          console.log(\"Bokeh: ERROR: Unable to run BokehJS code because BokehJS library is missing\");\n",
       "        }\n",
       "      }\n",
       "    }, 10, root)\n",
       "  }\n",
       "})(window);</script>"
      ],
      "text/plain": [
       ":Curve   [Date]   (Noise)"
      ]
     },
     "execution_count": 33,
     "metadata": {
      "application/vnd.holoviews_exec.v0+json": {
       "id": "2204"
      }
     },
     "output_type": "execute_result"
    }
   ],
   "source": [
    "noise_plot = all_trend[\"Noise\"].hvplot(title=\"Yen Futuers Price\", width=900)\n",
    "noise_plot"
   ]
  },
  {
   "cell_type": "markdown",
   "metadata": {},
   "source": [
    "# Forecasting Returns using an ARMA Model"
   ]
  },
  {
   "cell_type": "markdown",
   "metadata": {},
   "source": [
    "1. ARMA: Create an ARMA model and fit it to the returns data. Note: Set the AR and MA (\"p\" and \"q\") parameters to p=2 and q=1: order=(2, 1).\n",
    "2. Output the ARMA summary table and take note of the p-values of the lags. Based on the p-values, is the model a good fit (p < 0.05)?\n",
    "3. Plot the 5-day forecast of the forecasted returns (the results forecast from ARMA model)"
   ]
  },
  {
   "cell_type": "markdown",
   "metadata": {},
   "source": [
    "* Create a series using \"Settle\" price percentage returns"
   ]
  },
  {
   "cell_type": "code",
   "execution_count": 34,
   "metadata": {},
   "outputs": [
    {
     "data": {
      "text/html": [
       "<div>\n",
       "<style scoped>\n",
       "    .dataframe tbody tr th:only-of-type {\n",
       "        vertical-align: middle;\n",
       "    }\n",
       "\n",
       "    .dataframe tbody tr th {\n",
       "        vertical-align: top;\n",
       "    }\n",
       "\n",
       "    .dataframe thead th {\n",
       "        text-align: right;\n",
       "    }\n",
       "</style>\n",
       "<table border=\"1\" class=\"dataframe\">\n",
       "  <thead>\n",
       "    <tr style=\"text-align: right;\">\n",
       "      <th></th>\n",
       "      <th>Settle</th>\n",
       "    </tr>\n",
       "    <tr>\n",
       "      <th>Date</th>\n",
       "      <th></th>\n",
       "    </tr>\n",
       "  </thead>\n",
       "  <tbody>\n",
       "    <tr>\n",
       "      <th>2019-10-09</th>\n",
       "      <td>-0.410601</td>\n",
       "    </tr>\n",
       "    <tr>\n",
       "      <th>2019-10-10</th>\n",
       "      <td>-0.369458</td>\n",
       "    </tr>\n",
       "    <tr>\n",
       "      <th>2019-10-11</th>\n",
       "      <td>-0.564304</td>\n",
       "    </tr>\n",
       "    <tr>\n",
       "      <th>2019-10-14</th>\n",
       "      <td>0.151335</td>\n",
       "    </tr>\n",
       "    <tr>\n",
       "      <th>2019-10-15</th>\n",
       "      <td>-0.469509</td>\n",
       "    </tr>\n",
       "  </tbody>\n",
       "</table>\n",
       "</div>"
      ],
      "text/plain": [
       "              Settle\n",
       "Date                \n",
       "2019-10-09 -0.410601\n",
       "2019-10-10 -0.369458\n",
       "2019-10-11 -0.564304\n",
       "2019-10-14  0.151335\n",
       "2019-10-15 -0.469509"
      ]
     },
     "execution_count": 34,
     "metadata": {},
     "output_type": "execute_result"
    }
   ],
   "source": [
    "returns = (yen_futures[[\"Settle\"]].pct_change() * 100)\n",
    "returns = returns.replace(-np.inf, np.nan).dropna()\n",
    "returns.tail()"
   ]
  },
  {
   "cell_type": "markdown",
   "metadata": {},
   "source": [
    "* Estimate and ARMA model using statsmodels (use order=(2, 1))"
   ]
  },
  {
   "cell_type": "code",
   "execution_count": 36,
   "metadata": {},
   "outputs": [],
   "source": [
    "model_arma= ARMA(settle_price.values, order=(2,1))"
   ]
  },
  {
   "cell_type": "markdown",
   "metadata": {},
   "source": [
    "* Fit the model"
   ]
  },
  {
   "cell_type": "code",
   "execution_count": 39,
   "metadata": {},
   "outputs": [],
   "source": [
    "model_fit_arma = model_arma.fit()"
   ]
  },
  {
   "cell_type": "markdown",
   "metadata": {},
   "source": [
    "* Output model summary results"
   ]
  },
  {
   "cell_type": "code",
   "execution_count": 40,
   "metadata": {},
   "outputs": [
    {
     "data": {
      "text/html": [
       "<table class=\"simpletable\">\n",
       "<caption>ARMA Model Results</caption>\n",
       "<tr>\n",
       "  <th>Dep. Variable:</th>         <td>y</td>        <th>  No. Observations:  </th>    <td>7515</td>   \n",
       "</tr>\n",
       "<tr>\n",
       "  <th>Model:</th>            <td>ARMA(2, 1)</td>    <th>  Log Likelihood     </th> <td>-41952.866</td>\n",
       "</tr>\n",
       "<tr>\n",
       "  <th>Method:</th>             <td>css-mle</td>     <th>  S.D. of innovations</th>   <td>64.277</td>  \n",
       "</tr>\n",
       "<tr>\n",
       "  <th>Date:</th>          <td>Wed, 02 Sep 2020</td> <th>  AIC                </th>  <td>83915.733</td>\n",
       "</tr>\n",
       "<tr>\n",
       "  <th>Time:</th>              <td>01:35:37</td>     <th>  BIC                </th>  <td>83950.356</td>\n",
       "</tr>\n",
       "<tr>\n",
       "  <th>Sample:</th>                <td>0</td>        <th>  HQIC               </th>  <td>83927.621</td>\n",
       "</tr>\n",
       "<tr>\n",
       "  <th></th>                       <td> </td>        <th>                     </th>      <td> </td>    \n",
       "</tr>\n",
       "</table>\n",
       "<table class=\"simpletable\">\n",
       "<tr>\n",
       "     <td></td>        <th>coef</th>     <th>std err</th>      <th>z</th>      <th>P>|z|</th>  <th>[0.025</th>    <th>0.975]</th>  \n",
       "</tr>\n",
       "<tr>\n",
       "  <th>const</th>   <td> 9246.7856</td> <td>  676.590</td> <td>   13.667</td> <td> 0.000</td> <td> 7920.693</td> <td> 1.06e+04</td>\n",
       "</tr>\n",
       "<tr>\n",
       "  <th>ar.L1.y</th> <td>    1.6672</td> <td>    0.011</td> <td>  156.927</td> <td> 0.000</td> <td>    1.646</td> <td>    1.688</td>\n",
       "</tr>\n",
       "<tr>\n",
       "  <th>ar.L2.y</th> <td>   -0.6675</td> <td>    0.011</td> <td>  -62.891</td> <td> 0.000</td> <td>   -0.688</td> <td>   -0.647</td>\n",
       "</tr>\n",
       "<tr>\n",
       "  <th>ma.L1.y</th> <td>   -0.6832</td> <td>    0.013</td> <td>  -51.006</td> <td> 0.000</td> <td>   -0.709</td> <td>   -0.657</td>\n",
       "</tr>\n",
       "</table>\n",
       "<table class=\"simpletable\">\n",
       "<caption>Roots</caption>\n",
       "<tr>\n",
       "    <td></td>   <th>            Real</th>  <th>         Imaginary</th> <th>         Modulus</th>  <th>        Frequency</th>\n",
       "</tr>\n",
       "<tr>\n",
       "  <th>AR.1</th> <td>           1.0009</td> <td>          +0.0000j</td> <td>           1.0009</td> <td>           0.0000</td>\n",
       "</tr>\n",
       "<tr>\n",
       "  <th>AR.2</th> <td>           1.4968</td> <td>          +0.0000j</td> <td>           1.4968</td> <td>           0.0000</td>\n",
       "</tr>\n",
       "<tr>\n",
       "  <th>MA.1</th> <td>           1.4637</td> <td>          +0.0000j</td> <td>           1.4637</td> <td>           0.0000</td>\n",
       "</tr>\n",
       "</table>"
      ],
      "text/plain": [
       "<class 'statsmodels.iolib.summary.Summary'>\n",
       "\"\"\"\n",
       "                              ARMA Model Results                              \n",
       "==============================================================================\n",
       "Dep. Variable:                      y   No. Observations:                 7515\n",
       "Model:                     ARMA(2, 1)   Log Likelihood              -41952.866\n",
       "Method:                       css-mle   S.D. of innovations             64.277\n",
       "Date:                Wed, 02 Sep 2020   AIC                          83915.733\n",
       "Time:                        01:35:37   BIC                          83950.356\n",
       "Sample:                             0   HQIC                         83927.621\n",
       "                                                                              \n",
       "==============================================================================\n",
       "                 coef    std err          z      P>|z|      [0.025      0.975]\n",
       "------------------------------------------------------------------------------\n",
       "const       9246.7856    676.590     13.667      0.000    7920.693    1.06e+04\n",
       "ar.L1.y        1.6672      0.011    156.927      0.000       1.646       1.688\n",
       "ar.L2.y       -0.6675      0.011    -62.891      0.000      -0.688      -0.647\n",
       "ma.L1.y       -0.6832      0.013    -51.006      0.000      -0.709      -0.657\n",
       "                                    Roots                                    \n",
       "=============================================================================\n",
       "                  Real          Imaginary           Modulus         Frequency\n",
       "-----------------------------------------------------------------------------\n",
       "AR.1            1.0009           +0.0000j            1.0009            0.0000\n",
       "AR.2            1.4968           +0.0000j            1.4968            0.0000\n",
       "MA.1            1.4637           +0.0000j            1.4637            0.0000\n",
       "-----------------------------------------------------------------------------\n",
       "\"\"\""
      ]
     },
     "execution_count": 40,
     "metadata": {},
     "output_type": "execute_result"
    }
   ],
   "source": [
    "arma_summary = model_fit_arma.summary()\n",
    "arma_summary"
   ]
  },
  {
   "cell_type": "markdown",
   "metadata": {},
   "source": [
    "* Plot the 5 Day Returns Forecast"
   ]
  },
  {
   "cell_type": "code",
   "execution_count": 41,
   "metadata": {},
   "outputs": [
    {
     "data": {},
     "metadata": {},
     "output_type": "display_data"
    },
    {
     "data": {
      "application/vnd.holoviews_exec.v0+json": "",
      "text/html": [
       "<div id='2374'>\n",
       "\n",
       "\n",
       "\n",
       "\n",
       "\n",
       "  <div class=\"bk-root\" id=\"665748c2-40e1-4f5d-8505-a4451e3ac69b\" data-root-id=\"2374\"></div>\n",
       "</div>\n",
       "<script type=\"application/javascript\">\n",
       "    function msg_handler(msg) {\n",
       "      var metadata = msg.metadata;\n",
       "      var buffers = msg.buffers;\n",
       "      var msg = msg.content.data;\n",
       "      if ((metadata.msg_type == \"Ready\")) {\n",
       "        if (metadata.content) {\n",
       "          console.log(\"Python callback returned following output:\", metadata.content);\n",
       "        }\n",
       "      } else if (metadata.msg_type == \"Error\") {\n",
       "        console.log(\"Python failed with the following traceback:\", metadata.traceback)\n",
       "      } else {\n",
       "        \n",
       "var plot_id = \"2374\";\n",
       "\n",
       "if ((plot_id in window.PyViz.plot_index) && (window.PyViz.plot_index[plot_id] != null)) {\n",
       "  var plot = window.PyViz.plot_index[plot_id];\n",
       "} else if ((Bokeh !== undefined) && (plot_id in Bokeh.index)) {\n",
       "  var plot = Bokeh.index[plot_id];\n",
       "}\n",
       "\n",
       "if (plot == null) {\n",
       "  return\n",
       "}\n",
       "\n",
       "if (plot_id in window.PyViz.receivers) {\n",
       "  var receiver = window.PyViz.receivers[plot_id];\n",
       "} else {\n",
       "  var receiver = new Bokeh.protocol.Receiver();\n",
       "  window.PyViz.receivers[plot_id] = receiver;\n",
       "}\n",
       "\n",
       "if ((buffers != undefined) && (buffers.length > 0)) {\n",
       "  receiver.consume(buffers[0].buffer)\n",
       "} else {\n",
       "  receiver.consume(msg)\n",
       "}\n",
       "\n",
       "const comm_msg = receiver.message;\n",
       "if ((comm_msg != null) && (Object.keys(comm_msg.content).length > 0)) {\n",
       "  plot.model.document.apply_json_patch(comm_msg.content, comm_msg.buffers)\n",
       "}\n",
       "\n",
       "      }\n",
       "    }\n",
       "    if ((window.PyViz == undefined) || (!window.PyViz.comm_manager)) {\n",
       "      console.log(\"Could not find comm manager\")\n",
       "    } else {\n",
       "      window.PyViz.comm_manager.register_target('2374', '0770d718ba4e43cdaa2504a7f1882123', msg_handler);\n",
       "    }\n",
       "    \n",
       "(function(root) {\n",
       "  function embed_document(root) {\n",
       "  var docs_json = {\"308f9239-ff02-471f-b566-0071401a2f47\":{\"roots\":{\"references\":[{\"attributes\":{\"data_source\":{\"id\":\"2410\",\"type\":\"ColumnDataSource\"},\"glyph\":{\"id\":\"2413\",\"type\":\"Line\"},\"hover_glyph\":null,\"muted_glyph\":{\"id\":\"2415\",\"type\":\"Line\"},\"nonselection_glyph\":{\"id\":\"2414\",\"type\":\"Line\"},\"selection_glyph\":null,\"view\":{\"id\":\"2417\",\"type\":\"CDSView\"}},\"id\":\"2416\",\"type\":\"GlyphRenderer\"},{\"attributes\":{\"children\":[{\"id\":\"2375\",\"type\":\"Spacer\"},{\"id\":\"2379\",\"subtype\":\"Figure\",\"type\":\"Plot\"},{\"id\":\"2430\",\"type\":\"Spacer\"}],\"margin\":[0,0,0,0],\"name\":\"Row02840\",\"tags\":[\"embedded\"]},\"id\":\"2374\",\"type\":\"Row\"},{\"attributes\":{\"source\":{\"id\":\"2410\",\"type\":\"ColumnDataSource\"}},\"id\":\"2417\",\"type\":\"CDSView\"},{\"attributes\":{\"line_color\":\"#1f77b3\",\"line_width\":2,\"x\":{\"field\":\"index\"},\"y\":{\"field\":\"0\"}},\"id\":\"2413\",\"type\":\"Line\"},{\"attributes\":{},\"id\":\"2411\",\"type\":\"Selection\"},{\"attributes\":{\"align\":null,\"below\":[{\"id\":\"2388\",\"type\":\"LinearAxis\"}],\"center\":[{\"id\":\"2392\",\"type\":\"Grid\"},{\"id\":\"2397\",\"type\":\"Grid\"}],\"left\":[{\"id\":\"2393\",\"type\":\"LinearAxis\"}],\"margin\":null,\"min_border_bottom\":10,\"min_border_left\":10,\"min_border_right\":10,\"min_border_top\":10,\"plot_height\":300,\"plot_width\":900,\"renderers\":[{\"id\":\"2416\",\"type\":\"GlyphRenderer\"}],\"sizing_mode\":\"fixed\",\"title\":{\"id\":\"2380\",\"type\":\"Title\"},\"toolbar\":{\"id\":\"2403\",\"type\":\"Toolbar\"},\"x_range\":{\"id\":\"2376\",\"type\":\"Range1d\"},\"x_scale\":{\"id\":\"2384\",\"type\":\"LinearScale\"},\"y_range\":{\"id\":\"2377\",\"type\":\"Range1d\"},\"y_scale\":{\"id\":\"2386\",\"type\":\"LinearScale\"}},\"id\":\"2379\",\"subtype\":\"Figure\",\"type\":\"Plot\"},{\"attributes\":{},\"id\":\"2398\",\"type\":\"SaveTool\"},{\"attributes\":{\"margin\":[5,5,5,5],\"name\":\"HSpacer02844\",\"sizing_mode\":\"stretch_width\"},\"id\":\"2375\",\"type\":\"Spacer\"},{\"attributes\":{\"callback\":null,\"end\":4.0,\"reset_end\":4.0,\"reset_start\":0.0,\"tags\":[[[\"index\",\"index\",null]]]},\"id\":\"2376\",\"type\":\"Range1d\"},{\"attributes\":{},\"id\":\"2400\",\"type\":\"WheelZoomTool\"},{\"attributes\":{},\"id\":\"2399\",\"type\":\"PanTool\"},{\"attributes\":{\"text\":\"5 Day ARMA Returns Forecast\",\"text_color\":{\"value\":\"black\"},\"text_font_size\":{\"value\":\"12pt\"}},\"id\":\"2380\",\"type\":\"Title\"},{\"attributes\":{\"overlay\":{\"id\":\"2427\",\"type\":\"BoxAnnotation\"}},\"id\":\"2401\",\"type\":\"BoxZoomTool\"},{\"attributes\":{\"line_alpha\":0.1,\"line_color\":\"#1f77b3\",\"line_width\":2,\"x\":{\"field\":\"index\"},\"y\":{\"field\":\"0\"}},\"id\":\"2414\",\"type\":\"Line\"},{\"attributes\":{},\"id\":\"2386\",\"type\":\"LinearScale\"},{\"attributes\":{\"margin\":[5,5,5,5],\"name\":\"HSpacer02845\",\"sizing_mode\":\"stretch_width\"},\"id\":\"2430\",\"type\":\"Spacer\"},{\"attributes\":{},\"id\":\"2402\",\"type\":\"ResetTool\"},{\"attributes\":{},\"id\":\"2384\",\"type\":\"LinearScale\"},{\"attributes\":{},\"id\":\"2429\",\"type\":\"UnionRenderers\"},{\"attributes\":{},\"id\":\"2389\",\"type\":\"BasicTicker\"},{\"attributes\":{\"grid_line_color\":null,\"ticker\":{\"id\":\"2389\",\"type\":\"BasicTicker\"}},\"id\":\"2392\",\"type\":\"Grid\"},{\"attributes\":{\"axis_label\":\"\",\"axis_label_text_font_size\":{\"value\":\"10pt\"},\"bounds\":\"auto\",\"formatter\":{\"id\":\"2419\",\"type\":\"BasicTickFormatter\"},\"major_label_orientation\":\"horizontal\",\"ticker\":{\"id\":\"2389\",\"type\":\"BasicTicker\"}},\"id\":\"2388\",\"type\":\"LinearAxis\"},{\"attributes\":{\"callback\":null,\"renderers\":[{\"id\":\"2416\",\"type\":\"GlyphRenderer\"}],\"tags\":[\"hv_created\"],\"tooltips\":[[\"index\",\"@{index}\"],[\"0\",\"@{A_0}\"]]},\"id\":\"2378\",\"type\":\"HoverTool\"},{\"attributes\":{},\"id\":\"2419\",\"type\":\"BasicTickFormatter\"},{\"attributes\":{\"callback\":null,\"end\":9224.814893333407,\"reset_end\":9224.814893333407,\"reset_start\":9222.481512908822,\"start\":9222.481512908822,\"tags\":[[[\"0\",\"0\",null]]]},\"id\":\"2377\",\"type\":\"Range1d\"},{\"attributes\":{},\"id\":\"2421\",\"type\":\"BasicTickFormatter\"},{\"attributes\":{\"active_drag\":\"auto\",\"active_inspect\":\"auto\",\"active_multi\":null,\"active_scroll\":\"auto\",\"active_tap\":\"auto\",\"tools\":[{\"id\":\"2378\",\"type\":\"HoverTool\"},{\"id\":\"2398\",\"type\":\"SaveTool\"},{\"id\":\"2399\",\"type\":\"PanTool\"},{\"id\":\"2400\",\"type\":\"WheelZoomTool\"},{\"id\":\"2401\",\"type\":\"BoxZoomTool\"},{\"id\":\"2402\",\"type\":\"ResetTool\"}]},\"id\":\"2403\",\"type\":\"Toolbar\"},{\"attributes\":{\"axis_label\":\"0\",\"axis_label_text_font_size\":{\"value\":\"10pt\"},\"bounds\":\"auto\",\"formatter\":{\"id\":\"2421\",\"type\":\"BasicTickFormatter\"},\"major_label_orientation\":\"horizontal\",\"ticker\":{\"id\":\"2394\",\"type\":\"BasicTicker\"}},\"id\":\"2393\",\"type\":\"LinearAxis\"},{\"attributes\":{},\"id\":\"2394\",\"type\":\"BasicTicker\"},{\"attributes\":{\"dimension\":1,\"grid_line_color\":null,\"ticker\":{\"id\":\"2394\",\"type\":\"BasicTicker\"}},\"id\":\"2397\",\"type\":\"Grid\"},{\"attributes\":{\"callback\":null,\"data\":{\"0\":{\"__ndarray__\":\"MS7mhVYDwkBPt4T1uwPCQAehbpkABMJAOy/9Uy8EwkApmL1qTwTCQA==\",\"dtype\":\"float64\",\"shape\":[5]},\"A_0\":{\"__ndarray__\":\"MS7mhVYDwkBPt4T1uwPCQAehbpkABMJAOy/9Uy8EwkApmL1qTwTCQA==\",\"dtype\":\"float64\",\"shape\":[5]},\"index\":[0,1,2,3,4]},\"selected\":{\"id\":\"2411\",\"type\":\"Selection\"},\"selection_policy\":{\"id\":\"2429\",\"type\":\"UnionRenderers\"}},\"id\":\"2410\",\"type\":\"ColumnDataSource\"},{\"attributes\":{\"bottom_units\":\"screen\",\"fill_alpha\":{\"value\":0.5},\"fill_color\":{\"value\":\"lightgrey\"},\"left_units\":\"screen\",\"level\":\"overlay\",\"line_alpha\":{\"value\":1.0},\"line_color\":{\"value\":\"black\"},\"line_dash\":[4,4],\"line_width\":{\"value\":2},\"render_mode\":\"css\",\"right_units\":\"screen\",\"top_units\":\"screen\"},\"id\":\"2427\",\"type\":\"BoxAnnotation\"},{\"attributes\":{\"line_alpha\":0.2,\"line_color\":\"#1f77b3\",\"line_width\":2,\"x\":{\"field\":\"index\"},\"y\":{\"field\":\"0\"}},\"id\":\"2415\",\"type\":\"Line\"}],\"root_ids\":[\"2374\"]},\"title\":\"Bokeh Application\",\"version\":\"1.4.0\"}};\n",
       "  var render_items = [{\"docid\":\"308f9239-ff02-471f-b566-0071401a2f47\",\"roots\":{\"2374\":\"665748c2-40e1-4f5d-8505-a4451e3ac69b\"}}];\n",
       "  root.Bokeh.embed.embed_items_notebook(docs_json, render_items);\n",
       "  }\n",
       "if (root.Bokeh !== undefined) {\n",
       "    embed_document(root);\n",
       "  } else {\n",
       "    var attempts = 0;\n",
       "    var timer = setInterval(function(root) {\n",
       "      if (root.Bokeh !== undefined) {\n",
       "        clearInterval(timer);\n",
       "        embed_document(root);\n",
       "      } else if (document.readyState == \"complete\") {\n",
       "        attempts++;\n",
       "        if (attempts > 100) {\n",
       "          clearInterval(timer);\n",
       "          console.log(\"Bokeh: ERROR: Unable to run BokehJS code because BokehJS library is missing\");\n",
       "        }\n",
       "      }\n",
       "    }, 10, root)\n",
       "  }\n",
       "})(window);</script>"
      ],
      "text/plain": [
       ":Curve   [index]   (0)"
      ]
     },
     "execution_count": 41,
     "metadata": {
      "application/vnd.holoviews_exec.v0+json": {
       "id": "2374"
      }
     },
     "output_type": "execute_result"
    }
   ],
   "source": [
    "arma_5_plot = pd.DataFrame(model_fit_arma.forecast(steps=5)[0]).hvplot(title=\"5 Day ARMA Returns Forecast\", width=900)\n",
    "arma_5_plot"
   ]
  },
  {
   "cell_type": "markdown",
   "metadata": {},
   "source": [
    "# Forecasting the Settle Price using an ARIMA Model"
   ]
  },
  {
   "cell_type": "markdown",
   "metadata": {},
   "source": [
    "1. Using the raw Yen Settle Price, estimate an ARIMA model (Set P=5, D=1, and Q=1 in the model)\n",
    "2. Output the ARIMA summary table and take note of the p-values of the lags. Based on the p-values, is the model a good fit (p < 0.05)?\n",
    "3. Construct a 5 day forecast for the Settle Price. What does the model forecast will happen to the Japanese Yen in the near term?"
   ]
  },
  {
   "cell_type": "markdown",
   "metadata": {},
   "source": [
    "* Estimate an ARIMA Model"
   ]
  },
  {
   "cell_type": "code",
   "execution_count": 43,
   "metadata": {},
   "outputs": [],
   "source": [
    "model_arima = ARIMA(yen_futures[\"Settle\"].values,order=(5,1,1))"
   ]
  },
  {
   "cell_type": "markdown",
   "metadata": {},
   "source": [
    "* Fit the model"
   ]
  },
  {
   "cell_type": "code",
   "execution_count": 44,
   "metadata": {},
   "outputs": [],
   "source": [
    "model_fit_arima = model_arima.fit()"
   ]
  },
  {
   "cell_type": "markdown",
   "metadata": {},
   "source": [
    "* Output model summary results"
   ]
  },
  {
   "cell_type": "code",
   "execution_count": 45,
   "metadata": {},
   "outputs": [
    {
     "data": {
      "text/html": [
       "<table class=\"simpletable\">\n",
       "<caption>ARIMA Model Results</caption>\n",
       "<tr>\n",
       "  <th>Dep. Variable:</th>        <td>D.y</td>       <th>  No. Observations:  </th>    <td>7514</td>   \n",
       "</tr>\n",
       "<tr>\n",
       "  <th>Model:</th>          <td>ARIMA(5, 1, 1)</td>  <th>  Log Likelihood     </th> <td>-41944.619</td>\n",
       "</tr>\n",
       "<tr>\n",
       "  <th>Method:</th>             <td>css-mle</td>     <th>  S.D. of innovations</th>   <td>64.281</td>  \n",
       "</tr>\n",
       "<tr>\n",
       "  <th>Date:</th>          <td>Wed, 02 Sep 2020</td> <th>  AIC                </th>  <td>83905.238</td>\n",
       "</tr>\n",
       "<tr>\n",
       "  <th>Time:</th>              <td>01:43:45</td>     <th>  BIC                </th>  <td>83960.635</td>\n",
       "</tr>\n",
       "<tr>\n",
       "  <th>Sample:</th>                <td>1</td>        <th>  HQIC               </th>  <td>83924.259</td>\n",
       "</tr>\n",
       "<tr>\n",
       "  <th></th>                       <td> </td>        <th>                     </th>      <td> </td>    \n",
       "</tr>\n",
       "</table>\n",
       "<table class=\"simpletable\">\n",
       "<tr>\n",
       "      <td></td>         <th>coef</th>     <th>std err</th>      <th>z</th>      <th>P>|z|</th>  <th>[0.025</th>    <th>0.975]</th>  \n",
       "</tr>\n",
       "<tr>\n",
       "  <th>const</th>     <td>    0.3161</td> <td>    0.700</td> <td>    0.452</td> <td> 0.652</td> <td>   -1.056</td> <td>    1.688</td>\n",
       "</tr>\n",
       "<tr>\n",
       "  <th>ar.L1.D.y</th> <td>    0.2822</td> <td>    0.699</td> <td>    0.404</td> <td> 0.686</td> <td>   -1.088</td> <td>    1.652</td>\n",
       "</tr>\n",
       "<tr>\n",
       "  <th>ar.L2.D.y</th> <td>    0.0007</td> <td>    0.016</td> <td>    0.043</td> <td> 0.966</td> <td>   -0.030</td> <td>    0.032</td>\n",
       "</tr>\n",
       "<tr>\n",
       "  <th>ar.L3.D.y</th> <td>   -0.0126</td> <td>    0.012</td> <td>   -1.032</td> <td> 0.302</td> <td>   -0.037</td> <td>    0.011</td>\n",
       "</tr>\n",
       "<tr>\n",
       "  <th>ar.L4.D.y</th> <td>   -0.0137</td> <td>    0.015</td> <td>   -0.889</td> <td> 0.374</td> <td>   -0.044</td> <td>    0.016</td>\n",
       "</tr>\n",
       "<tr>\n",
       "  <th>ar.L5.D.y</th> <td>   -0.0012</td> <td>    0.018</td> <td>   -0.064</td> <td> 0.949</td> <td>   -0.036</td> <td>    0.034</td>\n",
       "</tr>\n",
       "<tr>\n",
       "  <th>ma.L1.D.y</th> <td>   -0.2973</td> <td>    0.699</td> <td>   -0.425</td> <td> 0.671</td> <td>   -1.667</td> <td>    1.073</td>\n",
       "</tr>\n",
       "</table>\n",
       "<table class=\"simpletable\">\n",
       "<caption>Roots</caption>\n",
       "<tr>\n",
       "    <td></td>   <th>            Real</th>  <th>         Imaginary</th> <th>         Modulus</th>  <th>        Frequency</th>\n",
       "</tr>\n",
       "<tr>\n",
       "  <th>AR.1</th> <td>           1.8918</td> <td>          -1.3785j</td> <td>           2.3408</td> <td>          -0.1002</td>\n",
       "</tr>\n",
       "<tr>\n",
       "  <th>AR.2</th> <td>           1.8918</td> <td>          +1.3785j</td> <td>           2.3408</td> <td>           0.1002</td>\n",
       "</tr>\n",
       "<tr>\n",
       "  <th>AR.3</th> <td>          -2.2700</td> <td>          -3.0208j</td> <td>           3.7787</td> <td>          -0.3526</td>\n",
       "</tr>\n",
       "<tr>\n",
       "  <th>AR.4</th> <td>          -2.2700</td> <td>          +3.0208j</td> <td>           3.7787</td> <td>           0.3526</td>\n",
       "</tr>\n",
       "<tr>\n",
       "  <th>AR.5</th> <td>         -11.0690</td> <td>          -0.0000j</td> <td>          11.0690</td> <td>          -0.5000</td>\n",
       "</tr>\n",
       "<tr>\n",
       "  <th>MA.1</th> <td>           3.3641</td> <td>          +0.0000j</td> <td>           3.3641</td> <td>           0.0000</td>\n",
       "</tr>\n",
       "</table>"
      ],
      "text/plain": [
       "<class 'statsmodels.iolib.summary.Summary'>\n",
       "\"\"\"\n",
       "                             ARIMA Model Results                              \n",
       "==============================================================================\n",
       "Dep. Variable:                    D.y   No. Observations:                 7514\n",
       "Model:                 ARIMA(5, 1, 1)   Log Likelihood              -41944.619\n",
       "Method:                       css-mle   S.D. of innovations             64.281\n",
       "Date:                Wed, 02 Sep 2020   AIC                          83905.238\n",
       "Time:                        01:43:45   BIC                          83960.635\n",
       "Sample:                             1   HQIC                         83924.259\n",
       "                                                                              \n",
       "==============================================================================\n",
       "                 coef    std err          z      P>|z|      [0.025      0.975]\n",
       "------------------------------------------------------------------------------\n",
       "const          0.3161      0.700      0.452      0.652      -1.056       1.688\n",
       "ar.L1.D.y      0.2822      0.699      0.404      0.686      -1.088       1.652\n",
       "ar.L2.D.y      0.0007      0.016      0.043      0.966      -0.030       0.032\n",
       "ar.L3.D.y     -0.0126      0.012     -1.032      0.302      -0.037       0.011\n",
       "ar.L4.D.y     -0.0137      0.015     -0.889      0.374      -0.044       0.016\n",
       "ar.L5.D.y     -0.0012      0.018     -0.064      0.949      -0.036       0.034\n",
       "ma.L1.D.y     -0.2973      0.699     -0.425      0.671      -1.667       1.073\n",
       "                                    Roots                                    \n",
       "=============================================================================\n",
       "                  Real          Imaginary           Modulus         Frequency\n",
       "-----------------------------------------------------------------------------\n",
       "AR.1            1.8918           -1.3785j            2.3408           -0.1002\n",
       "AR.2            1.8918           +1.3785j            2.3408            0.1002\n",
       "AR.3           -2.2700           -3.0208j            3.7787           -0.3526\n",
       "AR.4           -2.2700           +3.0208j            3.7787            0.3526\n",
       "AR.5          -11.0690           -0.0000j           11.0690           -0.5000\n",
       "MA.1            3.3641           +0.0000j            3.3641            0.0000\n",
       "-----------------------------------------------------------------------------\n",
       "\"\"\""
      ]
     },
     "execution_count": 45,
     "metadata": {},
     "output_type": "execute_result"
    }
   ],
   "source": [
    "model_fit_arima.summary()"
   ]
  },
  {
   "cell_type": "markdown",
   "metadata": {},
   "source": [
    "* Plot the 5 Day Price Forecast"
   ]
  },
  {
   "cell_type": "code",
   "execution_count": 46,
   "metadata": {},
   "outputs": [
    {
     "data": {},
     "metadata": {},
     "output_type": "display_data"
    },
    {
     "data": {
      "application/vnd.holoviews_exec.v0+json": "",
      "text/html": [
       "<div id='2472'>\n",
       "\n",
       "\n",
       "\n",
       "\n",
       "\n",
       "  <div class=\"bk-root\" id=\"7a2c939f-13a7-40bb-88b0-65297f492b10\" data-root-id=\"2472\"></div>\n",
       "</div>\n",
       "<script type=\"application/javascript\">\n",
       "    function msg_handler(msg) {\n",
       "      var metadata = msg.metadata;\n",
       "      var buffers = msg.buffers;\n",
       "      var msg = msg.content.data;\n",
       "      if ((metadata.msg_type == \"Ready\")) {\n",
       "        if (metadata.content) {\n",
       "          console.log(\"Python callback returned following output:\", metadata.content);\n",
       "        }\n",
       "      } else if (metadata.msg_type == \"Error\") {\n",
       "        console.log(\"Python failed with the following traceback:\", metadata.traceback)\n",
       "      } else {\n",
       "        \n",
       "var plot_id = \"2472\";\n",
       "\n",
       "if ((plot_id in window.PyViz.plot_index) && (window.PyViz.plot_index[plot_id] != null)) {\n",
       "  var plot = window.PyViz.plot_index[plot_id];\n",
       "} else if ((Bokeh !== undefined) && (plot_id in Bokeh.index)) {\n",
       "  var plot = Bokeh.index[plot_id];\n",
       "}\n",
       "\n",
       "if (plot == null) {\n",
       "  return\n",
       "}\n",
       "\n",
       "if (plot_id in window.PyViz.receivers) {\n",
       "  var receiver = window.PyViz.receivers[plot_id];\n",
       "} else {\n",
       "  var receiver = new Bokeh.protocol.Receiver();\n",
       "  window.PyViz.receivers[plot_id] = receiver;\n",
       "}\n",
       "\n",
       "if ((buffers != undefined) && (buffers.length > 0)) {\n",
       "  receiver.consume(buffers[0].buffer)\n",
       "} else {\n",
       "  receiver.consume(msg)\n",
       "}\n",
       "\n",
       "const comm_msg = receiver.message;\n",
       "if ((comm_msg != null) && (Object.keys(comm_msg.content).length > 0)) {\n",
       "  plot.model.document.apply_json_patch(comm_msg.content, comm_msg.buffers)\n",
       "}\n",
       "\n",
       "      }\n",
       "    }\n",
       "    if ((window.PyViz == undefined) || (!window.PyViz.comm_manager)) {\n",
       "      console.log(\"Could not find comm manager\")\n",
       "    } else {\n",
       "      window.PyViz.comm_manager.register_target('2472', 'd529762eb73f4a2ba49814d57e535a92', msg_handler);\n",
       "    }\n",
       "    \n",
       "(function(root) {\n",
       "  function embed_document(root) {\n",
       "  var docs_json = {\"6f269cdb-af77-4bfd-a5c3-5db527243858\":{\"roots\":{\"references\":[{\"attributes\":{\"text\":\"5 Day ARIMA Price Forcast\",\"text_color\":{\"value\":\"black\"},\"text_font_size\":{\"value\":\"12pt\"}},\"id\":\"2478\",\"type\":\"Title\"},{\"attributes\":{},\"id\":\"2487\",\"type\":\"BasicTicker\"},{\"attributes\":{\"data_source\":{\"id\":\"2508\",\"type\":\"ColumnDataSource\"},\"glyph\":{\"id\":\"2511\",\"type\":\"Line\"},\"hover_glyph\":null,\"muted_glyph\":{\"id\":\"2513\",\"type\":\"Line\"},\"nonselection_glyph\":{\"id\":\"2512\",\"type\":\"Line\"},\"selection_glyph\":null,\"view\":{\"id\":\"2515\",\"type\":\"CDSView\"}},\"id\":\"2514\",\"type\":\"GlyphRenderer\"},{\"attributes\":{},\"id\":\"2498\",\"type\":\"WheelZoomTool\"},{\"attributes\":{},\"id\":\"2496\",\"type\":\"SaveTool\"},{\"attributes\":{},\"id\":\"2484\",\"type\":\"LinearScale\"},{\"attributes\":{\"overlay\":{\"id\":\"2525\",\"type\":\"BoxAnnotation\"}},\"id\":\"2499\",\"type\":\"BoxZoomTool\"},{\"attributes\":{\"line_alpha\":0.1,\"line_color\":\"#1f77b3\",\"line_width\":2,\"x\":{\"field\":\"index\"},\"y\":{\"field\":\"0\"}},\"id\":\"2512\",\"type\":\"Line\"},{\"attributes\":{\"line_color\":\"#1f77b3\",\"line_width\":2,\"x\":{\"field\":\"index\"},\"y\":{\"field\":\"0\"}},\"id\":\"2511\",\"type\":\"Line\"},{\"attributes\":{},\"id\":\"2509\",\"type\":\"Selection\"},{\"attributes\":{\"align\":null,\"below\":[{\"id\":\"2486\",\"type\":\"LinearAxis\"}],\"center\":[{\"id\":\"2490\",\"type\":\"Grid\"},{\"id\":\"2495\",\"type\":\"Grid\"}],\"left\":[{\"id\":\"2491\",\"type\":\"LinearAxis\"}],\"margin\":null,\"min_border_bottom\":10,\"min_border_left\":10,\"min_border_right\":10,\"min_border_top\":10,\"plot_height\":300,\"plot_width\":700,\"renderers\":[{\"id\":\"2514\",\"type\":\"GlyphRenderer\"}],\"sizing_mode\":\"fixed\",\"title\":{\"id\":\"2478\",\"type\":\"Title\"},\"toolbar\":{\"id\":\"2501\",\"type\":\"Toolbar\"},\"x_range\":{\"id\":\"2474\",\"type\":\"Range1d\"},\"x_scale\":{\"id\":\"2482\",\"type\":\"LinearScale\"},\"y_range\":{\"id\":\"2475\",\"type\":\"Range1d\"},\"y_scale\":{\"id\":\"2484\",\"type\":\"LinearScale\"}},\"id\":\"2477\",\"subtype\":\"Figure\",\"type\":\"Plot\"},{\"attributes\":{\"callback\":null,\"end\":4.0,\"reset_end\":4.0,\"reset_start\":0.0,\"tags\":[[[\"index\",\"index\",null]]]},\"id\":\"2474\",\"type\":\"Range1d\"},{\"attributes\":{},\"id\":\"2519\",\"type\":\"BasicTickFormatter\"},{\"attributes\":{},\"id\":\"2527\",\"type\":\"UnionRenderers\"},{\"attributes\":{\"axis_label\":\"\",\"axis_label_text_font_size\":{\"value\":\"10pt\"},\"bounds\":\"auto\",\"formatter\":{\"id\":\"2517\",\"type\":\"BasicTickFormatter\"},\"major_label_orientation\":\"horizontal\",\"ticker\":{\"id\":\"2487\",\"type\":\"BasicTicker\"}},\"id\":\"2486\",\"type\":\"LinearAxis\"},{\"attributes\":{\"children\":[{\"id\":\"2473\",\"type\":\"Spacer\"},{\"id\":\"2477\",\"subtype\":\"Figure\",\"type\":\"Plot\"},{\"id\":\"2528\",\"type\":\"Spacer\"}],\"margin\":[0,0,0,0],\"name\":\"Row03017\",\"tags\":[\"embedded\"]},\"id\":\"2472\",\"type\":\"Row\"},{\"attributes\":{\"active_drag\":\"auto\",\"active_inspect\":\"auto\",\"active_multi\":null,\"active_scroll\":\"auto\",\"active_tap\":\"auto\",\"tools\":[{\"id\":\"2476\",\"type\":\"HoverTool\"},{\"id\":\"2496\",\"type\":\"SaveTool\"},{\"id\":\"2497\",\"type\":\"PanTool\"},{\"id\":\"2498\",\"type\":\"WheelZoomTool\"},{\"id\":\"2499\",\"type\":\"BoxZoomTool\"},{\"id\":\"2500\",\"type\":\"ResetTool\"}]},\"id\":\"2501\",\"type\":\"Toolbar\"},{\"attributes\":{\"margin\":[5,5,5,5],\"name\":\"HSpacer03022\",\"sizing_mode\":\"stretch_width\"},\"id\":\"2528\",\"type\":\"Spacer\"},{\"attributes\":{\"margin\":[5,5,5,5],\"name\":\"HSpacer03021\",\"sizing_mode\":\"stretch_width\"},\"id\":\"2473\",\"type\":\"Spacer\"},{\"attributes\":{},\"id\":\"2482\",\"type\":\"LinearScale\"},{\"attributes\":{\"dimension\":1,\"grid_line_color\":null,\"ticker\":{\"id\":\"2492\",\"type\":\"BasicTicker\"}},\"id\":\"2495\",\"type\":\"Grid\"},{\"attributes\":{},\"id\":\"2497\",\"type\":\"PanTool\"},{\"attributes\":{\"callback\":null,\"renderers\":[{\"id\":\"2514\",\"type\":\"GlyphRenderer\"}],\"tags\":[\"hv_created\"],\"tooltips\":[[\"index\",\"@{index}\"],[\"0\",\"@{A_0}\"]]},\"id\":\"2476\",\"type\":\"HoverTool\"},{\"attributes\":{\"callback\":null,\"end\":9228.62587745227,\"reset_end\":9228.62587745227,\"reset_start\":9223.588463625172,\"start\":9223.588463625172,\"tags\":[[[\"0\",\"0\",null]]]},\"id\":\"2475\",\"type\":\"Range1d\"},{\"attributes\":{\"source\":{\"id\":\"2508\",\"type\":\"ColumnDataSource\"}},\"id\":\"2515\",\"type\":\"CDSView\"},{\"attributes\":{\"callback\":null,\"data\":{\"0\":{\"__ndarray__\":\"/ipGDgEEwkAbIRAuwATCQDykEC1KBcJAx+YrR9UFwkDpG0FhGgbCQA==\",\"dtype\":\"float64\",\"shape\":[5]},\"A_0\":{\"__ndarray__\":\"/ipGDgEEwkAbIRAuwATCQDykEC1KBcJAx+YrR9UFwkDpG0FhGgbCQA==\",\"dtype\":\"float64\",\"shape\":[5]},\"index\":[0,1,2,3,4]},\"selected\":{\"id\":\"2509\",\"type\":\"Selection\"},\"selection_policy\":{\"id\":\"2527\",\"type\":\"UnionRenderers\"}},\"id\":\"2508\",\"type\":\"ColumnDataSource\"},{\"attributes\":{\"grid_line_color\":null,\"ticker\":{\"id\":\"2487\",\"type\":\"BasicTicker\"}},\"id\":\"2490\",\"type\":\"Grid\"},{\"attributes\":{\"bottom_units\":\"screen\",\"fill_alpha\":{\"value\":0.5},\"fill_color\":{\"value\":\"lightgrey\"},\"left_units\":\"screen\",\"level\":\"overlay\",\"line_alpha\":{\"value\":1.0},\"line_color\":{\"value\":\"black\"},\"line_dash\":[4,4],\"line_width\":{\"value\":2},\"render_mode\":\"css\",\"right_units\":\"screen\",\"top_units\":\"screen\"},\"id\":\"2525\",\"type\":\"BoxAnnotation\"},{\"attributes\":{},\"id\":\"2492\",\"type\":\"BasicTicker\"},{\"attributes\":{},\"id\":\"2500\",\"type\":\"ResetTool\"},{\"attributes\":{\"line_alpha\":0.2,\"line_color\":\"#1f77b3\",\"line_width\":2,\"x\":{\"field\":\"index\"},\"y\":{\"field\":\"0\"}},\"id\":\"2513\",\"type\":\"Line\"},{\"attributes\":{},\"id\":\"2517\",\"type\":\"BasicTickFormatter\"},{\"attributes\":{\"axis_label\":\"0\",\"axis_label_text_font_size\":{\"value\":\"10pt\"},\"bounds\":\"auto\",\"formatter\":{\"id\":\"2519\",\"type\":\"BasicTickFormatter\"},\"major_label_orientation\":\"horizontal\",\"ticker\":{\"id\":\"2492\",\"type\":\"BasicTicker\"}},\"id\":\"2491\",\"type\":\"LinearAxis\"}],\"root_ids\":[\"2472\"]},\"title\":\"Bokeh Application\",\"version\":\"1.4.0\"}};\n",
       "  var render_items = [{\"docid\":\"6f269cdb-af77-4bfd-a5c3-5db527243858\",\"roots\":{\"2472\":\"7a2c939f-13a7-40bb-88b0-65297f492b10\"}}];\n",
       "  root.Bokeh.embed.embed_items_notebook(docs_json, render_items);\n",
       "  }\n",
       "if (root.Bokeh !== undefined) {\n",
       "    embed_document(root);\n",
       "  } else {\n",
       "    var attempts = 0;\n",
       "    var timer = setInterval(function(root) {\n",
       "      if (root.Bokeh !== undefined) {\n",
       "        clearInterval(timer);\n",
       "        embed_document(root);\n",
       "      } else if (document.readyState == \"complete\") {\n",
       "        attempts++;\n",
       "        if (attempts > 100) {\n",
       "          clearInterval(timer);\n",
       "          console.log(\"Bokeh: ERROR: Unable to run BokehJS code because BokehJS library is missing\");\n",
       "        }\n",
       "      }\n",
       "    }, 10, root)\n",
       "  }\n",
       "})(window);</script>"
      ],
      "text/plain": [
       ":Curve   [index]   (0)"
      ]
     },
     "execution_count": 46,
     "metadata": {
      "application/vnd.holoviews_exec.v0+json": {
       "id": "2472"
      }
     },
     "output_type": "execute_result"
    }
   ],
   "source": [
    "arima_5_plot = pd.DataFrame(model_fit_arima.forecast(steps=5)[0]).hvplot(title=\"5 Day ARIMA Price Forcast\")\n",
    "arima_5_plot"
   ]
  },
  {
   "cell_type": "markdown",
   "metadata": {},
   "source": [
    "# Volatility Forecasting with GARCH"
   ]
  },
  {
   "cell_type": "markdown",
   "metadata": {},
   "source": [
    "1. GARCH: Create an GARCH model and fit it to the returns data. Note: Set the parameters to p=2 and q=1: order=(2, 1).\n",
    "2. Output the GARCH summary table and take note of the p-values of the lags. Based on the p-values, is the model a good fit (p < 0.05)?\n",
    "3. Plot the 5-day forecast of the volatility."
   ]
  },
  {
   "cell_type": "markdown",
   "metadata": {},
   "source": [
    "* Estimate a GARCH model"
   ]
  },
  {
   "cell_type": "code",
   "execution_count": 47,
   "metadata": {},
   "outputs": [],
   "source": [
    "model_arch = arch_model(returns, mean=\"Zero\", vol=\"GARCH\", p=2, q=1)"
   ]
  },
  {
   "cell_type": "markdown",
   "metadata": {},
   "source": [
    "* Fit the model"
   ]
  },
  {
   "cell_type": "code",
   "execution_count": 48,
   "metadata": {},
   "outputs": [],
   "source": [
    "model_fit_arch = model_arch.fit(disp=\"off\")"
   ]
  },
  {
   "cell_type": "markdown",
   "metadata": {},
   "source": [
    "* Summarize the model results"
   ]
  },
  {
   "cell_type": "code",
   "execution_count": 49,
   "metadata": {},
   "outputs": [
    {
     "data": {
      "text/html": [
       "<table class=\"simpletable\">\n",
       "<caption>Zero Mean - GARCH Model Results</caption>\n",
       "<tr>\n",
       "  <th>Dep. Variable:</th>       <td>Settle</td>       <th>  R-squared:         </th>  <td>   0.000</td> \n",
       "</tr>\n",
       "<tr>\n",
       "  <th>Mean Model:</th>         <td>Zero Mean</td>     <th>  Adj. R-squared:    </th>  <td>   0.000</td> \n",
       "</tr>\n",
       "<tr>\n",
       "  <th>Vol Model:</th>            <td>GARCH</td>       <th>  Log-Likelihood:    </th> <td>  -7461.93</td>\n",
       "</tr>\n",
       "<tr>\n",
       "  <th>Distribution:</th>        <td>Normal</td>       <th>  AIC:               </th> <td>   14931.9</td>\n",
       "</tr>\n",
       "<tr>\n",
       "  <th>Method:</th>        <td>Maximum Likelihood</td> <th>  BIC:               </th> <td>   14959.6</td>\n",
       "</tr>\n",
       "<tr>\n",
       "  <th></th>                        <td></td>          <th>  No. Observations:  </th>    <td>7514</td>   \n",
       "</tr>\n",
       "<tr>\n",
       "  <th>Date:</th>           <td>Wed, Sep 02 2020</td>  <th>  Df Residuals:      </th>    <td>7510</td>   \n",
       "</tr>\n",
       "<tr>\n",
       "  <th>Time:</th>               <td>01:45:33</td>      <th>  Df Model:          </th>      <td>4</td>    \n",
       "</tr>\n",
       "</table>\n",
       "<table class=\"simpletable\">\n",
       "<caption>Volatility Model</caption>\n",
       "<tr>\n",
       "      <td></td>        <th>coef</th>     <th>std err</th>      <th>t</th>       <th>P>|t|</th>      <th>95.0% Conf. Int.</th>   \n",
       "</tr>\n",
       "<tr>\n",
       "  <th>omega</th>    <td>4.2896e-03</td> <td>2.057e-03</td> <td>    2.085</td> <td>3.708e-02</td>  <td>[2.571e-04,8.322e-03]</td>\n",
       "</tr>\n",
       "<tr>\n",
       "  <th>alpha[1]</th> <td>    0.0381</td> <td>1.282e-02</td> <td>    2.970</td> <td>2.974e-03</td>  <td>[1.295e-02,6.321e-02]</td>\n",
       "</tr>\n",
       "<tr>\n",
       "  <th>alpha[2]</th>   <td>0.0000</td>   <td>1.703e-02</td>   <td>0.000</td>   <td>    1.000</td> <td>[-3.338e-02,3.338e-02]</td>\n",
       "</tr>\n",
       "<tr>\n",
       "  <th>beta[1]</th>  <td>    0.9536</td> <td>1.420e-02</td> <td>   67.135</td>   <td>0.000</td>      <td>[  0.926,  0.981]</td>  \n",
       "</tr>\n",
       "</table><br/><br/>Covariance estimator: robust"
      ],
      "text/plain": [
       "<class 'statsmodels.iolib.summary.Summary'>\n",
       "\"\"\"\n",
       "                       Zero Mean - GARCH Model Results                        \n",
       "==============================================================================\n",
       "Dep. Variable:                 Settle   R-squared:                       0.000\n",
       "Mean Model:                 Zero Mean   Adj. R-squared:                  0.000\n",
       "Vol Model:                      GARCH   Log-Likelihood:               -7461.93\n",
       "Distribution:                  Normal   AIC:                           14931.9\n",
       "Method:            Maximum Likelihood   BIC:                           14959.6\n",
       "                                        No. Observations:                 7514\n",
       "Date:                Wed, Sep 02 2020   Df Residuals:                     7510\n",
       "Time:                        01:45:33   Df Model:                            4\n",
       "                               Volatility Model                              \n",
       "=============================================================================\n",
       "                 coef    std err          t      P>|t|       95.0% Conf. Int.\n",
       "-----------------------------------------------------------------------------\n",
       "omega      4.2896e-03  2.057e-03      2.085  3.708e-02  [2.571e-04,8.322e-03]\n",
       "alpha[1]       0.0381  1.282e-02      2.970  2.974e-03  [1.295e-02,6.321e-02]\n",
       "alpha[2]       0.0000  1.703e-02      0.000      1.000 [-3.338e-02,3.338e-02]\n",
       "beta[1]        0.9536  1.420e-02     67.135      0.000      [  0.926,  0.981]\n",
       "=============================================================================\n",
       "\n",
       "Covariance estimator: robust\n",
       "\"\"\""
      ]
     },
     "execution_count": 49,
     "metadata": {},
     "output_type": "execute_result"
    }
   ],
   "source": [
    "arch_summary = model_fit_arch.summary()\n",
    "arch_summary"
   ]
  },
  {
   "cell_type": "markdown",
   "metadata": {},
   "source": [
    "* Find the last day of the dataset"
   ]
  },
  {
   "cell_type": "code",
   "execution_count": 50,
   "metadata": {},
   "outputs": [
    {
     "data": {
      "text/plain": [
       "'2019-10-15'"
      ]
     },
     "execution_count": 50,
     "metadata": {},
     "output_type": "execute_result"
    }
   ],
   "source": [
    "last_day = returns.index.max().strftime('%Y-%m-%d')\n",
    "last_day"
   ]
  },
  {
   "cell_type": "markdown",
   "metadata": {},
   "source": [
    "* Create a 5 day forecast of volatility"
   ]
  },
  {
   "cell_type": "code",
   "execution_count": 51,
   "metadata": {},
   "outputs": [],
   "source": [
    "forecast_horizon = 5\n",
    "forecasts = model_fit_arch.forecast(start=last_day,horizon=forecast_horizon)"
   ]
  },
  {
   "cell_type": "code",
   "execution_count": null,
   "metadata": {},
   "outputs": [],
   "source": []
  }
 ],
 "metadata": {
  "kernelspec": {
   "display_name": "Python 3",
   "language": "python",
   "name": "python3"
  },
  "language_info": {
   "codemirror_mode": {
    "name": "ipython",
    "version": 3
   },
   "file_extension": ".py",
   "mimetype": "text/x-python",
   "name": "python",
   "nbconvert_exporter": "python",
   "pygments_lexer": "ipython3",
   "version": "3.7.6"
  }
 },
 "nbformat": 4,
 "nbformat_minor": 4
}
