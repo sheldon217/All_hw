{
 "cells": [
  {
   "cell_type": "markdown",
   "metadata": {},
   "source": [
    "# Proof of Authority Development BlockChain"
   ]
  },
  {
   "cell_type": "markdown",
   "metadata": {},
   "source": [
    "**Requierments**\n",
    "* [My Crypto](https://download.mycrypto.com), a cryptocurrency \"wallet\" we will be using\n",
    "* [Geth](https://geth.ethereum.org/downloads/), the heart of blockchain. \n",
    "    * Select the ``Geth & Tools version 1.9.7``\n",
    "* Create a folder and store the ``Geth & Tools`` (in this example we will name it ``\"Blockchain\"``)\n",
    "---"
   ]
  },
  {
   "cell_type": "markdown",
   "metadata": {},
   "source": [
    "# Fun with BlockChain"
   ]
  },
  {
   "cell_type": "markdown",
   "metadata": {},
   "source": [
    "**Create two nodes with accounts**\n",
    "\n",
    "* Launch a user-interface, and navigate to the Blockchain folder\n",
    "* Create the first node using the geth command, and passing it a new account data directory\n",
    "    * **``./geth account new --datadir YOUR_NODE_NAME``**(for this example we will name it node1)\n",
    "* Store the node's key, and secret key file for later\n",
    "* Repeat the same proccess for the second node\n",
    "    * **``./geth account new --datadir YOUR_NODE_NAME``**(for this example we will name it node2)"
   ]
  },
  {
   "cell_type": "markdown",
   "metadata": {},
   "source": [
    "**Generate a Network**\n",
    "* Inside the \"Blockchain\" folder run the following command\n",
    "    * **``./puppeth``**\n",
    "* Once executed you will be prompeted to name your network (remember there should be no spaces, hyphens or capital letters)\n",
    "    * Create your own name, for this example we will use \"puppernet\"\n",
    "* In the next prompt select number 2, \"Configure new gensis\"\n",
    "* Create a \"Clique - proof-of-authority\" by selecting the number 2 option\n",
    "    * Continue to with the defult option's by pressing \"enter\" until you are prompted to seal accounts\n",
    "* Paste both stored keys generated from the node accounts created above to be allowed to seal\n",
    "    * DO NOT INCLUDE THE ``0x``\n",
    "    * When finished press \"enter\" when promted with an empty \"0x\"\n",
    "* Pre-fund the accounts by pasting them into the next promt\n",
    "    * Advisable both, optional one\n",
    "* Choose no for pre-funding the pre-compiled accounts with ``wei``, to keep the genesis cleaner\n",
    "* Complete the prompts, once back at the main menu choose the \"Manage existing genesis\" by selecting number 2\n",
    "* Export the genesis configurations by selecting number 2\n",
    "    * Press \"enter\" to store the files in the current directory\n",
    "    * This will fail to create two of the files, but you only need **``networkname.json``**"
   ]
  },
  {
   "cell_type": "markdown",
   "metadata": {},
   "source": [
    "**Synchronize Node's**\n",
    "* Initialize the both node's\n",
    "    * **``./geth init yournetworkname.json --datadir node1``**\n",
    "    * **``./geth init yournetworkname.json --datadir node2``**\n",
    "* Run the first node\n",
    "    * **``./geth --unlock ACCOUNT_KEY --mine``**\n",
    "    * Above the unlocking of the account you will find **``Started P2P networking``**, copy and store the **``encode``** results \n",
    "* Run the second node unlock the account, enable the mining, and the RPC flag.<br>\n",
    "   \n",
    "   **Windows**\n",
    "    * **``./geth --rpc --bootnodes \"enode://<replace with node1 enode address>\"``** --ipcdisable<br>\n",
    "   \n",
    "  **OS X**\n",
    "    * **``./geth --rpc --bootnodes \"enode://<replace with node1 enode address>\"``**\n",
    "    \n",
    "### ***You should see both nodes producing new blocks at this point, CONGRATS!***"
   ]
  },
  {
   "cell_type": "markdown",
   "metadata": {},
   "source": [
    "**Custome Node**\n",
    "* Open \"MyCrypto\", and chance the network (bottom left side)\n",
    "* Click \"Add Custom Node\"\n",
    "    * In \"Network\" scroll down to \"Custom\"\n",
    "    * Set the \"Currency\" to \"ETH\"\n",
    "    * Use the information set in gensis to complet the other sections\n",
    "    * In the URL paste **``http://127.0.0.1:8545``**\n",
    "* Make sure you are connected to your custome node\n",
    "* On the left panel menu select \"View & Send\"\n",
    "* Select \"Pricate Key\"\n",
    "* Copy and store the pricate key of the pre-funded walled and click \"Unlock\"\n",
    "* Verify that the account was pre-funded"
   ]
  },
  {
   "cell_type": "markdown",
   "metadata": {},
   "source": [
    "**Transactions**\n",
    "* Copy the pre-funded address into the \"To Address\" section\n",
    "* Enter the amount of ETH\n",
    "* Send the transaction by selecting the \"Send Transaction\" button \n",
    "* Click the \"Check TX Status\" when the message pops up\n",
    "* Verify the transaction in the \"Pending\" section "
   ]
  },
  {
   "cell_type": "markdown",
   "metadata": {},
   "source": [
    "# SCREENSHOTS"
   ]
  },
  {
   "cell_type": "markdown",
   "metadata": {},
   "source": [
    "***Puppeth***\n",
    "![puppeth](Screenshots/puppeth.png)"
   ]
  },
  {
   "cell_type": "markdown",
   "metadata": {},
   "source": [
    "***Transaction***\n",
    "![trans](Screenshots/transaction.png)"
   ]
  },
  {
   "cell_type": "code",
   "execution_count": null,
   "metadata": {},
   "outputs": [],
   "source": []
  }
 ],
 "metadata": {
  "kernelspec": {
   "display_name": "Python 3",
   "language": "python",
   "name": "python3"
  },
  "language_info": {
   "codemirror_mode": {
    "name": "ipython",
    "version": 3
   },
   "file_extension": ".py",
   "mimetype": "text/x-python",
   "name": "python",
   "nbconvert_exporter": "python",
   "pygments_lexer": "ipython3",
   "version": "3.8.3"
  }
 },
 "nbformat": 4,
 "nbformat_minor": 4
}
