{
 "cells": [
  {
   "cell_type": "code",
   "execution_count": null,
   "metadata": {},
   "outputs": [],
   "source": []
  },
  {
   "cell_type": "markdown",
   "metadata": {},
   "source": [
    "# <u>**pureenergy**</u>\n",
    "\n",
    "# **vitamins**\n",
    "Public address of the key:   0xF28CDaF0096A3c040B7bC3B71B90cb538C78E4b3<br>\n",
    "Path of the secret key file: C:\\Users\\sheld\\AppData\\Local\\Ethereum\\keystore\\UTC--2020-11-12T11-34-34.454394400Z--f28cdaf0096a3c040b7bc3b71b90cb538c78e4b3\n",
    "\n",
    "# **hydration**\n",
    "Public address of the key:   0x6ef3c0B110AEdcfBEf97f52E1691139f8F04e0f0<br>\n",
    "Path of the secret key file: C:\\Users\\sheld\\AppData\\Local\\Ethereum\\keystore\\UTC--2020-11-12T11-34-54.912520100Z--6ef3c0b110aedcfbef97f52e1691139f8f04e0f0\n",
    "\n",
    "# **protien**\n",
    "Public address of the key:   0x6be4b96fBD54651BF4a80E6ca2Df6813F135470B<br>\n",
    "Path of the secret key file: C:\\Users\\sheld\\AppData\\Local\\Ethereum\\keystore\\UTC--2020-11-12T11-35-20.163757300Z--6be4b96fbd54651bf4a80e6ca2df6813f135470b<br>\n",
    "**INFO [11-12|04:57:09.310] Started P2P networking**<br>                   self=enode://bff0d8e8ee03571bbfb4ca5dcde1d067e284948fa5eb659981b0fd4be340b7d72ce3806b2301a0437c88fcbd9b42fe86d91f2102dbcfaa2e951ff9746133ab7f@127.0.0.1:30303<br>\n",
    "\n",
    "**INFO [11-12|04:57:09.311] IPC endpoint opened**<br>\n",
    "url=\\\\\\\\.\\\\pipe\\\\geth.ipc"
   ]
  },
  {
   "cell_type": "markdown",
   "metadata": {},
   "source": [
    "./geth --unlock 0x6ef3c0B110AEdcfBEf97f52E1691139f8F04e0f0 --datadir hydration --port 555 --rpc --bootnodes \"enode://bff0d8e8ee03571bbfb4ca5dcde1d067e284948fa5eb659981b0fd4be340b7d72ce3806b2301a0437c88fcbd9b42fe86d91f2102dbcfaa2e951ff9746133ab7f@127.0.0.1:30303\""
   ]
  },
  {
   "cell_type": "markdown",
   "metadata": {},
   "source": [
    "**Chain or network ID**<br>\n",
    "<u>555"
   ]
  },
  {
   "cell_type": "markdown",
   "metadata": {},
   "source": [
    "# Final \n",
    "* Final1 \n",
    "Public address of the key:   0xB8b9aF632cB92a61141C74dd2D6bb376AfBA0eB8<br>\n",
    "Path of the secret key file: final1\\keystore\\UTC--2020-12-06T03-15-04.508621700Z--b8b9af632cb92a61141c74dd2d6bb376afba0eb8\n",
    "enode://a1a77e95ca9619b8d0c82c82d46f31a3484c52c62c08642a82d1ce4e4ae2d43173aaa45f9388d5ecd813c4bfe76df178c6d8c920267f420823ec9dbb0ca8cf65@127.0.0.1:30303\n",
    "* Final2\n",
    "\n",
    "Public address of the key:   0x3b07379f9448514A8e0672F3ED6d6694B7128567<br>\n",
    "Path of the secret key file: final2\\keystore\\UTC--2020-12-06T03-16-21.702334100Z\n",
    "--3b07379f9448514a8e0672f3ed6d6694b7128567\n"
   ]
  }
 ],
 "metadata": {
  "kernelspec": {
   "display_name": "Python 3",
   "language": "python",
   "name": "python3"
  },
  "language_info": {
   "codemirror_mode": {
    "name": "ipython",
    "version": 3
   },
   "file_extension": ".py",
   "mimetype": "text/x-python",
   "name": "python",
   "nbconvert_exporter": "python",
   "pygments_lexer": "ipython3",
   "version": "3.8.3"
  }
 },
 "nbformat": 4,
 "nbformat_minor": 4
}
