{
 "cells": [
  {
   "cell_type": "markdown",
   "metadata": {},
   "source": [
    "# China's Amazon"
   ]
  },
  {
   "cell_type": "markdown",
   "metadata": {},
   "source": [
    "## Mr. Liu and JD.com"
   ]
  },
  {
   "cell_type": "markdown",
   "metadata": {},
   "source": [
    "\n",
    "\n",
    "\n",
    "\n",
    "\n",
    "\n",
    "In 1998 no one took a second look at Amazon. Just starting the sale of CD's it extended its reach beyond books, and by the following year it had products in numerous different categories. The same year a man named Richard Liu Qiangdong started his long hard journey down a path he would not regret. \n",
    "  \n",
    "Becoming the founder, chairman, and chief executive officer of the third largest e-commercial company, by revenue, in the world, Liu started out by selling magneto-optical drives in, what today is known as, \"China's Silicon Valley\". Only selling verifiably authentic products, and refusing to haggle set him apart from the other \"booths''(places used to sell goods in the \"Silicon Valley\"). Quickly gaining revenue he was able to open up 12 full size retail locations across Beijing, but in 2003 China was struck with the SARS epidemic. In an effort to continue earning revenue and move product Liu began posting his item to online bulletin boards. After the epidemic ended and people began leaving their homes again Liu retained one employee, full-time, to continue selling products online. \n",
    "  \n",
    "After operating both the store location, and internet business for one year. By the end of the year Liu had come to the realization that his online revenue would quickly overtake his retail. In 2004 Richard decided to make the unstoppable transition to the technology world, closing all his locations Liu started a website called \"jdlaser.com\", which would later be known as \"JD\". In just ten years JD inc was being publicly traded on the NASDAQ (2014), with a market cap of only 24.18b, Today the company has an astonishing market cap of 91.68b!\n"
   ]
  }
 ],
 "metadata": {
  "kernelspec": {
   "display_name": "Python 3",
   "language": "python",
   "name": "python3"
  },
  "language_info": {
   "codemirror_mode": {
    "name": "ipython",
    "version": 3
   },
   "file_extension": ".py",
   "mimetype": "text/x-python",
   "name": "python",
   "nbconvert_exporter": "python",
   "pygments_lexer": "ipython3",
   "version": "3.7.6"
  }
 },
 "nbformat": 4,
 "nbformat_minor": 4
}
